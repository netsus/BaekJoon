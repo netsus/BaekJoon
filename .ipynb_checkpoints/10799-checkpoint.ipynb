{
 "cells": [
  {
   "cell_type": "code",
   "execution_count": null,
   "metadata": {
    "ExecuteTime": {
     "end_time": "2021-11-29T14:36:04.275867Z",
     "start_time": "2021-11-29T14:36:04.264859Z"
    }
   },
   "outputs": [],
   "source": [
    "br = \"()(((()())(())()))(())\"\n",
    "br = \"(((()(()()))(())()))(()())\""
   ]
  },
  {
   "cell_type": "code",
   "execution_count": 78,
   "metadata": {
    "ExecuteTime": {
     "end_time": "2021-11-29T14:36:04.275867Z",
     "start_time": "2021-11-29T14:36:04.264859Z"
    }
   },
   "outputs": [],
   "source": [
    "br = input()\n",
    "\n",
    "while 1:\n",
    "    if br.startswith('()'):\n",
    "        br = br[2:]\n",
    "    elif br.endswith('()'):\n",
    "        br = br[:-2]\n",
    "    else:\n",
    "        break\n",
    "\n",
    "result=1\n",
    "\n",
    "while len(br) != 0:\n",
    "    br_cnt = br.count('()')\n",
    "    if br_cnt != 1:\n",
    "        result*=br_cnt\n",
    "    else:\n",
    "        result+=br_cnt\n",
    "\n",
    "    br = br.replace('()','')\n",
    "\n",
    "print(result)"
   ]
  },
  {
   "cell_type": "code",
   "execution_count": 77,
   "metadata": {
    "ExecuteTime": {
     "end_time": "2021-11-29T14:35:57.342275Z",
     "start_time": "2021-11-29T14:35:57.336278Z"
    }
   },
   "outputs": [
    {
     "data": {
      "text/plain": [
       "17"
      ]
     },
     "execution_count": 77,
     "metadata": {},
     "output_type": "execute_result"
    }
   ],
   "source": [
    "result"
   ]
  },
  {
   "cell_type": "code",
   "execution_count": 42,
   "metadata": {
    "ExecuteTime": {
     "end_time": "2021-11-29T14:29:33.095169Z",
     "start_time": "2021-11-29T14:29:33.074168Z"
    }
   },
   "outputs": [
    {
     "data": {
      "text/plain": [
       "24"
      ]
     },
     "execution_count": 42,
     "metadata": {},
     "output_type": "execute_result"
    }
   ],
   "source": [
    "7 * 3 +1 +1 +1"
   ]
  },
  {
   "cell_type": "code",
   "execution_count": 24,
   "metadata": {
    "ExecuteTime": {
     "end_time": "2021-11-29T14:28:46.857969Z",
     "start_time": "2021-11-29T14:28:46.842968Z"
    }
   },
   "outputs": [
    {
     "data": {
      "text/plain": [
       "17"
      ]
     },
     "execution_count": 24,
     "metadata": {},
     "output_type": "execute_result"
    }
   ],
   "source": [
    "5 * 3 + 1 + 1"
   ]
  }
 ],
 "metadata": {
  "kernelspec": {
   "display_name": "Python 3",
   "language": "python",
   "name": "python3"
  },
  "language_info": {
   "codemirror_mode": {
    "name": "ipython",
    "version": 3
   },
   "file_extension": ".py",
   "mimetype": "text/x-python",
   "name": "python",
   "nbconvert_exporter": "python",
   "pygments_lexer": "ipython3",
   "version": "3.8.5"
  },
  "toc": {
   "base_numbering": 1,
   "nav_menu": {},
   "number_sections": true,
   "sideBar": true,
   "skip_h1_title": false,
   "title_cell": "Table of Contents",
   "title_sidebar": "Contents",
   "toc_cell": false,
   "toc_position": {},
   "toc_section_display": true,
   "toc_window_display": false
  }
 },
 "nbformat": 4,
 "nbformat_minor": 4
}
