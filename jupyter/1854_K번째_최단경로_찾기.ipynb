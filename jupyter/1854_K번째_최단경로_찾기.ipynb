{
 "cells": [
  {
   "cell_type": "markdown",
   "id": "0e4c9d43",
   "metadata": {},
   "source": [
    "### 문제\n"
   ]
  },
  {
   "cell_type": "code",
   "execution_count": null,
   "id": "fc6e3ac9",
   "metadata": {},
   "outputs": [],
   "source": [
    "! # 시작시간 체크"
   ]
  },
  {
   "cell_type": "code",
   "execution_count": null,
   "id": "50c1b0eb",
   "metadata": {},
   "outputs": [],
   "source": [
    "! # 끝 시간 체크"
   ]
  },
  {
   "cell_type": "markdown",
   "id": "88b63096",
   "metadata": {},
   "source": [
    "### 풀이"
   ]
  },
  {
   "cell_type": "code",
   "execution_count": null,
   "id": "77ded1f0",
   "metadata": {
    "ExecuteTime": {
     "end_time": "2023-01-20T10:56:35.052045Z",
     "start_time": "2023-01-20T10:56:35.042125Z"
    }
   },
   "outputs": [],
   "source": [
    "import sys\n",
    "from heapq import heappop, heappush, heappushpop\n",
    "input = sys.stdin.readline\n",
    "INF=1e9\n",
    "def main():\n",
    "    n, m, k = map(int, input().split())\n",
    "    graph = [[] for _ in range(n)]\n",
    "    for _ in range(m):\n",
    "        a, b, c = map(int, input().split())\n",
    "        graph[a-1].append((c, b-1))\n",
    "    heap = []\n",
    "    heappush(heap, (0, 0))\n",
    "    dp = [[-INF]*k for _ in range(n)]\n",
    "    while heap:\n",
    "        c_d, c_n = heappop(heap)\n",
    "        if -dp[c_n][0] < c_d:\n",
    "            continue\n",
    "        for n_d, n_n in graph[c_n]:\n",
    "            dist = c_d + n_d\n",
    "            if -dp[n_n][0] > dist:\n",
    "                heappushpop(dp[n_n], -dist)\n",
    "                heappush(heap, (dist,n_n))\n",
    "    heappushpop(dp[0],0)\n",
    "    for ans in dp:\n",
    "        if -ans[0] < INF:\n",
    "            print(-ans[0])\n",
    "        else:\n",
    "            print(-1)\n",
    "main()"
   ]
  },
  {
   "cell_type": "markdown",
   "id": "c73eee2a",
   "metadata": {},
   "source": [
    "### 주석 달린 풀이"
   ]
  },
  {
   "cell_type": "code",
   "execution_count": null,
   "id": "6532df5c",
   "metadata": {},
   "outputs": [],
   "source": [
    "import sys\n",
    "from heapq import heappop, heappush, heappushpop\n",
    "input = sys.stdin.readline\n",
    "INF = sys.maxsize\n",
    "\n",
    "n, m, k = map(int, input().split())\n",
    "graph = [[] for _ in range(n)]\n",
    "for _ in range(m):\n",
    "    a, b, c = map(int, input().split())\n",
    "    graph[a-1].append((c, b-1))\n",
    "heap = []\n",
    "heappush(heap, (0, 0))\n",
    "dp = [[-INF] * k for _ in range(n)]\n",
    "while heap:\n",
    "    n_dist, nx = heappop(heap)\n",
    "    if -dp[nx][0] < n_dist:\n",
    "        continue\n",
    "    for d_dist, dx in graph[nx]:\n",
    "        dist = n_dist + d_dist\n",
    "        if -dp[dx][0] > dist:\n",
    "            heappushpop(dp[dx], -dist)\n",
    "            heappush(heap, (dist, dx))\n",
    "heappushpop(dp[0], 0)\n",
    "for ans in dp:\n",
    "    if -ans[0] < INF:\n",
    "        print(-ans[0])\n",
    "    else:\n",
    "        print(-1)"
   ]
  },
  {
   "cell_type": "code",
   "execution_count": 9,
   "id": "a64364c8",
   "metadata": {
    "ExecuteTime": {
     "end_time": "2023-01-20T11:10:05.483304Z",
     "start_time": "2023-01-20T11:10:05.476594Z"
    }
   },
   "outputs": [],
   "source": [
    "import sys\n",
    "from collections import defaultdict\n",
    "import heapq\n",
    "\n",
    "def dijkstra(s, k):\n",
    "    min_heap = []\n",
    "    heapq.heappush(min_heap, (0,1)) # 1번노드까지 cost=0\n",
    "    dist[s][0] = 0 # s의 최소거리는 0\n",
    "    while min_heap:\n",
    "        cur_w, cur_n = heapq.heappop(min_heap)\n",
    "        for nxt_w, nxt_n in graph[cur_n]:\n",
    "            cumul_dist = cur_w + nxt_w\n",
    "            if dist[nxt_n][k-1] <= cumul_dist:\n",
    "                continue\n",
    "            dist[nxt_n][k-1] = cumul_dist\n",
    "            dist[nxt_n].sort()\n",
    "            heapq.heappush(min_heap, (cumul_dist, nxt_n))\n",
    "\n",
    "V, E, K = map(int,input().split())\n",
    "dist = [[1e9 for _ in range(K)] for _ in range(V+1)]\n",
    "graph = defaultdict(list)\n",
    "for _ in range(E):\n",
    "    a, b, c = map(int, input().split())\n",
    "    graph[a].append((c,b))\n",
    "\n",
    "dijkstra(1, K)\n",
    "for i in range(1, V + 1):\n",
    "    if dist[i][K-1] != 1e9:\n",
    "        print(dist[i][K-1])\n",
    "    else:\n",
    "        print(-1)"
   ]
  },
  {
   "cell_type": "markdown",
   "id": "8ed2b958",
   "metadata": {},
   "source": [
    "### 연습"
   ]
  },
  {
   "cell_type": "code",
   "execution_count": 8,
   "id": "6de79aad",
   "metadata": {
    "ExecuteTime": {
     "end_time": "2023-01-20T11:03:07.648511Z",
     "start_time": "2023-01-20T11:03:07.630845Z"
    }
   },
   "outputs": [
    {
     "data": {
      "text/plain": [
       "20.931568569324174"
      ]
     },
     "execution_count": 8,
     "metadata": {},
     "output_type": "execute_result"
    }
   ],
   "source": [
    "import numpy as np\n",
    "np.log2(2000000)"
   ]
  },
  {
   "cell_type": "code",
   "execution_count": null,
   "id": "45dfb003",
   "metadata": {},
   "outputs": [],
   "source": [
    "import sys\n",
    "from heapq import heappop, heappush, heappushpop\n",
    "input = sys.stdin.readline\n",
    "INF = sys.maxsize\n",
    "\n",
    "n, m, k = map(int, input().split())\n",
    "graph = [[] for _ in range(n)]\n",
    "for _ in range(m):\n",
    "    a, b, c = map(int, input().split())\n",
    "    graph[a-1].append((c, b-1))\n",
    "heap = []\n",
    "heappush(heap, (0, 0))\n",
    "dp = [[-INF] * k for _ in range(n)]\n",
    "while heap:\n",
    "    n_dist, nx = heappop(heap)\n",
    "    if -dp[nx][0] < n_dist:\n",
    "        continue\n",
    "    for d_dist, dx in graph[nx]:\n",
    "        dist = n_dist + d_dist\n",
    "        if -dp[dx][0] > dist:\n",
    "            heappushpop(dp[dx], -dist)\n",
    "            heappush(heap, (dist, dx))\n",
    "heappushpop(dp[0], 0)\n",
    "for ans in dp:\n",
    "    if -ans[0] < INF:\n",
    "        print(-ans[0])\n",
    "    else:\n",
    "        print(-1)"
   ]
  },
  {
   "cell_type": "code",
   "execution_count": null,
   "id": "ecc41d0a",
   "metadata": {},
   "outputs": [],
   "source": [
    "import sys\n",
    "from collections import defaultdict\n",
    "from heapq import heappop, heappush, heappushpop\n",
    "input = sys.stdin.readline\n",
    "def main():\n",
    "    n, m, k = map(int,input().split())\n",
    "    graph = defaultdict(list)\n",
    "    for _ in range(E):\n",
    "        a, b, c = map(int, input().split())\n",
    "        graph[a].append((c,b))\n",
    "    heap = []\n",
    "    heappush(heap, (0,1))\n",
    "    dp = [[-1e9]*k for _ in range(n+1)]\n",
    "    while heap:\n",
    "        n_dist, nx = heappop(heap)\n",
    "        if -dp[nx][0] < n_dist: # 기존 최대거리(k번째 거리)가 현재 거리보다 작으면\n",
    "            continue\n",
    "        for d_dist, dx in grap[nx]:\n",
    "            dist = n_dist + d_dist\n",
    "            if -dp[dx][0] > dist: # 기존 최대거리보다 dist가 작으면\n",
    "                heappushpop(dp[dx], -dist)\n",
    "                heappush(heap, (dist,dx))\n",
    "    heappushpop(dp[1],0)\n",
    "    for ans in dp[1:]:\n",
    "        if -ans[0] < 1e9:\n",
    "            print(-ans[0])\n",
    "        else:\n",
    "            print(-1)\n",
    "main()"
   ]
  }
 ],
 "metadata": {
  "kernelspec": {
   "display_name": "Python 3",
   "language": "python",
   "name": "python3"
  },
  "language_info": {
   "codemirror_mode": {
    "name": "ipython",
    "version": 3
   },
   "file_extension": ".py",
   "mimetype": "text/x-python",
   "name": "python",
   "nbconvert_exporter": "python",
   "pygments_lexer": "ipython3",
   "version": "3.8.12"
  },
  "toc": {
   "base_numbering": 1,
   "nav_menu": {},
   "number_sections": true,
   "sideBar": true,
   "skip_h1_title": false,
   "title_cell": "Table of Contents",
   "title_sidebar": "Contents",
   "toc_cell": false,
   "toc_position": {},
   "toc_section_display": true,
   "toc_window_display": false
  }
 },
 "nbformat": 4,
 "nbformat_minor": 5
}
