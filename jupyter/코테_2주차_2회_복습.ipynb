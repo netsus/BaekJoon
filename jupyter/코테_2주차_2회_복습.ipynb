{
 "cells": [
  {
   "cell_type": "markdown",
   "id": "5e8118e0",
   "metadata": {},
   "source": [
    "## 2615 오목\n",
    "    - 검은 바둑알 1\n",
    "    - 흰 바둑알 2\n",
    "    - 19줄, 19칸"
   ]
  },
  {
   "cell_type": "markdown",
   "id": "cb3de3fd",
   "metadata": {},
   "source": [
    "### 제출풀이"
   ]
  },
  {
   "cell_type": "code",
   "execution_count": 23,
   "id": "7e42d3d6",
   "metadata": {
    "ExecuteTime": {
     "end_time": "2022-04-14T17:26:58.632711Z",
     "start_time": "2022-04-14T17:26:58.618922Z"
    }
   },
   "outputs": [
    {
     "name": "stdout",
     "output_type": "stream",
     "text": [
      "0\n"
     ]
    }
   ],
   "source": [
    "import sys\n",
    "# input = sys.stdin.readline\n",
    "\n",
    "# baduk = [list(map(int,input().split())) for _ in range(19)]\n",
    "dx = [1,0,1,-1]\n",
    "dy = [0,1,1,1] #아래, 오른쪽, 오른아래, 오른위\n",
    "for x in range(19): # x가 행, 세로\n",
    "    for y in range(19): # y가 열, 가로\n",
    "        if baduk[x][y] != 0:\n",
    "            kind = baduk[x][y] # 1은 흰돌, 2는 검은돌\n",
    "            for i in range(4):\n",
    "                cnt=1\n",
    "                nx = x + dx[i]\n",
    "                ny = y + dy[i]\n",
    "                while (0<=nx<19) and (0<=ny<19) and (baduk[nx][ny]==kind):\n",
    "                    cnt+=1\n",
    "                    if cnt == 5:\n",
    "                        #첫 돌 전에 육목있는지\n",
    "                        if 0<=(bx := x-dx[i])<19 and 0<=(by := y-dy[i])<19 and (baduk[bx][by]==kind):\n",
    "                            break\n",
    "                        #막 돌 뒤에 육목있는지\n",
    "                        if 0<=(ax := nx+dx[i])<19 and 0<=(ay := ny+dy[i])<19 and (baduk[ax][ay]==kind):\n",
    "                            break\n",
    "                        print(kind)\n",
    "                        print(x+1, y+1)\n",
    "                        exit()\n",
    "                    nx+=dx[i]\n",
    "                    ny+=dy[i]\n",
    "print(0)"
   ]
  },
  {
   "cell_type": "code",
   "execution_count": 6,
   "id": "dc8ee64f",
   "metadata": {
    "ExecuteTime": {
     "end_time": "2022-04-18T12:51:22.491089Z",
     "start_time": "2022-04-18T12:51:22.464783Z"
    }
   },
   "outputs": [
    {
     "data": {
      "text/plain": [
       "[[0, 0, 0, 0, 0, 0, 0, 0, 0, 0, 0, 0, 0, 0, 0, 0, 0, 0, 0],\n",
       " [0, 0, 0, 0, 0, 0, 0, 0, 0, 0, 0, 0, 0, 0, 0, 0, 0, 0, 0],\n",
       " [0, 1, 2, 0, 0, 2, 2, 2, 1, 0, 0, 0, 0, 0, 0, 0, 0, 0, 0],\n",
       " [0, 0, 1, 2, 0, 0, 0, 0, 1, 0, 0, 0, 0, 0, 0, 0, 0, 0, 0],\n",
       " [0, 0, 0, 1, 2, 0, 0, 0, 0, 0, 0, 0, 0, 0, 0, 0, 0, 0, 0],\n",
       " [0, 0, 0, 0, 1, 2, 2, 0, 0, 0, 0, 0, 0, 0, 0, 0, 0, 0, 0],\n",
       " [0, 0, 1, 1, 0, 1, 0, 0, 0, 0, 0, 0, 0, 0, 0, 0, 0, 0, 0],\n",
       " [0, 0, 0, 0, 0, 0, 2, 1, 0, 0, 0, 0, 0, 0, 0, 0, 0, 0, 0],\n",
       " [0, 0, 0, 0, 0, 0, 0, 0, 0, 0, 0, 0, 0, 0, 0, 0, 0, 0, 0],\n",
       " [0, 0, 0, 0, 0, 0, 0, 0, 0, 0, 0, 0, 0, 0, 0, 0, 0, 0, 0],\n",
       " [0, 0, 0, 0, 0, 0, 0, 0, 0, 0, 0, 0, 0, 0, 0, 0, 0, 0, 0],\n",
       " [0, 0, 0, 0, 0, 0, 0, 0, 0, 0, 0, 0, 0, 0, 0, 0, 0, 0, 0],\n",
       " [0, 0, 0, 0, 0, 0, 0, 0, 0, 0, 0, 0, 0, 0, 0, 0, 0, 0, 0],\n",
       " [0, 0, 0, 0, 0, 0, 0, 0, 0, 0, 0, 0, 0, 0, 0, 0, 0, 0, 0],\n",
       " [0, 0, 0, 0, 0, 0, 0, 0, 0, 0, 0, 0, 0, 0, 0, 0, 0, 0, 0],\n",
       " [0, 0, 0, 0, 0, 0, 0, 0, 0, 0, 0, 0, 0, 0, 0, 0, 0, 0, 0],\n",
       " [0, 0, 0, 0, 0, 0, 0, 0, 0, 0, 0, 0, 0, 0, 0, 0, 0, 0, 0],\n",
       " [0, 0, 0, 0, 0, 0, 0, 0, 0, 0, 0, 0, 0, 0, 0, 0, 0, 0, 0],\n",
       " [0, 0, 0, 0, 0, 0, 0, 0, 0, 0, 0, 0, 0, 0, 0, 0, 0, 0, 0]]"
      ]
     },
     "execution_count": 6,
     "metadata": {},
     "output_type": "execute_result"
    }
   ],
   "source": [
    "li = \"\"\"0 0 0 0 0 0 0 0 0 0 0 0 0 0 0 0 0 0 0\n",
    "0 0 0 0 0 0 0 0 0 0 0 0 0 0 0 0 0 0 0\n",
    "0 1 2 0 0 2 2 2 1 0 0 0 0 0 0 0 0 0 0\n",
    "0 0 1 2 0 0 0 0 1 0 0 0 0 0 0 0 0 0 0\n",
    "0 0 0 1 2 0 0 0 0 0 0 0 0 0 0 0 0 0 0\n",
    "0 0 0 0 1 2 2 0 0 0 0 0 0 0 0 0 0 0 0\n",
    "0 0 1 1 0 1 0 0 0 0 0 0 0 0 0 0 0 0 0\n",
    "0 0 0 0 0 0 2 1 0 0 0 0 0 0 0 0 0 0 0\n",
    "0 0 0 0 0 0 0 0 0 0 0 0 0 0 0 0 0 0 0\n",
    "0 0 0 0 0 0 0 0 0 0 0 0 0 0 0 0 0 0 0\n",
    "0 0 0 0 0 0 0 0 0 0 0 0 0 0 0 0 0 0 0\n",
    "0 0 0 0 0 0 0 0 0 0 0 0 0 0 0 0 0 0 0\n",
    "0 0 0 0 0 0 0 0 0 0 0 0 0 0 0 0 0 0 0\n",
    "0 0 0 0 0 0 0 0 0 0 0 0 0 0 0 0 0 0 0\n",
    "0 0 0 0 0 0 0 0 0 0 0 0 0 0 0 0 0 0 0\n",
    "0 0 0 0 0 0 0 0 0 0 0 0 0 0 0 0 0 0 0\n",
    "0 0 0 0 0 0 0 0 0 0 0 0 0 0 0 0 0 0 0\n",
    "0 0 0 0 0 0 0 0 0 0 0 0 0 0 0 0 0 0 0\n",
    "0 0 0 0 0 0 0 0 0 0 0 0 0 0 0 0 0 0 0\"\"\".split('\\n')\n",
    "\n",
    "# baduk = [list(map(int,input().split())) for _ in range(19)]\n",
    "baduk = [list(map(int,i.split())) for i in li]\n",
    "baduk"
   ]
  },
  {
   "cell_type": "code",
   "execution_count": null,
   "id": "96fcb619",
   "metadata": {},
   "outputs": [],
   "source": [
    "baduk = [list(map(int,input().split())) for _ in range(19)]"
   ]
  },
  {
   "cell_type": "code",
   "execution_count": 7,
   "id": "ba92d17c",
   "metadata": {
    "ExecuteTime": {
     "end_time": "2022-04-14T16:59:02.888305Z",
     "start_time": "2022-04-14T16:59:02.881530Z"
    }
   },
   "outputs": [],
   "source": [
    "ds=[(1,0),(0,1),(1,1),(-1,1)] # 아래, 오른쪽, 오른쪽아래 대각선, 오른쪽위 대각선"
   ]
  },
  {
   "cell_type": "code",
   "execution_count": 13,
   "id": "603c8a77",
   "metadata": {
    "ExecuteTime": {
     "end_time": "2022-04-14T17:09:47.809151Z",
     "start_time": "2022-04-14T17:09:47.792011Z"
    }
   },
   "outputs": [
    {
     "name": "stdout",
     "output_type": "stream",
     "text": [
      "1\n",
      "3 2\n"
     ]
    },
    {
     "ename": "SystemExit",
     "evalue": "0",
     "output_type": "error",
     "traceback": [
      "An exception has occurred, use %tb to see the full traceback.\n",
      "\u001b[0;31mSystemExit\u001b[0m\u001b[0;31m:\u001b[0m 0\n"
     ]
    }
   ],
   "source": [
    "draw=0\n",
    "for y in range(19): # i는 행 y축\n",
    "    for x in range(19): # j는 열 x축\n",
    "        if baduk[y][x] != 0:\n",
    "            kind = baduk[y][x] # 현재돌이 검은돌인지 흰돌인지\n",
    "            for i in range(4):\n",
    "                count=1\n",
    "                nx = x + ds[i][1]\n",
    "                ny = y + ds[i][0]\n",
    "                while (0 <= nx < 19) and (0 <= ny < 19) and baduk[ny][nx] == kind:\n",
    "                    count+=1\n",
    "                    if count == 5:\n",
    "                        ## 첫 돌 전\n",
    "                        if (0 <= x-ds[i][1] < 19) and (0 <= y-ds[i][0] < 19) and (baduk[y-ds[i][0]][x-ds[i][1]]==kind):\n",
    "                            break\n",
    "                            \n",
    "                        ## 마지막 돌 후\n",
    "                        if (0 <= nx+ds[i][1] < 19) and (0 <= ny+ds[i][0] < 19) and (baduk[ny+ds[i][0]][nx+ds[i][1]]==kind):\n",
    "                            break\n",
    "                            \n",
    "                        print(kind)\n",
    "                        print(y+1,x+1)\n",
    "                        draw=1\n",
    "                        sys.exit(0)\n",
    "                    nx+=ds[i][1]\n",
    "                    ny+=ds[i][0]\n",
    "if draw:\n",
    "    print(0)        "
   ]
  },
  {
   "cell_type": "markdown",
   "id": "17f3ae94",
   "metadata": {},
   "source": [
    "### 오목 숏코딩 풀이"
   ]
  },
  {
   "cell_type": "code",
   "execution_count": null,
   "id": "2ec77646",
   "metadata": {},
   "outputs": [],
   "source": [
    "def check(i, j, di, dj):\n",
    "    def same(ni, nj):\n",
    "        return 0<=ni<19 and 0<=nj<19 and board[i][j] == board[ni][nj]\n",
    "    if board[i][j] == 0: return False\n",
    "    for d in range(1, 5):\n",
    "        if not same(i+di*d, j+dj*d): return False\n",
    "    if same(i-di, j-dj) or same(i+di*5, j+dj*5): return False\n",
    "    return True\n",
    "\n",
    "board = [list(map(int,input().split())) for i in range(19)]\n",
    "for i in range(19):\n",
    "    for j in range(19):\n",
    "        if check(i, j, 0, 1) or check(i, j, 1, 0) or check(i, j, 1, 1) or check(i, j, -1, 1):\n",
    "            print(board[i][j]); print(i+1, j+1); break\n",
    "    else: continue\n",
    "    break\n",
    "else: print(0)"
   ]
  },
  {
   "cell_type": "markdown",
   "id": "22946141",
   "metadata": {},
   "source": [
    "#### 1번 필사"
   ]
  },
  {
   "cell_type": "code",
   "execution_count": 1,
   "id": "d1b38fa1",
   "metadata": {
    "ExecuteTime": {
     "end_time": "2022-04-18T12:47:40.644609Z",
     "start_time": "2022-04-18T12:47:40.627141Z"
    }
   },
   "outputs": [],
   "source": [
    "def check(i, j, di, dj): # di, dj는 방향\n",
    "        def same(ni, nj):\n",
    "            return 0<=ni<19 and 0<=nj<19 and board[i][j] == board[ni][nj] # 다음 갈 곳이 바둑판 안에 있고, 현재와 돌 색이 같은지\n",
    "        if board[i][j] == 0: # 현재칸에 돌 없으면 False\n",
    "            return False\n",
    "        for d in range(1,5):\n",
    "            if not same(i+di*d, j+dj*d): #다음 4칸중 하나라도 현재칸의 돌과 다르다면, False\n",
    "                return False\n",
    "        if same(i-di,j-dj) or same(i+di*5, j+dj*5): # 현재칸 전 칸과 5번 다음칸(6번째 칸)중 현재칸 돌과 다르다면 False\n",
    "            return False\n",
    "        return True # 위의 조건을 모두 통과했다면 True"
   ]
  },
  {
   "cell_type": "code",
   "execution_count": 7,
   "id": "308d2d00",
   "metadata": {
    "ExecuteTime": {
     "end_time": "2022-04-18T12:51:27.787471Z",
     "start_time": "2022-04-18T12:51:27.777230Z"
    }
   },
   "outputs": [],
   "source": [
    "board = baduk"
   ]
  },
  {
   "cell_type": "code",
   "execution_count": 8,
   "id": "613bf6d7",
   "metadata": {
    "ExecuteTime": {
     "end_time": "2022-04-18T12:51:28.108129Z",
     "start_time": "2022-04-18T12:51:28.098360Z"
    }
   },
   "outputs": [
    {
     "name": "stdout",
     "output_type": "stream",
     "text": [
      "1\n",
      "3 2\n"
     ]
    }
   ],
   "source": [
    "for i in range(19):\n",
    "    for j in range(19):\n",
    "        if check(i,j,0,1) or check(i,j,1,0) or check(i,j,1,1) or check(i,j,-1,1):\n",
    "            print(board[i][j])\n",
    "            print(i+1,j+1)\n",
    "            break\n",
    "    else: continue\n",
    "    break\n",
    "else:\n",
    "    print(0)"
   ]
  },
  {
   "cell_type": "markdown",
   "id": "14381986",
   "metadata": {},
   "source": [
    "## 16637 괄호 추가하기\n",
    "길이 N과, 길이가 N인 수식이 주어지고 이 수식에 괄호를 추가해서 나올 수 있는 최댓값을 구하는 문제.<br>\n",
    "수식은 0~9까지의 정수와 연산자 +, -, x 로 이루어져있다. 정수로 시작하고, 정수와 연산자가 번갈아서 나옵니다. <br>\n",
    "항상 올바른 수식만 주어지기 때문에 주어지는 N은 항상 홀수입니다. (숫자로 시작, 숫자로 끝)"
   ]
  },
  {
   "attachments": {
    "image.png": {
     "image/png": "[encoded data removed]"
    }
   },
   "cell_type": "markdown",
   "id": "d805edb5",
   "metadata": {},
   "source": [
    "![image.png](attachment:image.png)"
   ]
  },
  {
   "cell_type": "code",
   "execution_count": null,
   "id": "270cb1b5",
   "metadata": {},
   "outputs": [],
   "source": []
  },
  {
   "cell_type": "code",
   "execution_count": null,
   "id": "de6cc9fc",
   "metadata": {},
   "outputs": [],
   "source": []
  },
  {
   "cell_type": "code",
   "execution_count": null,
   "id": "c6417f61",
   "metadata": {},
   "outputs": [],
   "source": []
  },
  {
   "cell_type": "code",
   "execution_count": null,
   "id": "d6ead965",
   "metadata": {},
   "outputs": [],
   "source": []
  },
  {
   "cell_type": "code",
   "execution_count": null,
   "id": "dc0e508e",
   "metadata": {},
   "outputs": [],
   "source": []
  },
  {
   "cell_type": "code",
   "execution_count": 25,
   "id": "3a94bea0",
   "metadata": {
    "ExecuteTime": {
     "end_time": "2022-05-04T05:24:47.440879Z",
     "start_time": "2022-05-04T05:24:47.421873Z"
    }
   },
   "outputs": [],
   "source": [
    "import math\n",
    "import sys\n",
    "# input = sys.stdin.readline"
   ]
  },
  {
   "cell_type": "code",
   "execution_count": 26,
   "id": "22b5849d",
   "metadata": {
    "ExecuteTime": {
     "end_time": "2022-05-04T05:24:47.968929Z",
     "start_time": "2022-05-04T05:24:47.901943Z"
    }
   },
   "outputs": [],
   "source": [
    "def dfs(idx, sub_total):\n",
    "    global answer\n",
    "    if idx == len(op):\n",
    "        answer = max(answer, int(sub_total))\n",
    "        return\n",
    "    \n",
    "    first = str(eval(sub_total + op[idx] + nums[idx+1]))\n",
    "    dfs(idx+1, first)\n",
    "    \n",
    "    if idx + 1 < len(op):\n",
    "        second = str(eval(nums[idx+1] + op[idx+1] + nums[idx+2]))\n",
    "        second = str(eval(sub_total + op[idx] + second))\n",
    "        dfs(idx + 2, second)"
   ]
  },
  {
   "cell_type": "code",
   "execution_count": 27,
   "id": "a2d30d40",
   "metadata": {
    "ExecuteTime": {
     "end_time": "2022-05-04T05:24:50.564923Z",
     "start_time": "2022-05-04T05:24:48.973946Z"
    }
   },
   "outputs": [
    {
     "name": "stdout",
     "output_type": "stream",
     "text": [
      "9\n",
      "3+8*7-9*2\n"
     ]
    }
   ],
   "source": [
    "n = int(input())\n",
    "expression = input()\n",
    "nums, op = [], []\n",
    "answer = -math.inf\n",
    "\n",
    "for i in expression:\n",
    "    nums.append(i) if i.isdigit() else op.append(i)"
   ]
  },
  {
   "cell_type": "code",
   "execution_count": 30,
   "id": "550a3043",
   "metadata": {
    "ExecuteTime": {
     "end_time": "2022-05-04T05:25:01.590360Z",
     "start_time": "2022-05-04T05:25:01.583360Z"
    }
   },
   "outputs": [
    {
     "data": {
      "text/plain": [
       "(['3', '8', '7', '9', '2'], ['+', '*', '-', '*'])"
      ]
     },
     "execution_count": 30,
     "metadata": {},
     "output_type": "execute_result"
    }
   ],
   "source": [
    "nums, op"
   ]
  },
  {
   "cell_type": "code",
   "execution_count": null,
   "id": "65a16e6c",
   "metadata": {},
   "outputs": [],
   "source": [
    "answer = -math.inf\n",
    "dfs(0, nums[0])\n",
    "print(answer)"
   ]
  },
  {
   "cell_type": "markdown",
   "id": "33f6d08d",
   "metadata": {},
   "source": [
    "## 16439 치킨치킨치킨\n",
    "여러 종류의 치킨을 입력받고 여기서 3개만 시켜 모든 사람들의 만족도를 최대한으로 내는 문제입니다.\n",
    "\n",
    "    회원수 N, 치킨 종류 M\n",
    "    1번회원은 5번치킨이 가장 만족도 높다\n",
    "    1, 3, 5번치킨 시키면 1번회원 5점, 2번 5점, 3번 3점해서 총 13점으로 만족도 최대된다.(한사람당 만족도는 최대값 1개)\n",
    "    회원의 수 N (1 ≤ N ≤ 30) 과 치킨 종류의 수 M (3 ≤ M ≤ 30)"
   ]
  },
  {
   "cell_type": "markdown",
   "id": "7edf8c3b",
   "metadata": {},
   "source": [
    "    3 5\n",
    "    1 2 3 4 5\n",
    "    5 4 3 2 1\n",
    "    1 2 3 2 1\n",
    "    -> 13\n",
    "    4 6\n",
    "    1 2 3 4 5 6\n",
    "    6 5 4 3 2 1\n",
    "    3 2 7 9 2 5\n",
    "    4 5 6 3 2 1\n",
    "    -> 25"
   ]
  },
  {
   "cell_type": "code",
   "execution_count": 24,
   "id": "a1de924d",
   "metadata": {
    "ExecuteTime": {
     "end_time": "2022-05-12T04:49:03.100247Z",
     "start_time": "2022-05-12T04:49:03.088243Z"
    }
   },
   "outputs": [],
   "source": [
    "N,M = 4,6"
   ]
  },
  {
   "cell_type": "code",
   "execution_count": 4,
   "id": "cb6b6bdb",
   "metadata": {
    "ExecuteTime": {
     "end_time": "2022-05-12T04:27:39.034935Z",
     "start_time": "2022-05-12T04:27:39.025935Z"
    }
   },
   "outputs": [],
   "source": [
    "l = \"\"\"1 2 3 4 5 6\n",
    "6 5 4 3 2 1\n",
    "3 2 7 9 2 5\n",
    "4 5 6 3 2 1\"\"\".split('\\n')"
   ]
  },
  {
   "cell_type": "code",
   "execution_count": 6,
   "id": "11d6ea42",
   "metadata": {
    "ExecuteTime": {
     "end_time": "2022-05-12T04:28:10.356634Z",
     "start_time": "2022-05-12T04:28:10.346658Z"
    }
   },
   "outputs": [],
   "source": [
    "chik = [list(map(int,i.split())) for i in l]"
   ]
  },
  {
   "cell_type": "code",
   "execution_count": 7,
   "id": "503b57af",
   "metadata": {
    "ExecuteTime": {
     "end_time": "2022-05-12T04:28:12.665178Z",
     "start_time": "2022-05-12T04:28:12.651175Z"
    }
   },
   "outputs": [
    {
     "data": {
      "text/plain": [
       "[[1, 2, 3, 4, 5, 6],\n",
       " [6, 5, 4, 3, 2, 1],\n",
       " [3, 2, 7, 9, 2, 5],\n",
       " [4, 5, 6, 3, 2, 1]]"
      ]
     },
     "execution_count": 7,
     "metadata": {},
     "output_type": "execute_result"
    }
   ],
   "source": [
    "chik"
   ]
  },
  {
   "cell_type": "markdown",
   "id": "3e3e4a95",
   "metadata": {},
   "source": [
    "### 상상코딩\n",
    "- Combination으로 3개의 열을 고르고 -> 각 행에서 최대값 더한거 모두 비교\n",
    "\n",
    "        3개의 치킨을 골라야 하기 때문에, 각 행에대해 최대값만 더할 수 없다.\n",
    "        3개의 열을 고르고, 그중 각 행에 대해 최대값 끼리 합한것이 최대가 되어야 한다.    "
   ]
  },
  {
   "cell_type": "markdown",
   "id": "d17718ab",
   "metadata": {},
   "source": [
    "### 제출 풀이"
   ]
  },
  {
   "cell_type": "code",
   "execution_count": 31,
   "id": "8018c03a",
   "metadata": {
    "ExecuteTime": {
     "end_time": "2022-05-12T04:50:55.053215Z",
     "start_time": "2022-05-12T04:50:39.600966Z"
    }
   },
   "outputs": [
    {
     "name": "stdout",
     "output_type": "stream",
     "text": [
      "4 6\n",
      "1 2 3 4 5 6\n",
      "6 5 4 3 2 1\n",
      "3 2 7 9 2 5\n",
      "4 5 6 3 2 1\n",
      "25\n"
     ]
    }
   ],
   "source": [
    "from itertools import combinations\n",
    "N, M = map(int,input().split())\n",
    "chik = [list(map(int,input().split())) for i in range(N)]\n",
    "result=0\n",
    "for a, b, c in combinations(range(M), 3):\n",
    "    result=max(result,sum([max(r[a],r[b],r[c]) for r in chik]))\n",
    "print(result)"
   ]
  },
  {
   "cell_type": "markdown",
   "id": "2d1747e7",
   "metadata": {},
   "source": [
    "## 2961 도영이가 만든 맛있는 음식"
   ]
  },
  {
   "cell_type": "markdown",
   "id": "65fbca5a",
   "metadata": {},
   "source": [
    "    지금 도영이의 앞에는 재료가 N개N(1 ≤ N ≤ 10) 있다. 도영이는 각 재료의 신맛 S와 쓴맛 B를 알고 있다. \n",
    "    여러 재료를 이용해서 요리할 때, 그 음식의 신맛은 사용한 재료의 신맛의 곱이고, 쓴맛은 합이다.\n",
    "    도영이는 재료를 적절히 섞어서 요리의 신맛과 쓴맛의 차이를 작게 만들려고 한다.\n",
    "    재료는 적어도 하나 사용해야 한다.\n",
    "   **재료의 신맛과 쓴맛이 주어졌을 때, 신맛과 쓴맛의 차이가 가장 작은 요리의, 그 차이를 출력**"
   ]
  },
  {
   "cell_type": "markdown",
   "id": "c484b223",
   "metadata": {},
   "source": [
    "    4\n",
    "    1 7\n",
    "    2 6\n",
    "    3 8\n",
    "    4 9\n",
    "    -> 1\n",
    "**2, 3, 4번 재료를 사용한다면, 요리의 신맛은 2×3×4=24, 쓴맛은 6+8+9=23이 된다. 차이는 1이다.**"
   ]
  },
  {
   "cell_type": "markdown",
   "id": "9dfb28bd",
   "metadata": {},
   "source": [
    "### 상상코딩 -> 풀림\n",
    ": 재료가 최대 10개이기 때문에 주어진 재료에 대해 1부터 N까지 Combinations를 통해 신맛과 쓴맛의 차이를 구한다. 10개일때 모든 경우의수가 1023개 이므로 가능"
   ]
  },
  {
   "cell_type": "code",
   "execution_count": 70,
   "id": "5cd43e47",
   "metadata": {
    "ExecuteTime": {
     "end_time": "2022-05-12T05:15:24.847943Z",
     "start_time": "2022-05-12T05:15:24.836906Z"
    }
   },
   "outputs": [],
   "source": [
    "from itertools import combinations\n",
    "from operator import mul\n",
    "from functools import reduce"
   ]
  },
  {
   "cell_type": "code",
   "execution_count": 91,
   "id": "1bce57bd",
   "metadata": {
    "ExecuteTime": {
     "end_time": "2022-05-12T05:28:41.418846Z",
     "start_time": "2022-05-12T05:28:41.415847Z"
    }
   },
   "outputs": [],
   "source": [
    "N=4"
   ]
  },
  {
   "cell_type": "code",
   "execution_count": 43,
   "id": "7664a667",
   "metadata": {
    "ExecuteTime": {
     "end_time": "2022-05-12T05:07:37.483422Z",
     "start_time": "2022-05-12T05:07:30.697408Z"
    }
   },
   "outputs": [
    {
     "name": "stdout",
     "output_type": "stream",
     "text": [
      "1 7\n",
      "2 6\n",
      "3 8\n",
      "4 9\n"
     ]
    }
   ],
   "source": [
    "material = [list(map(int,input().split())) for _ in range(N)]"
   ]
  },
  {
   "cell_type": "code",
   "execution_count": 92,
   "id": "a9f51b89",
   "metadata": {
    "ExecuteTime": {
     "end_time": "2022-05-12T05:28:42.553546Z",
     "start_time": "2022-05-12T05:28:42.535074Z"
    }
   },
   "outputs": [],
   "source": [
    "mat = [[1, 7], [2, 6], [3, 8], [4, 9]]"
   ]
  },
  {
   "cell_type": "code",
   "execution_count": 41,
   "id": "566cd225",
   "metadata": {
    "ExecuteTime": {
     "end_time": "2022-05-12T05:05:31.837078Z",
     "start_time": "2022-05-12T05:05:31.827047Z"
    }
   },
   "outputs": [
    {
     "name": "stdout",
     "output_type": "stream",
     "text": [
      "1023\n"
     ]
    }
   ],
   "source": [
    "k=0\n",
    "for i in range(1,11):\n",
    "    li = list(combinations(range(10),i))\n",
    "    k += len(li)\n",
    "print(k)"
   ]
  },
  {
   "cell_type": "markdown",
   "id": "aedf116b",
   "metadata": {},
   "source": [
    "### 제출 풀이"
   ]
  },
  {
   "cell_type": "code",
   "execution_count": 80,
   "id": "3d5cd775",
   "metadata": {
    "ExecuteTime": {
     "end_time": "2022-05-12T05:20:18.767101Z",
     "start_time": "2022-05-12T05:20:17.444921Z"
    }
   },
   "outputs": [
    {
     "name": "stdout",
     "output_type": "stream",
     "text": [
      "1\n",
      "3 10\n",
      "7\n"
     ]
    }
   ],
   "source": [
    "from itertools import combinations\n",
    "from operator import mul\n",
    "from functools import reduce\n",
    "N = int(input())\n",
    "mat = [list(map(int,input().split())) for _ in range(N)]\n",
    "result = 1000000000\n",
    "for i in range(1,N+1):\n",
    "    for c in combinations(range(N),i):\n",
    "        c_li = [mat[i] for i in c]\n",
    "        s = reduce(mul,(i[0] for i in c_li),1)\n",
    "        b = sum(i[1] for i in c_li)\n",
    "        result = min(result,abs(s-b))\n",
    "print(result)"
   ]
  },
  {
   "cell_type": "markdown",
   "id": "26f4269b",
   "metadata": {},
   "source": [
    "### 다른 풀이"
   ]
  },
  {
   "cell_type": "code",
   "execution_count": 104,
   "id": "e4c5b357",
   "metadata": {
    "ExecuteTime": {
     "end_time": "2022-05-12T05:32:59.685640Z",
     "start_time": "2022-05-12T05:32:56.871034Z"
    }
   },
   "outputs": [
    {
     "name": "stdout",
     "output_type": "stream",
     "text": [
      "1\n",
      "3 10\n",
      "7\n"
     ]
    }
   ],
   "source": [
    "from itertools import combinations\n",
    "N = int(input())\n",
    "mat = [list(map(int,input().split())) for _ in range(N)]\n",
    "result = 1000000000\n",
    "for combs in [combinations(mat,i) for i in range(1,N+1)]:\n",
    "    for c in combs:\n",
    "        S=1;B=0\n",
    "        for s,b in c:\n",
    "            S*=s;B+=b\n",
    "        result = min(result,abs(S-B))\n",
    "print(result)"
   ]
  },
  {
   "cell_type": "markdown",
   "id": "aff98073",
   "metadata": {},
   "source": [
    "## 14888 연산자 끼워넣기"
   ]
  },
  {
   "cell_type": "markdown",
   "id": "b517f490",
   "metadata": {},
   "source": [
    "N(2 ≤ N ≤ 11)이 주어지고,<br>\n",
    "N개의 수로 이루어진 수열 A1, A2, A3 ... AN(1 ≤ Ai ≤ 100)이 주어진다.<br>\n",
    "다음에 4개의 정수가 주어지는데, 차례대로 덧셈(+)의 개수, 뺄셈(-)의 개수, 곱셈(×)의 개수, 나눗셈(÷)의 개수<br>\n",
    "식의 연산은 우선순위를 무시, 무조건 앞에서부터 순서대로 진행<br>\n",
    "\n",
    "**Output: 식의 결과가 최대인 것과 최소인 값을 구하라.**"
   ]
  },
  {
   "cell_type": "markdown",
   "id": "6d874f94",
   "metadata": {
    "ExecuteTime": {
     "end_time": "2022-05-12T06:13:08.072541Z",
     "start_time": "2022-05-12T06:13:08.065561Z"
    }
   },
   "source": [
    "    In\n",
    "    6\n",
    "    1 2 3 4 5 6\n",
    "    2 1 1 1\n",
    "    Out\n",
    "    54\n",
    "    -24"
   ]
  },
  {
   "cell_type": "markdown",
   "id": "5fdfc6c7",
   "metadata": {},
   "source": [
    "### 상상코딩\n",
    "주어진 수 사이에 연산자가 모두 들어간다.<br>\n",
    "연산자가 들어가는 모든 경우의수를 구해서 앞에서 부터 순차적으로 연산 -> 최대, 최소 구하기"
   ]
  },
  {
   "cell_type": "code",
   "execution_count": 106,
   "id": "c2ecc735",
   "metadata": {
    "ExecuteTime": {
     "end_time": "2022-05-12T06:21:22.532476Z",
     "start_time": "2022-05-12T06:21:22.517442Z"
    }
   },
   "outputs": [],
   "source": [
    "N=6"
   ]
  },
  {
   "cell_type": "code",
   "execution_count": 107,
   "id": "7a78ee21",
   "metadata": {
    "ExecuteTime": {
     "end_time": "2022-05-12T06:21:49.300715Z",
     "start_time": "2022-05-12T06:21:49.288678Z"
    }
   },
   "outputs": [
    {
     "data": {
      "text/plain": [
       "[1, 2, 3, 4, 5, 6]"
      ]
     },
     "execution_count": 107,
     "metadata": {},
     "output_type": "execute_result"
    }
   ],
   "source": [
    "li = list(map(int,\"1 2 3 4 5 6\".split()))\n",
    "li"
   ]
  },
  {
   "cell_type": "code",
   "execution_count": 108,
   "id": "2ec9c625",
   "metadata": {
    "ExecuteTime": {
     "end_time": "2022-05-12T06:22:06.924027Z",
     "start_time": "2022-05-12T06:22:06.905028Z"
    }
   },
   "outputs": [
    {
     "data": {
      "text/plain": [
       "[2, 1, 1, 1]"
      ]
     },
     "execution_count": 108,
     "metadata": {},
     "output_type": "execute_result"
    }
   ],
   "source": [
    "op = list(map(int, \"2 1 1 1\".split()))\n",
    "op"
   ]
  },
  {
   "cell_type": "code",
   "execution_count": null,
   "id": "33cc215f",
   "metadata": {},
   "outputs": [],
   "source": []
  },
  {
   "cell_type": "code",
   "execution_count": null,
   "id": "49b5440b",
   "metadata": {},
   "outputs": [],
   "source": []
  },
  {
   "cell_type": "code",
   "execution_count": null,
   "id": "8ca62ccc",
   "metadata": {},
   "outputs": [],
   "source": []
  },
  {
   "cell_type": "code",
   "execution_count": null,
   "id": "6490f773",
   "metadata": {},
   "outputs": [],
   "source": []
  },
  {
   "cell_type": "code",
   "execution_count": null,
   "id": "63c3f08e",
   "metadata": {},
   "outputs": [],
   "source": []
  },
  {
   "cell_type": "code",
   "execution_count": null,
   "id": "b4db3d87",
   "metadata": {},
   "outputs": [],
   "source": []
  },
  {
   "cell_type": "code",
   "execution_count": null,
   "id": "d3f729ed",
   "metadata": {},
   "outputs": [],
   "source": []
  },
  {
   "cell_type": "code",
   "execution_count": null,
   "id": "57a9f019",
   "metadata": {},
   "outputs": [],
   "source": []
  },
  {
   "cell_type": "code",
   "execution_count": null,
   "id": "65ad5b13",
   "metadata": {},
   "outputs": [],
   "source": []
  },
  {
   "cell_type": "code",
   "execution_count": null,
   "id": "374101ee",
   "metadata": {},
   "outputs": [],
   "source": []
  },
  {
   "cell_type": "code",
   "execution_count": null,
   "id": "2170d395",
   "metadata": {},
   "outputs": [],
   "source": []
  },
  {
   "cell_type": "code",
   "execution_count": null,
   "id": "116090f7",
   "metadata": {},
   "outputs": [],
   "source": []
  },
  {
   "cell_type": "code",
   "execution_count": null,
   "id": "ddbe396c",
   "metadata": {},
   "outputs": [],
   "source": []
  },
  {
   "cell_type": "code",
   "execution_count": null,
   "id": "cb5d7863",
   "metadata": {},
   "outputs": [],
   "source": []
  },
  {
   "cell_type": "code",
   "execution_count": null,
   "id": "d510db28",
   "metadata": {},
   "outputs": [],
   "source": []
  }
 ],
 "metadata": {
  "kernelspec": {
   "display_name": "Python 3 (ipykernel)",
   "language": "python",
   "name": "python3"
  },
  "language_info": {
   "codemirror_mode": {
    "name": "ipython",
    "version": 3
   },
   "file_extension": ".py",
   "mimetype": "text/x-python",
   "name": "python",
   "nbconvert_exporter": "python",
   "pygments_lexer": "ipython3",
   "version": "3.10.4"
  },
  "toc": {
   "base_numbering": 1,
   "nav_menu": {},
   "number_sections": true,
   "sideBar": true,
   "skip_h1_title": false,
   "title_cell": "Table of Contents",
   "title_sidebar": "Contents",
   "toc_cell": false,
   "toc_position": {
    "height": "calc(100% - 180px)",
    "left": "10px",
    "top": "150px",
    "width": "384px"
   },
   "toc_section_display": true,
   "toc_window_display": true
  }
 },
 "nbformat": 4,
 "nbformat_minor": 5
}
