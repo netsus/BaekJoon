{
 "cells": [
  {
   "cell_type": "code",
   "execution_count": 33,
   "id": "9803bdf5",
   "metadata": {
    "ExecuteTime": {
     "end_time": "2022-03-27T07:35:52.337432Z",
     "start_time": "2022-03-27T07:35:50.065296Z"
    }
   },
   "outputs": [
    {
     "name": "stdout",
     "output_type": "stream",
     "text": [
      "6\n",
      "10 20 10 30 20 50\n"
     ]
    }
   ],
   "source": [
    "from bisect import bisect_left\n",
    "input()\n",
    "A = list(map(int,input().split()))\n",
    "lis=[]\n",
    "track=[]\n",
    "for num in A:\n",
    "    k = bisect_left(lis,num)\n",
    "    if len(lis)==k:\n",
    "        lis+=[num]\n",
    "    else:\n",
    "        lis[k]=num\n",
    "    track+=[(k,num)]\n",
    "\n",
    "ans=[];cnt=1\n",
    "for x in reversed(track):\n",
    "    if x[0] == len(lis)-cnt:\n",
    "        ans+=[x[1]]\n",
    "        cnt+=1\n",
    "\n",
    "print(len(lis))\n",
    "print(*reversed(ans))"
   ]
  },
  {
   "cell_type": "markdown",
   "id": "7321ae2a",
   "metadata": {},
   "source": [
    "# 내 풀이 합치기"
   ]
  },
  {
   "cell_type": "code",
   "execution_count": 23,
   "id": "87c12715",
   "metadata": {
    "ExecuteTime": {
     "end_time": "2022-03-27T07:25:59.559749Z",
     "start_time": "2022-03-27T07:25:59.553590Z"
    }
   },
   "outputs": [],
   "source": [
    "from bisect import bisect_left\n",
    "A = list(map(int,'10 20 10 30 20 50'.split()))\n",
    "dp = []  # LIS의 길이를 찾기 위한 배열\n",
    "tracking = []  # LIS를 찾기 위한 (index, value) List\n",
    "\n",
    "for x in A:\n",
    "    k = bisect_left(dp,x)\n",
    "    if len(dp) == k:\n",
    "        tracking+=[(len(dp),x)]\n",
    "        dp+=[x]\n",
    "    else:\n",
    "        dp[k] = x\n",
    "        tracking+=[(k, x)]\n",
    "\n",
    "ans = []  # 출력을 위한 stack\n",
    "cnt=1\n",
    "for x in reversed(tracking):\n",
    "    if x[0] == len(dp)-cnt:\n",
    "        ans.append(x[1])\n",
    "        cnt+=1\n",
    "\n",
    "print(len(dp))\n",
    "print(*reversed(ans), sep=' ')"
   ]
  },
  {
   "cell_type": "markdown",
   "id": "f7947f4b",
   "metadata": {},
   "source": [
    "## 내 제출 풀이"
   ]
  },
  {
   "cell_type": "code",
   "execution_count": 30,
   "id": "77425e21",
   "metadata": {
    "ExecuteTime": {
     "end_time": "2022-03-27T07:30:06.596888Z",
     "start_time": "2022-03-27T07:29:43.430902Z"
    }
   },
   "outputs": [
    {
     "name": "stdout",
     "output_type": "stream",
     "text": [
      "6\n",
      "10 20 10 30 20 50\n",
      "4\n",
      "10 20 30 50\n"
     ]
    }
   ],
   "source": [
    "from bisect import bisect_left\n",
    "input()\n",
    "A = list(map(int,input().split()))\n",
    "dp = []  # LIS의 길이를 찾기 위한 배열\n",
    "tracking = []  # LIS를 찾기 위한 (index, value) List\n",
    "\n",
    "for x in A:\n",
    "    k = bisect_left(dp,x)\n",
    "    if len(dp) == k:\n",
    "        tracking+=[(len(dp),x)]\n",
    "        dp+=[x]\n",
    "    else:\n",
    "        dp[k] = x\n",
    "        tracking+=[(k, x)]\n",
    "\n",
    "ans = []  # 출력을 위한 stack\n",
    "cnt=1\n",
    "for x in reversed(tracking):\n",
    "    if x[0] == len(dp)-cnt:\n",
    "        ans.append(x[1])\n",
    "        cnt+=1\n",
    "\n",
    "print(len(dp))\n",
    "print(*reversed(ans), sep=' ')"
   ]
  },
  {
   "cell_type": "code",
   "execution_count": null,
   "id": "462cd70c",
   "metadata": {},
   "outputs": [],
   "source": [
    "6\n",
    "10 20 10 30 20 50"
   ]
  },
  {
   "cell_type": "code",
   "execution_count": null,
   "id": "ad162917",
   "metadata": {},
   "outputs": [],
   "source": [
    "from bisect import bisect_left\n",
    "A = list(map(int,'10 20 10 30 20 50'.split()))\n",
    "dp = []  # LIS의 길이를 찾기 위한 배열\n",
    "tracking = []  # LIS를 찾기 위한 (index, value) List\n",
    "\n",
    "for x in A:\n",
    "    k = bisect_left(dp,x)\n",
    "    if len(dp) == k:\n",
    "        tracking+=[(len(dp),x)]\n",
    "        dp+=[x]\n",
    "    else:\n",
    "        dp[k] = x\n",
    "        tracking+=[(k, x)]\n",
    "\n",
    "tracking\n",
    "\n",
    "## ans 구하기\n",
    "\n",
    "LIS_length\n",
    "\n",
    "A\n",
    "\n",
    "dp\n",
    "\n",
    "ans = []  # 출력을 위한 stack\n",
    "cnt=1\n",
    "for x in reversed(tracking):\n",
    "    if x[0] == len(dp)-cnt:\n",
    "        ans.append(x[1])\n",
    "        cnt+=1\n",
    "\n",
    "print(len(dp))\n",
    "print(*reversed(ans), sep=' ')"
   ]
  },
  {
   "cell_type": "markdown",
   "id": "4c880b6c",
   "metadata": {},
   "source": [
    "# 풀이 쪼개기"
   ]
  },
  {
   "cell_type": "code",
   "execution_count": 17,
   "id": "6d7fbb02",
   "metadata": {
    "ExecuteTime": {
     "end_time": "2022-03-27T07:23:20.222923Z",
     "start_time": "2022-03-27T07:23:20.213873Z"
    }
   },
   "outputs": [],
   "source": [
    "from bisect import bisect_left\n",
    "# input() # N 안쓰니까\n",
    "# A = list(map(int, input().split()))\n",
    "A = list(map(int,'10 20 10 30 20 50'.split()))\n",
    "dp = [A[0]]  # LIS의 길이를 찾기 위한 배열\n",
    "tracking = [(0, A[0])]  # LIS를 찾기 위한 (index, value) List\n",
    "A = A[1:]\n",
    "LIS_length = 1"
   ]
  },
  {
   "cell_type": "markdown",
   "id": "068ec783",
   "metadata": {},
   "source": [
    "## 첫번째 for 문"
   ]
  },
  {
   "cell_type": "code",
   "execution_count": 18,
   "id": "5e87b9c4",
   "metadata": {
    "ExecuteTime": {
     "end_time": "2022-03-27T07:23:20.977140Z",
     "start_time": "2022-03-27T07:23:20.968959Z"
    }
   },
   "outputs": [],
   "source": [
    "for x in A:\n",
    "    if dp[-1] < x:\n",
    "        dp.append(x)\n",
    "        tracking.append((LIS_length, x))\n",
    "        LIS_length += 1\n",
    "    else:\n",
    "        idx = bisect_left(dp, x)\n",
    "        dp[idx] = x\n",
    "        tracking.append((idx, x))"
   ]
  },
  {
   "cell_type": "code",
   "execution_count": 19,
   "id": "5ffc4659",
   "metadata": {
    "ExecuteTime": {
     "end_time": "2022-03-27T07:23:22.210694Z",
     "start_time": "2022-03-27T07:23:22.197725Z"
    }
   },
   "outputs": [
    {
     "data": {
      "text/plain": [
       "[(0, 10), (1, 20), (0, 10), (2, 30), (1, 20), (3, 50)]"
      ]
     },
     "execution_count": 19,
     "metadata": {},
     "output_type": "execute_result"
    }
   ],
   "source": [
    "tracking"
   ]
  },
  {
   "cell_type": "code",
   "execution_count": 20,
   "id": "ecea1ae9",
   "metadata": {
    "ExecuteTime": {
     "end_time": "2022-03-27T07:23:27.356975Z",
     "start_time": "2022-03-27T07:23:27.343961Z"
    }
   },
   "outputs": [
    {
     "data": {
      "text/plain": [
       "(4, 4)"
      ]
     },
     "execution_count": 20,
     "metadata": {},
     "output_type": "execute_result"
    }
   ],
   "source": [
    "LIS_length, len(dp)"
   ]
  },
  {
   "cell_type": "markdown",
   "id": "1cb9b13a",
   "metadata": {},
   "source": [
    "## 내 풀이로 각색"
   ]
  },
  {
   "cell_type": "code",
   "execution_count": 23,
   "id": "9db4aac2",
   "metadata": {
    "ExecuteTime": {
     "end_time": "2022-03-27T07:25:59.559749Z",
     "start_time": "2022-03-27T07:25:59.553590Z"
    }
   },
   "outputs": [],
   "source": [
    "from bisect import bisect_left\n",
    "A = list(map(int,'10 20 10 30 20 50'.split()))\n",
    "dp = []  # LIS의 길이를 찾기 위한 배열\n",
    "tracking = []  # LIS를 찾기 위한 (index, value) List"
   ]
  },
  {
   "cell_type": "code",
   "execution_count": 24,
   "id": "9b3ba1f4",
   "metadata": {
    "ExecuteTime": {
     "end_time": "2022-03-27T07:26:00.065494Z",
     "start_time": "2022-03-27T07:26:00.061412Z"
    }
   },
   "outputs": [],
   "source": [
    "for x in A:\n",
    "    k = bisect_left(dp,x)\n",
    "    if len(dp) == k:\n",
    "        tracking+=[(len(dp),x)]\n",
    "        dp+=[x]\n",
    "    else:\n",
    "        dp[k] = x\n",
    "        tracking+=[(k, x)]"
   ]
  },
  {
   "cell_type": "code",
   "execution_count": 25,
   "id": "b7cfd3f4",
   "metadata": {
    "ExecuteTime": {
     "end_time": "2022-03-27T07:26:01.548347Z",
     "start_time": "2022-03-27T07:26:01.538741Z"
    }
   },
   "outputs": [
    {
     "data": {
      "text/plain": [
       "[(0, 10), (1, 20), (0, 10), (2, 30), (1, 20), (3, 50)]"
      ]
     },
     "execution_count": 25,
     "metadata": {},
     "output_type": "execute_result"
    }
   ],
   "source": [
    "tracking"
   ]
  },
  {
   "cell_type": "markdown",
   "id": "f758216f",
   "metadata": {},
   "source": [
    "## ans 구하기"
   ]
  },
  {
   "cell_type": "code",
   "execution_count": 27,
   "id": "28fef1e5",
   "metadata": {
    "ExecuteTime": {
     "end_time": "2022-03-27T07:26:14.655532Z",
     "start_time": "2022-03-27T07:26:14.645308Z"
    }
   },
   "outputs": [
    {
     "data": {
      "text/plain": [
       "4"
      ]
     },
     "execution_count": 27,
     "metadata": {},
     "output_type": "execute_result"
    }
   ],
   "source": [
    "LIS_length"
   ]
  },
  {
   "cell_type": "code",
   "execution_count": 26,
   "id": "0c96c9e3",
   "metadata": {
    "ExecuteTime": {
     "end_time": "2022-03-27T07:26:12.271942Z",
     "start_time": "2022-03-27T07:26:12.262464Z"
    }
   },
   "outputs": [
    {
     "data": {
      "text/plain": [
       "[10, 20, 10, 30, 20, 50]"
      ]
     },
     "execution_count": 26,
     "metadata": {},
     "output_type": "execute_result"
    }
   ],
   "source": [
    "A"
   ]
  },
  {
   "cell_type": "code",
   "execution_count": 21,
   "id": "f618c6f9",
   "metadata": {
    "ExecuteTime": {
     "end_time": "2022-03-27T07:24:04.233945Z",
     "start_time": "2022-03-27T07:24:04.200608Z"
    }
   },
   "outputs": [
    {
     "data": {
      "text/plain": [
       "[10, 20, 30, 50]"
      ]
     },
     "execution_count": 21,
     "metadata": {},
     "output_type": "execute_result"
    }
   ],
   "source": [
    "dp"
   ]
  },
  {
   "cell_type": "code",
   "execution_count": 29,
   "id": "ebf91f1d",
   "metadata": {
    "ExecuteTime": {
     "end_time": "2022-03-27T07:27:58.053090Z",
     "start_time": "2022-03-27T07:27:58.043293Z"
    }
   },
   "outputs": [
    {
     "name": "stdout",
     "output_type": "stream",
     "text": [
      "4\n",
      "10 20 30 50\n"
     ]
    }
   ],
   "source": [
    "ans = []  # 출력을 위한 stack\n",
    "cnt=1\n",
    "for x in reversed(tracking):\n",
    "    if x[0] == len(dp)-cnt:\n",
    "        ans.append(x[1])\n",
    "        cnt+=1\n",
    "\n",
    "print(len(dp))\n",
    "print(*reversed(ans), sep=' ')"
   ]
  },
  {
   "cell_type": "markdown",
   "id": "f764cf3c",
   "metadata": {},
   "source": [
    "## 전체 풀이"
   ]
  },
  {
   "cell_type": "code",
   "execution_count": 3,
   "id": "1f28bcbf",
   "metadata": {
    "ExecuteTime": {
     "end_time": "2022-03-26T16:05:42.995143Z",
     "start_time": "2022-03-26T16:05:36.405701Z"
    }
   },
   "outputs": [
    {
     "name": "stdout",
     "output_type": "stream",
     "text": [
      "6\n",
      "10 20 10 30 20 50\n",
      "4\n",
      "10 20 30 50\n"
     ]
    }
   ],
   "source": [
    "from bisect import bisect_left\n",
    "input() # N 안쓰니까\n",
    "A = list(map(int, input().split()))\n",
    "dp = [A[0]]  # LIS의 길이를 찾기 위한 배열\n",
    "tracking = [(0, A[0])]  # LIS를 찾기 위한 (index, value) List\n",
    "A = A[1:]\n",
    "LIS_length = 1\n",
    "\n",
    "for x in A:\n",
    "    if dp[-1] < x:\n",
    "        dp.append(x)\n",
    "        tracking.append((LIS_length, x))\n",
    "        LIS_length += 1\n",
    "    else:\n",
    "        idx = bisect_left(dp, x)\n",
    "        dp[idx] = x\n",
    "        tracking.append((idx, x))\n",
    "\n",
    "ans = []  # 출력을 위한 stack\n",
    "LIS_length -= 1\n",
    "for x in reversed(tracking):\n",
    "    if x[0] == LIS_length:\n",
    "        ans.append(x[1])\n",
    "        LIS_length -= 1\n",
    "\n",
    "print(len(dp))\n",
    "print(*reversed(ans), sep=' ')"
   ]
  }
 ],
 "metadata": {
  "kernelspec": {
   "display_name": "Python 3",
   "language": "python",
   "name": "python3"
  },
  "language_info": {
   "codemirror_mode": {
    "name": "ipython",
    "version": 3
   },
   "file_extension": ".py",
   "mimetype": "text/x-python",
   "name": "python",
   "nbconvert_exporter": "python",
   "pygments_lexer": "ipython3",
   "version": "3.8.12"
  },
  "toc": {
   "base_numbering": 1,
   "nav_menu": {},
   "number_sections": true,
   "sideBar": true,
   "skip_h1_title": false,
   "title_cell": "Table of Contents",
   "title_sidebar": "Contents",
   "toc_cell": false,
   "toc_position": {},
   "toc_section_display": true,
   "toc_window_display": false
  }
 },
 "nbformat": 4,
 "nbformat_minor": 5
}
