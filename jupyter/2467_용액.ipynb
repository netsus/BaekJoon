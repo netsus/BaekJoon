{
 "cells": [
  {
   "cell_type": "code",
   "execution_count": 1,
   "id": "2ceee560",
   "metadata": {
    "ExecuteTime": {
     "end_time": "2022-05-23T16:23:37.682508Z",
     "start_time": "2022-05-23T16:23:37.038941Z"
    }
   },
   "outputs": [
    {
     "name": "stdout",
     "output_type": "stream",
     "text": [
      "5\n"
     ]
    }
   ],
   "source": [
    "n=int(input())"
   ]
  },
  {
   "cell_type": "code",
   "execution_count": 2,
   "id": "c61f132f",
   "metadata": {
    "ExecuteTime": {
     "end_time": "2022-05-23T16:23:58.431764Z",
     "start_time": "2022-05-23T16:23:52.799848Z"
    }
   },
   "outputs": [
    {
     "name": "stdout",
     "output_type": "stream",
     "text": [
      "-99 -2 -1 4 98\n"
     ]
    }
   ],
   "source": [
    "l=sorted(list(map(int,input().split())))"
   ]
  },
  {
   "cell_type": "code",
   "execution_count": 6,
   "id": "fa9194ad",
   "metadata": {
    "ExecuteTime": {
     "end_time": "2022-05-23T16:42:03.020874Z",
     "start_time": "2022-05-23T16:42:03.012519Z"
    }
   },
   "outputs": [],
   "source": [
    "n,l=5,[-99, -2, -1, 4, 98]"
   ]
  },
  {
   "cell_type": "code",
   "execution_count": 7,
   "id": "ac01e455",
   "metadata": {
    "ExecuteTime": {
     "end_time": "2022-05-23T16:42:03.236926Z",
     "start_time": "2022-05-23T16:42:03.228264Z"
    }
   },
   "outputs": [],
   "source": [
    "v=9**50"
   ]
  },
  {
   "cell_type": "code",
   "execution_count": 8,
   "id": "17972654",
   "metadata": {
    "ExecuteTime": {
     "end_time": "2022-05-23T16:42:03.866879Z",
     "start_time": "2022-05-23T16:42:03.856299Z"
    }
   },
   "outputs": [
    {
     "name": "stdout",
     "output_type": "stream",
     "text": [
      "-99 98\n"
     ]
    }
   ],
   "source": [
    "s,e=0,n-1\n",
    "while s<=e:\n",
    "    c=l[s]+l[e]\n",
    "    if abs(c)<v:\n",
    "        v=abs(c)\n",
    "        r=l[s],l[e]\n",
    "    if c<0:\n",
    "        s+=1\n",
    "    elif c>0:\n",
    "        e-=1\n",
    "    else:\n",
    "        print(*r);sys.exit()\n",
    "print(*r)"
   ]
  },
  {
   "cell_type": "markdown",
   "id": "a550f5eb",
   "metadata": {},
   "source": [
    "## 제출 풀이 - 2470 두 용액과 풀이 같음"
   ]
  },
  {
   "cell_type": "code",
   "execution_count": 11,
   "id": "0e6020bd",
   "metadata": {
    "ExecuteTime": {
     "end_time": "2022-05-23T16:58:00.090811Z",
     "start_time": "2022-05-23T16:57:50.362622Z"
    }
   },
   "outputs": [
    {
     "name": "stdout",
     "output_type": "stream",
     "text": [
      "5\n",
      "-2 4 -99 -1 90\n",
      "-2 4\n"
     ]
    }
   ],
   "source": [
    "n=int(input())\n",
    "l=sorted(list(map(int,input().split())))\n",
    "v=9**50\n",
    "s,e=0,n-1\n",
    "while s<e:\n",
    "    c=l[s]+l[e]\n",
    "    if abs(c)<v:\n",
    "        v=abs(c)\n",
    "        r=l[s],l[e]\n",
    "    if c<0:\n",
    "        s+=1\n",
    "    elif c>0:\n",
    "        e-=1\n",
    "    else:\n",
    "        break\n",
    "print(*r)"
   ]
  },
  {
   "cell_type": "markdown",
   "id": "c39c8193",
   "metadata": {},
   "source": [
    "## 14921 용액 합성하기 풀이"
   ]
  },
  {
   "cell_type": "markdown",
   "id": "305159da",
   "metadata": {},
   "source": [
    "### 첫풀이"
   ]
  },
  {
   "cell_type": "code",
   "execution_count": null,
   "id": "b34ed260",
   "metadata": {},
   "outputs": [],
   "source": [
    "n=int(input())\n",
    "l=sorted(list(map(int,input().split())))\n",
    "v,s,e=9**50,0,n-1\n",
    "while s<e:\n",
    "    c=l[s]+l[e]\n",
    "    if abs(c)<v:\n",
    "        v=abs(c);r=c\n",
    "    if c<0:s+=1\n",
    "    elif c>0:e-=1\n",
    "    else:break\n",
    "print(r)"
   ]
  },
  {
   "cell_type": "markdown",
   "id": "342147ad",
   "metadata": {},
   "source": [
    "### 숏코딩"
   ]
  },
  {
   "cell_type": "code",
   "execution_count": null,
   "id": "b6a4fdde",
   "metadata": {},
   "outputs": [],
   "source": [
    "n=int(input())\n",
    "l=[*map(int,input().split())]\n",
    "v,s,e=9**50,0,n-1\n",
    "while s<e:\n",
    "    c=l[s]+l[e]\n",
    "    v=min([c,v],key=abs)\n",
    "    if c<0:s+=1\n",
    "    else:e-=1\n",
    "print(v)"
   ]
  }
 ],
 "metadata": {
  "kernelspec": {
   "display_name": "Python 3",
   "language": "python",
   "name": "python3"
  },
  "language_info": {
   "codemirror_mode": {
    "name": "ipython",
    "version": 3
   },
   "file_extension": ".py",
   "mimetype": "text/x-python",
   "name": "python",
   "nbconvert_exporter": "python",
   "pygments_lexer": "ipython3",
   "version": "3.8.12"
  },
  "toc": {
   "base_numbering": 1,
   "nav_menu": {},
   "number_sections": true,
   "sideBar": true,
   "skip_h1_title": false,
   "title_cell": "Table of Contents",
   "title_sidebar": "Contents",
   "toc_cell": false,
   "toc_position": {},
   "toc_section_display": true,
   "toc_window_display": false
  }
 },
 "nbformat": 4,
 "nbformat_minor": 5
}
