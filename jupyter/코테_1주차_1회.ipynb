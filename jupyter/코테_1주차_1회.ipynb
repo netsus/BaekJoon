{
 "cells": [
  {
   "cell_type": "code",
   "execution_count": 7,
   "metadata": {
    "ExecuteTime": {
     "end_time": "2022-04-05T03:12:42.885516Z",
     "start_time": "2022-04-05T03:12:42.883515Z"
    }
   },
   "outputs": [],
   "source": [
    "for i in range(3,3):\n",
    "    print(i)"
   ]
  },
  {
   "cell_type": "markdown",
   "metadata": {},
   "source": [
    "## 1003 피보나치 함수"
   ]
  },
  {
   "cell_type": "code",
   "execution_count": null,
   "metadata": {},
   "outputs": [],
   "source": [
    "## 다른 풀이\n",
    "T = int(input())\n",
    "for _ in range(T):\n",
    "    N = int(input())\n",
    "    zero,one=1,0 # zero: 0개수, one: 1개수\n",
    "    for i in range(N):\n",
    "        zero,one = one,zero+one # zero와 one에 대해 피보나치적용\n",
    "    print(zero,one)"
   ]
  },
  {
   "cell_type": "code",
   "execution_count": 10,
   "metadata": {
    "ExecuteTime": {
     "end_time": "2022-04-05T03:13:35.531186Z",
     "start_time": "2022-04-05T03:13:35.524190Z"
    }
   },
   "outputs": [],
   "source": [
    "def fib(N):\n",
    "    zeros=[1,0,1]\n",
    "    ones=[0,1,1]\n",
    "    if N >= 3:\n",
    "        for i in range(2,N):\n",
    "            zeros+=[zeros[i-1] + zeros[i]]\n",
    "            ones+=[ones[i-1] + ones[i]]\n",
    "    print(f\"{zeros[N]} {ones[N]}\")\n",
    "\n",
    "T = int(input())\n",
    "for _ in range(T):\n",
    "    N = int(input())\n",
    "    fib(N)"
   ]
  },
  {
   "cell_type": "code",
   "execution_count": 19,
   "metadata": {
    "ExecuteTime": {
     "end_time": "2022-04-05T03:23:00.363200Z",
     "start_time": "2022-04-05T03:22:59.368224Z"
    }
   },
   "outputs": [
    {
     "name": "stdout",
     "output_type": "stream",
     "text": [
      "T: 1\n",
      "N: 4\n",
      "1번째 - a : 1, b : 0\n",
      "2번째 - a : 0, b : 1\n",
      "3번째 - a : 1, b : 1\n",
      "4번째 - a : 1, b : 2\n",
      "2 3\n"
     ]
    }
   ],
   "source": [
    "## 쉬운 풀이\n",
    "T = int(input(\"T: \"))\n",
    "for _ in range(T):\n",
    "    N = int(input(\"N: \"))\n",
    "    a,b=1,0 # a: 0개수, b: 1개수\n",
    "    for i in range(N):\n",
    "        print(f\"{i+1}번째 - a : {a}, b : {b}\")\n",
    "        a,b = b,a+b # a는 다음칸(b)로 가고, b는 a+b\n",
    "    print(a,b)"
   ]
  },
  {
   "cell_type": "markdown",
   "metadata": {},
   "source": [
    "## 16435 스네이크버드"
   ]
  },
  {
   "cell_type": "code",
   "execution_count": null,
   "metadata": {},
   "outputs": [],
   "source": [
    "import sys\n",
    "\n",
    "N, L = map(int,input().split())\n",
    "fruits = list(map(int, sys.stdin.readline().split()))\n",
    "fruits.sort()\n",
    "\n",
    "for i in fruits:\n",
    "    if i > L:\n",
    "        break\n",
    "    elif i <= L:\n",
    "        L += 1\n",
    "\n",
    "print(L)"
   ]
  },
  {
   "cell_type": "code",
   "execution_count": null,
   "metadata": {},
   "outputs": [],
   "source": [
    "# 플이\n",
    "N,L = map(int,input().split())\n",
    "frut = list(map(int,input().split()))\n",
    "for f in sorted(frut):\n",
    "    if f > L:\n",
    "        break\n",
    "    else:\n",
    "        L+=1\n",
    "print(L)"
   ]
  },
  {
   "cell_type": "markdown",
   "metadata": {},
   "source": [
    "## 1343 폴리오미노"
   ]
  },
  {
   "cell_type": "code",
   "execution_count": 2,
   "metadata": {
    "ExecuteTime": {
     "end_time": "2022-04-12T17:14:40.427642Z",
     "start_time": "2022-04-12T17:14:38.249970Z"
    }
   },
   "outputs": [
    {
     "name": "stdout",
     "output_type": "stream",
     "text": [
      "XXXXXX\n",
      "AAAABB\n"
     ]
    }
   ],
   "source": [
    "## 일반 풀이\n",
    "board = input() # 문자열 입력받기\n",
    "board = board.replace('XXXX', 'AAAA')\n",
    "board = board.replace('XX', 'BB')\n",
    "\n",
    "if 'X' in board:\n",
    "    print(-1)\n",
    "else:\n",
    "    print(board)\n",
    "\n",
    "\n",
    "## 숏코딩 풀이 \n",
    "result = input().replace('XXXX','AAAA').replace('XX','BB')\n",
    "print(-1 if 'X' in result else result)"
   ]
  },
  {
   "cell_type": "code",
   "execution_count": null,
   "metadata": {},
   "outputs": [],
   "source": [
    "board = input()\n",
    "board = board.replace('XXXX', 'AAAA')\n",
    "board = board.replace('XX', 'BB')\n",
    "\n",
    "if 'X' in board:\n",
    "    print(-1)\n",
    "else:\n",
    "    print(board)"
   ]
  },
  {
   "cell_type": "code",
   "execution_count": 3,
   "metadata": {
    "ExecuteTime": {
     "end_time": "2022-04-12T17:14:44.331848Z",
     "start_time": "2022-04-12T17:14:42.284388Z"
    }
   },
   "outputs": [
    {
     "name": "stdout",
     "output_type": "stream",
     "text": [
      "XXXXXX\n",
      "AAAABB\n"
     ]
    }
   ],
   "source": [
    "result = input().replace('XXXX','AAAA').replace('XX','BB')\n",
    "print(-1 if 'X' in result else result)"
   ]
  },
  {
   "cell_type": "code",
   "execution_count": 1,
   "metadata": {
    "ExecuteTime": {
     "end_time": "2022-04-12T16:53:04.412530Z",
     "start_time": "2022-04-12T16:53:04.395712Z"
    }
   },
   "outputs": [
    {
     "name": "stdout",
     "output_type": "stream",
     "text": [
      "참\n",
      "거짓\n"
     ]
    }
   ],
   "source": [
    "print('참' if True else '거짓')\n",
    "print('참' if False else '거짓')"
   ]
  },
  {
   "cell_type": "markdown",
   "metadata": {},
   "source": [
    "## 2798 블랙잭"
   ]
  },
  {
   "cell_type": "code",
   "execution_count": 33,
   "metadata": {
    "ExecuteTime": {
     "end_time": "2022-04-05T05:44:27.242133Z",
     "start_time": "2022-04-05T05:44:21.510389Z"
    }
   },
   "outputs": [
    {
     "name": "stdout",
     "output_type": "stream",
     "text": [
      "10 500\n",
      "93 181 245 214 315 36 185 138 216 295\n",
      "497\n"
     ]
    }
   ],
   "source": [
    "from itertools import combinations\n",
    "N, M = map(int,input().split())\n",
    "card_list = list(map(int,input().split()))\n",
    "print(max([i for i in map(sum,combinations(card_list,3)) if i <= M]))"
   ]
  },
  {
   "cell_type": "code",
   "execution_count": 24,
   "metadata": {
    "ExecuteTime": {
     "end_time": "2022-04-05T05:37:41.656752Z",
     "start_time": "2022-04-05T05:37:41.653718Z"
    }
   },
   "outputs": [],
   "source": [
    "from itertools import combinations"
   ]
  },
  {
   "cell_type": "code",
   "execution_count": 22,
   "metadata": {
    "ExecuteTime": {
     "end_time": "2022-04-05T05:37:08.292257Z",
     "start_time": "2022-04-05T05:37:03.115728Z"
    }
   },
   "outputs": [
    {
     "name": "stdout",
     "output_type": "stream",
     "text": [
      "10 500\n",
      "93 181 245 214 315 36 185 138 216 295\n"
     ]
    }
   ],
   "source": [
    "N, M = map(int,input().split())\n",
    "card_list = list(map(int,input().split()))"
   ]
  },
  {
   "cell_type": "code",
   "execution_count": 23,
   "metadata": {
    "ExecuteTime": {
     "end_time": "2022-04-05T05:37:14.498704Z",
     "start_time": "2022-04-05T05:37:14.484669Z"
    }
   },
   "outputs": [
    {
     "data": {
      "text/plain": [
       "(10, 500, [93, 181, 245, 214, 315, 36, 185, 138, 216, 295])"
      ]
     },
     "execution_count": 23,
     "metadata": {},
     "output_type": "execute_result"
    }
   ],
   "source": [
    "N, M, card_list"
   ]
  },
  {
   "cell_type": "code",
   "execution_count": 30,
   "metadata": {
    "ExecuteTime": {
     "end_time": "2022-04-05T05:40:31.713432Z",
     "start_time": "2022-04-05T05:40:31.701431Z"
    }
   },
   "outputs": [
    {
     "data": {
      "text/plain": [
       "497"
      ]
     },
     "execution_count": 30,
     "metadata": {},
     "output_type": "execute_result"
    }
   ],
   "source": [
    "print(max([i for i in map(sum,combinations(card_list,3)) if i <= M]))"
   ]
  },
  {
   "cell_type": "markdown",
   "metadata": {},
   "source": [
    "## 14916 거스름돈"
   ]
  },
  {
   "cell_type": "code",
   "execution_count": 44,
   "metadata": {
    "ExecuteTime": {
     "end_time": "2022-04-07T00:50:25.913073Z",
     "start_time": "2022-04-07T00:50:25.898048Z"
    }
   },
   "outputs": [],
   "source": [
    "n = 13"
   ]
  },
  {
   "cell_type": "code",
   "execution_count": 54,
   "metadata": {
    "ExecuteTime": {
     "end_time": "2022-04-07T00:54:45.918491Z",
     "start_time": "2022-04-07T00:54:45.912492Z"
    }
   },
   "outputs": [
    {
     "data": {
      "text/plain": [
       "0"
      ]
     },
     "execution_count": 54,
     "metadata": {},
     "output_type": "execute_result"
    }
   ],
   "source": [
    "(n-8)%5"
   ]
  },
  {
   "cell_type": "code",
   "execution_count": 70,
   "metadata": {
    "ExecuteTime": {
     "end_time": "2022-04-07T01:00:27.701417Z",
     "start_time": "2022-04-07T01:00:26.635864Z"
    }
   },
   "outputs": [
    {
     "name": "stdout",
     "output_type": "stream",
     "text": [
      "5\n",
      "-1\n"
     ]
    }
   ],
   "source": [
    "n=int(input())\n",
    "c=0;x=1\n",
    "while (n-2*c)%5:\n",
    "    if 2*c > n:\n",
    "        x=0\n",
    "        break\n",
    "    c+=1\n",
    "if x:\n",
    "    print(c+(n-2*c)//5)\n",
    "else:\n",
    "    print(-1)"
   ]
  },
  {
   "cell_type": "code",
   "execution_count": 73,
   "metadata": {
    "ExecuteTime": {
     "end_time": "2022-04-07T01:04:07.268766Z",
     "start_time": "2022-04-07T01:04:06.141848Z"
    }
   },
   "outputs": [
    {
     "name": "stdout",
     "output_type": "stream",
     "text": [
      "1\n",
      "1\n",
      "-1\n",
      "-3\n",
      "-1\n"
     ]
    }
   ],
   "source": [
    "n = int(input())\n",
    "c = 0\n",
    "while n%5:\n",
    "    n-= 2\n",
    "    c+= 1\n",
    "print(c+n//5 if n >= 0 else -1)"
   ]
  },
  {
   "cell_type": "markdown",
   "metadata": {
    "ExecuteTime": {
     "end_time": "2022-04-07T01:06:36.384487Z",
     "start_time": "2022-04-07T01:06:36.367488Z"
    }
   },
   "source": [
    "## 2839 설탕배달"
   ]
  },
  {
   "cell_type": "code",
   "execution_count": null,
   "metadata": {},
   "outputs": [],
   "source": [
    "## 풀이"
   ]
  },
  {
   "cell_type": "code",
   "execution_count": 79,
   "metadata": {
    "ExecuteTime": {
     "end_time": "2022-04-07T01:08:02.498978Z",
     "start_time": "2022-04-07T01:08:02.494976Z"
    }
   },
   "outputs": [],
   "source": [
    "n=int(input())\n",
    "c=0\n",
    "while n%5:\n",
    "    n-=3\n",
    "    c+=1\n",
    "print(c+n//5 if n >= 0 else -1)"
   ]
  },
  {
   "cell_type": "markdown",
   "metadata": {},
   "source": [
    "## 1259 팰린드롬수"
   ]
  },
  {
   "cell_type": "code",
   "execution_count": 1,
   "metadata": {
    "ExecuteTime": {
     "end_time": "2022-04-07T03:59:54.311819Z",
     "start_time": "2022-04-07T03:59:53.572047Z"
    }
   },
   "outputs": [
    {
     "name": "stdout",
     "output_type": "stream",
     "text": [
      "1\n"
     ]
    },
    {
     "data": {
      "text/plain": [
       "1"
      ]
     },
     "execution_count": 1,
     "metadata": {},
     "output_type": "execute_result"
    }
   ],
   "source": [
    "int(s:=input())"
   ]
  },
  {
   "cell_type": "code",
   "execution_count": 2,
   "metadata": {
    "ExecuteTime": {
     "end_time": "2022-04-07T03:59:57.451947Z",
     "start_time": "2022-04-07T03:59:54.995633Z"
    }
   },
   "outputs": [
    {
     "name": "stdout",
     "output_type": "stream",
     "text": [
      "14\n",
      "no\n",
      "0\n"
     ]
    }
   ],
   "source": [
    "while int(s:=input()):\n",
    "    print('yneos'[s!=s[::-1]::2])"
   ]
  }
 ],
 "metadata": {
  "kernelspec": {
   "display_name": "Python 3",
   "language": "python",
   "name": "python3"
  },
  "language_info": {
   "codemirror_mode": {
    "name": "ipython",
    "version": 3
   },
   "file_extension": ".py",
   "mimetype": "text/x-python",
   "name": "python",
   "nbconvert_exporter": "python",
   "pygments_lexer": "ipython3",
   "version": "3.8.12"
  },
  "toc": {
   "base_numbering": 1,
   "nav_menu": {},
   "number_sections": true,
   "sideBar": true,
   "skip_h1_title": false,
   "title_cell": "Table of Contents",
   "title_sidebar": "Contents",
   "toc_cell": false,
   "toc_position": {},
   "toc_section_display": true,
   "toc_window_display": false
  }
 },
 "nbformat": 4,
 "nbformat_minor": 2
}
