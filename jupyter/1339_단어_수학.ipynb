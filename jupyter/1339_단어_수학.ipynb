{
 "cells": [
  {
   "cell_type": "markdown",
   "id": "0e4c9d43",
   "metadata": {},
   "source": [
    "### 문제\n"
   ]
  },
  {
   "cell_type": "code",
   "execution_count": 1,
   "id": "fc6e3ac9",
   "metadata": {
    "ExecuteTime": {
     "end_time": "2022-12-18T08:24:35.554816Z",
     "start_time": "2022-12-18T08:24:35.422106Z"
    }
   },
   "outputs": [],
   "source": [
    "! # 시작시간 체크"
   ]
  },
  {
   "cell_type": "markdown",
   "id": "e7bcaf07",
   "metadata": {
    "ExecuteTime": {
     "end_time": "2022-12-18T08:46:11.080612Z",
     "start_time": "2022-12-18T08:46:11.075228Z"
    }
   },
   "source": [
    "상상 코딩\n",
    "\n",
    "    알파벳 딕셔너리에 각 알파벳이 몇번째 자리에 몇번등장하는지를 숫자로 저장한다.\n",
    "    내림차순 정렬하여 9부터 넣는다\n",
    "    각 알파벳에 들어간 숫자로 input string을 채워 연산하여 출력"
   ]
  },
  {
   "cell_type": "code",
   "execution_count": 9,
   "id": "50c1b0eb",
   "metadata": {
    "ExecuteTime": {
     "end_time": "2022-12-18T08:46:13.084438Z",
     "start_time": "2022-12-18T08:46:12.951220Z"
    }
   },
   "outputs": [],
   "source": [
    "! # 끝 시간 체크"
   ]
  },
  {
   "cell_type": "markdown",
   "id": "88b63096",
   "metadata": {},
   "source": [
    "### 풀이"
   ]
  },
  {
   "cell_type": "code",
   "execution_count": 1,
   "id": "3bd0d9de",
   "metadata": {
    "ExecuteTime": {
     "end_time": "2022-12-18T09:45:40.491796Z",
     "start_time": "2022-12-18T09:45:37.824645Z"
    }
   },
   "outputs": [
    {
     "name": "stdout",
     "output_type": "stream",
     "text": [
      "2\n",
      "AAA\n",
      "AAA\n",
      "1998\n"
     ]
    }
   ],
   "source": [
    "from collections import defaultdict\n",
    "import sys\n",
    "# input = sys.stdin.readline\n",
    "abc=[input().rstrip() for _ in range(int(input()))]\n",
    "abc_dict=defaultdict(int)\n",
    "ans=0\n",
    "for word in abc:\n",
    "    word_len = len(word)\n",
    "    for i in range(word_len):\n",
    "        abc_dict[word[i]]+= 10**(word_len-1-i)\n",
    "\n",
    "abc_descending = sorted(abc_dict.items(), key=lambda x:x[1])[::-1]\n",
    "for i,abc_num in enumerate(abc_descending):\n",
    "    ans+=abc_num[1]*(9-i)\n",
    "print(ans)"
   ]
  },
  {
   "cell_type": "markdown",
   "id": "c73eee2a",
   "metadata": {},
   "source": [
    "### 주석 달린 풀이"
   ]
  },
  {
   "cell_type": "code",
   "execution_count": 1,
   "id": "86112f06",
   "metadata": {
    "ExecuteTime": {
     "end_time": "2022-12-18T09:45:40.491796Z",
     "start_time": "2022-12-18T09:45:37.824645Z"
    }
   },
   "outputs": [
    {
     "name": "stdout",
     "output_type": "stream",
     "text": [
      "2\n",
      "AAA\n",
      "AAA\n",
      "1998\n"
     ]
    }
   ],
   "source": [
    "from collections import defaultdict\n",
    "import sys\n",
    "# input = sys.stdin.readline\n",
    "abc=[input().rstrip() for _ in range(int(input()))]\n",
    "abc_dict=defaultdict(int)\n",
    "ans=0\n",
    "for word in abc:\n",
    "    word_len = len(word)\n",
    "    for i in range(word_len):\n",
    "        abc_dict[word[i]]+= 10**(word_len-1-i)\n",
    "\n",
    "abc_descending = sorted(abc_dict.items(), key=lambda x:x[1])[::-1]\n",
    "for i,abc_num in enumerate(abc_descending):\n",
    "    ans+=abc_num[1]*(9-i)\n",
    "print(ans)"
   ]
  },
  {
   "cell_type": "code",
   "execution_count": 58,
   "id": "6532df5c",
   "metadata": {
    "ExecuteTime": {
     "end_time": "2022-12-18T09:28:25.815183Z",
     "start_time": "2022-12-18T09:28:23.002504Z"
    }
   },
   "outputs": [
    {
     "name": "stdout",
     "output_type": "stream",
     "text": [
      "2\n",
      "AAA\n",
      "AAA\n",
      "1998\n"
     ]
    }
   ],
   "source": [
    "from collections import defaultdict\n",
    "import sys\n",
    "input = sys.stdin.readline\n",
    "abc=[input().rstrip() for _ in range(int(input()))]\n",
    "abc_dict=defaultdict(int)\n",
    "ans=0\n",
    "for word in abc:\n",
    "    word_len = len(word)\n",
    "    for i in range(word_len):\n",
    "        abc_dict[word[i]]+= 10**(word_len-1-i)\n",
    "\n",
    "abc2num_dict={}\n",
    "abc_descending = sorted(abc_dict.items(), key=lambda x:x[1])[::-1]\n",
    "for i,alpha in enumerate(abc_descending,0):\n",
    "    abc2num_dict[alpha[0]] = str(9-i)\n",
    "    \n",
    "for word in abc:\n",
    "    num = int(\"\".join(list(map(lambda x:abc2num_dict[x],word))))\n",
    "    ans+=num\n",
    "print(ans)"
   ]
  },
  {
   "cell_type": "code",
   "execution_count": 64,
   "id": "e8682545",
   "metadata": {
    "ExecuteTime": {
     "end_time": "2022-12-18T09:44:20.115750Z",
     "start_time": "2022-12-18T09:44:20.111480Z"
    }
   },
   "outputs": [
    {
     "name": "stdout",
     "output_type": "stream",
     "text": [
      "0 1998\n"
     ]
    }
   ],
   "source": [
    "for i,abc_num in enumerate(abc_descending):\n",
    "    ans+=abc_num[1]*(9-i)"
   ]
  },
  {
   "cell_type": "markdown",
   "id": "8ed2b958",
   "metadata": {},
   "source": [
    "### 연습"
   ]
  },
  {
   "cell_type": "code",
   "execution_count": 22,
   "id": "9ef9e03d",
   "metadata": {
    "ExecuteTime": {
     "end_time": "2022-12-18T09:06:19.028034Z",
     "start_time": "2022-12-18T09:06:19.025128Z"
    }
   },
   "outputs": [],
   "source": [
    "from collections import defaultdict"
   ]
  },
  {
   "cell_type": "code",
   "execution_count": 21,
   "id": "ec705ae9",
   "metadata": {
    "ExecuteTime": {
     "end_time": "2022-12-18T09:06:18.843542Z",
     "start_time": "2022-12-18T09:06:18.839089Z"
    }
   },
   "outputs": [],
   "source": [
    "N=2\n",
    "abc=[\"GCF\",'ACDEB']"
   ]
  },
  {
   "cell_type": "code",
   "execution_count": 23,
   "id": "c4fed6fe",
   "metadata": {
    "ExecuteTime": {
     "end_time": "2022-12-18T09:06:19.243014Z",
     "start_time": "2022-12-18T09:06:19.241290Z"
    }
   },
   "outputs": [],
   "source": [
    "abc_dict=defaultdict(int)"
   ]
  },
  {
   "cell_type": "code",
   "execution_count": 24,
   "id": "a96af6f7",
   "metadata": {
    "ExecuteTime": {
     "end_time": "2022-12-18T09:06:19.475855Z",
     "start_time": "2022-12-18T09:06:19.469944Z"
    }
   },
   "outputs": [],
   "source": [
    "for word in abc:\n",
    "    word_len = len(word)\n",
    "    for i in range(word_len):\n",
    "        abc_dict[word[i]]+= 10**(word_len-1-i)"
   ]
  },
  {
   "cell_type": "code",
   "execution_count": 48,
   "id": "c636aa35",
   "metadata": {
    "ExecuteTime": {
     "end_time": "2022-12-18T09:24:54.185846Z",
     "start_time": "2022-12-18T09:24:54.180169Z"
    }
   },
   "outputs": [],
   "source": [
    "abc2num_dict={}\n",
    "\n",
    "abc_descending = sorted(abc_dict.items(), key=lambda x:x[1])[::-1]\n",
    "for i,alpha in enumerate(abc_descending,0):\n",
    "    abc2num_dict[alpha[0]] = str(9-i)"
   ]
  },
  {
   "cell_type": "code",
   "execution_count": 49,
   "id": "fd8745d7",
   "metadata": {
    "ExecuteTime": {
     "end_time": "2022-12-18T09:24:54.559625Z",
     "start_time": "2022-12-18T09:24:54.553649Z"
    }
   },
   "outputs": [
    {
     "data": {
      "text/plain": [
       "{'A': '9', 'C': '8', 'D': '7', 'G': '6', 'E': '5', 'B': '4', 'F': '3'}"
      ]
     },
     "execution_count": 49,
     "metadata": {},
     "output_type": "execute_result"
    }
   ],
   "source": [
    "abc2num_dict"
   ]
  },
  {
   "cell_type": "code",
   "execution_count": 56,
   "id": "bfcd3e58",
   "metadata": {
    "ExecuteTime": {
     "end_time": "2022-12-18T09:26:10.680759Z",
     "start_time": "2022-12-18T09:26:10.676058Z"
    }
   },
   "outputs": [],
   "source": [
    "ans=0\n",
    "for word in abc:\n",
    "    num = int(\"\".join(list(map(lambda x:abc2num_dict[x],word))))\n",
    "    ans+=num"
   ]
  },
  {
   "cell_type": "code",
   "execution_count": 57,
   "id": "0d43efe7",
   "metadata": {
    "ExecuteTime": {
     "end_time": "2022-12-18T09:26:11.628679Z",
     "start_time": "2022-12-18T09:26:11.621132Z"
    }
   },
   "outputs": [
    {
     "data": {
      "text/plain": [
       "99437"
      ]
     },
     "execution_count": 57,
     "metadata": {},
     "output_type": "execute_result"
    }
   ],
   "source": [
    "ans"
   ]
  }
 ],
 "metadata": {
  "kernelspec": {
   "display_name": "Python 3",
   "language": "python",
   "name": "python3"
  },
  "language_info": {
   "codemirror_mode": {
    "name": "ipython",
    "version": 3
   },
   "file_extension": ".py",
   "mimetype": "text/x-python",
   "name": "python",
   "nbconvert_exporter": "python",
   "pygments_lexer": "ipython3",
   "version": "3.8.12"
  },
  "toc": {
   "base_numbering": 1,
   "nav_menu": {},
   "number_sections": true,
   "sideBar": true,
   "skip_h1_title": false,
   "title_cell": "Table of Contents",
   "title_sidebar": "Contents",
   "toc_cell": false,
   "toc_position": {},
   "toc_section_display": true,
   "toc_window_display": false
  }
 },
 "nbformat": 4,
 "nbformat_minor": 5
}
