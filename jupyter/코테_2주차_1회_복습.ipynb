{
 "cells": [
  {
   "cell_type": "markdown",
   "id": "aa1d89cb",
   "metadata": {},
   "source": [
    "## 1697 숨바꼭질\n",
    " - 수빈이는 현재점 N, 동생은 K\n",
    " - 수빈이는 X-1, X+1, 2*X 중 한 개 선택 -> 1초사용\n",
    " - 수빈이가 동생의 위치에 가는 가장 빠른 초 출력\n",
    " - 생각해볼점\n",
    "    1. 처음 위치를 0으로 초기화하면 나중에 다시 방문해서 꼬일 가능성이 있지 않을까?<br>\n",
    "     처음 위치에서 시작해서 3가지 경우의수에 따라 다음 위치를 방문한다. <br>\n",
    "     다시 처음위치를 방문하려면, 처음위치에서 다른 위치를 방문하고 다시 처음위치를 와야 한다.<br>\n",
    "     이 때, 다시 처음위치에 방문한다면, 맨 처음에 처음위치에서 3가지 경우의 수를 이미 다 방문한 이후이기 때문에 신경쓰지 않아도 된다."
   ]
  },
  {
   "cell_type": "markdown",
   "id": "b47b16c3",
   "metadata": {},
   "source": [
    "### 제출 풀이"
   ]
  },
  {
   "cell_type": "code",
   "execution_count": null,
   "id": "681f9a56",
   "metadata": {},
   "outputs": [],
   "source": [
    "from collections import deque\n",
    "N, K = map(int,input().split())\n",
    "END=10**6 # N과 K의 최대값 10만\n",
    "visited=[0]*(END + 1) ## 인덱스를 바로 쓰기위해 +1\n",
    "Q=deque([N]) # 처음 위치\n",
    "visited[N]=0 # 처음 위치 초기화 \n",
    "while Q:\n",
    "    cur = Q.popleft()\n",
    "    if cur == K:\n",
    "        print(visited[cur])\n",
    "        break\n",
    "    for nx in (cur-1, cur+1, cur*2):\n",
    "        if (0 <= nx <= END) and not visited[nx]:\n",
    "            visited[nx]=visited[cur]+1\n",
    "            Q+=[nx]"
   ]
  },
  {
   "cell_type": "code",
   "execution_count": 53,
   "id": "78270989",
   "metadata": {
    "ExecuteTime": {
     "end_time": "2022-04-12T15:32:19.743193Z",
     "start_time": "2022-04-12T15:32:18.944675Z"
    }
   },
   "outputs": [
    {
     "name": "stdout",
     "output_type": "stream",
     "text": [
      "1 7\n",
      "1 번째: 0 방문\n",
      "1 번째: 2 방문\n",
      "2 번째: 1 방문\n",
      "2 번째: 3 방문\n",
      "2 번째: 4 방문\n",
      "3 번째: 6 방문\n",
      "3 번째: 5 방문\n",
      "3 번째: 8 방문\n",
      "4 번째: 7 방문\n",
      "4 번째: 12 방문\n",
      "4 번째: 10 방문\n",
      "4 번째: 9 방문\n",
      "4 번째: 16 방문\n",
      "4\n"
     ]
    }
   ],
   "source": [
    "from collections import deque\n",
    "N, K = map(int,input().split())\n",
    "END=10**6 # N과 K의 최대값 10만\n",
    "visited=[0]*(END + 1) ## 인덱스를 바로 쓰기위해 +1\n",
    "Q=deque([N]) # 처음 위치\n",
    "visited[N]=0 # 처음 위치 초기화 \n",
    "while Q:\n",
    "    cur = Q.popleft()\n",
    "    if cur == K:\n",
    "        print(visited[cur])\n",
    "        break\n",
    "    for nx in (cur-1, cur+1, cur*2):\n",
    "        if (0 <= nx <= END) and not visited[nx]:\n",
    "            visited[nx]=visited[cur]+1\n",
    "            print(f\"{visited[nx]} 번째: {nx} 방문\")\n",
    "            Q+=[nx]"
   ]
  },
  {
   "cell_type": "markdown",
   "id": "d8fdfe8f",
   "metadata": {},
   "source": [
    "## 1012 유기농 배추"
   ]
  },
  {
   "cell_type": "markdown",
   "id": "2b4971ba",
   "metadata": {},
   "source": [
    "### 제출 풀이"
   ]
  },
  {
   "cell_type": "code",
   "execution_count": 66,
   "id": "e7b35e58",
   "metadata": {
    "ExecuteTime": {
     "end_time": "2022-04-13T14:22:36.405404Z",
     "start_time": "2022-04-13T14:22:18.781344Z"
    }
   },
   "outputs": [
    {
     "name": "stdout",
     "output_type": "stream",
     "text": [
      "2\n",
      "10 10 1\n",
      "5 5\n",
      "1\n",
      "5 3 6\n",
      "0 2\n",
      "1 2\n",
      "2 2\n",
      "3 2\n",
      "4 2\n",
      "4 0\n",
      "2\n"
     ]
    }
   ],
   "source": [
    "from collections import deque\n",
    "import sys\n",
    "sys.setrecursionlimit(10000)\n",
    "dx=[0,0,-1,1]\n",
    "dy=[1,-1,0,0]\n",
    "\n",
    "def bfs(i,j):\n",
    "    Q = deque()\n",
    "    Q.append((i,j))\n",
    "    bat[i][j]=0\n",
    "    while Q:\n",
    "        x,y = Q.popleft()\n",
    "        for d in range(4):\n",
    "            nx = x + dx[d]\n",
    "            ny = y + dy[d]\n",
    "            if (0 <= nx < S) and (0 <= ny < G) and bat[nx][ny]==1:\n",
    "                bat[nx][ny]=0\n",
    "                Q.append((nx,ny))\n",
    "                    \n",
    "def dfs(i,j):\n",
    "    bat[i][j]=0\n",
    "    for d in range(4):\n",
    "        nx = i + dx[d]\n",
    "        ny = j + dy[d]\n",
    "        if (0 <= nx < S) and (0<= ny < G) and bat[nx][ny]==1:\n",
    "            dfs(nx,ny)\n",
    "\n",
    "T=int(input())\n",
    "for _ in range(T):\n",
    "    G,S,B = map(int,input().split())\n",
    "    bat = [[0]*G for _ in range(S)]\n",
    "    baechu = [list(map(int,input().split())) for _ in range(B)]\n",
    "    for y,x in baechu:\n",
    "        bat[x][y]=1\n",
    "    worm=0\n",
    "    for i in range(S): # 세로(행)\n",
    "        for j in range(G): # 가로(열)\n",
    "            if bat[i][j]==1:\n",
    "                bfs(i,j)\n",
    "                worm+=1\n",
    "    print(worm)"
   ]
  },
  {
   "cell_type": "code",
   "execution_count": 1,
   "id": "99f41f6c",
   "metadata": {
    "ExecuteTime": {
     "end_time": "2022-04-13T12:28:24.356269Z",
     "start_time": "2022-04-13T12:28:24.338898Z"
    }
   },
   "outputs": [],
   "source": [
    "T=2\n",
    "G,S,B = 10,8,17\n",
    "bat = [[0]*G for _ in range(S)]"
   ]
  },
  {
   "cell_type": "code",
   "execution_count": 4,
   "id": "c310c99e",
   "metadata": {
    "ExecuteTime": {
     "end_time": "2022-04-13T12:28:26.960669Z",
     "start_time": "2022-04-13T12:28:26.941648Z"
    }
   },
   "outputs": [
    {
     "data": {
      "text/plain": [
       "[[0, 0, 0, 0, 0, 0, 0, 0, 0, 0],\n",
       " [0, 0, 0, 0, 0, 0, 0, 0, 0, 0],\n",
       " [0, 0, 0, 0, 0, 0, 0, 0, 0, 0],\n",
       " [0, 0, 0, 0, 0, 0, 0, 0, 0, 0],\n",
       " [0, 0, 0, 0, 0, 0, 0, 0, 0, 0],\n",
       " [0, 0, 0, 0, 0, 0, 0, 0, 0, 0],\n",
       " [0, 0, 0, 0, 0, 0, 0, 0, 0, 0],\n",
       " [0, 0, 0, 0, 0, 0, 0, 0, 0, 0]]"
      ]
     },
     "execution_count": 4,
     "metadata": {},
     "output_type": "execute_result"
    }
   ],
   "source": [
    "bat"
   ]
  },
  {
   "cell_type": "code",
   "execution_count": 5,
   "id": "3a5c7679",
   "metadata": {
    "ExecuteTime": {
     "end_time": "2022-04-13T12:28:29.537282Z",
     "start_time": "2022-04-13T12:28:29.527292Z"
    }
   },
   "outputs": [],
   "source": [
    "# baechu = [list(map(int,input().split())) for _ range(B)]\n",
    "baechu =[[0, 0], [1, 0], [1, 1], [4, 2], [4, 3], [4, 5], [2, 4], [3, 4], [7, 4], [8, 4], [9, 4], [7, 5], [8, 5], [9, 5], [7, 6], [8, 6], [9, 6]]"
   ]
  },
  {
   "cell_type": "code",
   "execution_count": 6,
   "id": "71026f9f",
   "metadata": {
    "ExecuteTime": {
     "end_time": "2022-04-13T12:28:29.828501Z",
     "start_time": "2022-04-13T12:28:29.817855Z"
    }
   },
   "outputs": [
    {
     "data": {
      "text/plain": [
       "[[0, 0], [1, 0], [1, 1], [4, 2], [4, 3], [4, 5], [2, 4], [3, 4]]"
      ]
     },
     "execution_count": 6,
     "metadata": {},
     "output_type": "execute_result"
    }
   ],
   "source": [
    "baechu[:8]"
   ]
  },
  {
   "cell_type": "code",
   "execution_count": 30,
   "id": "4b95ad51",
   "metadata": {
    "ExecuteTime": {
     "end_time": "2022-04-13T13:31:32.157834Z",
     "start_time": "2022-04-13T13:31:32.150878Z"
    }
   },
   "outputs": [],
   "source": [
    "for y,x in baechu:\n",
    "    bat[x][y]=1"
   ]
  },
  {
   "cell_type": "code",
   "execution_count": 31,
   "id": "b518276d",
   "metadata": {
    "ExecuteTime": {
     "end_time": "2022-04-13T13:31:32.536428Z",
     "start_time": "2022-04-13T13:31:32.524047Z"
    }
   },
   "outputs": [
    {
     "data": {
      "text/plain": [
       "[[1, 1, 0, 0, 0, 0, 0, 0, 0, 0],\n",
       " [0, 1, 0, 0, 0, 0, 0, 0, 0, 0],\n",
       " [0, 0, 0, 0, 1, 0, 0, 0, 0, 0],\n",
       " [0, 0, 0, 0, 1, 0, 0, 0, 0, 0],\n",
       " [0, 0, 1, 1, 0, 0, 0, 1, 1, 1],\n",
       " [0, 0, 0, 0, 1, 0, 0, 1, 1, 1],\n",
       " [0, 0, 0, 0, 0, 0, 0, 1, 1, 1],\n",
       " [0, 0, 0, 0, 0, 0, 0, 0, 0, 0]]"
      ]
     },
     "execution_count": 31,
     "metadata": {},
     "output_type": "execute_result"
    }
   ],
   "source": [
    "bat"
   ]
  },
  {
   "cell_type": "code",
   "execution_count": 9,
   "id": "b1843ca0",
   "metadata": {
    "ExecuteTime": {
     "end_time": "2022-04-13T12:28:32.887120Z",
     "start_time": "2022-04-13T12:28:32.880752Z"
    }
   },
   "outputs": [],
   "source": [
    "from collections import deque"
   ]
  },
  {
   "cell_type": "code",
   "execution_count": 14,
   "id": "923abd0d",
   "metadata": {
    "ExecuteTime": {
     "end_time": "2022-04-13T13:23:03.601534Z",
     "start_time": "2022-04-13T13:23:03.588359Z"
    }
   },
   "outputs": [
    {
     "name": "stdout",
     "output_type": "stream",
     "text": [
      "0 1\n",
      "0 -1\n",
      "-1 0\n",
      "1 0\n"
     ]
    }
   ],
   "source": [
    "x=[0,0,-1,1]\n",
    "y=[1,-1,0,0]\n",
    "for a,b in zip(x,y):\n",
    "    print(a,b)"
   ]
  },
  {
   "cell_type": "code",
   "execution_count": 32,
   "id": "141a334f",
   "metadata": {
    "ExecuteTime": {
     "end_time": "2022-04-13T13:31:35.879954Z",
     "start_time": "2022-04-13T13:31:35.862179Z"
    }
   },
   "outputs": [
    {
     "data": {
      "text/plain": [
       "[[1, 1, 0, 0, 0, 0, 0, 0, 0, 0],\n",
       " [0, 1, 0, 0, 0, 0, 0, 0, 0, 0],\n",
       " [0, 0, 0, 0, 1, 0, 0, 0, 0, 0],\n",
       " [0, 0, 0, 0, 1, 0, 0, 0, 0, 0],\n",
       " [0, 0, 1, 1, 0, 0, 0, 1, 1, 1],\n",
       " [0, 0, 0, 0, 1, 0, 0, 1, 1, 1],\n",
       " [0, 0, 0, 0, 0, 0, 0, 1, 1, 1],\n",
       " [0, 0, 0, 0, 0, 0, 0, 0, 0, 0]]"
      ]
     },
     "execution_count": 32,
     "metadata": {},
     "output_type": "execute_result"
    }
   ],
   "source": [
    "bat"
   ]
  },
  {
   "cell_type": "markdown",
   "id": "925f7899",
   "metadata": {
    "ExecuteTime": {
     "end_time": "2022-04-12T15:17:31.334852Z",
     "start_time": "2022-04-12T15:17:31.320038Z"
    }
   },
   "source": [
    "## 1931 회의실 배정\n",
    "    - 각 회의에 대해, 끝시간, 시작시간 순으로 오름차순 정렬\n",
    "    - bf_end에 처음 시작한 회의가 끝나는 시간을 넣고,\n",
    "    - for문을 돌며, 다음 시작시간회의에 대해, 그 회의 끝나는 시간을 넣으며 반복.\n",
    "    - (제1 우선순위로 끝시간 오름차순, 2우선순위로 시작시간 오름차순 정렬이 되어있기 때문에 for문이 가능.)"
   ]
  },
  {
   "cell_type": "markdown",
   "id": "c99e6f51",
   "metadata": {},
   "source": [
    "### 제출 풀이"
   ]
  },
  {
   "cell_type": "code",
   "execution_count": null,
   "id": "583dfcfa",
   "metadata": {},
   "outputs": [],
   "source": [
    "N=int(input())\n",
    "schd = [list(map(int,input().split())) for _ in range(N)]\n",
    "schd_sort = sorted(schd,key=lambda x: (x[1],x[0]))\n",
    "bf_end = schd_sort[0][1]\n",
    "meet_num=1\n",
    "for meet in schd_sort[1:]:\n",
    "    if bf_end <= meet[0]:\n",
    "        bf_end = meet[1]\n",
    "        meet_num+=1\n",
    "print(meet_num)"
   ]
  },
  {
   "cell_type": "code",
   "execution_count": 67,
   "id": "903fbaef",
   "metadata": {
    "ExecuteTime": {
     "end_time": "2022-04-13T14:33:11.984931Z",
     "start_time": "2022-04-13T14:33:11.975951Z"
    }
   },
   "outputs": [],
   "source": [
    "N=11"
   ]
  },
  {
   "cell_type": "code",
   "execution_count": null,
   "id": "e82308e9",
   "metadata": {
    "ExecuteTime": {
     "end_time": "2022-04-19T10:11:26.889568Z",
     "start_time": "2022-04-19T10:11:23.655585Z"
    }
   },
   "outputs": [],
   "source": [
    "schd = [list(map(int,input().split())) for _ in range(N)]\n",
    "schd_sort = sorted(schd,key=lambda x: (x[1],x[0]))"
   ]
  },
  {
   "cell_type": "code",
   "execution_count": 76,
   "id": "4c69a788",
   "metadata": {
    "ExecuteTime": {
     "end_time": "2022-04-13T14:38:22.964885Z",
     "start_time": "2022-04-13T14:38:22.956848Z"
    }
   },
   "outputs": [],
   "source": [
    "bf_end = schd_sort[0][1]\n",
    "meet_num=1\n",
    "for meet in schd_sort[1:]:\n",
    "    if bf_end <= meet[0]:\n",
    "        bf_end = meet[1]\n",
    "        meet_num+=1\n",
    "\n",
    "print(meet_num)"
   ]
  },
  {
   "cell_type": "markdown",
   "id": "6c5d2a70",
   "metadata": {},
   "source": [
    "## 9251 LCS\n",
    "     - 최장 공통 부분 수열 : LCS - 모두의 부분 수열이 되는 수열 중 가장 긴 것\n",
    "     - 점화식 : 끝 부터 L[i] == "
   ]
  },
  {
   "cell_type": "code",
   "execution_count": null,
   "id": "c69defeb",
   "metadata": {},
   "outputs": [],
   "source": []
  },
  {
   "cell_type": "markdown",
   "id": "07e338dc",
   "metadata": {},
   "source": [
    "## 1764 듣보잡"
   ]
  },
  {
   "cell_type": "markdown",
   "id": "10d55fe1",
   "metadata": {},
   "source": [
    "### 제출풀이"
   ]
  },
  {
   "cell_type": "code",
   "execution_count": null,
   "id": "d3bf7605",
   "metadata": {},
   "outputs": [],
   "source": [
    "from collections import Counter\n",
    "N,M = map(int,input().split())\n",
    "deuddo = [input() for _ in range(N)]\n",
    "boddo = [input() for _ in range(M)]\n",
    "deudbojob = [k for k,v in (Counter(deuddo) + Counter(boddo)).items() if v == 2]\n",
    "deudbojob.sort()\n",
    "print(len(deudbojob))\n",
    "print(*deudbojob,sep='\\n')"
   ]
  },
  {
   "cell_type": "code",
   "execution_count": 4,
   "id": "d67190df",
   "metadata": {
    "ExecuteTime": {
     "end_time": "2022-04-19T03:55:44.060314Z",
     "start_time": "2022-04-19T03:55:44.053284Z"
    }
   },
   "outputs": [],
   "source": [
    "from collections import Counter"
   ]
  },
  {
   "cell_type": "code",
   "execution_count": 5,
   "id": "ed58149e",
   "metadata": {
    "ExecuteTime": {
     "end_time": "2022-04-19T03:57:11.547073Z",
     "start_time": "2022-04-19T03:56:52.708657Z"
    }
   },
   "outputs": [
    {
     "name": "stdout",
     "output_type": "stream",
     "text": [
      "ohhenrie\n",
      "charlie\n",
      "baesangwook\n",
      "obama\n",
      "baesangwook\n",
      "ohhenrie\n",
      "clinton\n"
     ]
    }
   ],
   "source": [
    "deuddo = [input() for _ in range(N)]\n",
    "boddo = [input() for _ in range(M)]"
   ]
  },
  {
   "cell_type": "code",
   "execution_count": 6,
   "id": "ff5af15a",
   "metadata": {
    "ExecuteTime": {
     "end_time": "2022-04-19T03:57:15.998977Z",
     "start_time": "2022-04-19T03:57:15.987976Z"
    }
   },
   "outputs": [
    {
     "data": {
      "text/plain": [
       "(['ohhenrie', 'charlie', 'baesangwook'],\n",
       " ['obama', 'baesangwook', 'ohhenrie', 'clinton'])"
      ]
     },
     "execution_count": 6,
     "metadata": {},
     "output_type": "execute_result"
    }
   ],
   "source": [
    "deuddo, boddo"
   ]
  },
  {
   "cell_type": "code",
   "execution_count": 12,
   "id": "47230c1b",
   "metadata": {
    "ExecuteTime": {
     "end_time": "2022-04-19T03:58:36.911850Z",
     "start_time": "2022-04-19T03:58:36.900850Z"
    }
   },
   "outputs": [],
   "source": [
    "deudbojob = [k for k,v in (Counter(deuddo) + Counter(boddo)).items() if v == 2]\n",
    "deudbojob.sort()"
   ]
  },
  {
   "cell_type": "code",
   "execution_count": 13,
   "id": "75f7cce3",
   "metadata": {
    "ExecuteTime": {
     "end_time": "2022-04-19T03:58:47.842203Z",
     "start_time": "2022-04-19T03:58:47.826201Z"
    }
   },
   "outputs": [
    {
     "name": "stdout",
     "output_type": "stream",
     "text": [
      "2\n",
      "baesangwook\n",
      "ohhenrie\n"
     ]
    }
   ],
   "source": [
    "print(len(deudbojob))\n",
    "print(*deudbojob,sep='\\n')"
   ]
  },
  {
   "cell_type": "markdown",
   "id": "5f384940",
   "metadata": {},
   "source": [
    "## 9012 괄호제거"
   ]
  },
  {
   "cell_type": "markdown",
   "id": "8a93cd0c",
   "metadata": {
    "ExecuteTime": {
     "end_time": "2022-04-19T10:49:46.876115Z",
     "start_time": "2022-04-19T10:49:46.869790Z"
    }
   },
   "source": [
    "### 제출풀이"
   ]
  },
  {
   "cell_type": "code",
   "execution_count": 79,
   "id": "f0c32133",
   "metadata": {
    "ExecuteTime": {
     "end_time": "2022-04-19T10:46:45.792043Z",
     "start_time": "2022-04-19T10:46:45.135189Z"
    }
   },
   "outputs": [
    {
     "name": "stdout",
     "output_type": "stream",
     "text": [
      "6\n"
     ]
    }
   ],
   "source": [
    "T=int(input())\n",
    "for _ in range(T):\n",
    "    brk=input()\n",
    "    pair='()'\n",
    "    while brk.count(pair):\n",
    "        brk = brk.replace(pair,'')\n",
    "    print(\"NO\" if brk else \"YES\")"
   ]
  },
  {
   "cell_type": "markdown",
   "id": "6edba224",
   "metadata": {},
   "source": [
    "### 숏코딩"
   ]
  },
  {
   "cell_type": "code",
   "execution_count": 113,
   "id": "cac06836",
   "metadata": {
    "ExecuteTime": {
     "end_time": "2022-04-19T10:58:53.056970Z",
     "start_time": "2022-04-19T10:58:48.634948Z"
    }
   },
   "outputs": [
    {
     "name": "stdout",
     "output_type": "stream",
     "text": [
      "3\n",
      "))\n",
      "NO\n",
      "()\n",
      "YES\n",
      "((\n",
      "NO\n"
     ]
    }
   ],
   "source": [
    "for _ in range(int(input())):\n",
    "    b=input()\n",
    "    while '()' in b:\n",
    "        b=b.replace('()','')\n",
    "    print(\"NO\" if brk else \"YES\")"
   ]
  },
  {
   "cell_type": "markdown",
   "id": "064e52b1",
   "metadata": {},
   "source": [
    "### 기존 풀이"
   ]
  },
  {
   "cell_type": "code",
   "execution_count": 116,
   "id": "7950350b",
   "metadata": {
    "ExecuteTime": {
     "end_time": "2022-04-19T12:21:46.075838Z",
     "start_time": "2022-04-19T12:21:45.011765Z"
    }
   },
   "outputs": [
    {
     "name": "stdout",
     "output_type": "stream",
     "text": [
      "1\n",
      "))\n",
      "NO\n"
     ]
    }
   ],
   "source": [
    "T = int(input()) ## 테스트케이스\n",
    "for _ in range(T):\n",
    "    brk_list=list(input()) ## 괄호 리스트\n",
    "    pair_check=0\n",
    "    for brk in brk_list:\n",
    "        if brk == '(':\n",
    "            pair_check+=1\n",
    "        elif brk ==')':\n",
    "            pair_check-=1\n",
    "        if pair_check < 0:\n",
    "            print(\"NO\")\n",
    "            break\n",
    "    if pair_check > 0:\n",
    "        print(\"NO\")\n",
    "    elif pair_check==0:\n",
    "        print(\"YES\")"
   ]
  },
  {
   "cell_type": "code",
   "execution_count": 79,
   "id": "66f90608",
   "metadata": {
    "ExecuteTime": {
     "end_time": "2022-04-19T10:46:45.792043Z",
     "start_time": "2022-04-19T10:46:45.135189Z"
    }
   },
   "outputs": [
    {
     "name": "stdout",
     "output_type": "stream",
     "text": [
      "6\n"
     ]
    }
   ],
   "source": [
    "T=int(input())"
   ]
  },
  {
   "cell_type": "code",
   "execution_count": 80,
   "id": "12424070",
   "metadata": {
    "ExecuteTime": {
     "end_time": "2022-04-19T10:46:47.009051Z",
     "start_time": "2022-04-19T10:46:46.999292Z"
    }
   },
   "outputs": [
    {
     "data": {
      "text/plain": [
       "6"
      ]
     },
     "execution_count": 80,
     "metadata": {},
     "output_type": "execute_result"
    }
   ],
   "source": [
    "T"
   ]
  },
  {
   "cell_type": "code",
   "execution_count": 90,
   "id": "dc3d3777",
   "metadata": {
    "ExecuteTime": {
     "end_time": "2022-04-19T10:49:00.891037Z",
     "start_time": "2022-04-19T10:49:00.880807Z"
    }
   },
   "outputs": [],
   "source": [
    "brk = '(())())' # NO\n",
    "brk = '(()())((()))' #YES"
   ]
  },
  {
   "cell_type": "code",
   "execution_count": 93,
   "id": "dc949ecf",
   "metadata": {
    "ExecuteTime": {
     "end_time": "2022-04-19T10:49:04.767108Z",
     "start_time": "2022-04-19T10:49:04.759974Z"
    }
   },
   "outputs": [],
   "source": [
    "pair='()'"
   ]
  },
  {
   "cell_type": "code",
   "execution_count": 94,
   "id": "09f0bfe4",
   "metadata": {
    "ExecuteTime": {
     "end_time": "2022-04-19T10:49:05.179023Z",
     "start_time": "2022-04-19T10:49:05.172604Z"
    }
   },
   "outputs": [],
   "source": [
    "while brk.count(pair):\n",
    "    brk = brk.replace(pair,'')"
   ]
  },
  {
   "cell_type": "code",
   "execution_count": 95,
   "id": "e43162e2",
   "metadata": {
    "ExecuteTime": {
     "end_time": "2022-04-19T10:49:05.546609Z",
     "start_time": "2022-04-19T10:49:05.541446Z"
    }
   },
   "outputs": [],
   "source": [
    "print(\"NO\" if brk else \"YES\")"
   ]
  },
  {
   "cell_type": "markdown",
   "id": "69063b54",
   "metadata": {},
   "source": [
    "## 2503 숫자 야구"
   ]
  },
  {
   "cell_type": "code",
   "execution_count": null,
   "id": "460e3095",
   "metadata": {},
   "outputs": [],
   "source": []
  }
 ],
 "metadata": {
  "kernelspec": {
   "display_name": "Python 3",
   "language": "python",
   "name": "python3"
  },
  "language_info": {
   "codemirror_mode": {
    "name": "ipython",
    "version": 3
   },
   "file_extension": ".py",
   "mimetype": "text/x-python",
   "name": "python",
   "nbconvert_exporter": "python",
   "pygments_lexer": "ipython3",
   "version": "3.8.12"
  },
  "toc": {
   "base_numbering": 1,
   "nav_menu": {},
   "number_sections": true,
   "sideBar": true,
   "skip_h1_title": false,
   "title_cell": "Table of Contents",
   "title_sidebar": "Contents",
   "toc_cell": false,
   "toc_position": {},
   "toc_section_display": true,
   "toc_window_display": true
  }
 },
 "nbformat": 4,
 "nbformat_minor": 5
}
