{
 "cells": [
  {
   "cell_type": "markdown",
   "id": "aa1d89cb",
   "metadata": {},
   "source": [
    "## 1697 숨바꼭질\n",
    " - 수빈이는 현재점 N, 동생은 K\n",
    " - 수빈이는 X-1, X+1, 2*X 중 한 개 선택 -> 1초사용\n",
    " - 수빈이가 동생의 위치에 가는 가장 빠른 초 출력\n",
    " - 생각해볼점\n",
    "    1. 처음 위치를 0으로 초기화하면 나중에 다시 방문해서 꼬일 가능성이 있지 않을까?<br>\n",
    "     처음 위치에서 시작해서 3가지 경우의수에 따라 다음 위치를 방문한다. <br>\n",
    "     다시 처음위치를 방문하려면, 처음위치에서 다른 위치를 방문하고 다시 처음위치를 와야 한다.<br>\n",
    "     이 때, 다시 처음위치에 방문한다면, 맨 처음에 처음위치에서 3가지 경우의 수를 이미 다 방문한 이후이기 때문에 신경쓰지 않아도 된다."
   ]
  },
  {
   "cell_type": "markdown",
   "id": "b47b16c3",
   "metadata": {},
   "source": [
    "### 제출 풀이"
   ]
  },
  {
   "cell_type": "code",
   "execution_count": null,
   "id": "681f9a56",
   "metadata": {},
   "outputs": [],
   "source": [
    "from collections import deque\n",
    "N, K = map(int,input().split())\n",
    "END=10**6 # N과 K의 최대값 10만\n",
    "visited=[0]*(END + 1) ## 인덱스를 바로 쓰기위해 +1\n",
    "Q=deque([N]) # 처음 위치\n",
    "visited[N]=0 # 처음 위치 초기화 \n",
    "while Q:\n",
    "    cur = Q.popleft()\n",
    "    if cur == K:\n",
    "        print(visited[cur])\n",
    "        break\n",
    "    for nx in (cur-1, cur+1, cur*2):\n",
    "        if (0 <= nx <= END) and not visited[nx]:\n",
    "            visited[nx]=visited[cur]+1\n",
    "            Q+=[nx]"
   ]
  },
  {
   "cell_type": "code",
   "execution_count": 53,
   "id": "78270989",
   "metadata": {
    "ExecuteTime": {
     "end_time": "2022-04-12T15:32:19.743193Z",
     "start_time": "2022-04-12T15:32:18.944675Z"
    }
   },
   "outputs": [
    {
     "name": "stdout",
     "output_type": "stream",
     "text": [
      "1 7\n",
      "1 번째: 0 방문\n",
      "1 번째: 2 방문\n",
      "2 번째: 1 방문\n",
      "2 번째: 3 방문\n",
      "2 번째: 4 방문\n",
      "3 번째: 6 방문\n",
      "3 번째: 5 방문\n",
      "3 번째: 8 방문\n",
      "4 번째: 7 방문\n",
      "4 번째: 12 방문\n",
      "4 번째: 10 방문\n",
      "4 번째: 9 방문\n",
      "4 번째: 16 방문\n",
      "4\n"
     ]
    }
   ],
   "source": [
    "from collections import deque\n",
    "N, K = map(int,input().split())\n",
    "END=10**6 # N과 K의 최대값 10만\n",
    "visited=[0]*(END + 1) ## 인덱스를 바로 쓰기위해 +1\n",
    "Q=deque([N]) # 처음 위치\n",
    "visited[N]=0 # 처음 위치 초기화 \n",
    "while Q:\n",
    "    cur = Q.popleft()\n",
    "    if cur == K:\n",
    "        print(visited[cur])\n",
    "        break\n",
    "    for nx in (cur-1, cur+1, cur*2):\n",
    "        if (0 <= nx <= END) and not visited[nx]:\n",
    "            visited[nx]=visited[cur]+1\n",
    "            print(f\"{visited[nx]} 번째: {nx} 방문\")\n",
    "            Q+=[nx]"
   ]
  },
  {
   "cell_type": "markdown",
   "id": "d8fdfe8f",
   "metadata": {},
   "source": [
    "## 1012 유기농 배추"
   ]
  },
  {
   "cell_type": "markdown",
   "id": "2b4971ba",
   "metadata": {},
   "source": [
    "### 제출 풀이"
   ]
  },
  {
   "cell_type": "code",
   "execution_count": 66,
   "id": "e7b35e58",
   "metadata": {
    "ExecuteTime": {
     "end_time": "2022-04-13T14:22:36.405404Z",
     "start_time": "2022-04-13T14:22:18.781344Z"
    }
   },
   "outputs": [
    {
     "name": "stdout",
     "output_type": "stream",
     "text": [
      "2\n",
      "10 10 1\n",
      "5 5\n",
      "1\n",
      "5 3 6\n",
      "0 2\n",
      "1 2\n",
      "2 2\n",
      "3 2\n",
      "4 2\n",
      "4 0\n",
      "2\n"
     ]
    }
   ],
   "source": [
    "from collections import deque\n",
    "import sys\n",
    "sys.setrecursionlimit(10000)\n",
    "dx=[0,0,-1,1]\n",
    "dy=[1,-1,0,0]\n",
    "\n",
    "def bfs(i,j):\n",
    "    Q = deque()\n",
    "    Q.append((i,j))\n",
    "    bat[i][j]=0\n",
    "    while Q:\n",
    "        x,y = Q.popleft()\n",
    "        for d in range(4):\n",
    "            nx = x + dx[d]\n",
    "            ny = y + dy[d]\n",
    "            if (0 <= nx < S) and (0 <= ny < G) and bat[nx][ny]==1:\n",
    "                bat[nx][ny]=0\n",
    "                Q.append((nx,ny))\n",
    "                    \n",
    "def dfs(i,j):\n",
    "    bat[i][j]=0\n",
    "    for d in range(4):\n",
    "        nx = i + dx[d]\n",
    "        ny = j + dy[d]\n",
    "        if (0 <= nx < S) and (0<= ny < G) and bat[nx][ny]==1:\n",
    "            dfs(nx,ny)\n",
    "\n",
    "T=int(input())\n",
    "for _ in range(T):\n",
    "    G,S,B = map(int,input().split())\n",
    "    bat = [[0]*G for _ in range(S)]\n",
    "    baechu = [list(map(int,input().split())) for _ in range(B)]\n",
    "    for y,x in baechu:\n",
    "        bat[x][y]=1\n",
    "    worm=0\n",
    "    for i in range(S): # 세로(행)\n",
    "        for j in range(G): # 가로(열)\n",
    "            if bat[i][j]==1:\n",
    "                bfs(i,j)\n",
    "                worm+=1\n",
    "    print(worm)"
   ]
  },
  {
   "cell_type": "code",
   "execution_count": 1,
   "id": "99f41f6c",
   "metadata": {
    "ExecuteTime": {
     "end_time": "2022-04-13T12:28:24.356269Z",
     "start_time": "2022-04-13T12:28:24.338898Z"
    }
   },
   "outputs": [],
   "source": [
    "T=2\n",
    "G,S,B = 10,8,17\n",
    "bat = [[0]*G for _ in range(S)]"
   ]
  },
  {
   "cell_type": "code",
   "execution_count": 4,
   "id": "c310c99e",
   "metadata": {
    "ExecuteTime": {
     "end_time": "2022-04-13T12:28:26.960669Z",
     "start_time": "2022-04-13T12:28:26.941648Z"
    }
   },
   "outputs": [
    {
     "data": {
      "text/plain": [
       "[[0, 0, 0, 0, 0, 0, 0, 0, 0, 0],\n",
       " [0, 0, 0, 0, 0, 0, 0, 0, 0, 0],\n",
       " [0, 0, 0, 0, 0, 0, 0, 0, 0, 0],\n",
       " [0, 0, 0, 0, 0, 0, 0, 0, 0, 0],\n",
       " [0, 0, 0, 0, 0, 0, 0, 0, 0, 0],\n",
       " [0, 0, 0, 0, 0, 0, 0, 0, 0, 0],\n",
       " [0, 0, 0, 0, 0, 0, 0, 0, 0, 0],\n",
       " [0, 0, 0, 0, 0, 0, 0, 0, 0, 0]]"
      ]
     },
     "execution_count": 4,
     "metadata": {},
     "output_type": "execute_result"
    }
   ],
   "source": [
    "bat"
   ]
  },
  {
   "cell_type": "code",
   "execution_count": 5,
   "id": "3a5c7679",
   "metadata": {
    "ExecuteTime": {
     "end_time": "2022-04-13T12:28:29.537282Z",
     "start_time": "2022-04-13T12:28:29.527292Z"
    }
   },
   "outputs": [],
   "source": [
    "# baechu = [list(map(int,input().split())) for _ range(B)]\n",
    "baechu =[[0, 0], [1, 0], [1, 1], [4, 2], [4, 3], [4, 5], [2, 4], [3, 4], [7, 4], [8, 4], [9, 4], [7, 5], [8, 5], [9, 5], [7, 6], [8, 6], [9, 6]]"
   ]
  },
  {
   "cell_type": "code",
   "execution_count": 6,
   "id": "71026f9f",
   "metadata": {
    "ExecuteTime": {
     "end_time": "2022-04-13T12:28:29.828501Z",
     "start_time": "2022-04-13T12:28:29.817855Z"
    }
   },
   "outputs": [
    {
     "data": {
      "text/plain": [
       "[[0, 0], [1, 0], [1, 1], [4, 2], [4, 3], [4, 5], [2, 4], [3, 4]]"
      ]
     },
     "execution_count": 6,
     "metadata": {},
     "output_type": "execute_result"
    }
   ],
   "source": [
    "baechu[:8]"
   ]
  },
  {
   "cell_type": "code",
   "execution_count": 30,
   "id": "4b95ad51",
   "metadata": {
    "ExecuteTime": {
     "end_time": "2022-04-13T13:31:32.157834Z",
     "start_time": "2022-04-13T13:31:32.150878Z"
    }
   },
   "outputs": [],
   "source": [
    "for y,x in baechu:\n",
    "    bat[x][y]=1"
   ]
  },
  {
   "cell_type": "code",
   "execution_count": 31,
   "id": "b518276d",
   "metadata": {
    "ExecuteTime": {
     "end_time": "2022-04-13T13:31:32.536428Z",
     "start_time": "2022-04-13T13:31:32.524047Z"
    }
   },
   "outputs": [
    {
     "data": {
      "text/plain": [
       "[[1, 1, 0, 0, 0, 0, 0, 0, 0, 0],\n",
       " [0, 1, 0, 0, 0, 0, 0, 0, 0, 0],\n",
       " [0, 0, 0, 0, 1, 0, 0, 0, 0, 0],\n",
       " [0, 0, 0, 0, 1, 0, 0, 0, 0, 0],\n",
       " [0, 0, 1, 1, 0, 0, 0, 1, 1, 1],\n",
       " [0, 0, 0, 0, 1, 0, 0, 1, 1, 1],\n",
       " [0, 0, 0, 0, 0, 0, 0, 1, 1, 1],\n",
       " [0, 0, 0, 0, 0, 0, 0, 0, 0, 0]]"
      ]
     },
     "execution_count": 31,
     "metadata": {},
     "output_type": "execute_result"
    }
   ],
   "source": [
    "bat"
   ]
  },
  {
   "cell_type": "code",
   "execution_count": 9,
   "id": "b1843ca0",
   "metadata": {
    "ExecuteTime": {
     "end_time": "2022-04-13T12:28:32.887120Z",
     "start_time": "2022-04-13T12:28:32.880752Z"
    }
   },
   "outputs": [],
   "source": [
    "from collections import deque"
   ]
  },
  {
   "cell_type": "code",
   "execution_count": 14,
   "id": "923abd0d",
   "metadata": {
    "ExecuteTime": {
     "end_time": "2022-04-13T13:23:03.601534Z",
     "start_time": "2022-04-13T13:23:03.588359Z"
    }
   },
   "outputs": [
    {
     "name": "stdout",
     "output_type": "stream",
     "text": [
      "0 1\n",
      "0 -1\n",
      "-1 0\n",
      "1 0\n"
     ]
    }
   ],
   "source": [
    "x=[0,0,-1,1]\n",
    "y=[1,-1,0,0]\n",
    "for a,b in zip(x,y):\n",
    "    print(a,b)"
   ]
  },
  {
   "cell_type": "code",
   "execution_count": 32,
   "id": "141a334f",
   "metadata": {
    "ExecuteTime": {
     "end_time": "2022-04-13T13:31:35.879954Z",
     "start_time": "2022-04-13T13:31:35.862179Z"
    }
   },
   "outputs": [
    {
     "data": {
      "text/plain": [
       "[[1, 1, 0, 0, 0, 0, 0, 0, 0, 0],\n",
       " [0, 1, 0, 0, 0, 0, 0, 0, 0, 0],\n",
       " [0, 0, 0, 0, 1, 0, 0, 0, 0, 0],\n",
       " [0, 0, 0, 0, 1, 0, 0, 0, 0, 0],\n",
       " [0, 0, 1, 1, 0, 0, 0, 1, 1, 1],\n",
       " [0, 0, 0, 0, 1, 0, 0, 1, 1, 1],\n",
       " [0, 0, 0, 0, 0, 0, 0, 1, 1, 1],\n",
       " [0, 0, 0, 0, 0, 0, 0, 0, 0, 0]]"
      ]
     },
     "execution_count": 32,
     "metadata": {},
     "output_type": "execute_result"
    }
   ],
   "source": [
    "bat"
   ]
  },
  {
   "cell_type": "markdown",
   "id": "925f7899",
   "metadata": {
    "ExecuteTime": {
     "end_time": "2022-04-12T15:17:31.334852Z",
     "start_time": "2022-04-12T15:17:31.320038Z"
    }
   },
   "source": [
    "## 1931 회의실 배정\n",
    "    - 각 회의에 대해, 끝시간, 시작시간 순으로 오름차순 정렬\n",
    "    - bf_end에 처음 시작한 회의가 끝나는 시간을 넣고,\n",
    "    - for문을 돌며, 다음 시작시간회의에 대해, 그 회의 끝나는 시간을 넣으며 반복.\n",
    "    - (제1 우선순위로 끝시간 오름차순, 2우선순위로 시작시간 오름차순 정렬이 되어있기 때문에 for문이 가능.)"
   ]
  },
  {
   "cell_type": "markdown",
   "id": "c99e6f51",
   "metadata": {},
   "source": [
    "### 제출 풀이"
   ]
  },
  {
   "cell_type": "code",
   "execution_count": null,
   "id": "583dfcfa",
   "metadata": {},
   "outputs": [],
   "source": [
    "N=int(input())\n",
    "schd = [list(map(int,input().split())) for _ in range(N)]\n",
    "schd_sort = sorted(schd,key=lambda x: (x[1],x[0]))\n",
    "bf_end = schd_sort[0][1]\n",
    "meet_num=1\n",
    "for meet in schd_sort[1:]:\n",
    "    if bf_end <= meet[0]:\n",
    "        bf_end = meet[1]\n",
    "        meet_num+=1\n",
    "print(meet_num)"
   ]
  },
  {
   "cell_type": "code",
   "execution_count": 67,
   "id": "903fbaef",
   "metadata": {
    "ExecuteTime": {
     "end_time": "2022-04-13T14:33:11.984931Z",
     "start_time": "2022-04-13T14:33:11.975951Z"
    }
   },
   "outputs": [],
   "source": [
    "N=11"
   ]
  },
  {
   "cell_type": "code",
   "execution_count": null,
   "id": "e82308e9",
   "metadata": {
    "ExecuteTime": {
     "end_time": "2022-04-19T10:11:26.889568Z",
     "start_time": "2022-04-19T10:11:23.655585Z"
    }
   },
   "outputs": [],
   "source": [
    "schd = [list(map(int,input().split())) for _ in range(N)]\n",
    "schd_sort = sorted(schd,key=lambda x: (x[1],x[0]))"
   ]
  },
  {
   "cell_type": "code",
   "execution_count": 76,
   "id": "4c69a788",
   "metadata": {
    "ExecuteTime": {
     "end_time": "2022-04-13T14:38:22.964885Z",
     "start_time": "2022-04-13T14:38:22.956848Z"
    }
   },
   "outputs": [],
   "source": [
    "bf_end = schd_sort[0][1]\n",
    "meet_num=1\n",
    "for meet in schd_sort[1:]:\n",
    "    if bf_end <= meet[0]:\n",
    "        bf_end = meet[1]\n",
    "        meet_num+=1\n",
    "\n",
    "print(meet_num)"
   ]
  },
  {
   "attachments": {
    "image.png": {
     "image/png": "[encoded data removed]"
    }
   },
   "cell_type": "markdown",
   "id": "6c5d2a70",
   "metadata": {},
   "source": [
    "## 9251 LCS\n",
    "     - 최장 공통 부분 수열 : LCS - 모두의 부분 수열이 되는 수열 중 가장 긴 것\n",
    "     - 점화식 : 끝 부터 L[i] == \n",
    "![image.png](attachment:image.png)\n",
    "\n",
    "    - 모두의 부분 수열이 되는 수열 중 가장 긴 것을 찾는 문제이다. 예를 들어, ACAYKP와 CAPCAK의 LCS는 ACAK, LCS의 길이를 출력하라"
   ]
  },
  {
   "cell_type": "markdown",
   "id": "34fced6e",
   "metadata": {},
   "source": [
    "### 제출풀이"
   ]
  },
  {
   "cell_type": "code",
   "execution_count": null,
   "id": "4ac65d18",
   "metadata": {},
   "outputs": [],
   "source": [
    "import sys\n",
    "input=sys.stdin.readline\n",
    "s1=input().strip()\n",
    "s2=input().strip()\n",
    "dp_table = [[0] * (len(s2)+1) for _ in range(len(s1)+1)]\n",
    "for i in range(1,len(s1)+1):\n",
    "    for j in range(1,len(s2)+1):\n",
    "        if s1[i-1]==s2[j-1]:\n",
    "            dp_table[i][j] = dp_table[i-1][j-1]+1\n",
    "        else:\n",
    "            dp_table[i][j] = max(dp_table[i-1][j],dp_table[i][j-1])\n",
    "print(dp_table[-1][-1])"
   ]
  },
  {
   "cell_type": "code",
   "execution_count": null,
   "id": "fa1b92d3",
   "metadata": {},
   "outputs": [],
   "source": []
  },
  {
   "cell_type": "code",
   "execution_count": 14,
   "id": "c69defeb",
   "metadata": {
    "ExecuteTime": {
     "end_time": "2022-04-22T09:12:12.303053Z",
     "start_time": "2022-04-22T09:12:03.733953Z"
    }
   },
   "outputs": [
    {
     "name": "stdout",
     "output_type": "stream",
     "text": [
      "ACAYKP\n",
      "CAPCAK\n"
     ]
    }
   ],
   "source": [
    "s1=input()\n",
    "s2=input()"
   ]
  },
  {
   "cell_type": "code",
   "execution_count": 6,
   "id": "18ebca19",
   "metadata": {
    "ExecuteTime": {
     "end_time": "2022-04-22T11:15:10.241903Z",
     "start_time": "2022-04-22T11:15:10.233421Z"
    }
   },
   "outputs": [],
   "source": [
    "s1 = 'ACAYKP'\n",
    "s2 = 'CAPCAK'"
   ]
  },
  {
   "cell_type": "code",
   "execution_count": 7,
   "id": "63ed8b35",
   "metadata": {
    "ExecuteTime": {
     "end_time": "2022-04-22T11:15:10.986208Z",
     "start_time": "2022-04-22T11:15:10.974155Z"
    }
   },
   "outputs": [
    {
     "data": {
      "text/plain": [
       "[[0, 0, 0, 0, 0, 0, 0],\n",
       " [0, 0, 0, 0, 0, 0, 0],\n",
       " [0, 0, 0, 0, 0, 0, 0],\n",
       " [0, 0, 0, 0, 0, 0, 0],\n",
       " [0, 0, 0, 0, 0, 0, 0],\n",
       " [0, 0, 0, 0, 0, 0, 0],\n",
       " [0, 0, 0, 0, 0, 0, 0]]"
      ]
     },
     "execution_count": 7,
     "metadata": {},
     "output_type": "execute_result"
    }
   ],
   "source": [
    "[[0] * (len(s1)+1) for _ in range(len(s2)+1)]"
   ]
  },
  {
   "cell_type": "code",
   "execution_count": 155,
   "id": "e3a16103",
   "metadata": {
    "ExecuteTime": {
     "end_time": "2022-04-22T15:08:11.474438Z",
     "start_time": "2022-04-22T15:08:11.465156Z"
    }
   },
   "outputs": [],
   "source": [
    "s1 = 'A'\n",
    "s2 = 'B'"
   ]
  },
  {
   "cell_type": "code",
   "execution_count": 156,
   "id": "0837c516",
   "metadata": {
    "ExecuteTime": {
     "end_time": "2022-04-22T15:08:11.672075Z",
     "start_time": "2022-04-22T15:08:11.665815Z"
    }
   },
   "outputs": [],
   "source": [
    "dp_table = [[0] * (len(s2)+1) for _ in range(len(s1)+1)]"
   ]
  },
  {
   "cell_type": "code",
   "execution_count": 157,
   "id": "429f5cfb",
   "metadata": {
    "ExecuteTime": {
     "end_time": "2022-04-22T15:08:11.981339Z",
     "start_time": "2022-04-22T15:08:11.974164Z"
    }
   },
   "outputs": [],
   "source": [
    "for i in range(1,len(s1)+1):\n",
    "    for j in range(1,len(s2)+1):\n",
    "        if s1[i-1]==s2[j-1]:\n",
    "            dp_table[i][j] = dp_table[i-1][j-1]+1\n",
    "        else:\n",
    "            dp_table[i][j] = max(dp_table[i-1][j],dp_table[i][j-1])"
   ]
  },
  {
   "cell_type": "code",
   "execution_count": 158,
   "id": "bb7b86e9",
   "metadata": {
    "ExecuteTime": {
     "end_time": "2022-04-22T15:08:12.282232Z",
     "start_time": "2022-04-22T15:08:12.277155Z"
    }
   },
   "outputs": [
    {
     "name": "stdout",
     "output_type": "stream",
     "text": [
      "0\n"
     ]
    }
   ],
   "source": [
    "print(dp_table[-1][-1])"
   ]
  },
  {
   "cell_type": "code",
   "execution_count": 159,
   "id": "8eb4d665",
   "metadata": {
    "ExecuteTime": {
     "end_time": "2022-04-22T15:08:12.989066Z",
     "start_time": "2022-04-22T15:08:12.976074Z"
    }
   },
   "outputs": [],
   "source": [
    "i=len(dp_table)-1\n",
    "j=len(dp_table[0])-1\n",
    "result = dp_table[-1][-1]\n",
    "if result:\n",
    "    idx_list=[]\n",
    "    while i>0 and j>0:\n",
    "        cur=dp_table[i][j]\n",
    "        up=dp_table[i-1][j]\n",
    "        left=dp_table[i][j-1]\n",
    "        dig=dp_table[i-1][j-1]\n",
    "        if cur==left:\n",
    "            j-=1\n",
    "        elif cur==up:\n",
    "            i-=1\n",
    "        elif cur-1==dig:\n",
    "            idx_list+=[(i,j)]\n",
    "            i-=1;j-=1\n",
    "    print(''.join(reversed([s2[i[1]-1] for i in idx_list])))"
   ]
  },
  {
   "cell_type": "code",
   "execution_count": 160,
   "id": "bfba4272",
   "metadata": {
    "ExecuteTime": {
     "end_time": "2022-04-22T15:08:14.184090Z",
     "start_time": "2022-04-22T15:08:14.171072Z"
    }
   },
   "outputs": [
    {
     "data": {
      "text/plain": [
       "[(1, 3)]"
      ]
     },
     "execution_count": 160,
     "metadata": {},
     "output_type": "execute_result"
    }
   ],
   "source": [
    "idx_list"
   ]
  },
  {
   "cell_type": "code",
   "execution_count": 110,
   "id": "395e036d",
   "metadata": {
    "ExecuteTime": {
     "end_time": "2022-04-22T14:50:56.924078Z",
     "start_time": "2022-04-22T14:50:56.915589Z"
    }
   },
   "outputs": [
    {
     "data": {
      "text/plain": [
       "'CAPCAK'"
      ]
     },
     "execution_count": 110,
     "metadata": {},
     "output_type": "execute_result"
    }
   ],
   "source": [
    "s2"
   ]
  },
  {
   "cell_type": "code",
   "execution_count": 113,
   "id": "727677a2",
   "metadata": {
    "ExecuteTime": {
     "end_time": "2022-04-22T14:51:35.300908Z",
     "start_time": "2022-04-22T14:51:35.292573Z"
    }
   },
   "outputs": [
    {
     "name": "stdout",
     "output_type": "stream",
     "text": [
      "ACAK\n"
     ]
    }
   ],
   "source": [
    "print(''.join(reversed([s2[i[1]-1] for i in idx_list])))"
   ]
  },
  {
   "cell_type": "code",
   "execution_count": 139,
   "id": "c7caf858",
   "metadata": {
    "ExecuteTime": {
     "end_time": "2022-04-22T15:00:47.370712Z",
     "start_time": "2022-04-22T15:00:47.357731Z"
    }
   },
   "outputs": [
    {
     "name": "stdout",
     "output_type": "stream",
     "text": [
      "CAPA\n"
     ]
    }
   ],
   "source": [
    "print(''.join(reversed([s1[i[0]-1] for i in idx_list])))"
   ]
  },
  {
   "cell_type": "code",
   "execution_count": 73,
   "id": "b6673072",
   "metadata": {
    "ExecuteTime": {
     "end_time": "2022-04-22T11:46:17.492629Z",
     "start_time": "2022-04-22T11:46:17.481248Z"
    }
   },
   "outputs": [],
   "source": [
    "\n",
    "idx_list=[]\n",
    "for j in range(len(s2),0,-1):\n",
    "    for i in range(len(s1),0,-1):\n",
    "        cur=dp_table[i][j]\n",
    "        lft=dp_table[i-1][j]\n",
    "        rgt=dp_table[i][j-1]\n",
    "        if cur-1==lft and cur-1==rgt and lft==result-1:\n",
    "            result-=1\n",
    "            idx_list+=[j]\n",
    "print(''.join(reversed([s2[i-1] for i in idx_list])))"
   ]
  },
  {
   "cell_type": "code",
   "execution_count": 62,
   "id": "e7f678b6",
   "metadata": {
    "ExecuteTime": {
     "end_time": "2022-04-22T11:37:30.835400Z",
     "start_time": "2022-04-22T11:37:30.824900Z"
    }
   },
   "outputs": [
    {
     "data": {
      "text/plain": [
       "['K', 'A', 'A', 'C']"
      ]
     },
     "execution_count": 62,
     "metadata": {},
     "output_type": "execute_result"
    }
   ],
   "source": [
    "[s2[i[1]] for i in idx_list]"
   ]
  },
  {
   "cell_type": "code",
   "execution_count": 59,
   "id": "06340108",
   "metadata": {
    "ExecuteTime": {
     "end_time": "2022-04-22T11:37:07.885078Z",
     "start_time": "2022-04-22T11:37:07.875101Z"
    }
   },
   "outputs": [
    {
     "data": {
      "text/plain": [
       "[(4, 5), (2, 4), (2, 1), (1, 0)]"
      ]
     },
     "execution_count": 59,
     "metadata": {},
     "output_type": "execute_result"
    }
   ],
   "source": [
    "idx_list"
   ]
  },
  {
   "cell_type": "code",
   "execution_count": 13,
   "id": "6dfe67b6",
   "metadata": {
    "ExecuteTime": {
     "end_time": "2022-04-22T11:21:28.561734Z",
     "start_time": "2022-04-22T11:21:28.548290Z"
    }
   },
   "outputs": [
    {
     "data": {
      "text/plain": [
       "[[0, 0, 0, 0, 0, 0, 0],\n",
       " [0, 0, 0, 0, 0, 0, 0],\n",
       " [0, 0, 0, 0, 0, 0, 0],\n",
       " [0, 0, 0, 0, 0, 0, 0],\n",
       " [0, 0, 0, 0, 0, 0, 0],\n",
       " [0, 0, 0, 0, 0, 0, 0],\n",
       " [0, 0, 0, 0, 0, 0, 0]]"
      ]
     },
     "execution_count": 13,
     "metadata": {},
     "output_type": "execute_result"
    }
   ],
   "source": [
    "track"
   ]
  },
  {
   "cell_type": "markdown",
   "id": "07e338dc",
   "metadata": {},
   "source": [
    "## 1764 듣보잡"
   ]
  },
  {
   "cell_type": "markdown",
   "id": "9dee86f3",
   "metadata": {},
   "source": [
    "### 제출풀이"
   ]
  },
  {
   "cell_type": "code",
   "execution_count": null,
   "id": "1eb4afb9",
   "metadata": {},
   "outputs": [],
   "source": [
    "from collections import Counter\n",
    "N,M = map(int,input().split())\n",
    "deuddo = [input() for _ in range(N)]\n",
    "boddo = [input() for _ in range(M)]\n",
    "deudbojob = [k for k,v in (Counter(deuddo) + Counter(boddo)).items() if v == 2]\n",
    "deudbojob.sort()\n",
    "print(len(deudbojob))\n",
    "print(*deudbojob,sep='\\n')"
   ]
  },
  {
   "cell_type": "code",
   "execution_count": 4,
   "id": "d67190df",
   "metadata": {
    "ExecuteTime": {
     "end_time": "2022-04-19T03:55:44.060314Z",
     "start_time": "2022-04-19T03:55:44.053284Z"
    }
   },
   "outputs": [],
   "source": [
    "from collections import Counter"
   ]
  },
  {
   "cell_type": "code",
   "execution_count": 5,
   "id": "ed58149e",
   "metadata": {
    "ExecuteTime": {
     "end_time": "2022-04-19T03:57:11.547073Z",
     "start_time": "2022-04-19T03:56:52.708657Z"
    }
   },
   "outputs": [
    {
     "name": "stdout",
     "output_type": "stream",
     "text": [
      "ohhenrie\n",
      "charlie\n",
      "baesangwook\n",
      "obama\n",
      "baesangwook\n",
      "ohhenrie\n",
      "clinton\n"
     ]
    }
   ],
   "source": [
    "deuddo = [input() for _ in range(N)]\n",
    "boddo = [input() for _ in range(M)]"
   ]
  },
  {
   "cell_type": "code",
   "execution_count": 6,
   "id": "ff5af15a",
   "metadata": {
    "ExecuteTime": {
     "end_time": "2022-04-19T03:57:15.998977Z",
     "start_time": "2022-04-19T03:57:15.987976Z"
    }
   },
   "outputs": [
    {
     "data": {
      "text/plain": [
       "(['ohhenrie', 'charlie', 'baesangwook'],\n",
       " ['obama', 'baesangwook', 'ohhenrie', 'clinton'])"
      ]
     },
     "execution_count": 6,
     "metadata": {},
     "output_type": "execute_result"
    }
   ],
   "source": [
    "deuddo, boddo"
   ]
  },
  {
   "cell_type": "code",
   "execution_count": 12,
   "id": "47230c1b",
   "metadata": {
    "ExecuteTime": {
     "end_time": "2022-04-19T03:58:36.911850Z",
     "start_time": "2022-04-19T03:58:36.900850Z"
    }
   },
   "outputs": [],
   "source": [
    "deudbojob = [k for k,v in (Counter(deuddo) + Counter(boddo)).items() if v == 2]\n",
    "deudbojob.sort()"
   ]
  },
  {
   "cell_type": "code",
   "execution_count": 13,
   "id": "75f7cce3",
   "metadata": {
    "ExecuteTime": {
     "end_time": "2022-04-19T03:58:47.842203Z",
     "start_time": "2022-04-19T03:58:47.826201Z"
    }
   },
   "outputs": [
    {
     "name": "stdout",
     "output_type": "stream",
     "text": [
      "2\n",
      "baesangwook\n",
      "ohhenrie\n"
     ]
    }
   ],
   "source": [
    "print(len(deudbojob))\n",
    "print(*deudbojob,sep='\\n')"
   ]
  },
  {
   "cell_type": "markdown",
   "id": "bc03caf4",
   "metadata": {},
   "source": [
    "## 9012 괄호제거"
   ]
  },
  {
   "cell_type": "markdown",
   "id": "84efb4fc",
   "metadata": {
    "ExecuteTime": {
     "end_time": "2022-04-19T10:49:46.876115Z",
     "start_time": "2022-04-19T10:49:46.869790Z"
    }
   },
   "source": [
    "### 제출풀이"
   ]
  },
  {
   "cell_type": "code",
   "execution_count": 79,
   "id": "e8770324",
   "metadata": {
    "ExecuteTime": {
     "end_time": "2022-04-19T10:46:45.792043Z",
     "start_time": "2022-04-19T10:46:45.135189Z"
    }
   },
   "outputs": [
    {
     "name": "stdout",
     "output_type": "stream",
     "text": [
      "6\n"
     ]
    }
   ],
   "source": [
    "T=int(input())\n",
    "for _ in range(T):\n",
    "    brk=input()\n",
    "    pair='()'\n",
    "    while brk.count(pair):\n",
    "        brk = brk.replace(pair,'')\n",
    "    print(\"NO\" if brk else \"YES\")"
   ]
  },
  {
   "cell_type": "markdown",
   "id": "f3518b93",
   "metadata": {},
   "source": [
    "### 숏코딩"
   ]
  },
  {
   "cell_type": "code",
   "execution_count": 113,
   "id": "b42a2972",
   "metadata": {
    "ExecuteTime": {
     "end_time": "2022-04-19T10:58:53.056970Z",
     "start_time": "2022-04-19T10:58:48.634948Z"
    }
   },
   "outputs": [
    {
     "name": "stdout",
     "output_type": "stream",
     "text": [
      "3\n",
      "))\n",
      "NO\n",
      "()\n",
      "YES\n",
      "((\n",
      "NO\n"
     ]
    }
   ],
   "source": [
    "for _ in range(int(input())):\n",
    "    b=input()\n",
    "    while '()' in b:\n",
    "        b=b.replace('()','')\n",
    "    print(\"NO\" if brk else \"YES\")"
   ]
  },
  {
   "cell_type": "markdown",
   "id": "565df707",
   "metadata": {},
   "source": [
    "### 기존 풀이"
   ]
  },
  {
   "cell_type": "code",
   "execution_count": 116,
   "id": "74014b8d",
   "metadata": {
    "ExecuteTime": {
     "end_time": "2022-04-19T12:21:46.075838Z",
     "start_time": "2022-04-19T12:21:45.011765Z"
    }
   },
   "outputs": [
    {
     "name": "stdout",
     "output_type": "stream",
     "text": [
      "1\n",
      "))\n",
      "NO\n"
     ]
    }
   ],
   "source": [
    "T = int(input()) ## 테스트케이스\n",
    "for _ in range(T):\n",
    "    brk_list=list(input()) ## 괄호 리스트\n",
    "    pair_check=0\n",
    "    for brk in brk_list:\n",
    "        if brk == '(':\n",
    "            pair_check+=1\n",
    "        elif brk ==')':\n",
    "            pair_check-=1\n",
    "        if pair_check < 0:\n",
    "            print(\"NO\")\n",
    "            break\n",
    "    if pair_check > 0:\n",
    "        print(\"NO\")\n",
    "    elif pair_check==0:\n",
    "        print(\"YES\")"
   ]
  },
  {
   "cell_type": "code",
   "execution_count": 79,
   "id": "f38fc906",
   "metadata": {
    "ExecuteTime": {
     "end_time": "2022-04-19T10:46:45.792043Z",
     "start_time": "2022-04-19T10:46:45.135189Z"
    }
   },
   "outputs": [
    {
     "name": "stdout",
     "output_type": "stream",
     "text": [
      "6\n"
     ]
    }
   ],
   "source": [
    "T=int(input())"
   ]
  },
  {
   "cell_type": "code",
   "execution_count": 80,
   "id": "1d2ab7f8",
   "metadata": {
    "ExecuteTime": {
     "end_time": "2022-04-19T10:46:47.009051Z",
     "start_time": "2022-04-19T10:46:46.999292Z"
    }
   },
   "outputs": [
    {
     "data": {
      "text/plain": [
       "6"
      ]
     },
     "execution_count": 80,
     "metadata": {},
     "output_type": "execute_result"
    }
   ],
   "source": [
    "T"
   ]
  },
  {
   "cell_type": "code",
   "execution_count": 90,
   "id": "2943fb29",
   "metadata": {
    "ExecuteTime": {
     "end_time": "2022-04-19T10:49:00.891037Z",
     "start_time": "2022-04-19T10:49:00.880807Z"
    }
   },
   "outputs": [],
   "source": [
    "brk = '(())())' # NO\n",
    "brk = '(()())((()))' #YES"
   ]
  },
  {
   "cell_type": "code",
   "execution_count": 93,
   "id": "56baf78e",
   "metadata": {
    "ExecuteTime": {
     "end_time": "2022-04-19T10:49:04.767108Z",
     "start_time": "2022-04-19T10:49:04.759974Z"
    }
   },
   "outputs": [],
   "source": [
    "pair='()'"
   ]
  },
  {
   "cell_type": "code",
   "execution_count": 94,
   "id": "ba17c693",
   "metadata": {
    "ExecuteTime": {
     "end_time": "2022-04-19T10:49:05.179023Z",
     "start_time": "2022-04-19T10:49:05.172604Z"
    }
   },
   "outputs": [],
   "source": [
    "while brk.count(pair):\n",
    "    brk = brk.replace(pair,'')"
   ]
  },
  {
   "cell_type": "code",
   "execution_count": 95,
   "id": "75effed9",
   "metadata": {
    "ExecuteTime": {
     "end_time": "2022-04-19T10:49:05.546609Z",
     "start_time": "2022-04-19T10:49:05.541446Z"
    }
   },
   "outputs": [],
   "source": [
    "print(\"NO\" if brk else \"YES\")"
   ]
  },
  {
   "cell_type": "markdown",
   "id": "273af6a7",
   "metadata": {},
   "source": [
    "## 2503 숫자 야구"
   ]
  },
  {
   "cell_type": "markdown",
   "id": "8e46bba3",
   "metadata": {},
   "source": [
    "### 제출 풀이"
   ]
  },
  {
   "cell_type": "code",
   "execution_count": null,
   "id": "226ae6c5",
   "metadata": {},
   "outputs": [],
   "source": [
    "from itertools import permutations\n",
    "li = [''.join(map(str,x)) for x in permutations(range(1,10),3)]\n",
    "for _ in range(int(input())):\n",
    "    r,s,b=map(int,input().split())\n",
    "    r=str(r)\n",
    "    for num in li[::-1]:\n",
    "        S=0;B=0\n",
    "        for i in range(3):\n",
    "            if num[i] == r[i]:\n",
    "                S+=1\n",
    "            elif num[i] in r:\n",
    "                B+=1\n",
    "        if (S,B)!=(s,b):\n",
    "            li.remove(num)\n",
    "print(len(li))"
   ]
  },
  {
   "cell_type": "code",
   "execution_count": 222,
   "id": "1c88b832",
   "metadata": {
    "ExecuteTime": {
     "end_time": "2022-04-22T16:15:29.482361Z",
     "start_time": "2022-04-22T16:15:29.469965Z"
    }
   },
   "outputs": [
    {
     "data": {
      "text/plain": [
       "(1, True, 1)"
      ]
     },
     "execution_count": 222,
     "metadata": {},
     "output_type": "execute_result"
    }
   ],
   "source": [
    "1,1 != 2,1"
   ]
  },
  {
   "cell_type": "code",
   "execution_count": 162,
   "id": "c7876cd8",
   "metadata": {
    "ExecuteTime": {
     "end_time": "2022-04-22T15:32:29.209962Z",
     "start_time": "2022-04-22T15:32:29.200414Z"
    }
   },
   "outputs": [],
   "source": [
    "from itertools import permutations\n",
    "\n",
    "N = 4\n",
    "\n",
    "li = [''.join(map(str,x)) for x in permutations(range(1,10),3)]\n",
    "\n",
    "for _ in range(N):\n",
    "    r,s,b=map(int,input().split())\n",
    "    r=str(r)\n",
    "    for num in li[::-1]:\n",
    "        S=0;B=0\n",
    "        for i in range(3):\n",
    "            if num[i] == r[i]:\n",
    "                S+=1\n",
    "            elif num[i] in r:\n",
    "                B+=1\n",
    "        if S!=s or B!=b:\n",
    "            li.remove(num)\n",
    "print(len(li))"
   ]
  },
  {
   "attachments": {
    "image.png": {
     "image/png": "[encoded data removed]"
    }
   },
   "cell_type": "markdown",
   "id": "40df93ae",
   "metadata": {},
   "source": [
    "## 1541 잃어버린 괄호\n",
    "첫째 줄에 식이 주어진다. 식은 ‘0’~‘9’, ‘+’, 그리고 ‘-’만으로 이루어져 있고, 가장 처음과 마지막 문자는 숫자이다. 그리고 연속해서 두 개 이상의 연산자가 나타나지 않고, 5자리보다 많이 연속되는 숫자는 없다. 수는 0으로 시작할 수 있다.\n",
    "-> 괄호를 적절히 쳐서 이 식의 값을 최소로하여 출력\n",
    "![image.png](attachment:image.png)"
   ]
  },
  {
   "cell_type": "markdown",
   "id": "5ea1f706",
   "metadata": {},
   "source": [
    "핵심 알고리즘\n",
    " - +와 -로 이루어진 연산에서, 최소로만들기 위해선,<br>\n",
    "-> 55-50+40에서, 55-(50+40)으로 - 를 기준으로 그 오른쪽 숫자들이 최대가 되면된다.\n",
    " - -를 기준으로 가 사이값들은 모두 +연산으로 되어있을 것이고, 그것들을 모두 더하면 -(숫자들의합)-(숫자들의합) 꼴이 되어 가장 작은 수가 될것이다."
   ]
  },
  {
   "cell_type": "markdown",
   "id": "4da16ac7",
   "metadata": {},
   "source": [
    "### 제출 풀이"
   ]
  },
  {
   "cell_type": "code",
   "execution_count": 261,
   "id": "0b26a6b4",
   "metadata": {
    "ExecuteTime": {
     "end_time": "2022-04-24T12:04:08.919406Z",
     "start_time": "2022-04-24T12:04:08.417477Z"
    }
   },
   "outputs": [
    {
     "name": "stdout",
     "output_type": "stream",
     "text": [
      "00009-00009\n",
      "0\n"
     ]
    }
   ],
   "source": [
    "from functools import reduce\n",
    "sik=input()\n",
    "sik_plus = sik.split('-')\n",
    "sik_minus = list(map(lambda x: sum(map(int,x.split('+'))),sik_plus))\n",
    "print(reduce(lambda x,y: x-y,sik_minus))"
   ]
  },
  {
   "cell_type": "code",
   "execution_count": 266,
   "id": "9287cf80",
   "metadata": {
    "ExecuteTime": {
     "end_time": "2022-04-24T12:16:52.109090Z",
     "start_time": "2022-04-24T12:16:49.598776Z"
    }
   },
   "outputs": [
    {
     "name": "stdout",
     "output_type": "stream",
     "text": [
      "00009-0009\n",
      "0\n"
     ]
    }
   ],
   "source": [
    "sik_minus = input().split('-')\n",
    "sik_plus = list(map(lambda x: sum(map(int,x.split('+'))),sik_minus))\n",
    "print(sik_plus[0]-sum(sik_plus[1:]))"
   ]
  },
  {
   "cell_type": "markdown",
   "id": "47ca14c7",
   "metadata": {},
   "source": [
    "#### 다른 숏코딩"
   ]
  },
  {
   "cell_type": "code",
   "execution_count": null,
   "id": "8522f9c0",
   "metadata": {},
   "outputs": [],
   "source": [
    "f,*o=[sum(map(int,t.split('+'))) for t in input().split('-')]\n",
    "print(f-sum(o))"
   ]
  },
  {
   "cell_type": "code",
   "execution_count": 263,
   "id": "03a851b4",
   "metadata": {
    "ExecuteTime": {
     "end_time": "2022-04-24T12:13:26.724424Z",
     "start_time": "2022-04-24T12:13:26.717234Z"
    }
   },
   "outputs": [
    {
     "name": "stdout",
     "output_type": "stream",
     "text": [
      "1 [2, 3]\n"
     ]
    }
   ],
   "source": [
    "a,*b = [1,2,3]\n",
    "print(a,b)"
   ]
  },
  {
   "cell_type": "code",
   "execution_count": 264,
   "id": "771a2447",
   "metadata": {
    "ExecuteTime": {
     "end_time": "2022-04-24T12:13:41.001555Z",
     "start_time": "2022-04-24T12:13:40.993531Z"
    }
   },
   "outputs": [
    {
     "name": "stdout",
     "output_type": "stream",
     "text": [
      "1 2 [3, 4, 5, 6]\n"
     ]
    }
   ],
   "source": [
    "a,b,*c = [1,2,3,4,5,6]\n",
    "print(a,b,c)"
   ]
  },
  {
   "cell_type": "code",
   "execution_count": 248,
   "id": "dfc3ce05",
   "metadata": {
    "ExecuteTime": {
     "end_time": "2022-04-24T12:01:10.932846Z",
     "start_time": "2022-04-24T12:01:10.927098Z"
    }
   },
   "outputs": [],
   "source": [
    "sik='55+50+40'\n",
    "sik='00009+00009-0004'"
   ]
  },
  {
   "cell_type": "code",
   "execution_count": 249,
   "id": "55f46bea",
   "metadata": {
    "ExecuteTime": {
     "end_time": "2022-04-24T12:01:11.649117Z",
     "start_time": "2022-04-24T12:01:11.641892Z"
    }
   },
   "outputs": [],
   "source": [
    "sik_plus = sik.split('-')"
   ]
  },
  {
   "cell_type": "code",
   "execution_count": 255,
   "id": "3c0dc984",
   "metadata": {
    "ExecuteTime": {
     "end_time": "2022-04-24T12:02:47.442239Z",
     "start_time": "2022-04-24T12:02:47.429613Z"
    }
   },
   "outputs": [
    {
     "data": {
      "text/plain": [
       "['00009+00009', '0004']"
      ]
     },
     "execution_count": 255,
     "metadata": {},
     "output_type": "execute_result"
    }
   ],
   "source": [
    "sik_plus"
   ]
  },
  {
   "cell_type": "code",
   "execution_count": 238,
   "id": "38442b7b",
   "metadata": {
    "ExecuteTime": {
     "end_time": "2022-04-24T10:06:59.655764Z",
     "start_time": "2022-04-24T10:06:59.650583Z"
    }
   },
   "outputs": [],
   "source": [
    "from functools import reduce"
   ]
  },
  {
   "cell_type": "code",
   "execution_count": 256,
   "id": "3d4011e8",
   "metadata": {
    "ExecuteTime": {
     "end_time": "2022-04-24T12:03:10.170558Z",
     "start_time": "2022-04-24T12:03:10.163275Z"
    }
   },
   "outputs": [],
   "source": [
    "sik_minus = list(map(lambda x: sum(map(int,x.split('+'))),sik_plus))"
   ]
  },
  {
   "cell_type": "code",
   "execution_count": 258,
   "id": "ca5f7311",
   "metadata": {
    "ExecuteTime": {
     "end_time": "2022-04-24T12:03:16.566610Z",
     "start_time": "2022-04-24T12:03:16.558531Z"
    }
   },
   "outputs": [
    {
     "data": {
      "text/plain": [
       "14"
      ]
     },
     "execution_count": 258,
     "metadata": {},
     "output_type": "execute_result"
    }
   ],
   "source": [
    "print(reduce(lambda x,y: x-y,sik_minus))"
   ]
  },
  {
   "cell_type": "markdown",
   "id": "3717b97e",
   "metadata": {},
   "source": [
    "#### 승주님 풀이"
   ]
  },
  {
   "cell_type": "code",
   "execution_count": 262,
   "id": "c6c3af93",
   "metadata": {
    "ExecuteTime": {
     "end_time": "2022-04-24T12:06:37.667616Z",
     "start_time": "2022-04-24T12:06:25.747701Z"
    }
   },
   "outputs": [
    {
     "name": "stdout",
     "output_type": "stream",
     "text": [
      "00009+00009-0004\n",
      "14\n"
     ]
    }
   ],
   "source": [
    "sik_minus = input().split('-') # 55-50+40 => [55, 50+40]\n",
    "sik_plus = [] #[55, 90]\n",
    "\n",
    "for i in sik_minus: \n",
    "    count = 0 \n",
    "    i = i.split('+') #[55], [50,40]\n",
    "    for j in i:\n",
    "        count += int(j) # 1. 55    2. 50+40 \n",
    "    sik_plus.append(count) \n",
    "\n",
    "result = sik_plus[0]\n",
    "for i in range(1, len(sik_plus)):\n",
    "    result -= sik_plus[i]\n",
    "\n",
    "print(result)"
   ]
  },
  {
   "cell_type": "markdown",
   "id": "6688491e",
   "metadata": {},
   "source": [
    "## 2805 나무 자르기\n",
    "첫째 줄에 나무의 수 N과 나무의 길이 M이 주어진다. 다음줄에 공백을 구분자로 N개의 나무 높이가 주어진다. (나무 높이의 합은 항상 M이상) <br>\n",
    "절단기를 설치하면, 절단기 높이 이상의 나무만큼만 가져갈 수 있다. <br>\n",
    "예를들어, 나무의 높이가 20, 15, 10, 17인 경우, 절단기 높이를 15로 지정했다면, 나무를 자른 뒤의 높이는 15, 15, 10, 15가 될 것이고, 상근이는 길이가 5인 나무와 2인 나무를 들고 집에 갈 것이다. <br>\n",
    "-> 적어도 M미터 나무를 집에 가져가기위해, 설정할 수 있는 절단기 높이 최대값을 출력."
   ]
  },
  {
   "cell_type": "markdown",
   "id": "f4cffdff",
   "metadata": {},
   "source": [
    "### 파이썬 이분탐색 구현해보기"
   ]
  },
  {
   "cell_type": "code",
   "execution_count": 3,
   "id": "051aef54",
   "metadata": {
    "ExecuteTime": {
     "end_time": "2022-05-14T16:41:38.323787Z",
     "start_time": "2022-05-14T16:41:38.317782Z"
    }
   },
   "outputs": [],
   "source": [
    "li=[i for i in range(1,30)]\n",
    "target=11"
   ]
  },
  {
   "cell_type": "code",
   "execution_count": 309,
   "id": "75b58259",
   "metadata": {
    "ExecuteTime": {
     "end_time": "2022-04-26T16:03:23.461185Z",
     "start_time": "2022-04-26T16:03:23.449845Z"
    }
   },
   "outputs": [],
   "source": [
    "# li는 오름차순으로 정렬되있다고 전제.\n",
    "def bsh(t,li):\n",
    "    start=0;end=len(li)-1\n",
    "    while start<=end:\n",
    "        mid = (start+end)//2\n",
    "        print(f\"{start}~{end}의 중간 {mid}탐색 - 목표 {li.index(target)}\")\n",
    "        if li[mid]==t:\n",
    "            return mid\n",
    "        elif li[mid]>t:\n",
    "            end=mid-1\n",
    "        else:\n",
    "            start=mid+1\n",
    "    return False"
   ]
  },
  {
   "cell_type": "code",
   "execution_count": 310,
   "id": "6fed3b76",
   "metadata": {
    "ExecuteTime": {
     "end_time": "2022-04-26T16:03:23.609653Z",
     "start_time": "2022-04-26T16:03:23.602853Z"
    }
   },
   "outputs": [
    {
     "name": "stdout",
     "output_type": "stream",
     "text": [
      "0~28의 중간 14탐색 - 목표 10\n",
      "0~13의 중간 6탐색 - 목표 10\n",
      "7~13의 중간 10탐색 - 목표 10\n",
      "10 \n",
      "\n",
      "0~28의 중간 14탐색 - 목표 10\n",
      "15~28의 중간 21탐색 - 목표 10\n",
      "22~28의 중간 25탐색 - 목표 10\n",
      "26~28의 중간 27탐색 - 목표 10\n",
      "28~28의 중간 28탐색 - 목표 10\n",
      "False\n"
     ]
    }
   ],
   "source": [
    "print(bsh(target,li),'\\n')\n",
    "print(bsh(400,li)) # 찾는값 없는 경우"
   ]
  },
  {
   "cell_type": "code",
   "execution_count": 6,
   "id": "f14ac6d7",
   "metadata": {
    "ExecuteTime": {
     "end_time": "2022-05-14T16:42:35.625221Z",
     "start_time": "2022-05-14T16:42:35.617008Z"
    }
   },
   "outputs": [],
   "source": [
    "def bsh_rc(start,end,tg,li):\n",
    "    if start>end:\n",
    "        return False # 찾는 값 없는 경우\n",
    "    mid=(start+end)//2\n",
    "    print(f\"{start}~{end}의 중간 {mid}탐색 - 목표 {tg}\")\n",
    "    if li[mid]==tg:\n",
    "        return mid\n",
    "    elif li[mid]>tg:\n",
    "        end=mid-1\n",
    "    else:\n",
    "        start=mid+1\n",
    "    return bsh_rc(start,end,tg,li)"
   ]
  },
  {
   "cell_type": "code",
   "execution_count": 9,
   "id": "4f084afd",
   "metadata": {
    "ExecuteTime": {
     "end_time": "2022-05-14T16:42:48.357058Z",
     "start_time": "2022-05-14T16:42:48.348624Z"
    }
   },
   "outputs": [
    {
     "name": "stdout",
     "output_type": "stream",
     "text": [
      "[1, 2, 3, 4, 5, 6, 7, 8, 9, 10, 11, 12, 13, 14, 15, 16, 17, 18, 19, 20, 21, 22, 23, 24, 25, 26, 27, 28, 29]\n"
     ]
    }
   ],
   "source": [
    "print(li)"
   ]
  },
  {
   "cell_type": "code",
   "execution_count": 7,
   "id": "ebd6b4e4",
   "metadata": {
    "ExecuteTime": {
     "end_time": "2022-05-14T16:42:36.016217Z",
     "start_time": "2022-05-14T16:42:36.005111Z"
    }
   },
   "outputs": [
    {
     "name": "stdout",
     "output_type": "stream",
     "text": [
      "0~28의 중간 14탐색 - 목표 11\n",
      "0~13의 중간 6탐색 - 목표 11\n",
      "7~13의 중간 10탐색 - 목표 11\n",
      "10 \n",
      "\n",
      "0~28의 중간 14탐색 - 목표 400\n",
      "15~28의 중간 21탐색 - 목표 400\n",
      "22~28의 중간 25탐색 - 목표 400\n",
      "26~28의 중간 27탐색 - 목표 400\n",
      "28~28의 중간 28탐색 - 목표 400\n",
      "False\n"
     ]
    }
   ],
   "source": [
    "print(bsh_rc(0,len(li)-1,target,li),'\\n')\n",
    "print(bsh_rc(0,len(li)-1,400,li)) # 찾는값 없는 경우"
   ]
  },
  {
   "cell_type": "markdown",
   "id": "a6869576",
   "metadata": {},
   "source": [
    "### 안보고 풀어서 제출"
   ]
  },
  {
   "cell_type": "markdown",
   "id": "6aca2f5d",
   "metadata": {},
   "source": []
  },
  {
   "cell_type": "code",
   "execution_count": 352,
   "id": "c42c31bf",
   "metadata": {
    "ExecuteTime": {
     "end_time": "2022-04-26T16:48:57.668144Z",
     "start_time": "2022-04-26T16:48:55.291041Z"
    }
   },
   "outputs": [
    {
     "name": "stdout",
     "output_type": "stream",
     "text": [
      "4 7\n",
      "20 15 10 17\n",
      "1-20 - 10, get:22\n",
      "11 20\n",
      "11-20 - 15, get:7\n",
      "16 20\n",
      "16-20 - 18, get:2\n",
      "16 17\n",
      "16-17 - 16, get:5\n",
      "16 15\n",
      "15\n"
     ]
    }
   ],
   "source": [
    "N,M=map(int,input().split())\n",
    "li=list(map(int,input().split()))\n",
    "s,e=1,max(li)\n",
    "while s<=e: # s가 e와 뒤바뀌게되면, 그때의 e가 mid의 최대값이다.찾고자하는 부분 직전이기 때문.\n",
    "    mid = (s+e)//2\n",
    "    ## mid가 커져야 get이 준다.\n",
    "    get=sum(i-mid for i in li if i>mid)\n",
    "    print(f\"{s}-{e} - {mid}, get:{get}\")\n",
    "    if get>=M: # 가져가는 나무가 M이상이면, 높이를 높여야한다.\n",
    "        s=mid+1\n",
    "    else: # 가져가는 나무가 M보다 작으면, 높이를 낮춰야한다.\n",
    "        e=mid-1\n",
    "    print(s,e)\n",
    "print(e)"
   ]
  },
  {
   "cell_type": "markdown",
   "id": "727eb7b2",
   "metadata": {},
   "source": [
    "### 정답풀이 쪼개"
   ]
  },
  {
   "cell_type": "code",
   "execution_count": 317,
   "id": "569d0995",
   "metadata": {
    "ExecuteTime": {
     "end_time": "2022-04-26T16:07:06.477202Z",
     "start_time": "2022-04-26T16:06:58.351293Z"
    }
   },
   "outputs": [
    {
     "name": "stdout",
     "output_type": "stream",
     "text": [
      "5 20\n",
      "4 42 40 26 46\n"
     ]
    }
   ],
   "source": [
    "N, M = map(int, input().split())\n",
    "tree = list(map(int, input().split()))"
   ]
  },
  {
   "cell_type": "code",
   "execution_count": 332,
   "id": "ab1920a8",
   "metadata": {
    "ExecuteTime": {
     "end_time": "2022-04-26T16:12:11.630260Z",
     "start_time": "2022-04-26T16:12:11.615779Z"
    }
   },
   "outputs": [
    {
     "data": {
      "text/plain": [
       "([4, 42, 40, 26, 46], 4, 46)"
      ]
     },
     "execution_count": 332,
     "metadata": {},
     "output_type": "execute_result"
    }
   ],
   "source": [
    "start, end = min(tree), max(tree) #이분탐색 검색 범위 설정\n",
    "tree,start,end"
   ]
  },
  {
   "cell_type": "code",
   "execution_count": 333,
   "id": "0ad2e9e7",
   "metadata": {
    "ExecuteTime": {
     "end_time": "2022-04-26T16:12:12.555623Z",
     "start_time": "2022-04-26T16:12:12.543592Z"
    }
   },
   "outputs": [
    {
     "data": {
      "text/plain": [
       "[4, 26, 40, 42, 46]"
      ]
     },
     "execution_count": 333,
     "metadata": {},
     "output_type": "execute_result"
    }
   ],
   "source": [
    "sorted(tree)"
   ]
  },
  {
   "cell_type": "code",
   "execution_count": 334,
   "id": "0b68c212",
   "metadata": {
    "ExecuteTime": {
     "end_time": "2022-04-26T16:12:14.998052Z",
     "start_time": "2022-04-26T16:12:14.982767Z"
    }
   },
   "outputs": [
    {
     "name": "stdout",
     "output_type": "stream",
     "text": [
      "4-46 25일때 가져가는 나무 54\n",
      "26-46 36일때 가져가는 나무 20\n",
      "37-46 41일때 가져가는 나무 6\n",
      "37-40 38일때 가져가는 나무 14\n",
      "37-37 37일때 가져가는 나무 17\n",
      "36\n"
     ]
    }
   ],
   "source": [
    "while start <= end: #적절한 벌목 높이를 찾는 알고리즘\n",
    "    mid = (start+end) // 2\n",
    "    get = sum([i-mid for i in tree if i>=mid])\n",
    "    print(f\"{start}-{end} {mid}일때 가져가는 나무 {get}\")\n",
    "    #벌목 높이를 이분탐색\n",
    "    if get >= M:\n",
    "        start = mid + 1\n",
    "    else:\n",
    "        end = mid - 1\n",
    "print(end)"
   ]
  },
  {
   "cell_type": "markdown",
   "id": "40db9f66",
   "metadata": {},
   "source": [
    "### 정답풀이"
   ]
  },
  {
   "cell_type": "code",
   "execution_count": null,
   "id": "f85b6be5",
   "metadata": {},
   "outputs": [],
   "source": [
    "N, M = map(int, input().split())\n",
    "tree = list(map(int, input().split()))\n",
    "start, end = 1, max(tree) #이분탐색 검색 범위 설정\n",
    "\n",
    "while start <= end: #적절한 벌목 높이를 찾는 알고리즘\n",
    "    mid = (start+end) // 2\n",
    "    \n",
    "    log = 0 #벌목된 나무 총합\n",
    "    for i in tree:\n",
    "        if i >= mid:\n",
    "            log += i - mid\n",
    "    \n",
    "    #벌목 높이를 이분탐색\n",
    "    if log >= M:\n",
    "        start = mid + 1\n",
    "    else:\n",
    "        end = mid - 1\n",
    "print(end)"
   ]
  },
  {
   "cell_type": "markdown",
   "id": "a3818533",
   "metadata": {},
   "source": [
    "### 시간초과난 내 풀이"
   ]
  },
  {
   "cell_type": "code",
   "execution_count": 288,
   "id": "648cda7b",
   "metadata": {
    "ExecuteTime": {
     "end_time": "2022-04-26T15:27:49.503008Z",
     "start_time": "2022-04-26T15:27:45.032264Z"
    }
   },
   "outputs": [
    {
     "name": "stdout",
     "output_type": "stream",
     "text": [
      "4 7\n",
      "20 15 10 17\n",
      "9223372036854775807 10\n",
      "19 11\n",
      "16 12\n",
      "13 13\n",
      "10 14\n",
      "7 15\n",
      "15\n"
     ]
    }
   ],
   "source": [
    "N,M = map(int,input().split())\n",
    "\n",
    "t = list(map(int,input().split()))\n",
    "s=min(t)\n",
    "get = max(t)\n",
    "while 1:\n",
    "    if get <= M:\n",
    "        break\n",
    "    s+=1\n",
    "    get = sum(i-s for i in t if i>s)\n",
    "print(s)"
   ]
  }
 ],
 "metadata": {
  "kernelspec": {
   "display_name": "Python 3",
   "language": "python",
   "name": "python3"
  },
  "language_info": {
   "codemirror_mode": {
    "name": "ipython",
    "version": 3
   },
   "file_extension": ".py",
   "mimetype": "text/x-python",
   "name": "python",
   "nbconvert_exporter": "python",
   "pygments_lexer": "ipython3",
   "version": "3.8.12"
  },
  "toc": {
   "base_numbering": 1,
   "nav_menu": {},
   "number_sections": true,
   "sideBar": true,
   "skip_h1_title": false,
   "title_cell": "Table of Contents",
   "title_sidebar": "Contents",
   "toc_cell": false,
   "toc_position": {
    "height": "calc(100% - 180px)",
    "left": "10px",
    "top": "150px",
    "width": "426.667px"
   },
   "toc_section_display": true,
   "toc_window_display": true
  }
 },
 "nbformat": 4,
 "nbformat_minor": 5
}
