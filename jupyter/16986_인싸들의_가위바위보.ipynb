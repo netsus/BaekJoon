{
 "cells": [
  {
   "cell_type": "markdown",
   "id": "0e4c9d43",
   "metadata": {},
   "source": [
    "### 문제\n"
   ]
  },
  {
   "cell_type": "code",
   "execution_count": null,
   "id": "fc6e3ac9",
   "metadata": {},
   "outputs": [],
   "source": [
    "! # 시작시간 체크"
   ]
  },
  {
   "cell_type": "code",
   "execution_count": null,
   "id": "50c1b0eb",
   "metadata": {},
   "outputs": [],
   "source": [
    "! # 끝 시간 체크"
   ]
  },
  {
   "cell_type": "markdown",
   "id": "88b63096",
   "metadata": {},
   "source": [
    "### 풀이"
   ]
  },
  {
   "cell_type": "code",
   "execution_count": 4,
   "id": "b1fcb97a",
   "metadata": {
    "ExecuteTime": {
     "end_time": "2022-11-28T02:31:12.184008Z",
     "start_time": "2022-11-28T02:30:56.704237Z"
    }
   },
   "outputs": [
    {
     "name": "stdout",
     "output_type": "stream",
     "text": [
      "3 2\n",
      "1 0 2\n",
      "2 1 0\n",
      "0 2 1\n",
      "2 2 2 2 2 2 2 2 2 2 2 2 2 2 2 2 2 2 2 2\n",
      "3 3 3 3 3 3 3 3 3 3 3 3 3 3 3 3 3 3 3 3\n",
      "1\n"
     ]
    }
   ],
   "source": [
    "import sys\n",
    "from itertools import permutations\n",
    "input = sys.stdin.readline\n",
    "N,K = map(int,input().split())\n",
    "board = [list(map(int,input().split())) for _ in range(N)]\n",
    "p2 = list(map(int,input().split()))\n",
    "p3 = list(map(int,input().split()))\n",
    "jiwo = [i+1 for i in range(N)]\n",
    "\n",
    "def dfs(py1, py2, win, index, player):\n",
    "    global result\n",
    "    if win[0] == K:\n",
    "        result = 1\n",
    "        return\n",
    "    if win[1] == K or win[2] == K:\n",
    "        return\n",
    "    if index[0] == N:\n",
    "        return\n",
    "    \n",
    "    py3 =  3 - (py1+py2)\n",
    "    pv1 = player[py1][index[py1]]-1\n",
    "    pv2 = player[py2][index[py2]]-1\n",
    "    index[py1] += 1\n",
    "    index[py2] += 1\n",
    "    if board[pv1][pv2]==2 or (board[pv1][pv2]==1 and py1 > py2): \n",
    "        win[py1] += 1\n",
    "        dfs(py1, py3, win, index, player)\n",
    "    elif board[pv1][pv2]==0 or (board[pv1][pv2]==1 and py1 < py2):\n",
    "        win[py2] += 1\n",
    "        dfs(py2, py3, win, index, player)\n",
    "\n",
    "for p1 in permutations(jiwo,N):\n",
    "    player = [p1,p2,p3]\n",
    "    win = [0,0,0]\n",
    "    index = [0,0,0]\n",
    "    result = 0\n",
    "    dfs(0, 1, win, index, player)\n",
    "    if result==1:\n",
    "        print(1)\n",
    "        break\n",
    "else:\n",
    "    print(0)"
   ]
  },
  {
   "cell_type": "markdown",
   "id": "c73eee2a",
   "metadata": {},
   "source": [
    "### 주석 달린 풀이"
   ]
  },
  {
   "cell_type": "code",
   "execution_count": null,
   "id": "6532df5c",
   "metadata": {},
   "outputs": [],
   "source": [
    "import sys\n",
    "from itertools import permutations\n",
    "input=sys.stdin.readline\n",
    "N,K=map(int,input().split())\n",
    "board = [list(map(int,input().split())) for _ in range(N)]\n",
    "p2 = list(map(int,input().split())) # 경희\n",
    "p3 = list(map(int,input().split())) # 민호\n",
    "jiwo = [i+1 for i in range(N)] # 지우\n",
    "\n",
    "def DFS(py1, py2, index, win, player):\n",
    "    global result\n",
    "    if win[0] == K: # 지우가 이긴경우\n",
    "        result = 1\n",
    "        return\n",
    "    if win[1] == K or win[2] == K: # 민호 or 지우가 이긴경우\n",
    "        return\n",
    "    if index[0] == N: # 지우가 낼 손모양이 없는 경우\n",
    "        return\n",
    "    py3 = 3 - (py1+py2) # 이전 출전했던 선수들의 합을 3에서 빼면 다음출전할 선수->py3\n",
    "    pv1 = player[py1][index[py1]]-1 # py1이 낼 손모양 -> 손모양 인덱스는 0부터니까 1빼주기\n",
    "    pv2 = player[py2][index[py2]]-1\n",
    "    index[py1] += 1 # py1 한번 냈으니까, 인덱스 증가 -> 다음에 낼 손모양 결정\n",
    "    index[py2] += 1\n",
    "    if board[pv1][pv2] == 2 or (board[pv1][pv2] == 1 and py1 > py2):\n",
    "        win[py1] += 1\n",
    "        DFS(py1, py3, index, win, player)\n",
    "    elif board[pv1][pv2] == 0 or (board[pv1][pv2] == 1 and py1 < py2):\n",
    "        win[py2] += 1\n",
    "        DFS(py2, py3, index, win, player)\n",
    "\n",
    "for p1 in permutations(jiwo, N):\n",
    "    player = [p1,p2,p3] # 지우, 경희, 민호가 낼 전체 소모양 이중리스트\n",
    "    index = [0,0,0] # 지우, 경희, 민호가 어떤 손모양을 낼지\n",
    "    win = [0,0,0] # 지우, 경희, 민호가 각각 몇번 이겼는지\n",
    "    result = 0 # 지우가 이길수있는지\n",
    "    DFS(0,1,index,win,player)\n",
    "    if result == 1:\n",
    "        print(1)\n",
    "        break\n",
    "else:\n",
    "    print(0)"
   ]
  },
  {
   "cell_type": "markdown",
   "id": "8ed2b958",
   "metadata": {},
   "source": [
    "### 연습"
   ]
  },
  {
   "cell_type": "code",
   "execution_count": null,
   "id": "e8a260b9",
   "metadata": {},
   "outputs": [],
   "source": []
  },
  {
   "cell_type": "code",
   "execution_count": null,
   "id": "4038cae4",
   "metadata": {},
   "outputs": [],
   "source": []
  },
  {
   "cell_type": "code",
   "execution_count": null,
   "id": "4ec91fb9",
   "metadata": {},
   "outputs": [],
   "source": []
  },
  {
   "cell_type": "code",
   "execution_count": 2,
   "id": "af72bec8",
   "metadata": {
    "ExecuteTime": {
     "end_time": "2022-11-28T02:06:42.998750Z",
     "start_time": "2022-11-28T02:05:59.280784Z"
    },
    "code_folding": []
   },
   "outputs": [
    {
     "name": "stdout",
     "output_type": "stream",
     "text": [
      "4 5\n",
      "1 0 2 0\n",
      "2 1 0 2\n",
      "0 2 1 2\n",
      "2 0 0 1\n",
      "1 3 2 1 3 2 2 2 2 1 3 1 3 2 1 3 2 2 2 2\n",
      "2 3 3 3 1 1 3 1 3 2 1 3 2 2 2 2 1 3 1 2\n",
      "0\n"
     ]
    }
   ],
   "source": [
    "import sys\n",
    "from itertools import permutations\n",
    "# input=sys.stdin.readline\n",
    "N,K=map(int,input().split())\n",
    "board = [list(map(int,input().split())) for _ in range(N)]\n",
    "p2 = list(map(int,input().split())) # 경희\n",
    "p3 = list(map(int,input().split())) # 민호\n",
    "jiwo = [i+1 for i in range(N)] # 지우\n",
    "\n",
    "def DFS(py1, py2, index, win, player):\n",
    "    global result\n",
    "    if win[0] == K: # 지우가 이긴경우\n",
    "        result = 1\n",
    "        return\n",
    "    if win[1] == K or win[2] == K: # 민호 or 지우가 이긴경우\n",
    "        return\n",
    "    if index[0] == N: # 지우가 낼 손모양이 없는 경우\n",
    "        return\n",
    "    py3 = 3 - (py1+py2) # 이전 출전했던 선수들의 합을 3에서 빼면 다음출전할 선수->py3\n",
    "    pv1 = player[py1][index[py1]]-1 # py1이 낼 손모양 -> 손모양 인덱스는 0부터니까 1빼주기\n",
    "    pv2 = player[py2][index[py2]]-1\n",
    "    index[py1] += 1 # py1 한번 냈으니까, 인덱스 증가 -> 다음에 낼 손모양 결정\n",
    "    index[py2] += 1\n",
    "    if board[pv1][pv2] == 2 or (board[pv1][pv2] == 1 and py1 > py2):\n",
    "        win[py1] += 1\n",
    "        DFS(py1, py3, index, win, player)\n",
    "    elif board[pv1][pv2] == 0 or (board[pv1][pv2] == 1 and py1 < py2):\n",
    "        win[py2] += 1\n",
    "        DFS(py2, py3, index, win, player)\n",
    "\n",
    "for p1 in permutations(jiwo, N):\n",
    "    player = [p1,p2,p3] # 지우, 경희, 민호가 낼 전체 소모양 이중리스트\n",
    "    index = [0,0,0] # 지우, 경희, 민호가 어떤 손모양을 낼지\n",
    "    win = [0,0,0] # 지우, 경희, 민호가 각각 몇번 이겼는지\n",
    "    result = 0 # 지우가 이길수있는지\n",
    "    DFS(0,1,index,win,player)\n",
    "    if result == 1:\n",
    "        print(1)\n",
    "        break\n",
    "else:\n",
    "    print(0)"
   ]
  },
  {
   "cell_type": "code",
   "execution_count": null,
   "id": "ec705ae9",
   "metadata": {
    "code_folding": []
   },
   "outputs": [],
   "source": [
    "import sys\n",
    "from itertools import permutations\n",
    "N,K = map(int,input().split())\n",
    "board = []\n",
    "for _ in range(N):\n",
    "    board.append(list(map(int,input().split())))\n",
    "p2 = list(map(int,input().split()))#경희\n",
    "p3 = list(map(int,input().split()))#민호\n",
    "jiwo = [i+1 for i in range(N)]\n",
    "\n",
    "def DFS(pi1,pi2,index,win,player):\n",
    "    global result\n",
    "    if win[0] == K:\n",
    "        result = 1\n",
    "        return\n",
    "    if win[1] == K or win[2] == K:\n",
    "        return\n",
    "    if index[0] == N:\n",
    "        return\n",
    "    pi3 = 3 - (pi1+pi2) \n",
    "    #다음 차례 상대방을 구할 경우, 지우, 경희, 민호를 각각 0,1,2라고 했을 때 \n",
    "    #총 합(3)에서 출전 했던 선수의 합을 빼면 다음 차례에 나올 선수의 번호가 나옴\n",
    "    pv1 = player[pi1][index[pi1]] - 1\n",
    "    pv2 = player[pi2][index[pi2]] - 1\n",
    "    index[pi1] += 1\n",
    "    index[pi2] += 1\n",
    "    if board[pv1][pv2] == 2 or (board[pv1][pv2] == 1 and pi1 > pi2) : #pi1이 이겼을 경우\n",
    "        win[pi1] += 1\n",
    "        DFS(pi1, pi3, index, win,player)\n",
    "    elif (board[pv1][pv2] == 1 and pi1 < pi2) or board[pv1][pv2] == 0: #pi2가 이겼을 경우\n",
    "        win[pi2] += 1\n",
    "        DFS(pi2, pi3, index, win,player)\n",
    "\n",
    "for p1 in permutations(jiwo,N):#지우\n",
    "    player = [p1,p2,p3]\n",
    "    index = [0,0,0] #지우, 경희, 민호가 다음 번에 낼 손동작 index\n",
    "    win = [0,0,0] #지우, 경희, 민호 이긴 횟수\n",
    "    result = 0\n",
    "    DFS(0,1,index,win,player)\n",
    "    if result == 1:\n",
    "        print(1)\n",
    "        break\n",
    "else:\n",
    "    print(0)"
   ]
  }
 ],
 "metadata": {
  "kernelspec": {
   "display_name": "Python 3",
   "language": "python",
   "name": "python3"
  },
  "language_info": {
   "codemirror_mode": {
    "name": "ipython",
    "version": 3
   },
   "file_extension": ".py",
   "mimetype": "text/x-python",
   "name": "python",
   "nbconvert_exporter": "python",
   "pygments_lexer": "ipython3",
   "version": "3.8.12"
  },
  "toc": {
   "base_numbering": 1,
   "nav_menu": {},
   "number_sections": true,
   "sideBar": true,
   "skip_h1_title": false,
   "title_cell": "Table of Contents",
   "title_sidebar": "Contents",
   "toc_cell": false,
   "toc_position": {},
   "toc_section_display": true,
   "toc_window_display": false
  }
 },
 "nbformat": 4,
 "nbformat_minor": 5
}
