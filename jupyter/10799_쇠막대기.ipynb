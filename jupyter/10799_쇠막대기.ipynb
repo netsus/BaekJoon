{
 "cells": [
  {
   "cell_type": "code",
   "execution_count": 83,
   "metadata": {
    "ExecuteTime": {
     "end_time": "2021-11-29T15:10:19.733266Z",
     "start_time": "2021-11-29T15:10:19.723265Z"
    }
   },
   "outputs": [],
   "source": [
    "br = \"()(((()())(())()))(())\""
   ]
  },
  {
   "cell_type": "code",
   "execution_count": 87,
   "metadata": {
    "ExecuteTime": {
     "end_time": "2021-11-29T15:10:28.089320Z",
     "start_time": "2021-11-29T15:10:28.074316Z"
    }
   },
   "outputs": [],
   "source": [
    "br = \"(((()(()()))(())()))(()())\""
   ]
  },
  {
   "cell_type": "code",
   "execution_count": 91,
   "metadata": {
    "ExecuteTime": {
     "end_time": "2021-11-29T15:12:18.521587Z",
     "start_time": "2021-11-29T15:12:12.841883Z"
    }
   },
   "outputs": [
    {
     "name": "stdout",
     "output_type": "stream",
     "text": [
      "()(((()())(())()))(())\n"
     ]
    }
   ],
   "source": [
    "br=input()\n",
    "stack=[]\n",
    "result=0\n",
    "\n",
    "for i in range(len(br)):\n",
    "    if br[i] == '(':\n",
    "        stack.append(br[i])\n",
    "        \n",
    "    else:\n",
    "        if br[i-1] == '(':\n",
    "            stack.pop()\n",
    "            result+=len(stack)\n",
    "        else:\n",
    "            stack.pop()\n",
    "            result+=1\n",
    "print(result)"
   ]
  },
  {
   "cell_type": "code",
   "execution_count": 92,
   "metadata": {
    "ExecuteTime": {
     "end_time": "2021-11-29T15:12:20.972149Z",
     "start_time": "2021-11-29T15:12:20.953143Z"
    }
   },
   "outputs": [
    {
     "data": {
      "text/plain": [
       "17"
      ]
     },
     "execution_count": 92,
     "metadata": {},
     "output_type": "execute_result"
    }
   ],
   "source": [
    "result"
   ]
  }
 ],
 "metadata": {
  "kernelspec": {
   "display_name": "Python 3",
   "language": "python",
   "name": "python3"
  },
  "language_info": {
   "codemirror_mode": {
    "name": "ipython",
    "version": 3
   },
   "file_extension": ".py",
   "mimetype": "text/x-python",
   "name": "python",
   "nbconvert_exporter": "python",
   "pygments_lexer": "ipython3",
   "version": "3.8.5"
  },
  "toc": {
   "base_numbering": 1,
   "nav_menu": {},
   "number_sections": true,
   "sideBar": true,
   "skip_h1_title": false,
   "title_cell": "Table of Contents",
   "title_sidebar": "Contents",
   "toc_cell": false,
   "toc_position": {},
   "toc_section_display": true,
   "toc_window_display": false
  }
 },
 "nbformat": 4,
 "nbformat_minor": 4
}
