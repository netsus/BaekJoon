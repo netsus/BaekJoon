{
 "cells": [
  {
   "cell_type": "code",
   "execution_count": 15,
   "id": "b1c006bd",
   "metadata": {
    "ExecuteTime": {
     "end_time": "2022-05-23T17:05:48.333768Z",
     "start_time": "2022-05-23T17:05:46.363200Z"
    }
   },
   "outputs": [
    {
     "name": "stdout",
     "output_type": "stream",
     "text": [
      "10 15\n"
     ]
    }
   ],
   "source": [
    "n,S=map(int,input().split())"
   ]
  },
  {
   "cell_type": "code",
   "execution_count": 20,
   "id": "72b38e59",
   "metadata": {
    "ExecuteTime": {
     "end_time": "2022-05-23T17:15:18.274313Z",
     "start_time": "2022-05-23T17:15:18.252499Z"
    }
   },
   "outputs": [
    {
     "data": {
      "text/plain": [
       "(10, 15)"
      ]
     },
     "execution_count": 20,
     "metadata": {},
     "output_type": "execute_result"
    }
   ],
   "source": [
    "n,S "
   ]
  },
  {
   "cell_type": "code",
   "execution_count": 23,
   "id": "aceb6d4a",
   "metadata": {
    "ExecuteTime": {
     "end_time": "2022-05-23T17:16:50.724445Z",
     "start_time": "2022-05-23T17:16:50.029144Z"
    }
   },
   "outputs": [
    {
     "name": "stdout",
     "output_type": "stream",
     "text": [
      "5 1 3 5 10 7 4 9 2 8\n"
     ]
    }
   ],
   "source": [
    "li=[*map(int,input().split())]"
   ]
  },
  {
   "cell_type": "code",
   "execution_count": 24,
   "id": "d611d1f9",
   "metadata": {
    "ExecuteTime": {
     "end_time": "2022-05-23T17:16:52.044508Z",
     "start_time": "2022-05-23T17:16:52.033102Z"
    }
   },
   "outputs": [
    {
     "data": {
      "text/plain": [
       "[5, 1, 3, 5, 10, 7, 4, 9, 2, 8]"
      ]
     },
     "execution_count": 24,
     "metadata": {},
     "output_type": "execute_result"
    }
   ],
   "source": [
    "li"
   ]
  },
  {
   "cell_type": "code",
   "execution_count": 25,
   "id": "0840c463",
   "metadata": {
    "ExecuteTime": {
     "end_time": "2022-05-23T17:16:53.077666Z",
     "start_time": "2022-05-23T17:16:53.064932Z"
    }
   },
   "outputs": [
    {
     "name": "stdout",
     "output_type": "stream",
     "text": [
      "right 증가 0~1,현재 부분합6\n",
      "right 증가 0~2,현재 부분합9\n",
      "right 증가 0~3,현재 부분합14\n",
      "right 증가 0~4,현재 부분합24\n",
      "left 증가 1~4,현재 부분합19\n",
      "left 증가 2~4,현재 부분합18\n",
      "left 증가 3~4,현재 부분합15\n",
      "left 증가 4~4,현재 부분합10\n",
      "right 증가 4~5,현재 부분합17\n",
      "left 증가 5~5,현재 부분합7\n",
      "right 증가 5~6,현재 부분합11\n",
      "right 증가 5~7,현재 부분합20\n",
      "left 증가 6~7,현재 부분합13\n",
      "right 증가 6~8,현재 부분합15\n",
      "left 증가 7~8,현재 부분합11\n",
      "right 증가 7~9,현재 부분합19\n",
      "left 증가 8~9,현재 부분합10\n"
     ]
    }
   ],
   "source": [
    "l,r = 0, 0\n",
    "s = li[0]\n",
    "ans = 100001\n",
    " \n",
    "while True:\n",
    "    if s >= S:\n",
    "        ans = min(ans, r - l + 1)\n",
    "        s -= li[l]\n",
    "        l += 1\n",
    "        print(f\"left 증가 {l}~{r},현재 부분합{s}\")\n",
    "    else:\n",
    "        r += 1\n",
    "        if r == n:\n",
    "            break\n",
    "        s += li[r]\n",
    "        print(f\"right 증가 {l}~{r},현재 부분합{s}\")"
   ]
  },
  {
   "cell_type": "code",
   "execution_count": 26,
   "id": "deeb049a",
   "metadata": {
    "ExecuteTime": {
     "end_time": "2022-05-23T17:17:00.031631Z",
     "start_time": "2022-05-23T17:17:00.024331Z"
    }
   },
   "outputs": [
    {
     "name": "stdout",
     "output_type": "stream",
     "text": [
      "2\n"
     ]
    }
   ],
   "source": [
    "print(0) if ans == 100001 else print(ans)"
   ]
  },
  {
   "cell_type": "code",
   "execution_count": 18,
   "id": "bfe3549d",
   "metadata": {
    "ExecuteTime": {
     "end_time": "2022-05-23T17:05:57.857960Z",
     "start_time": "2022-05-23T17:05:57.851987Z"
    }
   },
   "outputs": [],
   "source": [
    "v=9**9\n",
    "l,r=0,n"
   ]
  },
  {
   "cell_type": "code",
   "execution_count": null,
   "id": "a03a3521",
   "metadata": {},
   "outputs": [],
   "source": [
    "while l<r:\n",
    "    c=sum(l[l:r])\n",
    "    if c<v:\n",
    "        v=c\n",
    "    if "
   ]
  },
  {
   "cell_type": "markdown",
   "id": "830fb4b0",
   "metadata": {},
   "source": [
    "### 안보고 풀기"
   ]
  },
  {
   "cell_type": "code",
   "execution_count": null,
   "id": "7c9d3d7d",
   "metadata": {},
   "outputs": [],
   "source": [
    "n,S=map(int,input().split())\n",
    "li=[*map(int,input().split())]"
   ]
  },
  {
   "cell_type": "code",
   "execution_count": 27,
   "id": "8eef0840",
   "metadata": {
    "ExecuteTime": {
     "end_time": "2022-05-23T17:28:12.858157Z",
     "start_time": "2022-05-23T17:28:12.846892Z"
    }
   },
   "outputs": [
    {
     "data": {
      "text/plain": [
       "(10, 15, [5, 1, 3, 5, 10, 7, 4, 9, 2, 8])"
      ]
     },
     "execution_count": 27,
     "metadata": {},
     "output_type": "execute_result"
    }
   ],
   "source": [
    "n,S,li"
   ]
  },
  {
   "cell_type": "code",
   "execution_count": 33,
   "id": "b417c30c",
   "metadata": {
    "ExecuteTime": {
     "end_time": "2022-05-23T17:29:50.835370Z",
     "start_time": "2022-05-23T17:29:50.823834Z"
    }
   },
   "outputs": [
    {
     "data": {
      "text/plain": [
       "(0, 0, 5, 387420489)"
      ]
     },
     "execution_count": 33,
     "metadata": {},
     "output_type": "execute_result"
    }
   ],
   "source": [
    "l,r=0,0\n",
    "m=li[0]\n",
    "v=9**9\n",
    "l,r,m,v"
   ]
  },
  {
   "cell_type": "code",
   "execution_count": 36,
   "id": "7db73b22",
   "metadata": {
    "ExecuteTime": {
     "end_time": "2022-05-23T17:34:47.602356Z",
     "start_time": "2022-05-23T17:34:47.589540Z"
    }
   },
   "outputs": [
    {
     "data": {
      "text/plain": [
       "[5, 1, 3, 5, 10, 7, 4, 9, 2, 8]"
      ]
     },
     "execution_count": 36,
     "metadata": {},
     "output_type": "execute_result"
    }
   ],
   "source": [
    "li"
   ]
  },
  {
   "cell_type": "code",
   "execution_count": 34,
   "id": "c23a2281",
   "metadata": {
    "ExecuteTime": {
     "end_time": "2022-05-23T17:34:32.661096Z",
     "start_time": "2022-05-23T17:34:32.650238Z"
    }
   },
   "outputs": [
    {
     "name": "stdout",
     "output_type": "stream",
     "text": [
      "부분합(6)이 목표합(15)미만이므로, 오른쪽 한칸 이동 -> 0~1 부분합:6\n",
      "부분합(9)이 목표합(15)미만이므로, 오른쪽 한칸 이동 -> 0~2 부분합:9\n",
      "부분합(14)이 목표합(15)미만이므로, 오른쪽 한칸 이동 -> 0~3 부분합:14\n",
      "부분합(24)이 목표합(15)미만이므로, 오른쪽 한칸 이동 -> 0~4 부분합:24\n",
      "연속배열 길이 5로 갱신\n",
      "부분합(19)이 목표합(15)이상이므로, 왼쪽 한칸 이동 -> 1~4 부분합:19\n",
      "연속배열 길이 4로 갱신\n",
      "부분합(18)이 목표합(15)이상이므로, 왼쪽 한칸 이동 -> 2~4 부분합:18\n",
      "연속배열 길이 3로 갱신\n",
      "부분합(15)이 목표합(15)이상이므로, 왼쪽 한칸 이동 -> 3~4 부분합:15\n",
      "연속배열 길이 2로 갱신\n",
      "부분합(10)이 목표합(15)이상이므로, 왼쪽 한칸 이동 -> 4~4 부분합:10\n",
      "부분합(17)이 목표합(15)미만이므로, 오른쪽 한칸 이동 -> 4~5 부분합:17\n",
      "연속배열 길이 2로 갱신\n",
      "부분합(7)이 목표합(15)이상이므로, 왼쪽 한칸 이동 -> 5~5 부분합:7\n",
      "부분합(11)이 목표합(15)미만이므로, 오른쪽 한칸 이동 -> 5~6 부분합:11\n",
      "부분합(20)이 목표합(15)미만이므로, 오른쪽 한칸 이동 -> 5~7 부분합:20\n",
      "연속배열 길이 2로 갱신\n",
      "부분합(13)이 목표합(15)이상이므로, 왼쪽 한칸 이동 -> 6~7 부분합:13\n",
      "부분합(15)이 목표합(15)미만이므로, 오른쪽 한칸 이동 -> 6~8 부분합:15\n",
      "연속배열 길이 2로 갱신\n",
      "부분합(11)이 목표합(15)이상이므로, 왼쪽 한칸 이동 -> 7~8 부분합:11\n",
      "부분합(19)이 목표합(15)미만이므로, 오른쪽 한칸 이동 -> 7~9 부분합:19\n",
      "연속배열 길이 2로 갱신\n",
      "부분합(10)이 목표합(15)이상이므로, 왼쪽 한칸 이동 -> 8~9 부분합:10\n",
      "모두 탐색했으므로 종료\n"
     ]
    }
   ],
   "source": [
    "while 1:\n",
    "    if m >= S: # 부분합이 목표합(S)이상일 때, 정답갱신하고, 왼쪽 한칸 이동하기\n",
    "        v=min(v,r-l+1) # right-left+1 연속배열길이 갱신\n",
    "        m-=li[l]\n",
    "        l+=1\n",
    "        print(f\"연속배열 길이 {v}로 갱신\")\n",
    "        print(f\"부분합({m})이 목표합({S})이상이므로, 왼쪽 한칸 이동 -> {l}~{r} 부분합:{m}\")\n",
    "    else: # 부분합이 목표합(S) 미만일 때\n",
    "        r+=1\n",
    "        if r==n:\n",
    "            print(f\"모두 탐색했으므로 종료\")\n",
    "            break\n",
    "        m+=li[r]\n",
    "        print(f\"부분합({m})이 목표합({S})미만이므로, 오른쪽 한칸 이동 -> {l}~{r} 부분합:{m}\")"
   ]
  },
  {
   "cell_type": "code",
   "execution_count": 38,
   "id": "124d8cef",
   "metadata": {
    "ExecuteTime": {
     "end_time": "2022-05-23T17:36:27.822223Z",
     "start_time": "2022-05-23T17:36:27.811030Z"
    }
   },
   "outputs": [
    {
     "data": {
      "text/plain": [
       "2"
      ]
     },
     "execution_count": 38,
     "metadata": {},
     "output_type": "execute_result"
    }
   ],
   "source": [
    "print(0 if v==9**9 else v)"
   ]
  },
  {
   "cell_type": "markdown",
   "id": "7e2aa9ab",
   "metadata": {},
   "source": [
    "### 제출 풀이"
   ]
  },
  {
   "cell_type": "code",
   "execution_count": null,
   "id": "31c054c2",
   "metadata": {},
   "outputs": [],
   "source": [
    "n,S=map(int,input().split())\n",
    "li=[*map(int,input().split())]\n",
    "\n",
    "l,r=0,0;m=li[0]\n",
    "v=9**9\n",
    "while 1:\n",
    "    if m >= S:\n",
    "        v=min(v,r-l+1)\n",
    "        m-=li[l]\n",
    "        l+=1\n",
    "    else:\n",
    "        r+=1\n",
    "        if r==n:\n",
    "            break\n",
    "        m+=li[r]\n",
    "print(0 if v==9**9 else v)"
   ]
  }
 ],
 "metadata": {
  "kernelspec": {
   "display_name": "Python 3",
   "language": "python",
   "name": "python3"
  },
  "language_info": {
   "codemirror_mode": {
    "name": "ipython",
    "version": 3
   },
   "file_extension": ".py",
   "mimetype": "text/x-python",
   "name": "python",
   "nbconvert_exporter": "python",
   "pygments_lexer": "ipython3",
   "version": "3.8.12"
  },
  "toc": {
   "base_numbering": 1,
   "nav_menu": {},
   "number_sections": true,
   "sideBar": true,
   "skip_h1_title": false,
   "title_cell": "Table of Contents",
   "title_sidebar": "Contents",
   "toc_cell": false,
   "toc_position": {},
   "toc_section_display": true,
   "toc_window_display": false
  }
 },
 "nbformat": 4,
 "nbformat_minor": 5
}
