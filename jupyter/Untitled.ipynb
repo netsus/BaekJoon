{
 "cells": [
  {
   "cell_type": "code",
   "execution_count": 11,
   "id": "68d644a2",
   "metadata": {
    "ExecuteTime": {
     "end_time": "2022-03-28T14:03:05.234833Z",
     "start_time": "2022-03-28T14:03:05.226228Z"
    }
   },
   "outputs": [],
   "source": [
    "from math, re"
   ]
  },
  {
   "cell_type": "code",
   "execution_count": 14,
   "id": "cdaf351c",
   "metadata": {
    "ExecuteTime": {
     "end_time": "2022-03-28T14:03:29.683093Z",
     "start_time": "2022-03-28T14:03:29.057623Z"
    }
   },
   "outputs": [
    {
     "name": "stdout",
     "output_type": "stream",
     "text": [
      "3\n",
      "0\n"
     ]
    }
   ],
   "source": [
    "f = factorial(int(input()))\n",
    "cnt=0for i in str(f)[::-1]:if i != '0':breakcnt+=1print(cnt)"
   ]
  },
  {
   "cell_type": "code",
   "execution_count": 20,
   "id": "6856701d",
   "metadata": {
    "ExecuteTime": {
     "end_time": "2022-03-28T14:04:27.346160Z",
     "start_time": "2022-03-28T14:04:25.839474Z"
    }
   },
   "outputs": [
    {
     "name": "stdout",
     "output_type": "stream",
     "text": [
      "10\n",
      "2\n"
     ]
    }
   ],
   "source": [
    "import math, re\n",
    "print(len(re.split(r'[1-9]',str(math.factorial(int(input())))[::-1])[0]))"
   ]
  },
  {
   "cell_type": "code",
   "execution_count": 27,
   "id": "0a972779",
   "metadata": {
    "ExecuteTime": {
     "end_time": "2022-03-28T14:23:24.932757Z",
     "start_time": "2022-03-28T14:23:24.928054Z"
    }
   },
   "outputs": [
    {
     "name": "stdout",
     "output_type": "stream",
     "text": [
      "1 1\n",
      "2 2\n",
      "3 6\n",
      "4 24\n",
      "5 120\n",
      "6 720\n",
      "7 5040\n",
      "8 40320\n",
      "9 362880\n"
     ]
    }
   ],
   "source": [
    "for i in range(1,10):\n",
    "    print(i, factorial(i))"
   ]
  },
  {
   "cell_type": "code",
   "execution_count": null,
   "id": "de87de54",
   "metadata": {},
   "outputs": [],
   "source": []
  }
 ],
 "metadata": {
  "kernelspec": {
   "display_name": "Python 3",
   "language": "python",
   "name": "python3"
  },
  "language_info": {
   "codemirror_mode": {
    "name": "ipython",
    "version": 3
   },
   "file_extension": ".py",
   "mimetype": "text/x-python",
   "name": "python",
   "nbconvert_exporter": "python",
   "pygments_lexer": "ipython3",
   "version": "3.8.12"
  },
  "toc": {
   "base_numbering": 1,
   "nav_menu": {},
   "number_sections": true,
   "sideBar": true,
   "skip_h1_title": false,
   "title_cell": "Table of Contents",
   "title_sidebar": "Contents",
   "toc_cell": false,
   "toc_position": {},
   "toc_section_display": true,
   "toc_window_display": false
  }
 },
 "nbformat": 4,
 "nbformat_minor": 5
}
