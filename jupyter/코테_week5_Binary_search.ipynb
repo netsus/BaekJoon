{
 "cells": [
  {
   "cell_type": "markdown",
   "id": "ef201a9f",
   "metadata": {},
   "source": [
    "## 2776 암기왕"
   ]
  },
  {
   "cell_type": "markdown",
   "id": "d9d5c955",
   "metadata": {},
   "source": [
    "‘수첩2’에 적혀있는 M개의 숫자 순서대로, ‘수첩1’에 있으면 1을, 없으면 0을 출력한다.\n",
    "\n"
   ]
  },
  {
   "cell_type": "markdown",
   "id": "c075f257",
   "metadata": {},
   "source": [
    "<img src=https://blog.kakaocdn.net/dn/bSL6HM/btrC5Lqot3p/NaE2GdobMiBUos1swvt8Z0/img.png width=900>"
   ]
  },
  {
   "cell_type": "code",
   "execution_count": 12,
   "id": "411e317f",
   "metadata": {
    "ExecuteTime": {
     "end_time": "2022-05-24T17:58:47.076011Z",
     "start_time": "2022-05-24T17:58:47.071611Z"
    }
   },
   "outputs": [],
   "source": [
    "T=1"
   ]
  },
  {
   "cell_type": "code",
   "execution_count": 13,
   "id": "339bdda2",
   "metadata": {
    "ExecuteTime": {
     "end_time": "2022-05-24T17:59:02.141003Z",
     "start_time": "2022-05-24T17:59:02.133711Z"
    }
   },
   "outputs": [],
   "source": [
    "N=5"
   ]
  },
  {
   "cell_type": "code",
   "execution_count": 15,
   "id": "ffc4cd4c",
   "metadata": {
    "ExecuteTime": {
     "end_time": "2022-05-24T18:00:13.657906Z",
     "start_time": "2022-05-24T18:00:11.147491Z"
    }
   },
   "outputs": [
    {
     "name": "stdout",
     "output_type": "stream",
     "text": [
      "4 1 5 2 3\n"
     ]
    },
    {
     "data": {
      "text/plain": [
       "[1, 2, 3, 4, 5]"
      ]
     },
     "execution_count": 15,
     "metadata": {},
     "output_type": "execute_result"
    }
   ],
   "source": [
    "s1 = sorted([*map(int,input().split())])\n",
    "s1"
   ]
  },
  {
   "cell_type": "code",
   "execution_count": 16,
   "id": "9322d7a0",
   "metadata": {
    "ExecuteTime": {
     "end_time": "2022-05-24T18:00:22.995873Z",
     "start_time": "2022-05-24T18:00:22.988328Z"
    }
   },
   "outputs": [],
   "source": [
    "M=5"
   ]
  },
  {
   "cell_type": "code",
   "execution_count": 17,
   "id": "5f32b926",
   "metadata": {
    "ExecuteTime": {
     "end_time": "2022-05-24T18:00:40.490240Z",
     "start_time": "2022-05-24T18:00:37.043727Z"
    }
   },
   "outputs": [
    {
     "name": "stdout",
     "output_type": "stream",
     "text": [
      "1 3 7 9 5\n"
     ]
    },
    {
     "data": {
      "text/plain": [
       "[1, 3, 7, 9, 5]"
      ]
     },
     "execution_count": 17,
     "metadata": {},
     "output_type": "execute_result"
    }
   ],
   "source": [
    "s2 = [*map(int,input().split())]\n",
    "s2"
   ]
  },
  {
   "cell_type": "code",
   "execution_count": 24,
   "id": "389cc7b3",
   "metadata": {
    "ExecuteTime": {
     "end_time": "2022-05-24T18:06:24.414213Z",
     "start_time": "2022-05-24T18:06:24.405462Z"
    }
   },
   "outputs": [],
   "source": [
    "def bs(n,li):\n",
    "    s,e=0,len(li)-1\n",
    "    while s<=e:\n",
    "        mid=(s+e)//2\n",
    "        if n==li[mid]:\n",
    "            return 1\n",
    "        elif n<li[mid]:\n",
    "            e=mid-1\n",
    "        else:\n",
    "            s=mid+1\n",
    "    return 0"
   ]
  },
  {
   "cell_type": "code",
   "execution_count": 25,
   "id": "14375cde",
   "metadata": {
    "ExecuteTime": {
     "end_time": "2022-05-24T18:06:24.952413Z",
     "start_time": "2022-05-24T18:06:24.944811Z"
    }
   },
   "outputs": [
    {
     "name": "stdout",
     "output_type": "stream",
     "text": [
      "1\n",
      "1\n",
      "0\n",
      "0\n",
      "1\n"
     ]
    }
   ],
   "source": [
    "for i in s2:\n",
    "    print(bs(i,s1))"
   ]
  },
  {
   "cell_type": "markdown",
   "id": "b57f682a",
   "metadata": {},
   "source": [
    "### 제출풀이"
   ]
  },
  {
   "cell_type": "code",
   "execution_count": null,
   "id": "1faf7d36",
   "metadata": {},
   "outputs": [],
   "source": [
    "def bs(n,li):\n",
    "    s,e=0,len(li)-1\n",
    "    while s<=e:\n",
    "        mid=(s+e)//2\n",
    "        if n==li[mid]:\n",
    "            return 1\n",
    "        elif n<li[mid]:\n",
    "            e=mid-1\n",
    "        else:\n",
    "            s=mid+1\n",
    "    return 0\n",
    "\n",
    "T=int(input())\n",
    "for _ in range(T):\n",
    "    N=int(input())\n",
    "    s1 = sorted([*map(int,input().split())])\n",
    "    M=int(input())\n",
    "    s2 = [*map(int,input().split())]\n",
    "    for i in s2:\n",
    "        print(bs(i,s1))"
   ]
  },
  {
   "cell_type": "markdown",
   "id": "07d8e77a",
   "metadata": {},
   "source": [
    "## 10815 숫자 카드"
   ]
  },
  {
   "cell_type": "markdown",
   "id": "5807b190",
   "metadata": {},
   "source": [
    "    숫자 카드의 개수 N(1 ≤ N ≤ 500,000)이 주어진다. 둘째 줄에는 숫자 카드에 적혀있는 정수\n",
    "    셋째 줄에는 M(1 ≤ M ≤ 500,000)이 주어진다. 넷째 줄에는 상근이가 가지고 있는 숫자 카드인지 아닌지를 구해야 할 M개의 정수가 주어진다.\n",
    "    상상 코딩 : 첫번째 카드 정렬 -> 두번째 카드 순서대로 이진탐색하기"
   ]
  },
  {
   "cell_type": "code",
   "execution_count": 26,
   "id": "b7d83eb4",
   "metadata": {
    "ExecuteTime": {
     "end_time": "2022-05-25T11:22:33.606033Z",
     "start_time": "2022-05-25T11:22:18.271709Z"
    }
   },
   "outputs": [
    {
     "name": "stdout",
     "output_type": "stream",
     "text": [
      "5\n",
      "6 3 2 10 -10\n",
      "8\n",
      "10 9 -5 2 3 4 5 -10\n"
     ]
    }
   ],
   "source": [
    "N=int(input())\n",
    "li=sorted([*map(int,input().split())])\n",
    "M=int(input())\n",
    "arr=[*map(int,input().split())]"
   ]
  },
  {
   "cell_type": "code",
   "execution_count": 27,
   "id": "a81dd717",
   "metadata": {
    "ExecuteTime": {
     "end_time": "2022-05-25T11:22:39.817602Z",
     "start_time": "2022-05-25T11:22:39.805379Z"
    }
   },
   "outputs": [
    {
     "data": {
      "text/plain": [
       "([-10, 2, 3, 6, 10], [10, 9, -5, 2, 3, 4, 5, -10])"
      ]
     },
     "execution_count": 27,
     "metadata": {},
     "output_type": "execute_result"
    }
   ],
   "source": [
    "li, arr"
   ]
  },
  {
   "cell_type": "code",
   "execution_count": 29,
   "id": "3a636a86",
   "metadata": {
    "ExecuteTime": {
     "end_time": "2022-05-25T11:24:34.858731Z",
     "start_time": "2022-05-25T11:24:34.849260Z"
    }
   },
   "outputs": [],
   "source": [
    "def bs(t, li):\n",
    "    start, end = 0, len(li)-1\n",
    "    while start <= end:\n",
    "        mid = (start+end)//2\n",
    "        if li[mid]==t:\n",
    "            return 1\n",
    "        if li[mid] < t:\n",
    "            start=mid+1\n",
    "        else:\n",
    "            end=mid-1\n",
    "    return 0            "
   ]
  },
  {
   "cell_type": "code",
   "execution_count": 31,
   "id": "313c946a",
   "metadata": {
    "ExecuteTime": {
     "end_time": "2022-05-25T11:24:51.866663Z",
     "start_time": "2022-05-25T11:24:51.855872Z"
    }
   },
   "outputs": [
    {
     "name": "stdout",
     "output_type": "stream",
     "text": [
      "1 0 0 1 1 0 0 1 "
     ]
    }
   ],
   "source": [
    "for i in arr:\n",
    "    print(bs(i, li),end=' ')"
   ]
  },
  {
   "cell_type": "markdown",
   "id": "7eceff94",
   "metadata": {},
   "source": [
    "### 제출풀이"
   ]
  },
  {
   "cell_type": "code",
   "execution_count": null,
   "id": "b21664bd",
   "metadata": {},
   "outputs": [],
   "source": [
    "N=int(input())\n",
    "li=sorted([*map(int,input().split())])\n",
    "M=int(input())\n",
    "arr=[*map(int,input().split())]\n",
    "\n",
    "def bs(t, li):\n",
    "    start, end = 0, len(li)-1\n",
    "    while start <= end:\n",
    "        mid = (start+end)//2\n",
    "        if li[mid]==t:\n",
    "            return 1\n",
    "        if li[mid] < t:\n",
    "            start=mid+1\n",
    "        else:\n",
    "            end=mid-1\n",
    "    return 0            \n",
    "\n",
    "for i in arr:\n",
    "    print(bs(i, li),end=' ')"
   ]
  },
  {
   "cell_type": "markdown",
   "id": "a32e8da1",
   "metadata": {},
   "source": [
    "## 1072 게임"
   ]
  },
  {
   "cell_type": "markdown",
   "id": "a70542b7",
   "metadata": {},
   "source": [
    "    게임 기록은 다음과 같이 생겼다.\n",
    "\n",
    "    게임 횟수 : X\n",
    "    이긴 게임 : Y (Z%)\n",
    "    Z는 형택이의 승률이고, 소수점은 버린다. 예를 들어, X=53, Y=47이라면, Z=88이다.\n",
    "    X와 Y가 주어졌을 때, 형택이가 게임을 최소 몇 번 더 해야 Z가 변하는지 구하는 프로그램을 작성하시오.\n",
    "    앞으로 하는 게임에서 형택이는 모두 이긴다.\n",
    "\n",
    "    입력\n",
    "    각 줄에 정수 X와 Y가 주어진다.\n",
    "\n",
    "    출력\n",
    "    첫째 줄에 형택이가 게임을 최소 몇 판 더 해야하는지 출력한다. 만약 Z가 절대 변하지 않는다면 -1을 출력한다."
   ]
  },
  {
   "cell_type": "code",
   "execution_count": 32,
   "id": "d16e3fba",
   "metadata": {
    "ExecuteTime": {
     "end_time": "2022-05-25T12:57:23.828063Z",
     "start_time": "2022-05-25T12:57:23.819102Z"
    }
   },
   "outputs": [],
   "source": [
    "X,Y=100,80"
   ]
  },
  {
   "cell_type": "code",
   "execution_count": 37,
   "id": "dfd14c0f",
   "metadata": {
    "ExecuteTime": {
     "end_time": "2022-05-25T12:58:54.375645Z",
     "start_time": "2022-05-25T12:58:54.356252Z"
    }
   },
   "outputs": [],
   "source": [
    "Z=Y*100//X\n",
    "if Z>=99:\n",
    "    print(-1)"
   ]
  },
  {
   "cell_type": "code",
   "execution_count": 41,
   "id": "588261ec",
   "metadata": {
    "ExecuteTime": {
     "end_time": "2022-05-25T13:05:08.424850Z",
     "start_time": "2022-05-25T13:05:08.412865Z"
    }
   },
   "outputs": [
    {
     "name": "stdout",
     "output_type": "stream",
     "text": [
      "50판 했을 때, 승률이 86로 승률 변했다. 더 낮출수있나 보자\n",
      "24판 했을 때, 승률이 83로 승률 변했다. 더 낮출수있나 보자\n",
      "11판 했을 때, 승률이 81로 승률 변했다. 더 낮출수있나 보자\n",
      "8판 했을 때, 승률이 81로 승률 변했다. 더 낮출수있나 보자\n",
      "6판 했을 때, 승률이 81로 승률 변했다. 더 낮출수있나 보자\n"
     ]
    }
   ],
   "source": [
    "result=X\n",
    "start,end=0,X\n",
    "while start<=end:\n",
    "    mid=(start+end)//2\n",
    "    # Z가 변한 경우 -> 최소 mid값 찾기, 앞부분 탐색\n",
    "    if (Y+mid)*100//(X+mid)>Z:\n",
    "        print(f\"{mid}판 했을 때, 승률이 {(Y+mid)*100//(X+mid)}로 승률 변했다. 더 낮출수있나 보자\")\n",
    "        end=mid-1\n",
    "        result=min(result,mid)\n",
    "    # Z가 변하지 않은 경우 -> 숫자 높이기\n",
    "    else:\n",
    "        start=mid+1"
   ]
  },
  {
   "cell_type": "code",
   "execution_count": 39,
   "id": "98f9e31c",
   "metadata": {
    "ExecuteTime": {
     "end_time": "2022-05-25T13:04:08.500179Z",
     "start_time": "2022-05-25T13:04:08.489578Z"
    }
   },
   "outputs": [
    {
     "data": {
      "text/plain": [
       "6"
      ]
     },
     "execution_count": 39,
     "metadata": {},
     "output_type": "execute_result"
    }
   ],
   "source": [
    "result"
   ]
  },
  {
   "cell_type": "markdown",
   "id": "8bf3172f",
   "metadata": {},
   "source": [
    "### 제출풀이"
   ]
  },
  {
   "cell_type": "code",
   "execution_count": 46,
   "id": "a02d369c",
   "metadata": {
    "ExecuteTime": {
     "end_time": "2022-05-25T13:08:21.877889Z",
     "start_time": "2022-05-25T13:08:21.279714Z"
    }
   },
   "outputs": [
    {
     "name": "stdout",
     "output_type": "stream",
     "text": [
      "1 1\n",
      "-1\n"
     ]
    }
   ],
   "source": [
    "X,Y=map(int,input().split())\n",
    "Z=Y*100//X\n",
    "\n",
    "if Z>=99:\n",
    "    print(-1)\n",
    "else:\n",
    "    result=X\n",
    "    start,end=0,X\n",
    "    while start<=end:\n",
    "        mid=(start+end)//2\n",
    "        # Z가 변한 경우 -> 최소 mid값 찾기, 앞부분 탐색\n",
    "        if (Y+mid)*100//(X+mid)>Z:\n",
    "            end=mid-1\n",
    "            result=min(result,mid)\n",
    "        # Z가 변하지 않은 경우 -> 숫자 높이기\n",
    "        else:\n",
    "            start=mid+1\n",
    "    print(result)"
   ]
  },
  {
   "cell_type": "markdown",
   "id": "3f5591c1",
   "metadata": {},
   "source": [
    "## 1654 랜선 자르기"
   ]
  },
  {
   "cell_type": "markdown",
   "id": "89083062",
   "metadata": {},
   "source": [
    "    입력\n",
    "    첫째 줄에는 오영식이 이미 가지고 있는 랜선의 개수 K, 그리고 필요한 랜선의 개수 N이 입력된다. K는 1이상 10,000이하의 정수이고, N은 1이상 1,000,000이하의 정수이다. 그리고 항상 K ≦ N 이다. 그 후 K줄에 걸쳐 이미 가지고 있는 각 랜선의 길이가 센티미터 단위의 정수로 입력된다. 랜선의 길이는 231-1보다 작거나 같은 자연수이다.\n",
    "    출력\n",
    "    첫째 줄에 N개를 만들 수 있는 랜선의 최대 길이를 센티미터 단위의 정수로 출력한다.\n",
    "```\n",
    "4 11\n",
    "802\n",
    "743\n",
    "457\n",
    "539\n",
    "```\n",
    "    4개의 랜선을 가지고 있고, 이를 11개로 늘려야 한다. 200cm씩 자르면\n",
    "    802 ⇒ 4개\n",
    "    743 ⇒ 3개\n",
    "    457 ⇒ 2개\n",
    "    539 ⇒ 2개\n",
    "    총 11개가 된다."
   ]
  },
  {
   "cell_type": "code",
   "execution_count": 1,
   "id": "1bfa030f",
   "metadata": {
    "ExecuteTime": {
     "end_time": "2022-05-24T17:42:56.705933Z",
     "start_time": "2022-05-24T17:42:56.682854Z"
    }
   },
   "outputs": [
    {
     "data": {
      "text/plain": [
       "(4, 11)"
      ]
     },
     "execution_count": 1,
     "metadata": {},
     "output_type": "execute_result"
    }
   ],
   "source": [
    "k,n = 4,11\n",
    "k,n"
   ]
  },
  {
   "cell_type": "code",
   "execution_count": 2,
   "id": "cd8b81fb",
   "metadata": {
    "ExecuteTime": {
     "end_time": "2022-05-24T17:44:16.031162Z",
     "start_time": "2022-05-24T17:44:03.828484Z"
    }
   },
   "outputs": [
    {
     "name": "stdout",
     "output_type": "stream",
     "text": [
      "802\n",
      "743\n",
      "457\n",
      "539\n"
     ]
    }
   ],
   "source": [
    "l = [int(input()) for _ in range(k)]"
   ]
  },
  {
   "cell_type": "code",
   "execution_count": 8,
   "id": "6427b017",
   "metadata": {
    "ExecuteTime": {
     "end_time": "2022-05-24T17:50:12.808230Z",
     "start_time": "2022-05-24T17:50:12.801357Z"
    }
   },
   "outputs": [
    {
     "data": {
      "text/plain": [
       "[802, 743, 457, 539]"
      ]
     },
     "execution_count": 8,
     "metadata": {},
     "output_type": "execute_result"
    }
   ],
   "source": [
    "l"
   ]
  },
  {
   "cell_type": "code",
   "execution_count": 9,
   "id": "d7de136e",
   "metadata": {
    "ExecuteTime": {
     "end_time": "2022-05-24T17:50:13.446946Z",
     "start_time": "2022-05-24T17:50:13.436934Z"
    }
   },
   "outputs": [
    {
     "data": {
      "text/plain": [
       "(0, 802)"
      ]
     },
     "execution_count": 9,
     "metadata": {},
     "output_type": "execute_result"
    }
   ],
   "source": [
    "start,end=1,max(l)\n",
    "start,end"
   ]
  },
  {
   "cell_type": "code",
   "execution_count": 10,
   "id": "179ea127",
   "metadata": {
    "ExecuteTime": {
     "end_time": "2022-05-24T17:50:14.126860Z",
     "start_time": "2022-05-24T17:50:14.113918Z"
    }
   },
   "outputs": [
    {
     "name": "stdout",
     "output_type": "stream",
     "text": [
      "401만큼 자를때 5개\n",
      "200만큼 자를때 11개\n",
      "300만큼 자를때 6개\n",
      "250만큼 자를때 8개\n",
      "225만큼 자를때 10개\n",
      "212만큼 자를때 10개\n",
      "206만큼 자를때 10개\n",
      "203만큼 자를때 10개\n",
      "201만큼 자를때 10개\n"
     ]
    }
   ],
   "source": [
    "result=0\n",
    "while start <= end:\n",
    "    mid=(start+end)//2\n",
    "    cc = sum(i//mid for i in l)\n",
    "    print(f\"{mid}만큼 자를때 {cc}개\")\n",
    "    if cc >= n:\n",
    "        start=mid+1\n",
    "        result = max(result,mid)\n",
    "    else:\n",
    "        end=mid-1"
   ]
  },
  {
   "cell_type": "code",
   "execution_count": 11,
   "id": "9c4196dc",
   "metadata": {
    "ExecuteTime": {
     "end_time": "2022-05-24T17:50:17.902240Z",
     "start_time": "2022-05-24T17:50:17.892113Z"
    }
   },
   "outputs": [
    {
     "data": {
      "text/plain": [
       "200"
      ]
     },
     "execution_count": 11,
     "metadata": {},
     "output_type": "execute_result"
    }
   ],
   "source": [
    "result"
   ]
  },
  {
   "cell_type": "markdown",
   "id": "31fe980f",
   "metadata": {},
   "source": [
    "### 제출 풀이"
   ]
  },
  {
   "cell_type": "code",
   "execution_count": null,
   "id": "5a2bf958",
   "metadata": {},
   "outputs": [],
   "source": [
    "k,n = map(int,input().split())\n",
    "l = [int(input()) for _ in range(k)]\n",
    "\n",
    "start,end=1,max(l)\n",
    "result=0\n",
    "\n",
    "while start <= end:\n",
    "    mid=(start+end)//2\n",
    "    cc = sum(i//mid for i in l)\n",
    "    if cc >= n:\n",
    "        start=mid+1\n",
    "        result = max(result,mid)\n",
    "    else:\n",
    "        end=mid-1\n",
    "print(result)"
   ]
  },
  {
   "cell_type": "markdown",
   "id": "f22975d1",
   "metadata": {},
   "source": [
    "## 2512 예산"
   ]
  },
  {
   "cell_type": "markdown",
   "id": "ac048988",
   "metadata": {},
   "source": [
    "    입력\n",
    "    첫째 줄에는 지방의 수를 의미하는 정수 N이 주어진다. N은 3 이상 10,000 이하이다. 다음 줄에는 각 지방의 예산요청을 표현하는 N개의 정수가 빈칸을 사이에 두고 주어진다. 이 값들은 모두 1 이상 100,000 이하이다. 그 다음 줄에는 총 예산을 나타내는 정수 M이 주어진다. M은 N 이상 1,000,000,000 이하이다. \n",
    "    4\n",
    "    120 110 140 150\n",
    "    485\n",
    "    \n",
    "    출력\n",
    "    첫째 줄에는 배정된 예산들 중 최댓값인 정수를 출력한다.\n",
    "    127\n",
    "    \n",
    "정해진 총액 이하에서 가능한 한 최대의 총 예산을 다음과 같은 방법으로 배정.<br>\n",
    "예를 들어, 전체 국가예산이 485이고 4개 지방의 예산요청이 각각 120, 110, 140, 150이라고 하자. 이 경우, 상한액을 127로 잡으면, 위의 요청들에 대해서 각각 120, 110, 127, 127을 배정하고 그 합이 484로 가능한 최대"
   ]
  },
  {
   "cell_type": "code",
   "execution_count": 47,
   "id": "f5f08590",
   "metadata": {
    "ExecuteTime": {
     "end_time": "2022-05-25T14:02:25.147445Z",
     "start_time": "2022-05-25T14:02:25.139335Z"
    }
   },
   "outputs": [],
   "source": [
    "N=4"
   ]
  },
  {
   "cell_type": "code",
   "execution_count": 48,
   "id": "be89e8b0",
   "metadata": {
    "ExecuteTime": {
     "end_time": "2022-05-25T14:04:02.443120Z",
     "start_time": "2022-05-25T14:03:54.878134Z"
    }
   },
   "outputs": [
    {
     "name": "stdout",
     "output_type": "stream",
     "text": [
      "120 110 140 150\n"
     ]
    },
    {
     "data": {
      "text/plain": [
       "[120, 110, 140, 150]"
      ]
     },
     "execution_count": 48,
     "metadata": {},
     "output_type": "execute_result"
    }
   ],
   "source": [
    "li=[*map(int,input().split())]\n",
    "li"
   ]
  },
  {
   "cell_type": "code",
   "execution_count": 49,
   "id": "e463adcf",
   "metadata": {
    "ExecuteTime": {
     "end_time": "2022-05-25T14:04:09.746893Z",
     "start_time": "2022-05-25T14:04:09.740133Z"
    }
   },
   "outputs": [],
   "source": [
    "bg=485"
   ]
  },
  {
   "cell_type": "code",
   "execution_count": 50,
   "id": "c838e966",
   "metadata": {
    "ExecuteTime": {
     "end_time": "2022-05-25T14:04:29.769667Z",
     "start_time": "2022-05-25T14:04:29.760792Z"
    }
   },
   "outputs": [],
   "source": [
    "start, end=0, max(li)"
   ]
  },
  {
   "cell_type": "code",
   "execution_count": 52,
   "id": "2aba8d33",
   "metadata": {
    "ExecuteTime": {
     "end_time": "2022-05-25T14:05:48.879507Z",
     "start_time": "2022-05-25T14:05:48.867410Z"
    }
   },
   "outputs": [
    {
     "data": {
      "text/plain": [
       "4"
      ]
     },
     "execution_count": 52,
     "metadata": {},
     "output_type": "execute_result"
    }
   ],
   "source": [
    "result=0"
   ]
  },
  {
   "cell_type": "code",
   "execution_count": 54,
   "id": "518f9304",
   "metadata": {
    "ExecuteTime": {
     "end_time": "2022-05-25T14:08:22.750321Z",
     "start_time": "2022-05-25T14:08:22.736579Z"
    }
   },
   "outputs": [
    {
     "name": "stdout",
     "output_type": "stream",
     "text": [
      "현재 예산은 300로 485이하 -> 최대 가능 예산은 75\n",
      "현재 예산은 449로 485이하 -> 최대 가능 예산은 113\n",
      "현재 예산은 474로 485이하 -> 최대 가능 예산은 122\n",
      "현재 예산은 484로 485이하 -> 최대 가능 예산은 127\n"
     ]
    }
   ],
   "source": [
    "while start <= end:\n",
    "    mid=(start+end)//2\n",
    "    c_bg = sum(i if i<=mid else mid for i in li)\n",
    "    if c_bg > bg:\n",
    "        end=mid-1\n",
    "    else:\n",
    "        result=max(result,mid)\n",
    "        print(f\"현재 예산은 {c_bg}로 {bg}이하 -> 최대 가능 예산은 {mid}\")\n",
    "        start=mid+1"
   ]
  },
  {
   "cell_type": "code",
   "execution_count": 55,
   "id": "294b3aba",
   "metadata": {
    "ExecuteTime": {
     "end_time": "2022-05-25T14:08:28.288387Z",
     "start_time": "2022-05-25T14:08:28.276551Z"
    }
   },
   "outputs": [
    {
     "data": {
      "text/plain": [
       "127"
      ]
     },
     "execution_count": 55,
     "metadata": {},
     "output_type": "execute_result"
    }
   ],
   "source": [
    "print(result)"
   ]
  },
  {
   "cell_type": "markdown",
   "id": "a4638233",
   "metadata": {},
   "source": [
    "### 제출 풀이"
   ]
  },
  {
   "cell_type": "code",
   "execution_count": null,
   "id": "345f9fe0",
   "metadata": {},
   "outputs": [],
   "source": [
    "N=input()\n",
    "li=[*map(int,input().split())]\n",
    "bg=int(input())\n",
    "\n",
    "start, end=0, max(li)\n",
    "result=0\n",
    "\n",
    "while start <= end:\n",
    "    mid=(start+end)//2\n",
    "    c_bg = sum(i if i<=mid else mid for i in li)\n",
    "    if c_bg > bg:\n",
    "        end=mid-1\n",
    "    else:\n",
    "        result=max(result,mid)\n",
    "        start=mid+1\n",
    "\n",
    "print(result)"
   ]
  },
  {
   "cell_type": "markdown",
   "id": "8b0acde1",
   "metadata": {},
   "source": [
    "## 2110 공유기 설치"
   ]
  },
  {
   "cell_type": "markdown",
   "id": "b274165b",
   "metadata": {},
   "source": [
    "    입력\n",
    "    첫째 줄에 집의 개수 N (2 ≤ N ≤ 200,000)과 공유기의 개수 C (2 ≤ C ≤ N)이 하나 이상의 빈 칸을 사이에 두고 주어진다. 둘째 줄부터 N개의 줄에는 집의 좌표를 나타내는 xi (0 ≤ xi ≤ 1,000,000,000)가 한 줄에 하나씩 주어진다.\n",
    "    5 3\n",
    "    1\n",
    "    2\n",
    "    8\n",
    "    4\n",
    "    9\n",
    "    \n",
    "    출력\n",
    "    첫째 줄에 가장 인접한 두 공유기 사이의 최대 거리를 출력한다.\n",
    "    3\n",
    "    상상코딩: 가장 인접한 두 공유기사이의 최대 거리를 출력해야 한다.\n",
    "    첫번째 집에 공유기를 설치하고, 나머지 집의 인덱스에 대해 이진 탐색을 하면서 하면 안된다. 어떻게 해야할까?\n",
    "    -> 가장 인접한 두 공유기 사이의 거리를 이진 탐색 해야 한다."
   ]
  },
  {
   "cell_type": "code",
   "execution_count": 56,
   "id": "97f67d99",
   "metadata": {
    "ExecuteTime": {
     "end_time": "2022-05-25T14:15:19.988302Z",
     "start_time": "2022-05-25T14:15:19.980855Z"
    }
   },
   "outputs": [],
   "source": [
    "N,C = 5,3"
   ]
  },
  {
   "cell_type": "code",
   "execution_count": 57,
   "id": "3631515f",
   "metadata": {
    "ExecuteTime": {
     "end_time": "2022-05-25T14:15:52.292969Z",
     "start_time": "2022-05-25T14:15:47.375481Z"
    }
   },
   "outputs": [
    {
     "name": "stdout",
     "output_type": "stream",
     "text": [
      "1\n",
      "2\n",
      "8\n",
      "4\n",
      "9\n"
     ]
    }
   ],
   "source": [
    "li = sorted(int(input()) for i in range(N))"
   ]
  },
  {
   "cell_type": "code",
   "execution_count": 66,
   "id": "fff2ed93",
   "metadata": {
    "ExecuteTime": {
     "end_time": "2022-05-25T14:54:13.368985Z",
     "start_time": "2022-05-25T14:54:13.358767Z"
    }
   },
   "outputs": [
    {
     "data": {
      "text/plain": [
       "[1, 2, 4, 8, 9]"
      ]
     },
     "execution_count": 66,
     "metadata": {},
     "output_type": "execute_result"
    }
   ],
   "source": [
    "li"
   ]
  },
  {
   "cell_type": "code",
   "execution_count": 67,
   "id": "de967d09",
   "metadata": {
    "ExecuteTime": {
     "end_time": "2022-05-25T14:54:14.052486Z",
     "start_time": "2022-05-25T14:54:14.043305Z"
    }
   },
   "outputs": [],
   "source": [
    "result=0"
   ]
  },
  {
   "cell_type": "code",
   "execution_count": 68,
   "id": "976f8b63",
   "metadata": {
    "ExecuteTime": {
     "end_time": "2022-05-25T14:54:14.746252Z",
     "start_time": "2022-05-25T14:54:14.743928Z"
    }
   },
   "outputs": [],
   "source": [
    "start,end=1, max(li)"
   ]
  },
  {
   "cell_type": "code",
   "execution_count": 69,
   "id": "6275a9d5",
   "metadata": {
    "ExecuteTime": {
     "end_time": "2022-05-25T14:54:15.123609Z",
     "start_time": "2022-05-25T14:54:15.111614Z"
    }
   },
   "outputs": [
    {
     "name": "stdout",
     "output_type": "stream",
     "text": [
      "공유기 사이 최소거리 2일 때, 3개 설치 가능 -> 더 최대 거리 있나?\n",
      "공유기 사이 최소거리 3일 때, 3개 설치 가능 -> 더 최대 거리 있나?\n"
     ]
    }
   ],
   "source": [
    "while start <= end:\n",
    "    mid=(start+end)//2\n",
    "    cnt=1\n",
    "    cur=li[0]\n",
    "    # 최소 거리가 mid 일 때, 공유기 몇개 설치 가능한지 확인\n",
    "    for x in li:\n",
    "        if cur+mid <= x:\n",
    "            cnt+=1\n",
    "            cur=x\n",
    "    # 공유기 개수가 C보다 많다, 서로 거리가 가깝다. -> mid 증가\n",
    "    if cnt >= C:\n",
    "        result=max(result,mid)\n",
    "        print(f\"공유기 사이 최소거리 {mid}일 때, {cnt}개 설치 가능 -> 더 최대 거리 있나?\")\n",
    "        start=mid+1\n",
    "    # 공유기 개수가 C보다 적다, 서로 멀다 -> mid 감소\n",
    "    else:\n",
    "        end=mid-1"
   ]
  },
  {
   "cell_type": "code",
   "execution_count": 70,
   "id": "b2bcf0c7",
   "metadata": {
    "ExecuteTime": {
     "end_time": "2022-05-25T14:54:18.744901Z",
     "start_time": "2022-05-25T14:54:18.734080Z"
    }
   },
   "outputs": [
    {
     "data": {
      "text/plain": [
       "3"
      ]
     },
     "execution_count": 70,
     "metadata": {},
     "output_type": "execute_result"
    }
   ],
   "source": [
    "result"
   ]
  },
  {
   "cell_type": "markdown",
   "id": "f6641929",
   "metadata": {},
   "source": [
    "### 제출 풀이"
   ]
  },
  {
   "cell_type": "code",
   "execution_count": null,
   "id": "284a3333",
   "metadata": {},
   "outputs": [],
   "source": [
    "import sys\n",
    "input=sys.stdin.readline\n",
    "N,C = map(int,input().split())\n",
    "li = sorted(int(input()) for i in range(N))\n",
    "result=0\n",
    "start,end=1, max(li)\n",
    "while start <= end:\n",
    "    mid=(start+end)//2\n",
    "    cnt=1\n",
    "    cur=li[0]\n",
    "    for x in li:\n",
    "        if cur+mid <= x:\n",
    "            cnt+=1\n",
    "            cur=x\n",
    "    if cnt >= C:\n",
    "        result=max(result,mid)\n",
    "        start=mid+1\n",
    "    else:\n",
    "        end=mid-1\n",
    "print(result)"
   ]
  },
  {
   "cell_type": "markdown",
   "id": "702ebcdd",
   "metadata": {},
   "source": [
    "## 19637 IF문 좀 대신 써줘"
   ]
  },
  {
   "cell_type": "markdown",
   "id": "8df7c367",
   "metadata": {},
   "source": [
    "    N,M이 주어진다. (1 ≤ N, M ≤ 105)\n",
    "    N개의 칭호와 전투력이 주어지고, M개줄에 걸쳐 전투력이 주어진다. -> M개의 전투력에 대한 칭호를 출력\n",
    "    상상 코딩 : N개의 칭호,전투력을 리스트로 저장하고, 각 전투력에 대해 이진탐색으로 칭호 출력"
   ]
  },
  {
   "cell_type": "code",
   "execution_count": 71,
   "id": "6cdf2b56",
   "metadata": {
    "ExecuteTime": {
     "end_time": "2022-05-25T15:06:23.880547Z",
     "start_time": "2022-05-25T15:06:23.871628Z"
    }
   },
   "outputs": [],
   "source": [
    "N,M=3,8"
   ]
  },
  {
   "cell_type": "code",
   "execution_count": 73,
   "id": "f42e73d0",
   "metadata": {
    "ExecuteTime": {
     "end_time": "2022-05-25T15:26:49.438351Z",
     "start_time": "2022-05-25T15:26:38.334196Z"
    }
   },
   "outputs": [
    {
     "name": "stdout",
     "output_type": "stream",
     "text": [
      "WEAK 10000\n",
      "normal 100000\n",
      "strong 1000000\n"
     ]
    }
   ],
   "source": [
    "li=[]\n",
    "for i in range(N):\n",
    "    p,n=input().split()\n",
    "    li+=[(p,int(n))]"
   ]
  },
  {
   "cell_type": "code",
   "execution_count": 74,
   "id": "298608b7",
   "metadata": {
    "ExecuteTime": {
     "end_time": "2022-05-25T15:26:52.097068Z",
     "start_time": "2022-05-25T15:26:52.077684Z"
    }
   },
   "outputs": [
    {
     "data": {
      "text/plain": [
       "[('WEAK', 10000), ('normal', 100000), ('strong', 1000000)]"
      ]
     },
     "execution_count": 74,
     "metadata": {},
     "output_type": "execute_result"
    }
   ],
   "source": [
    "li"
   ]
  },
  {
   "cell_type": "code",
   "execution_count": 92,
   "id": "1a94cbf0",
   "metadata": {
    "ExecuteTime": {
     "end_time": "2022-05-25T15:40:08.147670Z",
     "start_time": "2022-05-25T15:40:08.132744Z"
    }
   },
   "outputs": [],
   "source": [
    "def bs(n, li):\n",
    "    start,end=0,len(li)-1\n",
    "    while start <= end:\n",
    "        mid=(start+end)//2\n",
    "        if li[mid][1]>=n:\n",
    "            print(f\"result 갱신 li인덱스 {mid}, {n}이 {li[mid][1]}이하 -> {li[mid][0]}\")\n",
    "            result=li[mid][0]\n",
    "            end=mid-1\n",
    "        else:\n",
    "            start=mid+1\n",
    "    return result"
   ]
  },
  {
   "cell_type": "code",
   "execution_count": null,
   "id": "872c57cb",
   "metadata": {
    "ExecuteTime": {
     "end_time": "2022-05-25T15:40:21.908366Z",
     "start_time": "2022-05-25T15:40:08.353194Z"
    }
   },
   "outputs": [],
   "source": [
    "for i in range(M):\n",
    "    print(bs(int(input()),li))"
   ]
  },
  {
   "cell_type": "markdown",
   "id": "9fd26045",
   "metadata": {},
   "source": [
    "### 제출 풀이"
   ]
  },
  {
   "cell_type": "code",
   "execution_count": null,
   "id": "25aad2ab",
   "metadata": {},
   "outputs": [],
   "source": [
    "import sys\n",
    "input=sys.stdin.readline\n",
    "\n",
    "N,M=map(int,input().split())\n",
    "li=[]\n",
    "for i in range(N):\n",
    "    p,n=input().split()\n",
    "    li+=[(p,int(n))]\n",
    "\n",
    "def bs(n, li):\n",
    "    start,end=0,len(li)-1\n",
    "    while start <= end:\n",
    "        mid=(start+end)//2\n",
    "        if li[mid][1]>=n:\n",
    "            result=li[mid][0]\n",
    "            end=mid-1\n",
    "        else:\n",
    "            start=mid+1\n",
    "    return result\n",
    "\n",
    "for i in range(M):\n",
    "    print(bs(int(input()),li))"
   ]
  },
  {
   "cell_type": "markdown",
   "id": "e98e6dda",
   "metadata": {},
   "source": [
    "### 또 다른 풀이"
   ]
  },
  {
   "cell_type": "code",
   "execution_count": null,
   "id": "68ce51b2",
   "metadata": {
    "ExecuteTime": {
     "end_time": "2022-05-25T15:49:11.459231Z",
     "start_time": "2022-05-25T15:48:50.346977Z"
    }
   },
   "outputs": [],
   "source": [
    "import sys\n",
    "from bisect import bisect_left\n",
    "input=sys.stdin.readline\n",
    "\n",
    "N,M=map(int,input().split())\n",
    "name_li=[];power_li=[]\n",
    "for i in range(N):\n",
    "    name,power=input().split()\n",
    "    name_li.append(name)\n",
    "    power_li.append(int(power))\n",
    "\n",
    "for _ in range(M):\n",
    "    c_power = int(input())\n",
    "    index = bisect_left(power_li, c_power)\n",
    "    print(name_li[index])"
   ]
  },
  {
   "cell_type": "markdown",
   "id": "a518f42c",
   "metadata": {},
   "source": [
    "## 11663 선분 위의 점\n",
    "\n"
   ]
  },
  {
   "cell_type": "markdown",
   "id": "8778ce93",
   "metadata": {},
   "source": [
    "    N,M (1 ≤ N, M ≤ 100,000) 주어진다.\n",
    "    다음줄에 점 N개의 좌표가 주어진다.\n",
    "    다음부터 M줄에 걸쳐, 선분의 시작점과 끝점이 주어진다.\n",
    "    출력 : 각 선분마다, 선분 위에 점 몇개 있는지 출력"
   ]
  },
  {
   "cell_type": "code",
   "execution_count": 108,
   "id": "de7dfe64",
   "metadata": {
    "ExecuteTime": {
     "end_time": "2022-05-25T16:16:26.858021Z",
     "start_time": "2022-05-25T16:16:26.846711Z"
    }
   },
   "outputs": [],
   "source": [
    "from bisect import bisect_left, bisect_right"
   ]
  },
  {
   "cell_type": "code",
   "execution_count": 106,
   "id": "560f6b75",
   "metadata": {
    "ExecuteTime": {
     "end_time": "2022-05-25T16:12:50.506317Z",
     "start_time": "2022-05-25T16:12:36.443421Z"
    }
   },
   "outputs": [
    {
     "name": "stdout",
     "output_type": "stream",
     "text": [
      "5 5\n",
      "1 3 10 20 30\n",
      "1 10\n",
      "20 60\n",
      "3 30\n",
      "2 15\n",
      "4 8\n"
     ]
    }
   ],
   "source": [
    "N,M=map(int,input().split())\n",
    "Dots=sorted([*map(int,input().split())])\n",
    "Lines=[list(map(int,input().split())) for _ in range(M)]"
   ]
  },
  {
   "cell_type": "code",
   "execution_count": 107,
   "id": "cb12ea90",
   "metadata": {
    "ExecuteTime": {
     "end_time": "2022-05-25T16:12:57.979522Z",
     "start_time": "2022-05-25T16:12:57.968659Z"
    }
   },
   "outputs": [
    {
     "data": {
      "text/plain": [
       "(5, 5, [1, 3, 10, 20, 30], [[1, 10], [20, 60], [3, 30], [2, 15], [4, 8]])"
      ]
     },
     "execution_count": 107,
     "metadata": {},
     "output_type": "execute_result"
    }
   ],
   "source": [
    "N,M, Dots, Lines"
   ]
  },
  {
   "cell_type": "code",
   "execution_count": 112,
   "id": "8c18d149",
   "metadata": {
    "ExecuteTime": {
     "end_time": "2022-05-25T16:17:58.514260Z",
     "start_time": "2022-05-25T16:17:58.502106Z"
    }
   },
   "outputs": [
    {
     "name": "stdout",
     "output_type": "stream",
     "text": [
      "3\n",
      "2\n",
      "4\n",
      "2\n",
      "0\n"
     ]
    }
   ],
   "source": [
    "for s,e in Lines:\n",
    "    print(bisect_right(Dots,e) - bisect_left(Dots,s))"
   ]
  },
  {
   "cell_type": "markdown",
   "id": "2126c05a",
   "metadata": {},
   "source": [
    "### 제출 풀이"
   ]
  },
  {
   "cell_type": "code",
   "execution_count": null,
   "id": "66bc2215",
   "metadata": {},
   "outputs": [],
   "source": [
    "import sys\n",
    "from bisect import bisect_left, bisect_right\n",
    "input=sys.stdin.readline\n",
    "N,M=map(int,input().split())\n",
    "Dots=sorted([*map(int,input().split())])\n",
    "\n",
    "for _ in range(M):\n",
    "    start, end =map(int,input().split())\n",
    "    print(bisect_right(Dots,end) - bisect_left(Dots,start))"
   ]
  }
 ],
 "metadata": {
  "kernelspec": {
   "display_name": "Python 3",
   "language": "python",
   "name": "python3"
  },
  "language_info": {
   "codemirror_mode": {
    "name": "ipython",
    "version": 3
   },
   "file_extension": ".py",
   "mimetype": "text/x-python",
   "name": "python",
   "nbconvert_exporter": "python",
   "pygments_lexer": "ipython3",
   "version": "3.8.12"
  },
  "toc": {
   "base_numbering": 1,
   "nav_menu": {},
   "number_sections": true,
   "sideBar": true,
   "skip_h1_title": false,
   "title_cell": "Table of Contents",
   "title_sidebar": "Contents",
   "toc_cell": false,
   "toc_position": {},
   "toc_section_display": true,
   "toc_window_display": true
  }
 },
 "nbformat": 4,
 "nbformat_minor": 5
}
