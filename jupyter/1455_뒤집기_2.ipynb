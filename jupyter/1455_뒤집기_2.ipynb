{
 "cells": [
  {
   "cell_type": "markdown",
   "id": "0e4c9d43",
   "metadata": {},
   "source": [
    "### 문제\n"
   ]
  },
  {
   "cell_type": "code",
   "execution_count": 1,
   "id": "fc6e3ac9",
   "metadata": {
    "ExecuteTime": {
     "end_time": "2022-12-18T04:00:42.863859Z",
     "start_time": "2022-12-18T04:00:42.723091Z"
    }
   },
   "outputs": [],
   "source": [
    "! # 시작시간 체크"
   ]
  },
  {
   "cell_type": "code",
   "execution_count": 2,
   "id": "50c1b0eb",
   "metadata": {
    "ExecuteTime": {
     "end_time": "2022-12-18T07:51:58.029830Z",
     "start_time": "2022-12-18T07:51:57.895619Z"
    }
   },
   "outputs": [],
   "source": [
    "! # 끝 시간 체크"
   ]
  },
  {
   "cell_type": "markdown",
   "id": "c40d31a4",
   "metadata": {},
   "source": [
    "상상 코딩\n",
    "\n",
    "    i,j를 뒤집었을 때 그 내부에 있는 동전이 뒤집히는 함수를 생성    \n",
    "    맨오른쪽 아래에서 왼쪽 위로 가며 1을 만났을 때 동전을 뒤집도록 진행"
   ]
  },
  {
   "cell_type": "markdown",
   "id": "88b63096",
   "metadata": {},
   "source": [
    "### 풀이"
   ]
  },
  {
   "cell_type": "code",
   "execution_count": null,
   "id": "77ded1f0",
   "metadata": {},
   "outputs": [],
   "source": []
  },
  {
   "cell_type": "markdown",
   "id": "c73eee2a",
   "metadata": {},
   "source": [
    "### 주석 달린 풀이"
   ]
  },
  {
   "cell_type": "code",
   "execution_count": 21,
   "id": "7fbaa820",
   "metadata": {
    "ExecuteTime": {
     "end_time": "2022-12-18T08:06:08.707178Z",
     "start_time": "2022-12-18T08:06:08.699216Z"
    }
   },
   "outputs": [
    {
     "data": {
      "text/plain": [
       "(2, 2, [[0], [1]])"
      ]
     },
     "execution_count": 21,
     "metadata": {},
     "output_type": "execute_result"
    }
   ],
   "source": [
    "N,M,mat"
   ]
  },
  {
   "cell_type": "code",
   "execution_count": 22,
   "id": "6532df5c",
   "metadata": {
    "ExecuteTime": {
     "end_time": "2022-12-18T08:06:36.797782Z",
     "start_time": "2022-12-18T08:06:35.143066Z"
    }
   },
   "outputs": [
    {
     "name": "stdout",
     "output_type": "stream",
     "text": [
      "2 2\n",
      "00\n",
      "01\n",
      "4\n"
     ]
    }
   ],
   "source": [
    "N,M=map(int,input().split())\n",
    "mat=[list(map(int,input())) for _ in range(N)]\n",
    "ans=0\n",
    "def flip(i,j):\n",
    "    for r in range(i+1):\n",
    "        for c in range(j+1):\n",
    "            mat[r][c] = not mat[r][c]\n",
    "\n",
    "for r in range(N-1,-1,-1):\n",
    "    for c in range(M-1,-1,-1):\n",
    "        if mat[r][c]==1:\n",
    "            flip(r,c)\n",
    "            ans+=1\n",
    "print(ans)"
   ]
  },
  {
   "cell_type": "markdown",
   "id": "8ed2b958",
   "metadata": {},
   "source": [
    "### 연습"
   ]
  },
  {
   "cell_type": "code",
   "execution_count": 17,
   "id": "7725a52f",
   "metadata": {
    "ExecuteTime": {
     "end_time": "2022-12-18T08:04:29.594803Z",
     "start_time": "2022-12-18T08:04:29.591015Z"
    }
   },
   "outputs": [],
   "source": [
    "N,M=2,2\n",
    "mat=[[0,0],[0,1]]\n",
    "ans=0"
   ]
  },
  {
   "cell_type": "code",
   "execution_count": 18,
   "id": "852be7d1",
   "metadata": {
    "ExecuteTime": {
     "end_time": "2022-12-18T08:04:29.845528Z",
     "start_time": "2022-12-18T08:04:29.840417Z"
    }
   },
   "outputs": [],
   "source": [
    "def flip(i,j):\n",
    "    for r in range(i+1):\n",
    "        for c in range(j+1):\n",
    "            mat[r][c] = not mat[r][c]"
   ]
  },
  {
   "cell_type": "code",
   "execution_count": 19,
   "id": "933f6031",
   "metadata": {
    "ExecuteTime": {
     "end_time": "2022-12-18T08:04:30.269932Z",
     "start_time": "2022-12-18T08:04:30.264195Z"
    }
   },
   "outputs": [
    {
     "name": "stdout",
     "output_type": "stream",
     "text": [
      "[[0, 0], [0, 1]]\n",
      "1 1 [[True, True], [True, False]] 1\n",
      "1 0 [[False, True], [False, False]] 2\n",
      "0 1 [[True, False], [False, False]] 3\n",
      "0 0 [[False, False], [False, False]] 4\n"
     ]
    }
   ],
   "source": [
    "print(mat)\n",
    "for r in range(N-1,-1,-1):\n",
    "    for c in range(M-1,-1,-1):\n",
    "        if mat[r][c]==1:\n",
    "            flip(r,c)\n",
    "            ans+=1\n",
    "            print(r,c,mat, ans)"
   ]
  },
  {
   "cell_type": "code",
   "execution_count": null,
   "id": "6302fb77",
   "metadata": {},
   "outputs": [],
   "source": []
  }
 ],
 "metadata": {
  "kernelspec": {
   "display_name": "Python 3",
   "language": "python",
   "name": "python3"
  },
  "language_info": {
   "codemirror_mode": {
    "name": "ipython",
    "version": 3
   },
   "file_extension": ".py",
   "mimetype": "text/x-python",
   "name": "python",
   "nbconvert_exporter": "python",
   "pygments_lexer": "ipython3",
   "version": "3.8.12"
  },
  "toc": {
   "base_numbering": 1,
   "nav_menu": {},
   "number_sections": true,
   "sideBar": true,
   "skip_h1_title": false,
   "title_cell": "Table of Contents",
   "title_sidebar": "Contents",
   "toc_cell": false,
   "toc_position": {},
   "toc_section_display": true,
   "toc_window_display": false
  }
 },
 "nbformat": 4,
 "nbformat_minor": 5
}
