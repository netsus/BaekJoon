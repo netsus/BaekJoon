{
 "cells": [
  {
   "cell_type": "markdown",
   "id": "0e4c9d43",
   "metadata": {},
   "source": [
    "### 문제\n"
   ]
  },
  {
   "cell_type": "code",
   "execution_count": null,
   "id": "fc6e3ac9",
   "metadata": {},
   "outputs": [],
   "source": [
    "! # 시작시간 체크"
   ]
  },
  {
   "cell_type": "code",
   "execution_count": null,
   "id": "50c1b0eb",
   "metadata": {},
   "outputs": [],
   "source": [
    "! # 끝 시간 체크"
   ]
  },
  {
   "cell_type": "markdown",
   "id": "88b63096",
   "metadata": {},
   "source": [
    "### 풀이"
   ]
  },
  {
   "cell_type": "code",
   "execution_count": 12,
   "id": "77ded1f0",
   "metadata": {
    "ExecuteTime": {
     "end_time": "2022-11-27T12:22:44.864277Z",
     "start_time": "2022-11-27T12:22:38.984317Z"
    }
   },
   "outputs": [
    {
     "name": "stdout",
     "output_type": "stream",
     "text": [
      "3\n",
      "2 2 2\n",
      "4 4 4\n",
      "8 8 8\n",
      "16\n"
     ]
    }
   ],
   "source": [
    "import sys\n",
    "from copy import deepcopy\n",
    "# input=sys.stdin.readline\n",
    "\n",
    "def move(board, dir):\n",
    "    if dir == 0: # 위\n",
    "        for j in range(N):\n",
    "            pointer = 0\n",
    "            for i in range(1, N):\n",
    "                if board[i][j]:\n",
    "                    tmp = board[i][j] # 현재 보드의 값\n",
    "                    board[i][j] = 0\n",
    "                    if board[pointer][j] == 0: # 포인터가 가리키는 수가 0일 때\n",
    "                        board[pointer][j] = tmp\n",
    "                    elif board[pointer][j] == tmp: # 포인터가 가리키는 수와 현재 위치의 수가 같을 때\n",
    "                        board[pointer][j] *= 2\n",
    "                        pointer += 1\n",
    "                    else: # 포인터가 가리키는 수와 현재 위치의 수가 다를 때\n",
    "                        pointer += 1\n",
    "                        board[pointer][j] = tmp\n",
    "    elif dir == 1: # 아래\n",
    "        for j in range(N):\n",
    "            pointer = N-1\n",
    "            for i in range(N-2,-1,-1): # n-1, n-2, ..., 1, 0\n",
    "                if board[i][j]:\n",
    "                    tmp = board[i][j]\n",
    "                    board[i][j] = 0\n",
    "                    if board[pointer][j] == 0:\n",
    "                        board[pointer][j] = tmp\n",
    "                    elif board[pointer][j] == tmp:\n",
    "                        board[pointer][j] = tmp*2\n",
    "                        pointer -= 1\n",
    "                    else:\n",
    "                        pointer -= 1\n",
    "                        board[pointer][j] = tmp\n",
    "    elif dir == 2: # 오른쪽\n",
    "        for i in range(N):\n",
    "            pointer = N-1\n",
    "            for j in range(N-2,-1,-1):\n",
    "                if board[i][j]:\n",
    "                    tmp = board[i][j]\n",
    "                    board[i][j]=0\n",
    "                    if board[i][pointer] == 0:\n",
    "                        board[i][pointer] = tmp\n",
    "                    elif board[i][pointer] == tmp:\n",
    "                        board[i][pointer] = tmp*2\n",
    "                        pointer -= 1\n",
    "                    else:\n",
    "                        pointer -= 1\n",
    "                        board[i][pointer] = tmp\n",
    "    else: # 왼쪽\n",
    "        for i in range(N):\n",
    "            pointer = 0\n",
    "            for j in range(1,N):\n",
    "                if board[i][j]:\n",
    "                    tmp = board[i][j]\n",
    "                    board[i][j] = 0\n",
    "                    if board[i][pointer] == 0:\n",
    "                        board[i][pointer] = tmp\n",
    "                    elif board[i][pointer] == tmp:\n",
    "                        board[i][pointer] = tmp*2\n",
    "                        pointer += 1\n",
    "                    else:\n",
    "                        pointer += 1\n",
    "                        board[i][pointer] = tmp\n",
    "    return board\n",
    "\n",
    "def dfs(board, cnt):\n",
    "    global ans\n",
    "    if cnt==5:\n",
    "        for i in range(N):\n",
    "            for j in range(N):\n",
    "                ans = max(ans,board[i][j])\n",
    "        return\n",
    "    for i in range(4): # 상,하,좌,우\n",
    "        tmp_board = move(deepcopy(board), i)\n",
    "        dfs(tmp_board, cnt+1)\n",
    "\n",
    "N = int(input())\n",
    "graph = [list(map(int,input().split())) for _ in range(N)]\n",
    "ans=0\n",
    "dfs(graph, 0)\n",
    "print(ans)"
   ]
  },
  {
   "cell_type": "markdown",
   "id": "c73eee2a",
   "metadata": {},
   "source": [
    "### 주석 달린 풀이"
   ]
  },
  {
   "cell_type": "code",
   "execution_count": null,
   "id": "6532df5c",
   "metadata": {},
   "outputs": [],
   "source": []
  },
  {
   "cell_type": "markdown",
   "id": "8ed2b958",
   "metadata": {},
   "source": [
    "### 연습"
   ]
  },
  {
   "cell_type": "code",
   "execution_count": null,
   "id": "fcf7282a",
   "metadata": {},
   "outputs": [],
   "source": [
    "def dfs(board, cnt):\n",
    "    global ans\n",
    "    if cnt == 5:\n",
    "        for i in range(N):\n",
    "            for j in range(N):\n",
    "                ans = max(ans,board[i][j])\n",
    "        return\n",
    "    for i in range(4):\n",
    "        tmp_board = move(board, i)\n",
    "        dfs(tmp_board, cnt+1)\n",
    "N = int(input())\n",
    "graph = [list(map(int,input().split())) for _ in range(N)]\n",
    "ans = 0 \n",
    "dfs(graph, 0)\n",
    "print(ans)"
   ]
  },
  {
   "cell_type": "code",
   "execution_count": null,
   "id": "e64daa95",
   "metadata": {
    "code_folding": []
   },
   "outputs": [],
   "source": [
    "def dfs(board, cnt):\n",
    "    global ans\n",
    "    if cnt == 5:\n",
    "        for i in range(n):\n",
    "            for j in range(n):\n",
    "                ans = max(ans, board[i][j])\n",
    "        return\n",
    "\n",
    "    for i in range(4):\n",
    "        tmp_board = move(deepcopy(board), i)\n",
    "        dfs(tmp_board, cnt + 1)\n",
    "\n",
    "N = int(input())\n",
    "graph = [list(map(int, input().split())) for _ in range(N)]\n",
    "ans = 0\n",
    "dfs(graph, 0)\n",
    "print(ans)"
   ]
  },
  {
   "cell_type": "code",
   "execution_count": 6,
   "id": "c173a04d",
   "metadata": {
    "ExecuteTime": {
     "end_time": "2022-11-27T11:01:25.978142Z",
     "start_time": "2022-11-27T11:01:25.967401Z"
    }
   },
   "outputs": [
    {
     "data": {
      "text/plain": [
       "3"
      ]
     },
     "execution_count": 6,
     "metadata": {},
     "output_type": "execute_result"
    }
   ],
   "source": [
    "N"
   ]
  },
  {
   "cell_type": "code",
   "execution_count": 5,
   "id": "33d61c21",
   "metadata": {
    "ExecuteTime": {
     "end_time": "2022-11-27T11:01:22.570253Z",
     "start_time": "2022-11-27T11:01:22.561475Z"
    }
   },
   "outputs": [
    {
     "data": {
      "text/plain": [
       "[[2, 2, 2], [4, 4, 4], [8, 8, 8]]"
      ]
     },
     "execution_count": 5,
     "metadata": {},
     "output_type": "execute_result"
    }
   ],
   "source": [
    "graph"
   ]
  },
  {
   "cell_type": "code",
   "execution_count": 8,
   "id": "8a49516e",
   "metadata": {
    "ExecuteTime": {
     "end_time": "2022-11-27T12:01:00.658739Z",
     "start_time": "2022-11-27T12:01:00.648002Z"
    }
   },
   "outputs": [
    {
     "data": {
      "text/plain": [
       "[3, 2, 1, 0]"
      ]
     },
     "execution_count": 8,
     "metadata": {},
     "output_type": "execute_result"
    }
   ],
   "source": [
    "[i for i in range(5-2,-1,-1)]"
   ]
  },
  {
   "cell_type": "code",
   "execution_count": 9,
   "id": "2b615557",
   "metadata": {
    "ExecuteTime": {
     "end_time": "2022-11-27T12:15:49.289200Z",
     "start_time": "2022-11-27T12:15:49.267290Z"
    }
   },
   "outputs": [],
   "source": [
    "def move(board, dir):\n",
    "    if dir == 0: # 위\n",
    "        for j in range(N):\n",
    "            pointer = 0\n",
    "            for i in range(1, N):\n",
    "                if board[i][j]:\n",
    "                    tmp = board[i][j] # 현재 보드의 값\n",
    "                    board[i][j] = 0\n",
    "                    if board[pointer][j]==0: # 포인터가 가리키는 수가 0일 때\n",
    "                        board[pointer][j] = tmp\n",
    "                    elif board[pointer][j] == tmp: # 포인터가 가리키는 수와 현재 위치의 수가 같을 때\n",
    "                        board[pointer][j] *= 2\n",
    "                        pointer += 1\n",
    "                    else: # 포인터가 가리키는 수와 현재 위치의 수가 다를 때\n",
    "                        pointer +=1\n",
    "                        board[pointer][j]=tmp\n",
    "    elif dir == 1: # 아래\n",
    "        for j in range(N):\n",
    "            pointer = n-1\n",
    "            for i in range(n-2,-1,-1): # n-1, n-2, ..., 1, 0\n",
    "                if board[i][j]:\n",
    "                    tmp = board[i][j]\n",
    "                    board[i][j]=0\n",
    "                    if board[pointer][j]==0:\n",
    "                        board[pointer][j] = tmp\n",
    "                    elif board[pointer][j]==tmp:\n",
    "                        board[pointer][j] = tmp*2\n",
    "                        pointer-=1\n",
    "                    else:\n",
    "                        pointer-=1\n",
    "                        board[pointer][j]=tmp\n",
    "    elif dir == 2: # 오른쪽\n",
    "        for i in range(N):\n",
    "            pointer = n-1\n",
    "            for j in range(n-2,-1,-1):\n",
    "                if board[i][j]:\n",
    "                    tmp = board[i][j]\n",
    "                    board[i][j]=0\n",
    "                    if board[i][pointer]==0:\n",
    "                        board[i][pointer]=tmp\n",
    "                    elif board[i][pointer]==tmp:\n",
    "                        board[i][pointer] = tmp*2\n",
    "                        pointer-=1\n",
    "                    else:\n",
    "                        pointer-=1\n",
    "                        board[i][pointer]=tmp\n",
    "    else: # 왼쪽\n",
    "        for i in range(N):\n",
    "            pointer = 0\n",
    "            for j in range(1,N):\n",
    "                if board[i][j]:\n",
    "                    tmp = board[i][j]\n",
    "                    board[i][j] = 0\n",
    "                    if board[i][pointer] == 0:\n",
    "                        board[i][pointer] = tmp\n",
    "                    elif board[i][pointer] == tmp:\n",
    "                        board[i][pointer] = tmp\n",
    "                        pointer+=1\n",
    "                    else:\n",
    "                        pointer+=1\n",
    "                        board[i][pointer] = tmp\n",
    "    return board"
   ]
  },
  {
   "cell_type": "code",
   "execution_count": null,
   "id": "84e4f648",
   "metadata": {},
   "outputs": [],
   "source": [
    "def move(board, dir):\n",
    "    if dir == 0:  # 동쪽\n",
    "        for i in range(n):\n",
    "            top = n - 1\n",
    "            for j in range(n - 2, -1, -1):\n",
    "                if board[i][j]:\n",
    "                    tmp = board[i][j]\n",
    "                    board[i][j] = 0\n",
    "                    if board[i][top] == 0:\n",
    "                        board[i][top] = tmp\n",
    "                    elif board[i][top] == tmp:\n",
    "                        board[i][top] = tmp * 2\n",
    "                        top -= 1\n",
    "                    else:\n",
    "                        top -= 1\n",
    "                        board[i][top] = tmp\n",
    "\n",
    "    elif dir == 1:  # 서쪽\n",
    "        for i in range(n):\n",
    "            top = 0\n",
    "            for j in range(1, n):\n",
    "                if board[i][j]:\n",
    "                    tmp = board[i][j]\n",
    "                    board[i][j] = 0\n",
    "                    if board[i][top] == 0:\n",
    "                        board[i][top] = tmp\n",
    "                    elif board[i][top] == tmp:\n",
    "                        board[i][top] = tmp * 2\n",
    "                        top += 1\n",
    "                    else:\n",
    "                        top += 1\n",
    "                        board[i][top] = tmp\n",
    "\n",
    "    elif dir == 2:  # 남쪽\n",
    "        for j in range(n):\n",
    "            top = n - 1\n",
    "            for i in range(n - 2, -1, -1):\n",
    "                if board[i][j]:\n",
    "                    tmp = board[i][j]\n",
    "                    board[i][j] = 0\n",
    "                    if board[top][j] == 0:\n",
    "                        board[top][j] = tmp\n",
    "                    elif board[top][j] == tmp:\n",
    "                        board[top][j] = tmp * 2\n",
    "                        top -= 1\n",
    "                    else:\n",
    "                        top -= 1\n",
    "                        board[top][j] = tmp\n",
    "\n",
    "    else:\n",
    "        for j in range(n):\n",
    "            top = 0\n",
    "            for i in range(1, n):\n",
    "                if board[i][j]:\n",
    "                    tmp = board[i][j]\n",
    "                    board[i][j] = 0\n",
    "                    if board[top][j] == 0:\n",
    "                        board[top][j] = tmp\n",
    "                    elif board[top][j] == tmp:\n",
    "                        board[top][j] = tmp * 2\n",
    "                        top += 1\n",
    "                    else:\n",
    "                        top += 1\n",
    "                        board[top][j] = tmp\n",
    "\n",
    "    return board"
   ]
  },
  {
   "cell_type": "code",
   "execution_count": null,
   "id": "bbcc359d",
   "metadata": {
    "code_folding": [
     8
    ]
   },
   "outputs": [],
   "source": [
    "from copy import deepcopy\n",
    "\n",
    "n = int(input())\n",
    "\n",
    "graph = []\n",
    "for i in range(n):\n",
    "    graph.append(list(map(int, input().split())))\n",
    "\n",
    "def move(board, dir):\n",
    "    if dir == 0:  # 동쪽\n",
    "        for i in range(n):\n",
    "            top = n - 1\n",
    "            for j in range(n - 2, -1, -1):\n",
    "                if board[i][j]:\n",
    "                    tmp = board[i][j]\n",
    "                    board[i][j] = 0\n",
    "                    if board[i][top] == 0:\n",
    "                        board[i][top] = tmp\n",
    "                    elif board[i][top] == tmp:\n",
    "                        board[i][top] = tmp * 2\n",
    "                        top -= 1\n",
    "                    else:\n",
    "                        top -= 1\n",
    "                        board[i][top] = tmp\n",
    "\n",
    "    elif dir == 1:  # 서쪽\n",
    "        for i in range(n):\n",
    "            top = 0\n",
    "            for j in range(1, n):\n",
    "                if board[i][j]:\n",
    "                    tmp = board[i][j]\n",
    "                    board[i][j] = 0\n",
    "                    if board[i][top] == 0:\n",
    "                        board[i][top] = tmp\n",
    "                    elif board[i][top] == tmp:\n",
    "                        board[i][top] = tmp * 2\n",
    "                        top += 1\n",
    "                    else:\n",
    "                        top += 1\n",
    "                        board[i][top] = tmp\n",
    "\n",
    "    elif dir == 2:  # 남쪽\n",
    "        for j in range(n):\n",
    "            top = n - 1\n",
    "            for i in range(n - 2, -1, -1):\n",
    "                if board[i][j]:\n",
    "                    tmp = board[i][j]\n",
    "                    board[i][j] = 0\n",
    "                    if board[top][j] == 0:\n",
    "                        board[top][j] = tmp\n",
    "                    elif board[top][j] == tmp:\n",
    "                        board[top][j] = tmp * 2\n",
    "                        top -= 1\n",
    "                    else:\n",
    "                        top -= 1\n",
    "                        board[top][j] = tmp\n",
    "\n",
    "    else:\n",
    "        for j in range(n):\n",
    "            top = 0\n",
    "            for i in range(1, n):\n",
    "                if board[i][j]:\n",
    "                    tmp = board[i][j]\n",
    "                    board[i][j] = 0\n",
    "                    if board[top][j] == 0:\n",
    "                        board[top][j] = tmp\n",
    "                    elif board[top][j] == tmp:\n",
    "                        board[top][j] = tmp * 2\n",
    "                        top += 1\n",
    "                    else:\n",
    "                        top += 1\n",
    "                        board[top][j] = tmp\n",
    "\n",
    "    return board\n",
    "\n",
    "\n",
    "def dfs(board, cnt):\n",
    "    global ans\n",
    "    if cnt == 5:\n",
    "        for i in range(n):\n",
    "            for j in range(n):\n",
    "                ans = max(ans, board[i][j])\n",
    "        return\n",
    "\n",
    "    for i in range(4):\n",
    "        tmp_board = move(deepcopy(board), i)\n",
    "        dfs(tmp_board, cnt + 1)\n",
    "\n",
    "ans = 0\n",
    "dfs(graph, 0)\n",
    "print(ans)"
   ]
  },
  {
   "cell_type": "markdown",
   "id": "5a462505",
   "metadata": {},
   "source": [
    "### inh 풀이"
   ]
  },
  {
   "cell_type": "code",
   "execution_count": null,
   "id": "2719148e",
   "metadata": {},
   "outputs": [],
   "source": [
    "from itertools import product\n",
    "import copy\n",
    "\n",
    "def move_up(board, n):\n",
    "    for j in range(n):\n",
    "        top = 0\n",
    "        for i in range(1, n):\n",
    "            if board[i][j]:\n",
    "                tmp = board[i][j]\n",
    "                board[i][j] = 0\n",
    "                if board[top][j] == 0:\n",
    "                    board[top][j] = tmp\n",
    "                elif board[top][j] == tmp:\n",
    "                    board[top][j] = tmp * 2\n",
    "                    top += 1\n",
    "                else:\n",
    "                    top += 1\n",
    "                    board[top][j] = tmp\n",
    "    return board\n",
    "\n",
    "def move_down(board, n):\n",
    "    for j in range(n):\n",
    "        top = n - 1\n",
    "        for i in range(n - 2, -1, -1):\n",
    "            if board[i][j]:\n",
    "                tmp = board[i][j]\n",
    "                board[i][j] = 0\n",
    "                if board[top][j] == 0:\n",
    "                    board[top][j] = tmp\n",
    "                elif board[top][j] == tmp:\n",
    "                    board[top][j] = tmp * 2\n",
    "                    top -= 1\n",
    "                else:\n",
    "                    top -= 1\n",
    "                    board[top][j] = tmp\n",
    "    return board\n",
    "\n",
    "def move_left(board, n):\n",
    "    for i in range(n):\n",
    "        top = n - 1\n",
    "        for j in range(n - 2, -1, -1):\n",
    "            if board[i][j]:\n",
    "                tmp = board[i][j]\n",
    "                board[i][j] = 0\n",
    "                if board[i][top] == 0:\n",
    "                    board[i][top] = tmp\n",
    "                elif board[i][top] == tmp:\n",
    "                    board[i][top] = tmp * 2\n",
    "                    top -= 1\n",
    "                else:\n",
    "                    top -= 1\n",
    "                    board[i][top] = tmp\n",
    "    return board\n",
    "\n",
    "def move_right(board, n):\n",
    "    for i in range(n):\n",
    "        top = 0\n",
    "        for j in range(1, n):\n",
    "            if board[i][j]:\n",
    "                tmp = board[i][j]\n",
    "                board[i][j] = 0\n",
    "                if board[i][top] == 0:\n",
    "                    board[i][top] = tmp\n",
    "                elif board[i][top] == tmp:\n",
    "                    board[i][top] = tmp * 2\n",
    "                    top += 1\n",
    "                else:\n",
    "                    top += 1\n",
    "                    board[i][top] = tmp\n",
    "    return board\n",
    "\n",
    "\n",
    "N = int(input())\n",
    "board = [list(map(int, input().split())) for _ in range(N)]\n",
    "move = ['상','하','좌','우']\n",
    "result = 0\n",
    "a=  [1,2,3,4] b= [a,b,c]\n",
    "=>product(b,repeat=2) => [a,a][a,b][a,c][b,a]\n",
    "[a,a,a,a,a],[a,a,a,a,b]....\n",
    "\n",
    "for case in product(move, repeat=5):\n",
    "    copied = copy.deepcopy(board)\n",
    "    for t in range(5):\n",
    "        if case[t] == '상':\n",
    "            copied = move_up(copied, N)\n",
    "        elif case[t] == '하':\n",
    "            copied = move_down(copied, N)\n",
    "        elif case[t] == '좌':\n",
    "            copied = move_left(copied, N)\n",
    "        else:\n",
    "            copied = move_right(copied, N)\n",
    "    max_num = 0\n",
    "    for i in range(N):\n",
    "        for j in range(N):\n",
    "            max_num = max(max_num, copied[i][j])\n",
    "    result = max(result, max_num)\n",
    "print(result)"
   ]
  }
 ],
 "metadata": {
  "kernelspec": {
   "display_name": "Python 3",
   "language": "python",
   "name": "python3"
  },
  "language_info": {
   "codemirror_mode": {
    "name": "ipython",
    "version": 3
   },
   "file_extension": ".py",
   "mimetype": "text/x-python",
   "name": "python",
   "nbconvert_exporter": "python",
   "pygments_lexer": "ipython3",
   "version": "3.8.12"
  },
  "toc": {
   "base_numbering": 1,
   "nav_menu": {},
   "number_sections": true,
   "sideBar": true,
   "skip_h1_title": false,
   "title_cell": "Table of Contents",
   "title_sidebar": "Contents",
   "toc_cell": false,
   "toc_position": {},
   "toc_section_display": true,
   "toc_window_display": false
  }
 },
 "nbformat": 4,
 "nbformat_minor": 5
}
