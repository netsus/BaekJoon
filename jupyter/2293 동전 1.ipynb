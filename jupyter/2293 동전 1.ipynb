{
 "cells": [
  {
   "cell_type": "markdown",
   "id": "2c11fbf9",
   "metadata": {},
   "source": [
    "동전 1\n",
    "문제 이해 :  n, k가 주어진다. (1 ≤ n ≤ 100, 1 ≤ k ≤ 10,000) 다음 n개의 줄에는 각각의 동전의 가치가 주어진다. 동전의 가치는 100,000보다 작거나 같은 자연수\n",
    "- n가지 종류의 동전에 대해 가치의 합이 k원이 되는 경우의수 출력 (동전은 몇 개 라도 사용 가능)\n",
    "\n",
    "        3 10\n",
    "        1\n",
    "        2\n",
    "        5\n",
    "출력\n",
    "\n",
    "        10"
   ]
  },
  {
   "cell_type": "markdown",
   "id": "1a04faf3",
   "metadata": {},
   "source": [
    "상상 코딩 : DFS 순회를 하며, k값에서 동전 종류별로 1개씩 제외(처음에 0개 제외) -> 모든 동전에 대해 나누어 떨어지는지 조사 -> 나누어 떨어지면 경우의수 +=1\n",
    "\n",
    "    1 10\n",
    "    1 1, 2 2, 5 1\n",
    "    1 2, 2 4\n",
    "    1 3, 2 1, 5 1\n",
    "    1 4, 2 3\n",
    "    1 5, 5 1\n",
    "    1 6, 2 2\n",
    "    1 8, 2 1\n",
    "    2 5\n",
    "    5 2\n",
    "-> dp 문제이니 만큼 작은 문제로 쪼개고, 점화식을 세워야 한다."
   ]
  },
  {
   "cell_type": "code",
   "execution_count": null,
   "id": "4c0b063a",
   "metadata": {},
   "outputs": [],
   "source": []
  }
 ],
 "metadata": {
  "kernelspec": {
   "display_name": "Python 3",
   "language": "python",
   "name": "python3"
  },
  "language_info": {
   "codemirror_mode": {
    "name": "ipython",
    "version": 3
   },
   "file_extension": ".py",
   "mimetype": "text/x-python",
   "name": "python",
   "nbconvert_exporter": "python",
   "pygments_lexer": "ipython3",
   "version": "3.8.12"
  },
  "toc": {
   "base_numbering": 1,
   "nav_menu": {},
   "number_sections": true,
   "sideBar": true,
   "skip_h1_title": false,
   "title_cell": "Table of Contents",
   "title_sidebar": "Contents",
   "toc_cell": false,
   "toc_position": {},
   "toc_section_display": true,
   "toc_window_display": false
  }
 },
 "nbformat": 4,
 "nbformat_minor": 5
}
