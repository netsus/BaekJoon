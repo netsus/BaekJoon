{
 "cells": [
  {
   "cell_type": "code",
   "execution_count": 15,
   "metadata": {
    "ExecuteTime": {
     "end_time": "2022-02-24T15:06:24.632084Z",
     "start_time": "2022-02-24T15:06:24.624733Z"
    }
   },
   "outputs": [
    {
     "name": "stdout",
     "output_type": "stream",
     "text": [
      "0 0\n",
      "[1, 2, 3, 4]\n",
      "1 2\n",
      "[1, 3, 4]\n",
      "2 4\n",
      "[1, 3]\n"
     ]
    }
   ],
   "source": [
    "li = list(range(5))\n",
    "for i,v in enumerate(li):\n",
    "    print(i,v)\n",
    "    if v %2 ==0:\n",
    "        li.remove(v)\n",
    "    print(li)"
   ]
  },
  {
   "cell_type": "code",
   "execution_count": 16,
   "metadata": {
    "ExecuteTime": {
     "end_time": "2022-02-24T15:17:02.715956Z",
     "start_time": "2022-02-24T15:17:01.567458Z"
    }
   },
   "outputs": [
    {
     "name": "stdout",
     "output_type": "stream",
     "text": [
      "(0/(0))\n"
     ]
    }
   ],
   "source": [
    "from itertools import combinations \n",
    "problem = [*input().strip()] # 문자열 하나씩 리스트화 \n",
    "p, idx_brs = [],[] # 짝이 맞는 괄호의 위치 idx_brs에 저장해줌 \n",
    "for i,v in enumerate(problem): \n",
    "    if v == '(':problem[i] ='';p+=[i] \n",
    "    if v == ')':problem[i] ='';idx_brs +=[[p.pop(),i]] # print(idx_brs) \n",
    "out = set() # 짝이 맞는 괄호 위치를 조합을 통해 조정해줌"
   ]
  },
  {
   "cell_type": "code",
   "execution_count": 18,
   "metadata": {
    "ExecuteTime": {
     "end_time": "2022-02-24T15:17:14.997837Z",
     "start_time": "2022-02-24T15:17:14.988268Z"
    }
   },
   "outputs": [
    {
     "data": {
      "text/plain": [
       "[[3, 5], [0, 6]]"
      ]
     },
     "execution_count": 18,
     "metadata": {},
     "output_type": "execute_result"
    }
   ],
   "source": [
    "idx_brs"
   ]
  },
  {
   "cell_type": "code",
   "execution_count": 24,
   "metadata": {
    "ExecuteTime": {
     "end_time": "2022-02-24T15:19:23.838910Z",
     "start_time": "2022-02-24T15:19:23.826473Z"
    }
   },
   "outputs": [
    {
     "data": {
      "text/plain": [
       "['', '0', '/', '', '0', '', '']"
      ]
     },
     "execution_count": 24,
     "metadata": {},
     "output_type": "execute_result"
    }
   ],
   "source": [
    "problem[:]"
   ]
  },
  {
   "cell_type": "code",
   "execution_count": 30,
   "metadata": {
    "ExecuteTime": {
     "end_time": "2022-02-24T15:22:56.158590Z",
     "start_time": "2022-02-24T15:22:56.146425Z"
    }
   },
   "outputs": [
    {
     "data": {
      "text/plain": [
       "2"
      ]
     },
     "execution_count": 30,
     "metadata": {},
     "output_type": "execute_result"
    }
   ],
   "source": [
    "len(idx_brs)"
   ]
  },
  {
   "cell_type": "code",
   "execution_count": 29,
   "metadata": {
    "ExecuteTime": {
     "end_time": "2022-02-24T15:22:48.675370Z",
     "start_time": "2022-02-24T15:22:48.664570Z"
    }
   },
   "outputs": [
    {
     "data": {
      "text/plain": [
       "[([3, 5],), ([0, 6],)]"
      ]
     },
     "execution_count": 29,
     "metadata": {},
     "output_type": "execute_result"
    }
   ],
   "source": [
    "[i for i in combinations(idx_brs,1)]"
   ]
  },
  {
   "cell_type": "code",
   "execution_count": 28,
   "metadata": {
    "ExecuteTime": {
     "end_time": "2022-02-24T15:22:17.038205Z",
     "start_time": "2022-02-24T15:22:17.024982Z"
    }
   },
   "outputs": [
    {
     "name": "stdout",
     "output_type": "stream",
     "text": [
      "()\n",
      "([3, 5],)\n",
      "([0, 6],)\n"
     ]
    }
   ],
   "source": [
    "for i in range(len(idx_brs)): \n",
    "    for j in combinations(idx_brs,i):\n",
    "        print(j)\n",
    "        P = problem[:] # print(P) \n",
    "        for v,w in j: \n",
    "            P[v] = '(' \n",
    "            P[w] = ')' \n",
    "        out.add(''.join(P))"
   ]
  },
  {
   "cell_type": "code",
   "execution_count": 27,
   "metadata": {
    "ExecuteTime": {
     "end_time": "2022-02-24T15:20:55.371814Z",
     "start_time": "2022-02-24T15:20:55.361316Z"
    }
   },
   "outputs": [
    {
     "data": {
      "text/plain": [
       "['(0/0)', '0/(0)', '0/0']"
      ]
     },
     "execution_count": 27,
     "metadata": {},
     "output_type": "execute_result"
    }
   ],
   "source": [
    "sorted(out)"
   ]
  },
  {
   "cell_type": "code",
   "execution_count": null,
   "metadata": {},
   "outputs": [],
   "source": [
    "for i in sorted(out):print(i)"
   ]
  },
  {
   "cell_type": "code",
   "execution_count": null,
   "metadata": {},
   "outputs": [],
   "source": [
    "(0/0)\n",
    "0/(0)\n",
    "0/0"
   ]
  }
 ],
 "metadata": {
  "kernelspec": {
   "display_name": "Python 3 (ipykernel)",
   "language": "python",
   "name": "python3"
  },
  "language_info": {
   "codemirror_mode": {
    "name": "ipython",
    "version": 3
   },
   "file_extension": ".py",
   "mimetype": "text/x-python",
   "name": "python",
   "nbconvert_exporter": "python",
   "pygments_lexer": "ipython3",
   "version": "3.8.11"
  },
  "toc": {
   "base_numbering": 1,
   "nav_menu": {},
   "number_sections": true,
   "sideBar": true,
   "skip_h1_title": false,
   "title_cell": "Table of Contents",
   "title_sidebar": "Contents",
   "toc_cell": false,
   "toc_position": {},
   "toc_section_display": true,
   "toc_window_display": false
  }
 },
 "nbformat": 4,
 "nbformat_minor": 4
}
