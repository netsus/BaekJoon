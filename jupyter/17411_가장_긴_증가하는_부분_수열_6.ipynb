{
 "cells": [
  {
   "cell_type": "code",
   "execution_count": 1,
   "id": "837c0553",
   "metadata": {
    "ExecuteTime": {
     "end_time": "2022-04-11T02:10:52.530391Z",
     "start_time": "2022-04-11T02:10:43.167518Z"
    }
   },
   "outputs": [
    {
     "name": "stdout",
     "output_type": "stream",
     "text": [
      "6\n",
      "10 20 30 10 20 30\n",
      "3\n",
      "10 20 30\n"
     ]
    }
   ],
   "source": [
    "from bisect import bisect_left\n",
    "input()\n",
    "A = list(map(int,input().split()))\n",
    "lis=[]\n",
    "track=[]\n",
    "for num in A:\n",
    "    k = bisect_left(lis,num)\n",
    "    if len(lis)==k:\n",
    "        lis+=[num]\n",
    "    else:\n",
    "        lis[k]=num\n",
    "    track+=[(k,num)]\n",
    "\n",
    "ans=[];cnt=1\n",
    "for x in reversed(track):\n",
    "    if x[0] == len(lis)-cnt:\n",
    "        ans+=[x[1]]\n",
    "        cnt+=1\n",
    "\n",
    "print(len(lis))\n",
    "print(*reversed(ans))"
   ]
  },
  {
   "cell_type": "code",
   "execution_count": 13,
   "id": "076491bb",
   "metadata": {
    "ExecuteTime": {
     "end_time": "2022-04-11T02:40:10.388591Z",
     "start_time": "2022-04-11T02:40:10.376797Z"
    }
   },
   "outputs": [
    {
     "data": {
      "text/plain": [
       "3"
      ]
     },
     "execution_count": 13,
     "metadata": {},
     "output_type": "execute_result"
    }
   ],
   "source": [
    "len(lis)"
   ]
  },
  {
   "cell_type": "code",
   "execution_count": 17,
   "id": "a7225092",
   "metadata": {
    "ExecuteTime": {
     "end_time": "2022-04-11T02:42:47.733225Z",
     "start_time": "2022-04-11T02:42:47.725796Z"
    }
   },
   "outputs": [
    {
     "data": {
      "text/plain": [
       "[10, 20, 30, 10, 20, 30]"
      ]
     },
     "execution_count": 17,
     "metadata": {},
     "output_type": "execute_result"
    }
   ],
   "source": [
    "A"
   ]
  },
  {
   "cell_type": "code",
   "execution_count": 18,
   "id": "e2990b2e",
   "metadata": {
    "ExecuteTime": {
     "end_time": "2022-04-11T02:42:55.019456Z",
     "start_time": "2022-04-11T02:42:55.011073Z"
    }
   },
   "outputs": [],
   "source": [
    "nums = [1, 3, 5, 4, 7]\n",
    "numx = [10, 20, 30, 10, 20, 30]"
   ]
  },
  {
   "cell_type": "code",
   "execution_count": 19,
   "id": "d5d591b4",
   "metadata": {
    "ExecuteTime": {
     "end_time": "2022-04-11T02:42:55.478626Z",
     "start_time": "2022-04-11T02:42:55.466704Z"
    }
   },
   "outputs": [
    {
     "name": "stdout",
     "output_type": "stream",
     "text": [
      "2\n"
     ]
    }
   ],
   "source": [
    "n = len(nums)\n",
    "# Initialize dp_l array with 1s\n",
    "dp_l = [1] * n\n",
    "# Initialize dp_c array with 1s\n",
    "dp_c = [1] * n\n",
    "for i, num in enumerate(nums):\n",
    "    for j in range(i):\n",
    "        # If current element is smaller\n",
    "        if nums[i] <= nums[j]:\n",
    "            continue\n",
    "        # Otherwise\n",
    "        if dp_l[j] + 1 > dp_l[i]:\n",
    "            dp_l[i] = dp_l[j] + 1\n",
    "            dp_c[i] = dp_c[j]\n",
    "        elif dp_l[j] + 1 == dp_l[i]:\n",
    "            dp_c[i] += dp_c[j]\n",
    "\n",
    "# Store the maximum element from dp_l\n",
    "max_length = max(x for x in dp_l)\n",
    "# Stores the count of LIS\n",
    "count = 0\n",
    "# Traverse dp_l and dp_c simultaneously\n",
    "for l, c in zip(dp_l, dp_c):\n",
    "    # Update the count\n",
    "    if l == max_length:\n",
    "        count += c\n",
    "# Return the count of LIS\n",
    "print(count)"
   ]
  },
  {
   "cell_type": "code",
   "execution_count": null,
   "id": "952d25d2",
   "metadata": {},
   "outputs": [],
   "source": []
  }
 ],
 "metadata": {
  "kernelspec": {
   "display_name": "Python 3",
   "language": "python",
   "name": "python3"
  },
  "language_info": {
   "codemirror_mode": {
    "name": "ipython",
    "version": 3
   },
   "file_extension": ".py",
   "mimetype": "text/x-python",
   "name": "python",
   "nbconvert_exporter": "python",
   "pygments_lexer": "ipython3",
   "version": "3.8.12"
  },
  "toc": {
   "base_numbering": 1,
   "nav_menu": {},
   "number_sections": true,
   "sideBar": true,
   "skip_h1_title": false,
   "title_cell": "Table of Contents",
   "title_sidebar": "Contents",
   "toc_cell": false,
   "toc_position": {},
   "toc_section_display": true,
   "toc_window_display": false
  }
 },
 "nbformat": 4,
 "nbformat_minor": 5
}
