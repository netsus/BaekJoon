{
 "cells": [
  {
   "cell_type": "markdown",
   "id": "0e4c9d43",
   "metadata": {},
   "source": [
    "### 문제\n"
   ]
  },
  {
   "cell_type": "code",
   "execution_count": null,
   "id": "fc6e3ac9",
   "metadata": {},
   "outputs": [],
   "source": [
    "! # 시작시간 체크"
   ]
  },
  {
   "cell_type": "code",
   "execution_count": null,
   "id": "50c1b0eb",
   "metadata": {},
   "outputs": [],
   "source": [
    "! # 끝 시간 체크"
   ]
  },
  {
   "cell_type": "markdown",
   "id": "88b63096",
   "metadata": {},
   "source": [
    "### 풀이"
   ]
  },
  {
   "cell_type": "code",
   "execution_count": null,
   "id": "77ded1f0",
   "metadata": {},
   "outputs": [],
   "source": [
    "from coll"
   ]
  },
  {
   "cell_type": "markdown",
   "id": "c73eee2a",
   "metadata": {},
   "source": [
    "### 주석 달린 풀이"
   ]
  },
  {
   "cell_type": "code",
   "execution_count": null,
   "id": "6532df5c",
   "metadata": {},
   "outputs": [],
   "source": []
  },
  {
   "cell_type": "markdown",
   "id": "8ed2b958",
   "metadata": {},
   "source": [
    "### 연습"
   ]
  },
  {
   "cell_type": "code",
   "execution_count": 1,
   "id": "ec705ae9",
   "metadata": {
    "ExecuteTime": {
     "end_time": "2022-11-19T17:35:24.165117Z",
     "start_time": "2022-11-19T17:35:24.158941Z"
    }
   },
   "outputs": [],
   "source": [
    "from collections import defaultdict, deque\n",
    "\n",
    "N = int(input())\n",
    "answer = [0] * (N+1)\n",
    "cost = [0] * (N+1)\n",
    "degree = [0] * (N+1)\n",
    "Q = deque() #"
   ]
  },
  {
   "cell_type": "code",
   "execution_count": 4,
   "id": "a5792f17",
   "metadata": {
    "ExecuteTime": {
     "end_time": "2022-11-19T18:11:44.086246Z",
     "start_time": "2022-11-19T18:11:31.172291Z"
    }
   },
   "outputs": [
    {
     "name": "stdout",
     "output_type": "stream",
     "text": [
      "10 -1\n",
      "10 1 -1\n",
      "4 1 -1\n",
      "4 3 1 -1\n",
      "3 3 -1\n"
     ]
    }
   ],
   "source": [
    "graph = defaultdict(list)\n",
    "for i in range(1,N+1):\n",
    "    tmp = list(map(int,input().split()))\n",
    "    cost[i] = tmp[0]\n",
    "    \n",
    "    for e in tmp[1:-1]:\n",
    "        graph[e].append(i) # 간선 연결\n",
    "        degree[i] += 1 # 진입차수 count\n",
    "        \n",
    "for i in range(1,N+1): # 진입차수가 0인 노드 Q에 넣어주기\n",
    "    if degree[i]==0: # 진입차수가 0인 애들은 바로 지을 수 있다.\n",
    "        Q.append(i)\n",
    "        answer[i] = cost[i]"
   ]
  },
  {
   "cell_type": "code",
   "execution_count": 5,
   "id": "351b82f2",
   "metadata": {
    "ExecuteTime": {
     "end_time": "2022-11-19T18:11:48.315867Z",
     "start_time": "2022-11-19T18:11:48.304102Z"
    }
   },
   "outputs": [
    {
     "name": "stdout",
     "output_type": "stream",
     "text": [
      "1->2 answer[e]=20, cost[e]=10, answer[now]=10\n",
      "1->3 answer[e]=14, cost[e]=4, answer[now]=10\n",
      "1->4 answer[e]=14, cost[e]=4, answer[now]=10\n",
      "3->4 answer[e]=18, cost[e]=4, answer[now]=14\n",
      "3->5 answer[e]=17, cost[e]=3, answer[now]=14\n"
     ]
    }
   ],
   "source": [
    "while Q:\n",
    "    now = Q.popleft()\n",
    "    for e in graph[now]:\n",
    "        degree[e] -= 1\n",
    "        answer[e] = max(answer[e], cost[e]+answer[now])\n",
    "        print(f\"{now}->{e} {answer[e]=}, {cost[e]=}, {answer[now]=}\")\n",
    "        if degree[e] == 0:\n",
    "            Q.append(e)"
   ]
  },
  {
   "cell_type": "code",
   "execution_count": 8,
   "id": "9b4837c0",
   "metadata": {
    "ExecuteTime": {
     "end_time": "2022-11-19T18:14:45.208546Z",
     "start_time": "2022-11-19T18:14:45.200327Z"
    }
   },
   "outputs": [
    {
     "name": "stdout",
     "output_type": "stream",
     "text": [
      "10\n",
      "20\n",
      "14\n",
      "18\n",
      "17\n"
     ]
    }
   ],
   "source": [
    "print(*answer[1:],sep='\\n')"
   ]
  }
 ],
 "metadata": {
  "kernelspec": {
   "display_name": "Python 3",
   "language": "python",
   "name": "python3"
  },
  "language_info": {
   "codemirror_mode": {
    "name": "ipython",
    "version": 3
   },
   "file_extension": ".py",
   "mimetype": "text/x-python",
   "name": "python",
   "nbconvert_exporter": "python",
   "pygments_lexer": "ipython3",
   "version": "3.8.12"
  },
  "toc": {
   "base_numbering": 1,
   "nav_menu": {},
   "number_sections": true,
   "sideBar": true,
   "skip_h1_title": false,
   "title_cell": "Table of Contents",
   "title_sidebar": "Contents",
   "toc_cell": false,
   "toc_position": {},
   "toc_section_display": true,
   "toc_window_display": false
  }
 },
 "nbformat": 4,
 "nbformat_minor": 5
}
