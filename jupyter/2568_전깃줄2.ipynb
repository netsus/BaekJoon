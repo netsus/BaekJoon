{
 "cells": [
  {
   "cell_type": "markdown",
   "id": "8429da39",
   "metadata": {},
   "source": [
    "## 내 풀이 합치기"
   ]
  },
  {
   "cell_type": "code",
   "execution_count": 251,
   "id": "6c8cae3e",
   "metadata": {
    "ExecuteTime": {
     "end_time": "2022-04-11T01:30:24.880451Z",
     "start_time": "2022-04-11T01:30:11.600268Z"
    }
   },
   "outputs": [
    {
     "name": "stdout",
     "output_type": "stream",
     "text": [
      "8\n",
      "1 8\n",
      "3 9\n",
      "2 2\n",
      "4 1\n",
      "6 4\n",
      "10 10\n",
      "9 7\n",
      "7 6\n",
      "3\n",
      "1\n",
      "2\n",
      "3\n"
     ]
    }
   ],
   "source": [
    "from bisect import bisect_left\n",
    "lis=[];trk=[] \n",
    "cord_li=sorted([list(map(int,input().split())) for _ in range(int(input()))])\n",
    "for a,b in cord_li:\n",
    "    idx = bisect_left(lis,b)\n",
    "    if idx == len(lis):\n",
    "        lis.append(b)\n",
    "    else:\n",
    "        lis[idx]=b\n",
    "    trk.append((idx,a))\n",
    "lis=len(lis);rmv_cord=[]\n",
    "print(len(cord_li)-lis)\n",
    "for i,v in trk[::-1]:\n",
    "    if i == lis-1: # 가장 긴 부분수열에 속하는 원소 (교차없는 전깃줄)\n",
    "        lis-=1\n",
    "    else:\n",
    "        rmv_cord.append(v)  \n",
    "for r in rmv_cord[::-1]:\n",
    "    print(r)"
   ]
  },
  {
   "cell_type": "markdown",
   "id": "ef127801",
   "metadata": {},
   "source": [
    "## 제출용"
   ]
  },
  {
   "cell_type": "code",
   "execution_count": 256,
   "id": "6aad5e53",
   "metadata": {
    "ExecuteTime": {
     "end_time": "2022-04-11T01:46:13.637623Z",
     "start_time": "2022-04-11T01:45:50.462226Z"
    }
   },
   "outputs": [
    {
     "name": "stdout",
     "output_type": "stream",
     "text": [
      "8\n",
      "1 8\n",
      "3 9\n",
      "2 2\n",
      "4 1\n",
      "6 4\n",
      "10 10\n",
      "9 7\n",
      "7 6\n",
      "3\n",
      "1\n",
      "2\n",
      "3\n"
     ]
    }
   ],
   "source": [
    "import bisect as s\n",
    "m,t,r=[],[],[]\n",
    "l=sorted([list(map(int,input().split())) for _ in range(int(input()))])\n",
    "for a,b in l:\n",
    "    t+=[(i:=s.bisect_left(m,b),a)]\n",
    "    if i==len(m):m+=[b]\n",
    "    else:m[i]=b\n",
    "g=len(m);print(len(l)-g)\n",
    "for i,v in t[::-1]:\n",
    "    if i==g-1:g-=1\n",
    "    else:r+=[v]\n",
    "print(*r[::-1],sep='\\n')"
   ]
  },
  {
   "cell_type": "markdown",
   "id": "9f1be133",
   "metadata": {},
   "source": [
    "## 내 풀이 쪼개기"
   ]
  },
  {
   "cell_type": "code",
   "execution_count": 257,
   "id": "da69a76c",
   "metadata": {
    "ExecuteTime": {
     "end_time": "2022-04-11T10:33:51.143532Z",
     "start_time": "2022-04-11T10:33:37.011163Z"
    }
   },
   "outputs": [
    {
     "name": "stdout",
     "output_type": "stream",
     "text": [
      "8\n",
      "1 8\n",
      "3 9\n",
      "2 2\n",
      "4 1\n",
      "6 4\n",
      "10 10\n",
      "9 7\n",
      "7 6\n"
     ]
    }
   ],
   "source": [
    "## 입력\n",
    "from bisect import bisect_left\n",
    "# cord_li=sorted([list(map(int,input().split())) for _ in range(int(input()))])\n",
    "for _ in range(int(input())):\n",
    "    a,b = map(int,input().split())\n",
    "    cord_li.append((a,b))\n",
    "cord_li.sort()"
   ]
  },
  {
   "cell_type": "code",
   "execution_count": 258,
   "id": "7ec99ae0",
   "metadata": {
    "ExecuteTime": {
     "end_time": "2022-04-11T10:33:55.519291Z",
     "start_time": "2022-04-11T10:33:55.506253Z"
    }
   },
   "outputs": [
    {
     "data": {
      "text/plain": [
       "[[1, 8], [2, 2], [3, 9], [4, 1], [6, 4], [7, 6], [9, 7], [10, 10]]"
      ]
     },
     "execution_count": 258,
     "metadata": {},
     "output_type": "execute_result"
    }
   ],
   "source": [
    "cord_li"
   ]
  },
  {
   "cell_type": "code",
   "execution_count": 267,
   "id": "d094d3da",
   "metadata": {
    "ExecuteTime": {
     "end_time": "2022-04-11T10:51:59.193068Z",
     "start_time": "2022-04-11T10:51:59.179817Z"
    }
   },
   "outputs": [
    {
     "name": "stdout",
     "output_type": "stream",
     "text": [
      "[[1, 8], [2, 2], [3, 9], [4, 1], [6, 4], [7, 6], [9, 7], [10, 10]]\n"
     ]
    },
    {
     "data": {
      "text/plain": [
       "[(0, 1, 8),\n",
       " (0, 2, 2),\n",
       " (1, 3, 9),\n",
       " (0, 4, 1),\n",
       " (1, 6, 4),\n",
       " (2, 7, 6),\n",
       " (3, 9, 7),\n",
       " (4, 10, 10)]"
      ]
     },
     "execution_count": 267,
     "metadata": {},
     "output_type": "execute_result"
    }
   ],
   "source": [
    "lis=[];trk=[]\n",
    "for a,b in cord_li:\n",
    "    idx = bisect_left(lis,b)\n",
    "    if idx == len(lis):\n",
    "        lis.append(b)\n",
    "    else:\n",
    "        lis[idx]=b\n",
    "    trk.append((idx,a,b))\n",
    "print(cord_li)\n",
    "trk"
   ]
  },
  {
   "cell_type": "code",
   "execution_count": 265,
   "id": "5abf242c",
   "metadata": {
    "ExecuteTime": {
     "end_time": "2022-04-11T10:45:40.214063Z",
     "start_time": "2022-04-11T10:45:40.205489Z"
    }
   },
   "outputs": [
    {
     "name": "stdout",
     "output_type": "stream",
     "text": [
      "3\n",
      "1\n",
      "2\n",
      "3\n"
     ]
    }
   ],
   "source": [
    "lis=len(lis)\n",
    "rmv_cord=[]\n",
    "print(len(cord_li)-lis)\n",
    "for i,a,b in trk[::-1]:\n",
    "    if i == lis-1: # 가장 긴 부분수열에 속하는 원소 (교차없는 전깃줄)\n",
    "        lis-=1\n",
    "    else:\n",
    "        rmv_cord.append(a)  \n",
    "for r in rmv_cord[::-1]:\n",
    "    print(r)"
   ]
  },
  {
   "cell_type": "code",
   "execution_count": 269,
   "id": "78a07a12",
   "metadata": {
    "ExecuteTime": {
     "end_time": "2022-04-11T12:48:09.117172Z",
     "start_time": "2022-04-11T12:48:09.102298Z"
    }
   },
   "outputs": [
    {
     "data": {
      "text/plain": [
       "[(4, 10, 10),\n",
       " (3, 9, 7),\n",
       " (2, 7, 6),\n",
       " (1, 6, 4),\n",
       " (0, 4, 1),\n",
       " (1, 3, 9),\n",
       " (0, 2, 2),\n",
       " (0, 1, 8)]"
      ]
     },
     "execution_count": 269,
     "metadata": {},
     "output_type": "execute_result"
    }
   ],
   "source": [
    "trk[::-1]"
   ]
  },
  {
   "cell_type": "code",
   "execution_count": 268,
   "id": "bf76f20b",
   "metadata": {
    "ExecuteTime": {
     "end_time": "2022-04-11T12:47:58.423572Z",
     "start_time": "2022-04-11T12:47:58.411349Z"
    }
   },
   "outputs": [
    {
     "data": {
      "text/plain": [
       "[3, 2, 1]"
      ]
     },
     "execution_count": 268,
     "metadata": {},
     "output_type": "execute_result"
    }
   ],
   "source": [
    "rmv_cord"
   ]
  },
  {
   "cell_type": "markdown",
   "id": "cb376594",
   "metadata": {},
   "source": [
    "## 쪼개서 내풀이 만들기"
   ]
  },
  {
   "cell_type": "code",
   "execution_count": 155,
   "id": "32c79ef7",
   "metadata": {
    "ExecuteTime": {
     "end_time": "2022-04-10T17:11:07.288763Z",
     "start_time": "2022-04-10T17:11:07.283014Z"
    }
   },
   "outputs": [],
   "source": [
    "from bisect import bisect_left"
   ]
  },
  {
   "cell_type": "code",
   "execution_count": 160,
   "id": "66f3151e",
   "metadata": {
    "ExecuteTime": {
     "end_time": "2022-04-10T17:13:48.044311Z",
     "start_time": "2022-04-10T17:13:48.039439Z"
    }
   },
   "outputs": [],
   "source": [
    "cord_li = []"
   ]
  },
  {
   "cell_type": "code",
   "execution_count": 161,
   "id": "49b7a4f8",
   "metadata": {
    "ExecuteTime": {
     "end_time": "2022-04-10T17:14:06.810886Z",
     "start_time": "2022-04-10T17:13:49.189520Z"
    }
   },
   "outputs": [
    {
     "name": "stdout",
     "output_type": "stream",
     "text": [
      "8\n",
      "1 8\n",
      "3 9\n",
      "2 2\n",
      "4 1\n",
      "6 4\n",
      "10 10\n",
      "9 7\n",
      "7 6\n"
     ]
    }
   ],
   "source": [
    "for _ in range(int(input())):\n",
    "    A,B = map(int,input().split())\n",
    "    cord_li.append((A,B))"
   ]
  },
  {
   "cell_type": "code",
   "execution_count": 196,
   "id": "7bdc2901",
   "metadata": {
    "ExecuteTime": {
     "end_time": "2022-04-11T00:45:43.100021Z",
     "start_time": "2022-04-11T00:45:43.086577Z"
    }
   },
   "outputs": [
    {
     "data": {
      "text/plain": [
       "[(1, 8), (2, 2), (3, 9), (4, 1), (6, 4), (7, 6), (9, 7), (10, 10)]"
      ]
     },
     "execution_count": 196,
     "metadata": {},
     "output_type": "execute_result"
    }
   ],
   "source": [
    "cord_li.sort()\n",
    "cord_li"
   ]
  },
  {
   "cell_type": "code",
   "execution_count": 223,
   "id": "ebce6808",
   "metadata": {
    "ExecuteTime": {
     "end_time": "2022-04-11T00:59:56.179020Z",
     "start_time": "2022-04-11T00:59:56.171587Z"
    }
   },
   "outputs": [
    {
     "data": {
      "text/plain": [
       "[0, 0, 1, 0, 1, 2, 3, 4]"
      ]
     },
     "execution_count": 223,
     "metadata": {},
     "output_type": "execute_result"
    }
   ],
   "source": [
    "idx"
   ]
  },
  {
   "cell_type": "code",
   "execution_count": 197,
   "id": "e40278de",
   "metadata": {
    "ExecuteTime": {
     "end_time": "2022-04-11T00:45:43.859090Z",
     "start_time": "2022-04-11T00:45:43.850569Z"
    }
   },
   "outputs": [],
   "source": [
    "lis=[];trk=[]\n",
    "for a,b in cord_li:\n",
    "    idx = bisect_left(lis,b)\n",
    "    if idx == len(lis):\n",
    "        lis.append(b)\n",
    "    else:\n",
    "        lis[idx] = b\n",
    "    trk.append((idx,a))"
   ]
  },
  {
   "cell_type": "code",
   "execution_count": 198,
   "id": "70dadf32",
   "metadata": {
    "ExecuteTime": {
     "end_time": "2022-04-11T00:45:44.551221Z",
     "start_time": "2022-04-11T00:45:44.541920Z"
    }
   },
   "outputs": [
    {
     "data": {
      "text/plain": [
       "([1, 4, 6, 7, 10],\n",
       " [(0, 1), (0, 2), (1, 3), (0, 4), (1, 6), (2, 7), (3, 9), (4, 10)])"
      ]
     },
     "execution_count": 198,
     "metadata": {},
     "output_type": "execute_result"
    }
   ],
   "source": [
    "lis,trk"
   ]
  },
  {
   "cell_type": "code",
   "execution_count": 182,
   "id": "fb7ba39d",
   "metadata": {
    "ExecuteTime": {
     "end_time": "2022-04-10T17:23:49.325694Z",
     "start_time": "2022-04-10T17:23:49.318867Z"
    }
   },
   "outputs": [
    {
     "data": {
      "text/plain": [
       "[(1, 8), (2, 2), (3, 9), (4, 1), (6, 4), (7, 6), (9, 7), (10, 10)]"
      ]
     },
     "execution_count": 182,
     "metadata": {},
     "output_type": "execute_result"
    }
   ],
   "source": [
    "cord_li"
   ]
  },
  {
   "cell_type": "code",
   "execution_count": 192,
   "id": "33b90db8",
   "metadata": {
    "ExecuteTime": {
     "end_time": "2022-04-11T00:40:47.180153Z",
     "start_time": "2022-04-11T00:40:47.167993Z"
    }
   },
   "outputs": [
    {
     "data": {
      "text/plain": [
       "[(0, 8), (0, 2), (1, 9), (0, 1), (1, 4), (2, 6), (3, 7), (4, 10)]"
      ]
     },
     "execution_count": 192,
     "metadata": {},
     "output_type": "execute_result"
    }
   ],
   "source": [
    "trk"
   ]
  },
  {
   "cell_type": "code",
   "execution_count": 205,
   "id": "613904f5",
   "metadata": {
    "ExecuteTime": {
     "end_time": "2022-04-11T00:46:28.394977Z",
     "start_time": "2022-04-11T00:46:28.387644Z"
    }
   },
   "outputs": [
    {
     "data": {
      "text/plain": [
       "5"
      ]
     },
     "execution_count": 205,
     "metadata": {},
     "output_type": "execute_result"
    }
   ],
   "source": [
    "len(lis)"
   ]
  },
  {
   "cell_type": "code",
   "execution_count": 206,
   "id": "bb282ba1",
   "metadata": {
    "ExecuteTime": {
     "end_time": "2022-04-11T00:46:28.854469Z",
     "start_time": "2022-04-11T00:46:28.845122Z"
    }
   },
   "outputs": [
    {
     "data": {
      "text/plain": [
       "[(4, 10), (3, 9), (2, 7), (1, 6), (0, 4), (1, 3), (0, 2), (0, 1)]"
      ]
     },
     "execution_count": 206,
     "metadata": {},
     "output_type": "execute_result"
    }
   ],
   "source": [
    "trk[::-1]"
   ]
  },
  {
   "cell_type": "code",
   "execution_count": 209,
   "id": "bc5e4378",
   "metadata": {
    "ExecuteTime": {
     "end_time": "2022-04-11T00:46:51.933843Z",
     "start_time": "2022-04-11T00:46:51.925672Z"
    }
   },
   "outputs": [
    {
     "name": "stdout",
     "output_type": "stream",
     "text": [
      "1 3\n",
      "0 2\n",
      "0 1\n"
     ]
    }
   ],
   "source": [
    "rmv_cord_li=[];cnt=1\n",
    "for i,v in trk[::-1]:\n",
    "    if i == len(lis)-cnt: # 가장 긴 부분수열에 속하는 원소 (교차없는 전깃줄)\n",
    "        cnt+=1\n",
    "    else:\n",
    "        print(i,v)\n",
    "        rmv_cord_li.append(v)"
   ]
  },
  {
   "cell_type": "code",
   "execution_count": 210,
   "id": "df869454",
   "metadata": {
    "ExecuteTime": {
     "end_time": "2022-04-11T00:46:54.677996Z",
     "start_time": "2022-04-11T00:46:54.667127Z"
    }
   },
   "outputs": [
    {
     "data": {
      "text/plain": [
       "[3, 2, 1]"
      ]
     },
     "execution_count": 210,
     "metadata": {},
     "output_type": "execute_result"
    }
   ],
   "source": [
    "rmv_cord_li"
   ]
  },
  {
   "cell_type": "code",
   "execution_count": null,
   "id": "79abb9df",
   "metadata": {},
   "outputs": [],
   "source": [
    "print(*rmv_cord[::-1],sep='\\n')"
   ]
  },
  {
   "cell_type": "code",
   "execution_count": 186,
   "id": "23ea830a",
   "metadata": {
    "ExecuteTime": {
     "end_time": "2022-04-10T17:25:34.380014Z",
     "start_time": "2022-04-10T17:25:34.373219Z"
    }
   },
   "outputs": [],
   "source": [
    "for i in range(len(trk)-1,-1,-1):\n",
    "    if trk[i]==idx:\n",
    "        idx-=1\n",
    "    else:\n",
    "        rmv_cord.append(cord_li[i][0])"
   ]
  },
  {
   "cell_type": "code",
   "execution_count": 188,
   "id": "9da812d1",
   "metadata": {
    "ExecuteTime": {
     "end_time": "2022-04-10T17:26:05.777229Z",
     "start_time": "2022-04-10T17:26:05.768698Z"
    }
   },
   "outputs": [
    {
     "name": "stdout",
     "output_type": "stream",
     "text": [
      "1\n",
      "2\n",
      "3\n"
     ]
    }
   ],
   "source": [
    "print(*rmv_cord[::-1],sep='\\n')"
   ]
  },
  {
   "cell_type": "markdown",
   "id": "9586dd45",
   "metadata": {},
   "source": [
    "### 다른 사람 전체 풀이 쪼개기"
   ]
  },
  {
   "cell_type": "code",
   "execution_count": 151,
   "id": "651399f7",
   "metadata": {
    "ExecuteTime": {
     "end_time": "2022-04-10T17:07:51.162367Z",
     "start_time": "2022-04-10T17:07:51.144197Z"
    }
   },
   "outputs": [
    {
     "data": {
      "text/plain": [
       "([(1, 8), (2, 2), (3, 9), (4, 1), (6, 4), (7, 6), (9, 7), (10, 10)],\n",
       " [],\n",
       " [],\n",
       " [])"
      ]
     },
     "execution_count": 151,
     "metadata": {},
     "output_type": "execute_result"
    }
   ],
   "source": [
    "import bisect\n",
    "q,c,d,e=[],[],[],[]\n",
    "# for _ in range(int(input())):\n",
    "#     i,t=map(int,input().split())\n",
    "#     q.append((i,t))\n",
    "# q.sort()\n",
    "\n",
    "q = [(1, 8), (2, 2), (3, 9), (4, 1), (6, 4), (7, 6), (9, 7), (10, 10)]\n",
    "\n",
    "q,c,d,e"
   ]
  },
  {
   "cell_type": "code",
   "execution_count": 152,
   "id": "144c64b9",
   "metadata": {
    "ExecuteTime": {
     "end_time": "2022-04-10T17:07:53.481587Z",
     "start_time": "2022-04-10T17:07:53.470560Z"
    }
   },
   "outputs": [
    {
     "name": "stdout",
     "output_type": "stream",
     "text": [
      "3\n"
     ]
    }
   ],
   "source": [
    "for _,t in q:\n",
    "    s=bisect.bisect_left(c,t)\n",
    "    if len(c)!=s:\n",
    "        c[s]=t\n",
    "    else:\n",
    "        c.append(t)\n",
    "    d.append(s+1)\n",
    "\n",
    "s=len(c) # 가장 긴 증가 부분수열의 길이\n",
    "print(len(q)-s)"
   ]
  },
  {
   "cell_type": "code",
   "execution_count": 153,
   "id": "4fdbb284",
   "metadata": {
    "ExecuteTime": {
     "end_time": "2022-04-10T17:07:54.423960Z",
     "start_time": "2022-04-10T17:07:54.414447Z"
    }
   },
   "outputs": [
    {
     "data": {
      "text/plain": [
       "([(1, 8), (2, 2), (3, 9), (4, 1), (6, 4), (7, 6), (9, 7), (10, 10)],\n",
       " [1, 4, 6, 7, 10],\n",
       " [1, 1, 2, 1, 2, 3, 4, 5],\n",
       " [],\n",
       " 5)"
      ]
     },
     "execution_count": 153,
     "metadata": {},
     "output_type": "execute_result"
    }
   ],
   "source": [
    "q,c,d,e,s"
   ]
  },
  {
   "cell_type": "code",
   "execution_count": 154,
   "id": "993f06e3",
   "metadata": {
    "ExecuteTime": {
     "end_time": "2022-04-10T17:07:55.014920Z",
     "start_time": "2022-04-10T17:07:55.004032Z"
    }
   },
   "outputs": [
    {
     "name": "stdout",
     "output_type": "stream",
     "text": [
      "1\n",
      "2\n",
      "3\n"
     ]
    }
   ],
   "source": [
    "for i in range(len(d)-1,-1,-1):\n",
    "    if d[i]==s:\n",
    "        s-=1\n",
    "    else:\n",
    "        e.append(q[i][0])\n",
    "for i in e[::-1]:\n",
    "    print(i)"
   ]
  },
  {
   "cell_type": "markdown",
   "id": "eb8da93f",
   "metadata": {},
   "source": [
    "### 다른 사람 전체 풀이"
   ]
  },
  {
   "cell_type": "code",
   "execution_count": 75,
   "id": "5ba7b1a5",
   "metadata": {
    "ExecuteTime": {
     "end_time": "2022-04-10T16:56:01.153256Z",
     "start_time": "2022-04-10T16:55:47.642540Z"
    }
   },
   "outputs": [
    {
     "name": "stdout",
     "output_type": "stream",
     "text": [
      "8\n",
      "1 8\n",
      "3 9\n",
      "2 2\n",
      "4 1\n",
      "6 4\n",
      "10 10\n",
      "9 7\n",
      "7 6\n",
      "3\n",
      "1\n",
      "2\n",
      "3\n"
     ]
    }
   ],
   "source": [
    "import bisect\n",
    "q,c,d,e=[],[],[],[]\n",
    "for _ in range(int(input())):\n",
    "    i,t=map(int,input().split())\n",
    "    q.append((i,t))\n",
    "q.sort()\n",
    "for _,t in q:\n",
    "    s=bisect.bisect_left(c,t)\n",
    "    if len(c)!=s:\n",
    "        c[s]=t\n",
    "    else:\n",
    "        c.append(t)\n",
    "    d.append(s+1)\n",
    "s=len(c)\n",
    "print(len(q)-s)\n",
    "for i in range(len(d)-1,-1,-1):\n",
    "    if d[i]==s:s-=1\n",
    "    else:e.append(q[i][0])\n",
    "for i in e[::-1]:\n",
    "    print(i)"
   ]
  },
  {
   "cell_type": "code",
   "execution_count": null,
   "id": "cff90247",
   "metadata": {},
   "outputs": [],
   "source": []
  }
 ],
 "metadata": {
  "kernelspec": {
   "display_name": "Python 3",
   "language": "python",
   "name": "python3"
  },
  "language_info": {
   "codemirror_mode": {
    "name": "ipython",
    "version": 3
   },
   "file_extension": ".py",
   "mimetype": "text/x-python",
   "name": "python",
   "nbconvert_exporter": "python",
   "pygments_lexer": "ipython3",
   "version": "3.8.12"
  },
  "toc": {
   "base_numbering": 1,
   "nav_menu": {},
   "number_sections": true,
   "sideBar": true,
   "skip_h1_title": false,
   "title_cell": "Table of Contents",
   "title_sidebar": "Contents",
   "toc_cell": false,
   "toc_position": {},
   "toc_section_display": true,
   "toc_window_display": false
  }
 },
 "nbformat": 4,
 "nbformat_minor": 5
}
