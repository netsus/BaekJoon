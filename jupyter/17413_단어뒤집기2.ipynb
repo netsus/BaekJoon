{
 "cells": [
  {
   "cell_type": "code",
   "execution_count": 40,
   "metadata": {
    "ExecuteTime": {
     "end_time": "2021-11-08T16:10:46.316478Z",
     "start_time": "2021-11-08T16:10:46.310477Z"
    }
   },
   "outputs": [],
   "source": [
    "string='baekjoon online judge'\n",
    "string2='<abcd>ef gh<ij kl>'\n",
    "string3='<ab cd>ef gh'"
   ]
  },
  {
   "cell_type": "code",
   "execution_count": 80,
   "metadata": {
    "ExecuteTime": {
     "end_time": "2021-11-08T16:23:10.538861Z",
     "start_time": "2021-11-08T16:23:10.529860Z"
    }
   },
   "outputs": [],
   "source": [
    "arr=list(string3)"
   ]
  },
  {
   "cell_type": "code",
   "execution_count": 81,
   "metadata": {
    "ExecuteTime": {
     "end_time": "2021-11-08T16:23:10.789140Z",
     "start_time": "2021-11-08T16:23:10.785138Z"
    }
   },
   "outputs": [
    {
     "name": "stdout",
     "output_type": "stream",
     "text": [
      "['<', 'a', 'b', ' ', 'c', 'd', '>', 'e', 'f', ' ', 'g', 'h']\n"
     ]
    }
   ],
   "source": [
    "print(arr)"
   ]
  },
  {
   "cell_type": "code",
   "execution_count": 82,
   "metadata": {
    "ExecuteTime": {
     "end_time": "2021-11-08T16:23:11.697571Z",
     "start_time": "2021-11-08T16:23:11.680417Z"
    }
   },
   "outputs": [],
   "source": [
    "i=0\n",
    "start=0\n",
    "\n",
    "while i < len(arr):\n",
    "    if arr[i] == '<':\n",
    "        while arr[i] != '>':\n",
    "            i+=1\n",
    "    if arr[i].isalnum():\n",
    "        start=i\n",
    "        while i < len(arr) and arr[i].isalnum():\n",
    "            i+=1\n",
    "        end=i\n",
    "        arr[start:end] = arr[start:end][::-1]\n",
    "    else:\n",
    "        i+=1\n",
    "\n",
    "print(\"\".join(arr))"
   ]
  },
  {
   "cell_type": "code",
   "execution_count": null,
   "metadata": {},
   "outputs": [],
   "source": []
  }
 ],
 "metadata": {
  "kernelspec": {
   "display_name": "Python 3",
   "language": "python",
   "name": "python3"
  },
  "language_info": {
   "codemirror_mode": {
    "name": "ipython",
    "version": 3
   },
   "file_extension": ".py",
   "mimetype": "text/x-python",
   "name": "python",
   "nbconvert_exporter": "python",
   "pygments_lexer": "ipython3",
   "version": "3.8.5"
  },
  "toc": {
   "base_numbering": 1,
   "nav_menu": {},
   "number_sections": true,
   "sideBar": true,
   "skip_h1_title": false,
   "title_cell": "Table of Contents",
   "title_sidebar": "Contents",
   "toc_cell": false,
   "toc_position": {},
   "toc_section_display": true,
   "toc_window_display": false
  }
 },
 "nbformat": 4,
 "nbformat_minor": 4
}
