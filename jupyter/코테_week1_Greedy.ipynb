{
 "cells": [
  {
   "cell_type": "markdown",
   "id": "6407656e",
   "metadata": {},
   "source": [
    "## 20115_에너지 드링크\n",
    "https://www.acmicpc.net/problem/20115"
   ]
  },
  {
   "cell_type": "code",
   "execution_count": 1,
   "id": "7fdd3a52",
   "metadata": {
    "ExecuteTime": {
     "end_time": "2022-04-11T11:19:59.336606Z",
     "start_time": "2022-04-11T11:19:56.090855Z"
    }
   },
   "outputs": [
    {
     "name": "stdout",
     "output_type": "stream",
     "text": [
      "3 2 10 9 6\n"
     ]
    }
   ],
   "source": [
    "input()\n",
    "li = list(map(int,input().split()))\n",
    "\n",
    "li.sort()\n",
    "result = sum(li[:-1])/2+li[-1]\n",
    "print(f\"{result:g}\")"
   ]
  },
  {
   "cell_type": "markdown",
   "id": "2760a283",
   "metadata": {},
   "source": [
    "### 복습 1회차"
   ]
  },
  {
   "cell_type": "code",
   "execution_count": null,
   "id": "dedaaba6",
   "metadata": {},
   "outputs": [],
   "source": [
    "input()\n",
    "l=[*map(int,input().split())]\n",
    "l.sort()\n",
    "print(f\"{sum(l[:-1])/2+l[-1]:g}\")"
   ]
  },
  {
   "cell_type": "markdown",
   "id": "43846a5c",
   "metadata": {},
   "source": [
    "## 2217 로프\n",
    " - 연결된 로프는 최소값에 맞춰 n분의 1로 등분하여 든다.\n",
    " - 로프를 역순으로 정렬해서, 최대로프 *1, 2번쨰 강한로프 *2, ... 해서 최대값 찾으면 된다.\n",
    " \n",
    " https://www.acmicpc.net/problem/2217"
   ]
  },
  {
   "cell_type": "code",
   "execution_count": 7,
   "id": "8bd684a5",
   "metadata": {
    "ExecuteTime": {
     "end_time": "2022-04-11T11:22:46.931914Z",
     "start_time": "2022-04-11T11:22:45.009821Z"
    }
   },
   "outputs": [
    {
     "name": "stdout",
     "output_type": "stream",
     "text": [
      "10\n",
      "15\n"
     ]
    }
   ],
   "source": [
    "n=int(input())\n",
    "li = [int(input()) for _ in range(n)]\n",
    "li.sort(reverse=True)\n",
    "\n",
    "weight=[]\n",
    "for i in range(n):\n",
    "    weight+=[li[i]*(i+1)]    \n",
    "print(max(weight))"
   ]
  },
  {
   "cell_type": "markdown",
   "id": "79d7172b",
   "metadata": {},
   "source": [
    "### 복습 1회차"
   ]
  },
  {
   "cell_type": "code",
   "execution_count": 9,
   "id": "82f3866f",
   "metadata": {
    "ExecuteTime": {
     "end_time": "2022-07-30T11:28:43.461847Z",
     "start_time": "2022-07-30T11:28:41.365216Z"
    }
   },
   "outputs": [
    {
     "name": "stdout",
     "output_type": "stream",
     "text": [
      "10\n",
      "15\n"
     ]
    }
   ],
   "source": [
    "n=int(input())\n",
    "l=[int(input()) for _ in range(n)]\n",
    "l.sort()\n",
    "print(max(l[i]*(n-i) for i in range(n)))"
   ]
  },
  {
   "cell_type": "markdown",
   "id": "f690d699",
   "metadata": {},
   "source": [
    "## 11508 2+1 세일\n",
    " - 3개씩 묶어서 사면, 가장 비싼 2개의 값을 치뤄야 하고, 남은건 다 개별로 사야한다.\n",
    " - -> 내림차순 정렬해서, 각 3개씩, 0,1 인덱스를 더해야 한다. 즉, 2번째 인덱스를 제외하고 더하기\n",
    " \n",
    " https://www.acmicpc.net/problem/11508"
   ]
  },
  {
   "cell_type": "code",
   "execution_count": 13,
   "id": "023579b8",
   "metadata": {
    "ExecuteTime": {
     "end_time": "2022-04-11T11:29:33.492830Z",
     "start_time": "2022-04-11T11:29:30.958215Z"
    }
   },
   "outputs": [
    {
     "name": "stdout",
     "output_type": "stream",
     "text": [
      "3\n",
      "2\n",
      "3\n",
      "2\n"
     ]
    }
   ],
   "source": [
    "n=int(input())\n",
    "li = [int(input()) for _ in range(n)]\n",
    "li.sort(reverse=True)\n",
    "\n",
    "print(sum([i[1] for i in enumerate(li) if i[0]%3<2]))"
   ]
  },
  {
   "cell_type": "markdown",
   "id": "0dbf626f",
   "metadata": {},
   "source": [
    "### 복습 1회차\n",
    "할인을 많이 받을 수록, 최소비용에 가까워진다 -> 역순정렬 3개씩 끊기"
   ]
  },
  {
   "cell_type": "code",
   "execution_count": null,
   "id": "52160a62",
   "metadata": {
    "ExecuteTime": {
     "end_time": "2022-07-30T11:51:45.325885Z",
     "start_time": "2022-07-30T11:51:43.237740Z"
    }
   },
   "outputs": [],
   "source": [
    "I=input;i=int;s=sum\n",
    "N=i(I())\n",
    "A=[i(I())for _ in range(N)]\n",
    "A.sort(reverse=True)\n",
    "print(s(A)-s(A[2::3]))\n",
    "\n",
    "### 숏코딩\n",
    "I=input;i=int;s=sum\n",
    "A=sorted([i(I())for _ in range(i(I()))])[::-1]\n",
    "print(s(A)-s(A[2::3]))"
   ]
  },
  {
   "cell_type": "markdown",
   "id": "96ba3af4",
   "metadata": {},
   "source": [
    "## 1946 신입사원\n",
    " - 두 점수다 나보다 높은 사람있으면 탈락\n",
    " - -> 나보다 모두 높은 사람이 없도록 정렬\n",
    " - 각 A, B 과목의 등수가 주어진다. -> A과목으로 정렬해서, B과목에 대해 순차적으로 전보다 등수가 낮은게 나오면 종료. 그 다음 사람에 비해, 현재 사람이 둘다 등수가 높기 때문\n",
    " \n",
    " https://www.acmicpc.net/problem/1946"
   ]
  },
  {
   "cell_type": "code",
   "execution_count": 48,
   "id": "c072f2e8",
   "metadata": {
    "ExecuteTime": {
     "end_time": "2022-04-11T11:58:06.849230Z",
     "start_time": "2022-04-11T11:57:59.589747Z"
    }
   },
   "outputs": [
    {
     "name": "stdout",
     "output_type": "stream",
     "text": [
      "1\n",
      "5\n",
      "3 2\n",
      "1 4\n",
      "4 1\n",
      "2 3\n",
      "5 5\n",
      "4\n"
     ]
    }
   ],
   "source": [
    "## 제출 풀이 0 sys 있어야 시간초과 안됨.\n",
    "import sys\n",
    "input = sys.stdin.readline\n",
    "t=int(input())\n",
    "\n",
    "for i in range(t):\n",
    "    li = [list(map(int,input().split())) for _ in range(int(input()))]\n",
    "    li.sort()\n",
    "    I=li[0][1];cnt=1\n",
    "    for i in li[1:]:\n",
    "        if i[1] < I: # 현재 사람 인터뷰등수가, 전 사람보다 작은 경우\n",
    "            I=i[1]\n",
    "            cnt+=1\n",
    "    print(cnt)"
   ]
  },
  {
   "cell_type": "markdown",
   "id": "d3e28498",
   "metadata": {},
   "source": [
    "### 복습 1회차"
   ]
  },
  {
   "cell_type": "code",
   "execution_count": null,
   "id": "e0e00764",
   "metadata": {},
   "outputs": [],
   "source": [
    "import sys\n",
    "I=sys.stdin.readline\n",
    "for _ in range(int(I())):\n",
    "    (_,c),*l=sorted([[*map(int,I().split())] for _ in range(int(I()))])\n",
    "    print(1+len([(c:=i[1])for i in l if i[1]<c]))"
   ]
  },
  {
   "cell_type": "markdown",
   "id": "698dbac3",
   "metadata": {},
   "source": [
    "### 숏코딩"
   ]
  },
  {
   "cell_type": "code",
   "execution_count": 118,
   "id": "dbd000bf",
   "metadata": {
    "ExecuteTime": {
     "end_time": "2022-07-31T10:01:17.876623Z",
     "start_time": "2022-07-31T10:01:09.586226Z"
    }
   },
   "outputs": [
    {
     "name": "stdout",
     "output_type": "stream",
     "text": [
      "1\n",
      "5\n",
      "3 2\n",
      "1 4\n",
      "4 1\n",
      "2 3\n",
      "5 5\n",
      "4\n"
     ]
    }
   ],
   "source": [
    "import sys\n",
    "# I=sys.stdin.readline\n",
    "I=input\n",
    "for _ in range(int(I())):\n",
    "    (_,c),*l=sorted([[*map(int,I().split())] for _ in range(int(I()))])\n",
    "    print(1+len([(c:=i)for _,i in l if i<c]))"
   ]
  },
  {
   "cell_type": "markdown",
   "id": "c1d03bcc",
   "metadata": {
    "ExecuteTime": {
     "end_time": "2022-07-31T09:43:07.759040Z",
     "start_time": "2022-07-31T09:43:00.476105Z"
    }
   },
   "source": [
    "## 13305 주유소\n",
    "https://www.acmicpc.net/problem/13305"
   ]
  },
  {
   "cell_type": "code",
   "execution_count": 99,
   "id": "cda52532",
   "metadata": {
    "ExecuteTime": {
     "end_time": "2022-04-11T16:00:37.066024Z",
     "start_time": "2022-04-11T16:00:31.907384Z"
    }
   },
   "outputs": [
    {
     "name": "stdout",
     "output_type": "stream",
     "text": [
      "4\n",
      "3 3 4\n",
      "1 1 1 1\n",
      "10\n"
     ]
    }
   ],
   "source": [
    "import sys\n",
    "# input = sys.stdin.readline\n",
    "t=int(input())\n",
    "dt=list(map(int,input().split()))\n",
    "oil=list(map(int,input().split()))\n",
    "result=0\n",
    "cheap=oil[0]\n",
    "for i in range(t-1):\n",
    "    if oil[i] < cheap:\n",
    "        cheap = oil[i]\n",
    "    result+=cheap*dt[i]\n",
    "print(result)"
   ]
  },
  {
   "cell_type": "markdown",
   "id": "10464f4e",
   "metadata": {},
   "source": [
    "### 복습 2회차"
   ]
  },
  {
   "cell_type": "markdown",
   "id": "a2608bfc",
   "metadata": {
    "ExecuteTime": {
     "end_time": "2022-08-19T15:59:25.286354Z",
     "start_time": "2022-08-19T15:59:25.278219Z"
    }
   },
   "source": [
    "#### 복습 2회차 숏코딩 풀이"
   ]
  },
  {
   "cell_type": "code",
   "execution_count": 22,
   "id": "998ab106",
   "metadata": {
    "ExecuteTime": {
     "end_time": "2022-08-19T16:03:54.697965Z",
     "start_time": "2022-08-19T16:03:49.801855Z"
    }
   },
   "outputs": [
    {
     "name": "stdout",
     "output_type": "stream",
     "text": [
      "1\n",
      "1 2 3\n",
      "2 3 4\n",
      "0\n"
     ]
    }
   ],
   "source": [
    "I=lambda:[*map(int,input().split())]\n",
    "I()\n",
    "d=I();o=I();c=o[0]\n",
    "print(sum((c:=min(c,o[i]))*d[i] for i in range(len(d))))"
   ]
  },
  {
   "cell_type": "code",
   "execution_count": null,
   "id": "e9c1ac6b",
   "metadata": {},
   "outputs": [],
   "source": [
    "N=int(input())\n",
    "d=[*map(int,input().split())]\n",
    "o=[*map(int,input().split())]\n",
    "c=o[0];r=0\n",
    "for i in range(N-1):\n",
    "    r+=(c:=min(c,o[i]))*d[i]\n",
    "print(r)"
   ]
  },
  {
   "cell_type": "code",
   "execution_count": null,
   "id": "435d10df",
   "metadata": {},
   "outputs": [],
   "source": [
    "N=int(input())\n",
    "d=[*map(int,input().split())]\n",
    "o=[*map(int,input().split())]\n",
    "c=o[0];r=0\n",
    "for i in range(N-1):\n",
    "    c=min(c,o[i])\n",
    "    r+=c*d[i]\n",
    "print(r)"
   ]
  },
  {
   "cell_type": "markdown",
   "id": "74a87deb",
   "metadata": {},
   "source": [
    "#### 복습 2회차 연습"
   ]
  },
  {
   "cell_type": "code",
   "execution_count": 18,
   "id": "09b455b8",
   "metadata": {
    "ExecuteTime": {
     "end_time": "2022-08-19T16:00:55.538047Z",
     "start_time": "2022-08-19T16:00:55.522106Z"
    }
   },
   "outputs": [],
   "source": [
    "N=4\n",
    "d=[2,3,1]\n",
    "o=[5,2,4,1]\n",
    "c=o[0];r=0"
   ]
  },
  {
   "cell_type": "code",
   "execution_count": 16,
   "id": "163f664e",
   "metadata": {
    "ExecuteTime": {
     "end_time": "2022-08-19T16:00:53.720301Z",
     "start_time": "2022-08-19T16:00:53.712455Z"
    }
   },
   "outputs": [],
   "source": [
    "N=2\n",
    "d=[2]\n",
    "o=[5,2]\n",
    "c=o[0];r=0"
   ]
  },
  {
   "cell_type": "code",
   "execution_count": 20,
   "id": "5007593e",
   "metadata": {
    "ExecuteTime": {
     "end_time": "2022-08-19T16:01:32.984652Z",
     "start_time": "2022-08-19T16:01:32.971784Z"
    }
   },
   "outputs": [
    {
     "name": "stdout",
     "output_type": "stream",
     "text": [
      "18\n"
     ]
    }
   ],
   "source": [
    "print(sum((c:=min(c,o[i]))*d[i] for i in range(N-1)))"
   ]
  },
  {
   "cell_type": "code",
   "execution_count": 9,
   "id": "bbb28611",
   "metadata": {
    "ExecuteTime": {
     "end_time": "2022-08-19T15:57:10.190668Z",
     "start_time": "2022-08-19T15:57:10.182644Z"
    }
   },
   "outputs": [
    {
     "name": "stdout",
     "output_type": "stream",
     "text": [
      "5 10\n"
     ]
    }
   ],
   "source": [
    "for i in range(N-1):\n",
    "    c=min(c,o[i])\n",
    "    r+=c*d[i]\n",
    "    print(c,r)"
   ]
  },
  {
   "cell_type": "code",
   "execution_count": 10,
   "id": "adee9fa0",
   "metadata": {
    "ExecuteTime": {
     "end_time": "2022-08-19T15:57:11.722634Z",
     "start_time": "2022-08-19T15:57:11.715430Z"
    }
   },
   "outputs": [
    {
     "data": {
      "text/plain": [
       "10"
      ]
     },
     "execution_count": 10,
     "metadata": {},
     "output_type": "execute_result"
    }
   ],
   "source": [
    "r"
   ]
  },
  {
   "cell_type": "markdown",
   "id": "52a9e338",
   "metadata": {},
   "source": [
    "### 복습 1회차"
   ]
  },
  {
   "cell_type": "code",
   "execution_count": null,
   "id": "da1fdfa4",
   "metadata": {
    "ExecuteTime": {
     "end_time": "2022-07-31T10:50:07.099522Z",
     "start_time": "2022-07-31T10:49:45.199910Z"
    }
   },
   "outputs": [],
   "source": [
    "n=int(input())\n",
    "l=[*map(int,input().split())]\n",
    "o=[*map(int,input().split())]\n",
    "\n",
    "p=o[0];r=0\n",
    "for i in range(1,n):\n",
    "    r+=p*l[i-1]\n",
    "    if o[i]<p:\n",
    "        p=o[i]\n",
    "print(r)"
   ]
  },
  {
   "cell_type": "markdown",
   "id": "80e702df",
   "metadata": {},
   "source": [
    "## 11399 ATM\n",
    "https://www.acmicpc.net/problem/11399"
   ]
  },
  {
   "cell_type": "code",
   "execution_count": 102,
   "id": "cf142813",
   "metadata": {
    "ExecuteTime": {
     "end_time": "2022-04-11T16:23:12.092792Z",
     "start_time": "2022-04-11T16:23:12.085245Z"
    }
   },
   "outputs": [],
   "source": [
    "from itertools import accumulate\n",
    "input()\n",
    "li = list(map(int,input().split()))\n",
    "li.sort()\n",
    "print(sum(accumulate(li)))"
   ]
  },
  {
   "cell_type": "markdown",
   "id": "f8db5734",
   "metadata": {},
   "source": [
    "### 복습 1회차"
   ]
  },
  {
   "cell_type": "code",
   "execution_count": 139,
   "id": "6553f84b",
   "metadata": {
    "ExecuteTime": {
     "end_time": "2022-07-31T11:38:56.963380Z",
     "start_time": "2022-07-31T11:38:56.955512Z"
    }
   },
   "outputs": [],
   "source": [
    "## 풀이1\n",
    "n=int(input())\n",
    "l=[*map(int,input().split())]\n",
    "l.sort()\n",
    "s=r=0\n",
    "for i in l:\n",
    "    s+=i;r+=s\n",
    "print(r)"
   ]
  },
  {
   "cell_type": "code",
   "execution_count": 158,
   "id": "6c58d88a",
   "metadata": {
    "ExecuteTime": {
     "end_time": "2022-07-31T11:42:03.985047Z",
     "start_time": "2022-07-31T11:42:03.970014Z"
    }
   },
   "outputs": [
    {
     "data": {
      "text/plain": [
       "32"
      ]
     },
     "execution_count": 158,
     "metadata": {},
     "output_type": "execute_result"
    }
   ],
   "source": [
    "## 풀이2\n",
    "n=int(input())\n",
    "l=sorted([*map(int,input().split())])\n",
    "print(sum([sum(l[:i+1]) for i in range(n)]))"
   ]
  },
  {
   "cell_type": "markdown",
   "id": "bae82068",
   "metadata": {},
   "source": [
    "## 1758 알바생 강호\n",
    " - 주려고했던 돈 - (손님 등수 - 1)\n",
    " \n",
    " https://www.acmicpc.net/problem/1758"
   ]
  },
  {
   "cell_type": "code",
   "execution_count": 122,
   "id": "5a61ef42",
   "metadata": {
    "ExecuteTime": {
     "end_time": "2022-04-11T16:30:32.468133Z",
     "start_time": "2022-04-11T16:30:28.774703Z"
    }
   },
   "outputs": [
    {
     "name": "stdout",
     "output_type": "stream",
     "text": [
      "5\n",
      "1\n",
      "1\n",
      "1\n",
      "1\n",
      "2\n",
      "2\n"
     ]
    }
   ],
   "source": [
    "li = [int(input()) for _ in range(int(input()))]\n",
    "li.sort(reverse=1)\n",
    "print(sum([i[1]-i[0] if i[1]>=i[0] else 0 for i in enumerate(li)]))"
   ]
  },
  {
   "cell_type": "markdown",
   "id": "744c07c9",
   "metadata": {},
   "source": [
    "### 복습 1회차"
   ]
  },
  {
   "cell_type": "code",
   "execution_count": 174,
   "id": "416351ed",
   "metadata": {
    "ExecuteTime": {
     "end_time": "2022-07-31T11:52:18.640529Z",
     "start_time": "2022-07-31T11:52:17.079667Z"
    }
   },
   "outputs": [
    {
     "name": "stdout",
     "output_type": "stream",
     "text": [
      "4\n",
      "3\n",
      "3\n",
      "3\n",
      "3\n",
      "6\n"
     ]
    }
   ],
   "source": [
    "I=input;i=int;n=i(I())\n",
    "l=sorted([i(I()) for _ in range(n)])[::-1]\n",
    "print(sum(l[i]-i if l[i]-i>0 else 0for i in range(n)))"
   ]
  },
  {
   "cell_type": "markdown",
   "id": "484c4043",
   "metadata": {},
   "source": [
    "## 2812 크게 만들기\n",
    "https://www.acmicpc.net/problem/2812"
   ]
  },
  {
   "cell_type": "markdown",
   "id": "c1699b16",
   "metadata": {},
   "source": [
    "### 복습 1회차 "
   ]
  },
  {
   "cell_type": "markdown",
   "id": "b7e0acc8",
   "metadata": {},
   "source": [
    "#### 제출 풀이"
   ]
  },
  {
   "cell_type": "code",
   "execution_count": null,
   "id": "4f59c706",
   "metadata": {},
   "outputs": [],
   "source": [
    "import sys\n",
    "I=sys.stdin.readline\n",
    "I=input\n",
    "N,K=map(int,I().split())\n",
    "l=I()\n",
    "k=K;s=[]\n",
    "for i in range(N):\n",
    "    c=l[i]\n",
    "    while s and s[-1] < c and k:\n",
    "        s.pop()\n",
    "        k-=1\n",
    "    s.append(c)\n",
    "print(''.join(s[:N-K]))"
   ]
  },
  {
   "cell_type": "markdown",
   "id": "87784d5a",
   "metadata": {},
   "source": [
    "#### 연습"
   ]
  },
  {
   "cell_type": "code",
   "execution_count": 37,
   "id": "f2257d14",
   "metadata": {
    "ExecuteTime": {
     "end_time": "2022-08-19T16:34:19.297377Z",
     "start_time": "2022-08-19T16:34:19.290219Z"
    }
   },
   "outputs": [],
   "source": [
    "N,K=4,2\n",
    "l=[1,9,2,4]"
   ]
  },
  {
   "cell_type": "code",
   "execution_count": 44,
   "id": "592c0a20",
   "metadata": {
    "ExecuteTime": {
     "end_time": "2022-08-19T16:35:29.031471Z",
     "start_time": "2022-08-19T16:35:29.023721Z"
    }
   },
   "outputs": [],
   "source": [
    "N,K=7,3\n",
    "l=[1,2,3,1,2,3,4]"
   ]
  },
  {
   "cell_type": "code",
   "execution_count": 49,
   "id": "4b4869da",
   "metadata": {
    "ExecuteTime": {
     "end_time": "2022-08-19T16:36:07.058859Z",
     "start_time": "2022-08-19T16:36:07.050366Z"
    }
   },
   "outputs": [],
   "source": [
    "N,K=10,4\n",
    "l=[4,1,7,7,2,5,2,8,4,1]"
   ]
  },
  {
   "cell_type": "code",
   "execution_count": 50,
   "id": "6c4c811b",
   "metadata": {
    "ExecuteTime": {
     "end_time": "2022-08-19T16:36:08.137078Z",
     "start_time": "2022-08-19T16:36:08.130431Z"
    }
   },
   "outputs": [],
   "source": [
    "k=K;s=[]"
   ]
  },
  {
   "cell_type": "code",
   "execution_count": 51,
   "id": "5fb4bcb9",
   "metadata": {
    "ExecuteTime": {
     "end_time": "2022-08-19T16:36:08.685449Z",
     "start_time": "2022-08-19T16:36:08.674405Z"
    }
   },
   "outputs": [
    {
     "name": "stdout",
     "output_type": "stream",
     "text": [
      "[4]\n",
      "[4, 1]\n",
      "[7]\n",
      "[7, 7]\n",
      "[7, 7, 2]\n",
      "[7, 7, 5]\n",
      "[7, 7, 5, 2]\n",
      "[7, 7, 5, 8]\n",
      "[7, 7, 5, 8, 4]\n",
      "[7, 7, 5, 8, 4, 1]\n"
     ]
    }
   ],
   "source": [
    "for i in range(N):\n",
    "    c=int(l[i])\n",
    "    while s and s[-1] < c and k:\n",
    "        s.pop()\n",
    "        k-=1\n",
    "    s.append(c)\n",
    "    print(s)"
   ]
  },
  {
   "cell_type": "code",
   "execution_count": 55,
   "id": "5d298ab7",
   "metadata": {
    "ExecuteTime": {
     "end_time": "2022-08-19T16:39:10.509925Z",
     "start_time": "2022-08-19T16:39:10.499413Z"
    }
   },
   "outputs": [
    {
     "data": {
      "text/plain": [
       "[7, 7, 5, 8, 4, 1]"
      ]
     },
     "execution_count": 55,
     "metadata": {},
     "output_type": "execute_result"
    }
   ],
   "source": []
  },
  {
   "cell_type": "code",
   "execution_count": 54,
   "id": "3f0727cd",
   "metadata": {
    "ExecuteTime": {
     "end_time": "2022-08-19T16:39:05.618992Z",
     "start_time": "2022-08-19T16:39:05.601811Z"
    }
   },
   "outputs": [
    {
     "ename": "TypeError",
     "evalue": "sequence item 0: expected str instance, int found",
     "output_type": "error",
     "traceback": [
      "\u001b[0;31m---------------------------------------------------------------------------\u001b[0m",
      "\u001b[0;31mTypeError\u001b[0m                                 Traceback (most recent call last)",
      "\u001b[0;32m<ipython-input-54-580648625847>\u001b[0m in \u001b[0;36m<module>\u001b[0;34m\u001b[0m\n\u001b[0;32m----> 1\u001b[0;31m \u001b[0mprint\u001b[0m\u001b[0;34m(\u001b[0m\u001b[0;34m''\u001b[0m\u001b[0;34m.\u001b[0m\u001b[0mjoin\u001b[0m\u001b[0;34m(\u001b[0m\u001b[0ms\u001b[0m\u001b[0;34m[\u001b[0m\u001b[0;34m:\u001b[0m\u001b[0mN\u001b[0m\u001b[0;34m-\u001b[0m\u001b[0mK\u001b[0m\u001b[0;34m]\u001b[0m\u001b[0;34m)\u001b[0m\u001b[0;34m)\u001b[0m\u001b[0;34m\u001b[0m\u001b[0;34m\u001b[0m\u001b[0m\n\u001b[0m",
      "\u001b[0;31mTypeError\u001b[0m: sequence item 0: expected str instance, int found"
     ]
    }
   ],
   "source": [
    "print(''.join(s[:N-K]))"
   ]
  },
  {
   "cell_type": "markdown",
   "id": "f1c31ec1",
   "metadata": {},
   "source": [
    "### 제출풀이"
   ]
  },
  {
   "cell_type": "code",
   "execution_count": 298,
   "id": "63da20bb",
   "metadata": {
    "ExecuteTime": {
     "end_time": "2022-07-31T13:41:41.659552Z",
     "start_time": "2022-07-31T13:41:33.045423Z"
    }
   },
   "outputs": [
    {
     "name": "stdout",
     "output_type": "stream",
     "text": [
      "9 7\n",
      "987612345\n"
     ]
    }
   ],
   "source": [
    "import sys\n",
    "I=sys.stdin.readline\n",
    "I=input\n",
    "N,K=map(int,I().split())\n",
    "S=I()\n",
    "k=K\n",
    "stack=[S[0]]\n",
    "for e in S[1:]:\n",
    "    while k and stack and stack[-1] < e:\n",
    "        stack.pop()\n",
    "        k-=1\n",
    "    stack.append(e)\n",
    "print(''.join(stack[:N-K]))"
   ]
  },
  {
   "cell_type": "markdown",
   "id": "c8a7c20d",
   "metadata": {},
   "source": [
    "## 21758 꿀 따기\n",
    "https://www.acmicpc.net/problem/21758\n",
    "\n",
    "상상코딩: 맨 왼쪽, 오른쪽 중에 더 큰쪽이 꿀, 작은쪽을 첫번째 벌로 셋팅.\n",
    "첫번째 벌을 제외하고, 나머지를 다 더한 값이 첫번째 꿀 값 초기값.\n",
    "두번째 벌부터 꿀까지 다 더한 값과 첫번째 꿀 값 - 두번째 벌 위치의 꿀 값이 최대가 되게 해야한다.\n",
    "이를 For 문으로 반복하면, 처음 sum 에서 O(N), 포문 돌며 O(N)이지 않을까.\n",
    "\n",
    "문제 해결 링크: https://velog.io/@a87380/21758%EB%B2%88-%EA%BF%80-%EB%94%B0%EA%B8%B0-%ED%8C%8C%EC%9D%B4%EC%8D%AC\n",
    "\n",
    "내가 몰랐던 부분\n",
    "    \n",
    "    벌벌꿀, 벌꿀벌, 꿀벌벌 이렇게 3가지 모두 최대값이 가능한 경우의 수로 보지 못했다는 점이 개선할 부분이다. 그리고 누적합을 구한다는 아이디어가 필요했다. 최대값을 보장하는 방식이 경우의수를 나누는 것이고, 각 경우의 수별로는 O(N)으로 최대값을 갱신한다."
   ]
  },
  {
   "cell_type": "markdown",
   "id": "abb4dc5f",
   "metadata": {},
   "source": [
    "### 제출 풀이"
   ]
  },
  {
   "cell_type": "code",
   "execution_count": null,
   "id": "c9e5b52b",
   "metadata": {},
   "outputs": [],
   "source": [
    "N=int(input())\n",
    "l=[*map(int,input().split())]\n",
    "s=l[:]\n",
    "r=0\n",
    "for i in range(1,N):\n",
    "    s[i]+=s[i-1]\n",
    "for i in range(1,N-1): # 벌벌꿀. (가운데 벌 조종)\n",
    "    r=max(r, s[-1]-l[0]-l[i] + s[-1]-s[i])\n",
    "for i in range(1,N-1): # 벌꿀벌. (가운데 꿀 조종)\n",
    "    r=max(r, s[i]-l[0] + s[-1]-l[-1]-s[i-1])\n",
    "for i in range(1,N-1): # 꿀벌벌 (가운데 벌 조종)\n",
    "    r=max(r, s[-1]-l[-1]-l[i] + s[i-1])\n",
    "print(r)"
   ]
  },
  {
   "cell_type": "code",
   "execution_count": 57,
   "id": "a0856965",
   "metadata": {
    "ExecuteTime": {
     "end_time": "2022-08-20T01:50:44.473509Z",
     "start_time": "2022-08-20T01:50:44.467051Z"
    }
   },
   "outputs": [],
   "source": [
    "N=7\n",
    "l=[9,9,4,1,4,9,9]"
   ]
  },
  {
   "cell_type": "code",
   "execution_count": 58,
   "id": "ca51e16a",
   "metadata": {
    "ExecuteTime": {
     "end_time": "2022-08-20T01:51:06.238078Z",
     "start_time": "2022-08-20T01:51:06.231385Z"
    }
   },
   "outputs": [],
   "source": [
    "s=l[:]"
   ]
  },
  {
   "cell_type": "code",
   "execution_count": 59,
   "id": "f7d13a81",
   "metadata": {
    "ExecuteTime": {
     "end_time": "2022-08-20T01:51:42.024537Z",
     "start_time": "2022-08-20T01:51:42.016671Z"
    }
   },
   "outputs": [],
   "source": [
    "for i in range(1,N):\n",
    "    s[i]+=s[i-1]"
   ]
  },
  {
   "cell_type": "code",
   "execution_count": 62,
   "id": "7549f91f",
   "metadata": {
    "ExecuteTime": {
     "end_time": "2022-08-20T01:52:05.786426Z",
     "start_time": "2022-08-20T01:52:05.780263Z"
    }
   },
   "outputs": [],
   "source": [
    "r=0"
   ]
  },
  {
   "cell_type": "code",
   "execution_count": 63,
   "id": "771547c1",
   "metadata": {
    "ExecuteTime": {
     "end_time": "2022-08-20T01:54:40.816240Z",
     "start_time": "2022-08-20T01:54:40.807793Z"
    }
   },
   "outputs": [],
   "source": [
    "for i in range(1,N): # 벌벌꿀. (가운데 벌 조종)\n",
    "    r=max(r, s[-1]-l[0]-l[i] + s[-1]-s[i])"
   ]
  },
  {
   "cell_type": "code",
   "execution_count": 65,
   "id": "3d118dd8",
   "metadata": {
    "ExecuteTime": {
     "end_time": "2022-08-20T01:56:06.810640Z",
     "start_time": "2022-08-20T01:56:06.802763Z"
    }
   },
   "outputs": [],
   "source": [
    "for i in range(1,N): # 벌꿀벌. (가운데 꿀 조종)\n",
    "    r=max(r, s[i]-l[0] + s[-1]-l[-1]-s[i-1])"
   ]
  },
  {
   "cell_type": "code",
   "execution_count": null,
   "id": "944beffa",
   "metadata": {},
   "outputs": [],
   "source": [
    "for i in range(1,N): # 꿀벌벌 (가운데 벌 조종)\n",
    "    r=max(r, s[-1]-l[-1]-l[i] + s[i-1])"
   ]
  }
 ],
 "metadata": {
  "kernelspec": {
   "display_name": "Python 3",
   "language": "python",
   "name": "python3"
  },
  "language_info": {
   "codemirror_mode": {
    "name": "ipython",
    "version": 3
   },
   "file_extension": ".py",
   "mimetype": "text/x-python",
   "name": "python",
   "nbconvert_exporter": "python",
   "pygments_lexer": "ipython3",
   "version": "3.8.12"
  },
  "toc": {
   "base_numbering": 1,
   "nav_menu": {},
   "number_sections": true,
   "sideBar": true,
   "skip_h1_title": false,
   "title_cell": "Table of Contents",
   "title_sidebar": "Contents",
   "toc_cell": false,
   "toc_position": {},
   "toc_section_display": true,
   "toc_window_display": true
  }
 },
 "nbformat": 4,
 "nbformat_minor": 5
}
