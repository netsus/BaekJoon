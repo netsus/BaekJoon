{
 "cells": [
  {
   "cell_type": "markdown",
   "id": "6407656e",
   "metadata": {},
   "source": [
    "## 20115_에너지 드링크\n",
    "https://www.acmicpc.net/problem/20115"
   ]
  },
  {
   "cell_type": "code",
   "execution_count": 1,
   "id": "7fdd3a52",
   "metadata": {
    "ExecuteTime": {
     "end_time": "2022-04-11T11:19:59.336606Z",
     "start_time": "2022-04-11T11:19:56.090855Z"
    }
   },
   "outputs": [
    {
     "name": "stdout",
     "output_type": "stream",
     "text": [
      "3 2 10 9 6\n"
     ]
    }
   ],
   "source": [
    "input()\n",
    "li = list(map(int,input().split()))\n",
    "\n",
    "li.sort()\n",
    "result = sum(li[:-1])/2+li[-1]\n",
    "print(f\"{result:g}\")"
   ]
  },
  {
   "cell_type": "markdown",
   "id": "2760a283",
   "metadata": {},
   "source": [
    "### 복습 1회차"
   ]
  },
  {
   "cell_type": "code",
   "execution_count": null,
   "id": "dedaaba6",
   "metadata": {},
   "outputs": [],
   "source": [
    "input()\n",
    "l=[*map(int,input().split())]\n",
    "l.sort()\n",
    "print(f\"{sum(l[:-1])/2+l[-1]:g}\")"
   ]
  },
  {
   "cell_type": "markdown",
   "id": "43846a5c",
   "metadata": {},
   "source": [
    "## 2217 로프\n",
    " - 연결된 로프는 최소값에 맞춰 n분의 1로 등분하여 든다.\n",
    " - 로프를 역순으로 정렬해서, 최대로프 *1, 2번쨰 강한로프 *2, ... 해서 최대값 찾으면 된다.\n",
    " \n",
    " https://www.acmicpc.net/problem/2217"
   ]
  },
  {
   "cell_type": "code",
   "execution_count": 7,
   "id": "8bd684a5",
   "metadata": {
    "ExecuteTime": {
     "end_time": "2022-04-11T11:22:46.931914Z",
     "start_time": "2022-04-11T11:22:45.009821Z"
    }
   },
   "outputs": [
    {
     "name": "stdout",
     "output_type": "stream",
     "text": [
      "10\n",
      "15\n"
     ]
    }
   ],
   "source": [
    "n=int(input())\n",
    "li = [int(input()) for _ in range(n)]\n",
    "li.sort(reverse=True)\n",
    "\n",
    "weight=[]\n",
    "for i in range(n):\n",
    "    weight+=[li[i]*(i+1)]    \n",
    "print(max(weight))"
   ]
  },
  {
   "cell_type": "markdown",
   "id": "79d7172b",
   "metadata": {},
   "source": [
    "### 복습 1회차"
   ]
  },
  {
   "cell_type": "code",
   "execution_count": 9,
   "id": "82f3866f",
   "metadata": {
    "ExecuteTime": {
     "end_time": "2022-07-30T11:28:43.461847Z",
     "start_time": "2022-07-30T11:28:41.365216Z"
    }
   },
   "outputs": [
    {
     "name": "stdout",
     "output_type": "stream",
     "text": [
      "10\n",
      "15\n"
     ]
    }
   ],
   "source": [
    "n=int(input())\n",
    "l=[int(input()) for _ in range(n)]\n",
    "l.sort()\n",
    "print(max(l[i]*(n-i) for i in range(n)))"
   ]
  },
  {
   "cell_type": "markdown",
   "id": "f690d699",
   "metadata": {},
   "source": [
    "## 11508 2+1 세일\n",
    " - 3개씩 묶어서 사면, 가장 비싼 2개의 값을 치뤄야 하고, 남은건 다 개별로 사야한다.\n",
    " - -> 내림차순 정렬해서, 각 3개씩, 0,1 인덱스를 더해야 한다. 즉, 2번째 인덱스를 제외하고 더하기\n",
    " \n",
    " https://www.acmicpc.net/problem/11508"
   ]
  },
  {
   "cell_type": "code",
   "execution_count": 13,
   "id": "023579b8",
   "metadata": {
    "ExecuteTime": {
     "end_time": "2022-04-11T11:29:33.492830Z",
     "start_time": "2022-04-11T11:29:30.958215Z"
    }
   },
   "outputs": [
    {
     "name": "stdout",
     "output_type": "stream",
     "text": [
      "3\n",
      "2\n",
      "3\n",
      "2\n"
     ]
    }
   ],
   "source": [
    "n=int(input())\n",
    "li = [int(input()) for _ in range(n)]\n",
    "li.sort(reverse=True)\n",
    "\n",
    "print(sum([i[1] for i in enumerate(li) if i[0]%3<2]))"
   ]
  },
  {
   "cell_type": "markdown",
   "id": "0dbf626f",
   "metadata": {},
   "source": [
    "### 복습 1회차\n",
    "할인을 많이 받을 수록, 최소비용에 가까워진다 -> 역순정렬 3개씩 끊기"
   ]
  },
  {
   "cell_type": "code",
   "execution_count": null,
   "id": "1e69fd14",
   "metadata": {
    "ExecuteTime": {
     "end_time": "2022-07-30T11:51:45.325885Z",
     "start_time": "2022-07-30T11:51:43.237740Z"
    }
   },
   "outputs": [],
   "source": [
    "I=input;i=int;s=sum\n",
    "N=i(I())\n",
    "A=[i(I())for _ in range(N)]\n",
    "A.sort(reverse=True)\n",
    "print(s(A)-s(A[2::3]))\n",
    "\n",
    "### 숏코딩\n",
    "I=input;i=int;s=sum\n",
    "A=sorted([i(I())for _ in range(i(I()))])[::-1]\n",
    "print(s(A)-s(A[2::3]))"
   ]
  },
  {
   "cell_type": "markdown",
   "id": "96ba3af4",
   "metadata": {},
   "source": [
    "## 1946 신입사원\n",
    " - 두 점수다 나보다 높은 사람있으면 탈락\n",
    " - -> 나보다 모두 높은 사람이 없도록 정렬\n",
    " - 각 A, B 과목의 등수가 주어진다. -> A과목으로 정렬해서, B과목에 대해 순차적으로 전보다 등수가 낮은게 나오면 종료. 그 다음 사람에 비해, 현재 사람이 둘다 등수가 높기 때문\n",
    " \n",
    " https://www.acmicpc.net/problem/1946"
   ]
  },
  {
   "cell_type": "code",
   "execution_count": 48,
   "id": "c072f2e8",
   "metadata": {
    "ExecuteTime": {
     "end_time": "2022-04-11T11:58:06.849230Z",
     "start_time": "2022-04-11T11:57:59.589747Z"
    }
   },
   "outputs": [
    {
     "name": "stdout",
     "output_type": "stream",
     "text": [
      "1\n",
      "5\n",
      "3 2\n",
      "1 4\n",
      "4 1\n",
      "2 3\n",
      "5 5\n",
      "4\n"
     ]
    }
   ],
   "source": [
    "## 제출 풀이 0 sys 있어야 시간초과 안됨.\n",
    "import sys\n",
    "input = sys.stdin.readline\n",
    "t=int(input())\n",
    "\n",
    "for i in range(t):\n",
    "    li = [list(map(int,input().split())) for _ in range(int(input()))]\n",
    "    li.sort()\n",
    "    I=li[0][1];cnt=1\n",
    "    for i in li[1:]:\n",
    "        if i[1] < I: # 현재 사람 인터뷰등수가, 전 사람보다 작은 경우\n",
    "            I=i[1]\n",
    "            cnt+=1\n",
    "    print(cnt)"
   ]
  },
  {
   "cell_type": "markdown",
   "id": "d3e28498",
   "metadata": {},
   "source": [
    "### 복습 1회차"
   ]
  },
  {
   "cell_type": "code",
   "execution_count": 66,
   "id": "561bab45",
   "metadata": {
    "ExecuteTime": {
     "end_time": "2022-07-30T11:56:05.911343Z",
     "start_time": "2022-07-30T11:56:04.418289Z"
    }
   },
   "outputs": [
    {
     "name": "stdout",
     "output_type": "stream",
     "text": [
      "1\n",
      "1\n",
      "1\n"
     ]
    }
   ],
   "source": []
  },
  {
   "cell_type": "markdown",
   "id": "e4626bfc",
   "metadata": {},
   "source": [
    "## 13305 주유소"
   ]
  },
  {
   "cell_type": "code",
   "execution_count": 99,
   "id": "cda52532",
   "metadata": {
    "ExecuteTime": {
     "end_time": "2022-04-11T16:00:37.066024Z",
     "start_time": "2022-04-11T16:00:31.907384Z"
    }
   },
   "outputs": [
    {
     "name": "stdout",
     "output_type": "stream",
     "text": [
      "4\n",
      "3 3 4\n",
      "1 1 1 1\n",
      "10\n"
     ]
    }
   ],
   "source": [
    "import sys\n",
    "# input = sys.stdin.readline\n",
    "t=int(input())\n",
    "dt=list(map(int,input().split()))\n",
    "oil=list(map(int,input().split()))\n",
    "result=0\n",
    "cheap=oil[0]\n",
    "for i in range(t-1):\n",
    "    if oil[i] < cheap:\n",
    "        cheap = oil[i]\n",
    "    result+=cheap*dt[i]\n",
    "print(result)"
   ]
  },
  {
   "cell_type": "markdown",
   "id": "52a9e338",
   "metadata": {},
   "source": [
    "### 복습 1회차"
   ]
  },
  {
   "cell_type": "code",
   "execution_count": null,
   "id": "c2f0f95e",
   "metadata": {},
   "outputs": [],
   "source": []
  },
  {
   "cell_type": "markdown",
   "id": "80e702df",
   "metadata": {},
   "source": [
    "## 11399 ATM"
   ]
  },
  {
   "cell_type": "code",
   "execution_count": 102,
   "id": "cf142813",
   "metadata": {
    "ExecuteTime": {
     "end_time": "2022-04-11T16:23:12.092792Z",
     "start_time": "2022-04-11T16:23:12.085245Z"
    }
   },
   "outputs": [],
   "source": [
    "from itertools import accumulate\n",
    "input()\n",
    "li = list(map(int,input().split()))\n",
    "li.sort()\n",
    "print(sum(accumulate(li)))"
   ]
  },
  {
   "cell_type": "markdown",
   "id": "f8db5734",
   "metadata": {},
   "source": [
    "### 복습 1회차"
   ]
  },
  {
   "cell_type": "code",
   "execution_count": null,
   "id": "6553f84b",
   "metadata": {},
   "outputs": [],
   "source": []
  },
  {
   "cell_type": "markdown",
   "id": "bae82068",
   "metadata": {},
   "source": [
    "## 1758 알바생 강호\n",
    " - 주려고했던 돈 - (손님 등수 - 1) "
   ]
  },
  {
   "cell_type": "code",
   "execution_count": 122,
   "id": "5a61ef42",
   "metadata": {
    "ExecuteTime": {
     "end_time": "2022-04-11T16:30:32.468133Z",
     "start_time": "2022-04-11T16:30:28.774703Z"
    }
   },
   "outputs": [
    {
     "name": "stdout",
     "output_type": "stream",
     "text": [
      "5\n",
      "1\n",
      "1\n",
      "1\n",
      "1\n",
      "2\n",
      "2\n"
     ]
    }
   ],
   "source": [
    "li = [int(input()) for _ in range(int(input()))]\n",
    "li.sort(reverse=1)\n",
    "print(sum([i[1]-i[0] if i[1]>=i[0] else 0 for i in enumerate(li)]))"
   ]
  },
  {
   "cell_type": "markdown",
   "id": "744c07c9",
   "metadata": {},
   "source": [
    "### 복습 1회차"
   ]
  },
  {
   "cell_type": "code",
   "execution_count": null,
   "id": "416351ed",
   "metadata": {},
   "outputs": [],
   "source": []
  },
  {
   "cell_type": "code",
   "execution_count": null,
   "id": "f08e745b",
   "metadata": {},
   "outputs": [],
   "source": []
  }
 ],
 "metadata": {
  "kernelspec": {
   "display_name": "Python 3",
   "language": "python",
   "name": "python3"
  },
  "language_info": {
   "codemirror_mode": {
    "name": "ipython",
    "version": 3
   },
   "file_extension": ".py",
   "mimetype": "text/x-python",
   "name": "python",
   "nbconvert_exporter": "python",
   "pygments_lexer": "ipython3",
   "version": "3.8.12"
  },
  "toc": {
   "base_numbering": 1,
   "nav_menu": {},
   "number_sections": true,
   "sideBar": true,
   "skip_h1_title": false,
   "title_cell": "Table of Contents",
   "title_sidebar": "Contents",
   "toc_cell": false,
   "toc_position": {},
   "toc_section_display": true,
   "toc_window_display": true
  }
 },
 "nbformat": 4,
 "nbformat_minor": 5
}
