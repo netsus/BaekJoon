{
 "cells": [
  {
   "cell_type": "markdown",
   "metadata": {},
   "source": [
    "## 속도차이 보려고"
   ]
  },
  {
   "cell_type": "code",
   "execution_count": 21,
   "metadata": {
    "ExecuteTime": {
     "end_time": "2021-10-05T16:11:05.463635Z",
     "start_time": "2021-10-05T16:11:05.443636Z"
    }
   },
   "outputs": [],
   "source": [
    "def stack_seq(N,stack,result,cnt):\n",
    "    for i in range(N):\n",
    "        trg = int(input())\n",
    "        while cnt < trg:\n",
    "            cnt+=1\n",
    "            stack.append(cnt)\n",
    "            result.append('+')\n",
    "        if stack[-1] == trg:\n",
    "            stack.pop()\n",
    "            result.append('-')\n",
    "            continue\n",
    "        else:\n",
    "            result = False\n",
    "            break\n",
    "    if result:\n",
    "        for i in result:\n",
    "            print(i)\n",
    "    else:\n",
    "        print(\"No\")"
   ]
  },
  {
   "cell_type": "code",
   "execution_count": null,
   "metadata": {
    "ExecuteTime": {
     "end_time": "2021-10-05T16:11:13.146258Z",
     "start_time": "2021-10-05T16:11:07.731452Z"
    }
   },
   "outputs": [],
   "source": [
    "from collections import deque\n",
    "def stack_seq(N,stack,result,cnt):\n",
    "    for i in range(N):\n",
    "        trg = int(input())\n",
    "        while cnt < trg:\n",
    "            cnt+=1\n",
    "            stack.append(cnt)\n",
    "            result.append('+')\n",
    "        if stack[-1] == trg:\n",
    "            stack.pop()\n",
    "            result.append('-')\n",
    "            continue\n",
    "        else:\n",
    "            result = False\n",
    "            break\n",
    "    if result:\n",
    "        for i in result:\n",
    "            print(i)\n",
    "    else:\n",
    "        print(\"NO\")\n",
    "N = int(input())\n",
    "stack = deque()\n",
    "result = []\n",
    "cnt=0\n",
    "stack_seq(N,stack,result,cnt)"
   ]
  },
  {
   "cell_type": "code",
   "execution_count": null,
   "metadata": {
    "ExecuteTime": {
     "end_time": "2021-10-05T16:09:25.988992Z",
     "start_time": "2021-10-05T16:09:19.877487Z"
    }
   },
   "outputs": [],
   "source": [
    "def stack_seq(N,stack,result,cnt):\n",
    "    for i in range(N):\n",
    "        trg = int(input())\n",
    "        while cnt < trg:\n",
    "            cnt+=1\n",
    "            stack.append(cnt)\n",
    "            result.append('+')\n",
    "        if stack[-1] == trg:\n",
    "            stack.pop()\n",
    "            result.append('-')\n",
    "            continue\n",
    "        else:\n",
    "            result = False\n",
    "            break\n",
    "    if result:\n",
    "        for i in result:\n",
    "            print(i)\n",
    "    else:\n",
    "        print(\"NO\")\n",
    "N = int(input())\n",
    "stack = []\n",
    "result = []\n",
    "cnt=0\n",
    "stack_seq(N,stack,result,cnt)"
   ]
  },
  {
   "cell_type": "code",
   "execution_count": null,
   "metadata": {},
   "outputs": [],
   "source": []
  }
 ],
 "metadata": {
  "kernelspec": {
   "display_name": "Python 3",
   "language": "python",
   "name": "python3"
  },
  "language_info": {
   "codemirror_mode": {
    "name": "ipython",
    "version": 3
   },
   "file_extension": ".py",
   "mimetype": "text/x-python",
   "name": "python",
   "nbconvert_exporter": "python",
   "pygments_lexer": "ipython3",
   "version": "3.8.5"
  },
  "toc": {
   "base_numbering": 1,
   "nav_menu": {},
   "number_sections": true,
   "sideBar": true,
   "skip_h1_title": false,
   "title_cell": "Table of Contents",
   "title_sidebar": "Contents",
   "toc_cell": false,
   "toc_position": {},
   "toc_section_display": true,
   "toc_window_display": false
  }
 },
 "nbformat": 4,
 "nbformat_minor": 4
}
