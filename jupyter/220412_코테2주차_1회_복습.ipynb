{
 "cells": [
  {
   "cell_type": "markdown",
   "id": "aa1d89cb",
   "metadata": {},
   "source": [
    "## 1697 숨바꼭질\n",
    " - 수빈이는 현재점 N, 동생은 K\n",
    " - 수빈이는 X-1, X+1, 2*X 중 한 개 선택 -> 1초사용\n",
    " - 수빈이가 동생의 위치에 가는 가장 빠른 초 출력\n",
    " - 생각해볼점\n",
    "    1. 처음 위치를 0으로 초기화하면 나중에 다시 방문해서 꼬일 가능성이 있지 않을까?<br>\n",
    "     처음 위치에서 시작해서 3가지 경우의수에 따라 다음 위치를 방문한다. 다시 처음위치를 방문하려면, 처음위치에서 다른 위치를 방문하고 다시 처음위치를 와야 한다.\n",
    "     이 때, 다시 처음위치에 방문한다면, 맨 처음에 처음위치에서 3가지 경우의 수를 이미 다 방문한 이후이기 때문에 신경쓰지 않아도 된다."
   ]
  },
  {
   "cell_type": "markdown",
   "id": "b47b16c3",
   "metadata": {},
   "source": [
    "### 제출 풀이"
   ]
  },
  {
   "cell_type": "code",
   "execution_count": null,
   "id": "681f9a56",
   "metadata": {},
   "outputs": [],
   "source": [
    "from collections import deque\n",
    "N, K = map(int,input().split())\n",
    "END=10**6 # N과 K의 최대값 10만\n",
    "visited=[0]*(END + 1) ## 인덱스를 바로 쓰기위해 +1\n",
    "Q=deque([N]) # 처음 위치\n",
    "visited[N]=0 # 처음 위치 초기화 \n",
    "while Q:\n",
    "    cur = Q.popleft()\n",
    "    if cur == K:\n",
    "        print(visited[cur])\n",
    "        break\n",
    "    for nx in (cur-1, cur+1, cur*2):\n",
    "        if (0 <= nx <= END) and not visited[nx]:\n",
    "            visited[nx]=visited[cur]+1\n",
    "            Q+=[nx]"
   ]
  },
  {
   "cell_type": "code",
   "execution_count": 53,
   "id": "78270989",
   "metadata": {
    "ExecuteTime": {
     "end_time": "2022-04-12T15:32:19.743193Z",
     "start_time": "2022-04-12T15:32:18.944675Z"
    }
   },
   "outputs": [
    {
     "name": "stdout",
     "output_type": "stream",
     "text": [
      "1 7\n",
      "1 번째: 0 방문\n",
      "1 번째: 2 방문\n",
      "2 번째: 1 방문\n",
      "2 번째: 3 방문\n",
      "2 번째: 4 방문\n",
      "3 번째: 6 방문\n",
      "3 번째: 5 방문\n",
      "3 번째: 8 방문\n",
      "4 번째: 7 방문\n",
      "4 번째: 12 방문\n",
      "4 번째: 10 방문\n",
      "4 번째: 9 방문\n",
      "4 번째: 16 방문\n",
      "4\n"
     ]
    }
   ],
   "source": [
    "from collections import deque\n",
    "N, K = map(int,input().split())\n",
    "END=10**6 # N과 K의 최대값 10만\n",
    "visited=[0]*(END + 1) ## 인덱스를 바로 쓰기위해 +1\n",
    "Q=deque([N]) # 처음 위치\n",
    "visited[N]=0 # 처음 위치 초기화 \n",
    "while Q:\n",
    "    cur = Q.popleft()\n",
    "    if cur == K:\n",
    "        print(visited[cur])\n",
    "        break\n",
    "    for nx in (cur-1, cur+1, cur*2):\n",
    "        if (0 <= nx <= END) and not visited[nx]:\n",
    "            visited[nx]=visited[cur]+1\n",
    "            print(f\"{visited[nx]} 번째: {nx} 방문\")\n",
    "            Q+=[nx]"
   ]
  },
  {
   "cell_type": "markdown",
   "id": "d8fdfe8f",
   "metadata": {},
   "source": [
    "## 1012 유기농 배추"
   ]
  },
  {
   "cell_type": "code",
   "execution_count": 54,
   "id": "99f41f6c",
   "metadata": {
    "ExecuteTime": {
     "end_time": "2022-04-12T16:09:22.945976Z",
     "start_time": "2022-04-12T16:09:22.941611Z"
    }
   },
   "outputs": [],
   "source": [
    "T=2"
   ]
  },
  {
   "cell_type": "code",
   "execution_count": 55,
   "id": "b0f451b7",
   "metadata": {
    "ExecuteTime": {
     "end_time": "2022-04-12T16:09:54.359072Z",
     "start_time": "2022-04-12T16:09:54.353204Z"
    }
   },
   "outputs": [],
   "source": [
    "G,S,B = 10,8,17"
   ]
  },
  {
   "cell_type": "code",
   "execution_count": 75,
   "id": "0305fd1e",
   "metadata": {
    "ExecuteTime": {
     "end_time": "2022-04-12T16:18:25.448647Z",
     "start_time": "2022-04-12T16:18:25.437422Z"
    }
   },
   "outputs": [],
   "source": [
    "bat = [[0]*G for _ in range(S)]"
   ]
  },
  {
   "cell_type": "code",
   "execution_count": 76,
   "id": "c310c99e",
   "metadata": {
    "ExecuteTime": {
     "end_time": "2022-04-12T16:18:25.721529Z",
     "start_time": "2022-04-12T16:18:25.711654Z"
    }
   },
   "outputs": [
    {
     "data": {
      "text/plain": [
       "[[0, 0, 0, 0, 0, 0, 0, 0, 0, 0],\n",
       " [0, 0, 0, 0, 0, 0, 0, 0, 0, 0],\n",
       " [0, 0, 0, 0, 0, 0, 0, 0, 0, 0],\n",
       " [0, 0, 0, 0, 0, 0, 0, 0, 0, 0],\n",
       " [0, 0, 0, 0, 0, 0, 0, 0, 0, 0],\n",
       " [0, 0, 0, 0, 0, 0, 0, 0, 0, 0],\n",
       " [0, 0, 0, 0, 0, 0, 0, 0, 0, 0],\n",
       " [0, 0, 0, 0, 0, 0, 0, 0, 0, 0]]"
      ]
     },
     "execution_count": 76,
     "metadata": {},
     "output_type": "execute_result"
    }
   ],
   "source": [
    "bat"
   ]
  },
  {
   "cell_type": "code",
   "execution_count": 61,
   "id": "3a5c7679",
   "metadata": {
    "ExecuteTime": {
     "end_time": "2022-04-12T16:12:42.409720Z",
     "start_time": "2022-04-12T16:12:42.402488Z"
    }
   },
   "outputs": [],
   "source": [
    "# baechu = [list(map(int,input().split())) for _ range(B)]\n",
    "baechu =[[0, 0], [1, 0], [1, 1], [4, 2], [4, 3], [4, 5], [2, 4], [3, 4], [7, 4], [8, 4], [9, 4], [7, 5], [8, 5], [9, 5], [7, 6], [8, 6], [9, 6]]"
   ]
  },
  {
   "cell_type": "code",
   "execution_count": 69,
   "id": "71026f9f",
   "metadata": {
    "ExecuteTime": {
     "end_time": "2022-04-12T16:14:25.755119Z",
     "start_time": "2022-04-12T16:14:25.740934Z"
    }
   },
   "outputs": [
    {
     "data": {
      "text/plain": [
       "[[0, 0], [1, 0], [1, 1], [4, 2], [4, 3], [4, 5], [2, 4], [3, 4]]"
      ]
     },
     "execution_count": 69,
     "metadata": {},
     "output_type": "execute_result"
    }
   ],
   "source": [
    "baechu[:8]"
   ]
  },
  {
   "cell_type": "code",
   "execution_count": 77,
   "id": "4b95ad51",
   "metadata": {
    "ExecuteTime": {
     "end_time": "2022-04-12T16:18:28.818419Z",
     "start_time": "2022-04-12T16:18:28.812069Z"
    }
   },
   "outputs": [],
   "source": [
    "for y,x in baechu:\n",
    "    bat[x][y]=1"
   ]
  },
  {
   "cell_type": "code",
   "execution_count": 78,
   "id": "b518276d",
   "metadata": {
    "ExecuteTime": {
     "end_time": "2022-04-12T16:18:29.054468Z",
     "start_time": "2022-04-12T16:18:29.042151Z"
    }
   },
   "outputs": [
    {
     "data": {
      "text/plain": [
       "[[1, 1, 0, 0, 0, 0, 0, 0, 0, 0],\n",
       " [0, 1, 0, 0, 0, 0, 0, 0, 0, 0],\n",
       " [0, 0, 0, 0, 1, 0, 0, 0, 0, 0],\n",
       " [0, 0, 0, 0, 1, 0, 0, 0, 0, 0],\n",
       " [0, 0, 1, 1, 0, 0, 0, 1, 1, 1],\n",
       " [0, 0, 0, 0, 1, 0, 0, 1, 1, 1],\n",
       " [0, 0, 0, 0, 0, 0, 0, 1, 1, 1],\n",
       " [0, 0, 0, 0, 0, 0, 0, 0, 0, 0]]"
      ]
     },
     "execution_count": 78,
     "metadata": {},
     "output_type": "execute_result"
    }
   ],
   "source": [
    "bat"
   ]
  },
  {
   "cell_type": "code",
   "execution_count": null,
   "id": "b1843ca0",
   "metadata": {},
   "outputs": [],
   "source": []
  },
  {
   "cell_type": "markdown",
   "id": "925f7899",
   "metadata": {
    "ExecuteTime": {
     "end_time": "2022-04-12T15:17:31.334852Z",
     "start_time": "2022-04-12T15:17:31.320038Z"
    }
   },
   "source": [
    "## 1931 회의실 배정"
   ]
  },
  {
   "cell_type": "code",
   "execution_count": null,
   "id": "903fbaef",
   "metadata": {},
   "outputs": [],
   "source": []
  }
 ],
 "metadata": {
  "kernelspec": {
   "display_name": "Python 3",
   "language": "python",
   "name": "python3"
  },
  "language_info": {
   "codemirror_mode": {
    "name": "ipython",
    "version": 3
   },
   "file_extension": ".py",
   "mimetype": "text/x-python",
   "name": "python",
   "nbconvert_exporter": "python",
   "pygments_lexer": "ipython3",
   "version": "3.8.12"
  },
  "toc": {
   "base_numbering": 1,
   "nav_menu": {},
   "number_sections": true,
   "sideBar": true,
   "skip_h1_title": false,
   "title_cell": "Table of Contents",
   "title_sidebar": "Contents",
   "toc_cell": false,
   "toc_position": {},
   "toc_section_display": true,
   "toc_window_display": false
  }
 },
 "nbformat": 4,
 "nbformat_minor": 5
}
