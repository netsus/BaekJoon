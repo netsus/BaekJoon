{
 "cells": [
  {
   "cell_type": "markdown",
   "id": "ad418019",
   "metadata": {},
   "source": [
    "## 제출용"
   ]
  },
  {
   "cell_type": "code",
   "execution_count": 156,
   "id": "f2b768d1",
   "metadata": {
    "ExecuteTime": {
     "end_time": "2022-04-14T11:51:07.163491Z",
     "start_time": "2022-04-14T11:51:07.152465Z"
    }
   },
   "outputs": [],
   "source": [
    "from itertools import combinations\n",
    "def dfs(cur_val, m_cnt, pick_list):\n",
    "    global result\n",
    "    if m_cnt == 0:\n",
    "        result = max(result, cur_val * sum(pick_list))\n",
    "    else:\n",
    "        idx_list = range(len(pick_list))\n",
    "        for pick_num in range(1,len(pick_list)-m_cnt+1):\n",
    "            for comb in combinations(idx_list,pick_num):\n",
    "                cp_pick_list=pick_list[:]\n",
    "                comb = sorted(comb,reverse=1)\n",
    "                tmp_sum=0\n",
    "                for i in comb:\n",
    "                    tmp_sum+=cp_pick_list.pop(i)\n",
    "                dfs(cur_val*tmp_sum, m_cnt-1, cp_pick_list)\n",
    "\n",
    "N=int(input())\n",
    "nums=list(map(int,input().split()))\n",
    "P,Q = map(int,input().split())\n",
    "result=0\n",
    "dfs(1,Q,nums)\n",
    "print(result)"
   ]
  },
  {
   "cell_type": "markdown",
   "id": "9f9eeedc",
   "metadata": {},
   "source": [
    "## 스스로 풀어본 것 -> 틀림\n",
    "    - 원인 : 숫자의 배열도 수정되어야 한다."
   ]
  },
  {
   "cell_type": "code",
   "execution_count": 45,
   "id": "ad6dc44d",
   "metadata": {
    "ExecuteTime": {
     "end_time": "2022-04-13T16:05:13.567969Z",
     "start_time": "2022-04-13T16:05:07.254783Z"
    }
   },
   "outputs": [
    {
     "name": "stdout",
     "output_type": "stream",
     "text": [
      "6\n",
      "1 2 4 5 7 8\n",
      "4 1\n",
      "180\n"
     ]
    }
   ],
   "source": [
    "from itertools import combinations\n",
    "import math, sys\n",
    "N=int(input())\n",
    "nums=list(map(int,input().split()))\n",
    "P,Q = map(int,input().split())\n",
    "result=0;csum=0\n",
    "for c in combinations(range(1,N),Q):\n",
    "    s=[];start=0\n",
    "    for i in c:\n",
    "        s+=[sum(nums[start:i])]\n",
    "        start=i\n",
    "    s+=[sum(nums[i:])]\n",
    "    csum = math.prod(s)\n",
    "    if result < csum:\n",
    "        result = csum\n",
    "print(result if Q!=0 else sum(nums))"
   ]
  },
  {
   "cell_type": "code",
   "execution_count": 46,
   "id": "b685feb3",
   "metadata": {
    "ExecuteTime": {
     "end_time": "2022-04-13T16:05:31.062387Z",
     "start_time": "2022-04-13T16:05:25.624529Z"
    }
   },
   "outputs": [
    {
     "name": "stdout",
     "output_type": "stream",
     "text": [
      "6\n",
      "1 2 4 5 7 8\n",
      "4 1\n",
      "(1,)  [1, 26] 26\n",
      "(2,)  [3, 24] 72\n",
      "(3,)  [7, 20] 140\n",
      "(4,)  [12, 15] 180\n",
      "(5,)  [19, 8] 152\n",
      "180\n"
     ]
    }
   ],
   "source": [
    "from itertools import combinations\n",
    "import math\n",
    "N=int(input())\n",
    "nums=list(map(int,input().split()))\n",
    "P,Q = map(int,input().split())\n",
    "result=0;csum=0\n",
    "for c in combinations(range(1,N),Q):\n",
    "    print(c,end='  ')\n",
    "    s=[];start=0\n",
    "    for i in c:\n",
    "        s+=[sum(nums[start:i])]\n",
    "        start=i\n",
    "    s+=[sum(nums[i:])]\n",
    "    csum = math.prod(s)\n",
    "    print(s, csum)\n",
    "    if result < csum:\n",
    "        result = csum\n",
    "print(result if Q!=0 else sum(nums))"
   ]
  },
  {
   "cell_type": "markdown",
   "id": "d8f256ef",
   "metadata": {},
   "source": [
    "## 다른 사람 풀이 쪼개기"
   ]
  },
  {
   "cell_type": "code",
   "execution_count": 47,
   "id": "817011ad",
   "metadata": {
    "ExecuteTime": {
     "end_time": "2022-04-13T16:09:22.193420Z",
     "start_time": "2022-04-13T16:09:22.185783Z"
    }
   },
   "outputs": [],
   "source": [
    "from itertools import combinations"
   ]
  },
  {
   "cell_type": "code",
   "execution_count": null,
   "id": "9a01d3f6",
   "metadata": {},
   "outputs": [],
   "source": [
    "def dfs(cu_val,cnt,pick_list):\n",
    "    global result\n",
    "    if cnt == 0:\n",
    "        result = max(result,cu_val*sum(pick_list))\n",
    "        return cu_val * sum(pick_list)\n",
    "    else:\n",
    "        idx_list = range(len(pick_list))\n",
    "        for pick_cnt in range(1,len(pick_list)-cnt+1):\n",
    "            for comb in combinations(idx_list,pick_cnt):\n",
    "                copy_pick_list = pick_list[:]\n",
    "                comb = list(reversed(comb))\n",
    "                temp_sum = 0\n",
    "                for idx in comb:\n",
    "                    temp_sum += copy_pick_list.pop(idx)                \n",
    "                dfs(cu_val*temp_sum,cnt-1,copy_pick_list)"
   ]
  },
  {
   "cell_type": "code",
   "execution_count": 62,
   "id": "1a0121bc",
   "metadata": {
    "ExecuteTime": {
     "end_time": "2022-04-14T11:13:27.250695Z",
     "start_time": "2022-04-14T11:13:27.239366Z"
    }
   },
   "outputs": [],
   "source": [
    "def dfs(cu_val, cnt, pick_list):\n",
    "    global result\n",
    "    if cnt == 0:\n",
    "        result = max(result, cu_val * sum(pick_list))\n",
    "    else:\n",
    "        idx_list = range(len(pick_list))\n",
    "        for pick_cnt in range(1,len(pick_list)-cnt+1):\n",
    "            for comb in combinations(idx_list, pick_cnt):\n",
    "                copy_pick_list = pick_list[:]\n",
    "                comb = list(reversed(comb))\n",
    "                temp_sum = 0\n",
    "                for idx in comb:\n",
    "                    temp_sum += copy_pick_list.pop(idx)\n",
    "                dfs(cu_val*temp_sum, cnt-1, copy_pick_list)"
   ]
  },
  {
   "cell_type": "code",
   "execution_count": 86,
   "id": "21a473f5",
   "metadata": {
    "ExecuteTime": {
     "end_time": "2022-04-14T11:34:06.367371Z",
     "start_time": "2022-04-14T11:34:06.353357Z"
    }
   },
   "outputs": [],
   "source": [
    "def dfs(cu_val, m_cnt, pick_list):\n",
    "    global result\n",
    "    if m_cnt == 0:\n",
    "        if max(result, max(result, cu_val * sum(pick_list))) == result:\n",
    "            print(f\"최대값 {max(result, cu_val * sum(pick_list))}에서 {result}로 바뀜\")\n",
    "        result = max(result, cu_val * sum(pick_list))\n",
    "    else:\n",
    "        idx_list = range(len(pick_list))\n",
    "        for pick_cnt in range(1, len(pick_list)-m_cnt+1): # 1이상, 숫자 개수 - 곱하기 개수 + 1 : 곱하기 개수 고려하여 뽑을 숫자 개수\n",
    "            print(f\"{pick_list}에 대해 {len(list(combinations(idx_list, pick_cnt)))}만큼의 조합을 더한다\")\n",
    "            for comb in combinations(idx_list, pick_cnt):\n",
    "                cp_pick_list = pick_list[:]\n",
    "                comb = list(reversed(comb)) # comb 역순\n",
    "                tmp_sum = 0\n",
    "                print(comb,end=' ')\n",
    "                for i in comb:\n",
    "                    tmp_sum += cp_pick_list.pop(i)\n",
    "                print()\n",
    "                dfs(cu_val*tmp_sum, m_cnt-1, cp_pick_list)"
   ]
  },
  {
   "cell_type": "code",
   "execution_count": 151,
   "id": "7a200e9b",
   "metadata": {
    "ExecuteTime": {
     "end_time": "2022-04-14T11:46:11.714510Z",
     "start_time": "2022-04-14T11:46:11.700386Z"
    },
    "code_folding": []
   },
   "outputs": [],
   "source": [
    "def dfs(cu_val, m_cnt, pick_list):\n",
    "    global result\n",
    "    if m_cnt==0: # 곱하기 개수가 0개이면\n",
    "        result = max(result, cu_val * sum(pick_list))\n",
    "    else:\n",
    "        idx_list = range(len(pick_list))\n",
    "        for pick_cnt in range(1, len(pick_list)-m_cnt+1):\n",
    "            print(idx_list,pick_cnt)\n",
    "            for comb in combinations(idx_list, pick_cnt):\n",
    "                cp_pick_list = pick_list[:]\n",
    "                comb = sorted(comb,reverse=1)\n",
    "                print(comb,end='  ')\n",
    "                tmp_sum = 0\n",
    "                for i in comb:\n",
    "                    tmp_sum += cp_pick_list.pop(i)\n",
    "\n",
    "                dfs(cu_val * tmp_sum, m_cnt-1, cp_pick_list)"
   ]
  },
  {
   "cell_type": "code",
   "execution_count": 153,
   "id": "afb66008",
   "metadata": {
    "ExecuteTime": {
     "end_time": "2022-04-14T11:46:15.573933Z",
     "start_time": "2022-04-14T11:46:15.570411Z"
    }
   },
   "outputs": [],
   "source": [
    "N = 6\n",
    "arr = [1, 2, 4, 5, 7, 8]\n",
    "p_cnt,m_cnt = 4, 1\n",
    "result = 0"
   ]
  },
  {
   "cell_type": "code",
   "execution_count": 154,
   "id": "492a3fc5",
   "metadata": {
    "ExecuteTime": {
     "end_time": "2022-04-14T11:46:15.780872Z",
     "start_time": "2022-04-14T11:46:15.770837Z"
    }
   },
   "outputs": [
    {
     "name": "stdout",
     "output_type": "stream",
     "text": [
      "range(0, 6) 1\n",
      "[0]  1 1\n",
      "[1]  1 2\n",
      "[2]  1 4\n",
      "[3]  1 5\n",
      "[4]  1 7\n",
      "[5]  1 8\n",
      "range(0, 6) 2\n",
      "[1, 0]  2 3\n",
      "[2, 0]  2 5\n",
      "[3, 0]  2 6\n",
      "[4, 0]  2 8\n",
      "[5, 0]  2 9\n",
      "[2, 1]  2 6\n",
      "[3, 1]  2 7\n",
      "[4, 1]  2 9\n",
      "[5, 1]  2 10\n",
      "[3, 2]  2 9\n",
      "[4, 2]  2 11\n",
      "[5, 2]  2 12\n",
      "[4, 3]  2 12\n",
      "[5, 3]  2 13\n",
      "[5, 4]  2 15\n",
      "range(0, 6) 3\n",
      "[2, 1, 0]  3 7\n",
      "[3, 1, 0]  3 8\n",
      "[4, 1, 0]  3 10\n",
      "[5, 1, 0]  3 11\n",
      "[3, 2, 0]  3 10\n",
      "[4, 2, 0]  3 12\n",
      "[5, 2, 0]  3 13\n",
      "[4, 3, 0]  3 13\n",
      "[5, 3, 0]  3 14\n",
      "[5, 4, 0]  3 16\n",
      "[3, 2, 1]  3 11\n",
      "[4, 2, 1]  3 13\n",
      "[5, 2, 1]  3 14\n",
      "[4, 3, 1]  3 14\n",
      "[5, 3, 1]  3 15\n",
      "[5, 4, 1]  3 17\n",
      "[4, 3, 2]  3 16\n",
      "[5, 3, 2]  3 17\n",
      "[5, 4, 2]  3 19\n",
      "[5, 4, 3]  3 20\n",
      "range(0, 6) 4\n",
      "[3, 2, 1, 0]  4 12\n",
      "[4, 2, 1, 0]  4 14\n",
      "[5, 2, 1, 0]  4 15\n",
      "[4, 3, 1, 0]  4 15\n",
      "[5, 3, 1, 0]  4 16\n",
      "[5, 4, 1, 0]  4 18\n",
      "[4, 3, 2, 0]  4 17\n",
      "[5, 3, 2, 0]  4 18\n",
      "[5, 4, 2, 0]  4 20\n",
      "[5, 4, 3, 0]  4 21\n",
      "[4, 3, 2, 1]  4 18\n",
      "[5, 3, 2, 1]  4 19\n",
      "[5, 4, 2, 1]  4 21\n",
      "[5, 4, 3, 1]  4 22\n",
      "[5, 4, 3, 2]  4 24\n",
      "range(0, 6) 5\n",
      "[4, 3, 2, 1, 0]  5 19\n",
      "[5, 3, 2, 1, 0]  5 20\n",
      "[5, 4, 2, 1, 0]  5 22\n",
      "[5, 4, 3, 1, 0]  5 23\n",
      "[5, 4, 3, 2, 0]  5 25\n",
      "[5, 4, 3, 2, 1]  5 26\n"
     ]
    }
   ],
   "source": [
    "dfs(1, m_cnt, arr)"
   ]
  },
  {
   "cell_type": "code",
   "execution_count": 155,
   "id": "d1ebfb5a",
   "metadata": {
    "ExecuteTime": {
     "end_time": "2022-04-14T11:46:19.993327Z",
     "start_time": "2022-04-14T11:46:19.984243Z"
    }
   },
   "outputs": [
    {
     "data": {
      "text/plain": [
       "182"
      ]
     },
     "execution_count": 155,
     "metadata": {},
     "output_type": "execute_result"
    }
   ],
   "source": [
    "result"
   ]
  },
  {
   "cell_type": "code",
   "execution_count": 48,
   "id": "0db94764",
   "metadata": {
    "ExecuteTime": {
     "end_time": "2022-04-13T16:09:39.568736Z",
     "start_time": "2022-04-13T16:09:32.615781Z"
    }
   },
   "outputs": [
    {
     "name": "stdout",
     "output_type": "stream",
     "text": [
      "6\n",
      "1 2 4 5 7 8\n",
      "4 1\n"
     ]
    }
   ],
   "source": [
    "N = int(input())\n",
    "arr = list(map(int,input().split()))\n",
    "p_cnt,a_cnt = map(int,input().split())\n",
    "result = 0"
   ]
  },
  {
   "cell_type": "markdown",
   "id": "8202a252",
   "metadata": {},
   "source": [
    "### 예제 1번 "
   ]
  },
  {
   "cell_type": "code",
   "execution_count": 48,
   "id": "b11ac1f0",
   "metadata": {
    "ExecuteTime": {
     "end_time": "2022-04-13T16:09:39.568736Z",
     "start_time": "2022-04-13T16:09:32.615781Z"
    }
   },
   "outputs": [
    {
     "name": "stdout",
     "output_type": "stream",
     "text": [
      "6\n",
      "1 2 4 5 7 8\n",
      "4 1\n"
     ]
    }
   ],
   "source": [
    "N = 6\n",
    "arr = [1, 2, 4, 5, 7, 8]\n",
    "p_cnt,a_cnt = 4, 1\n",
    "result = 0"
   ]
  },
  {
   "cell_type": "code",
   "execution_count": 50,
   "id": "c91420ab",
   "metadata": {
    "ExecuteTime": {
     "end_time": "2022-04-13T16:14:48.339732Z",
     "start_time": "2022-04-13T16:14:48.328790Z"
    }
   },
   "outputs": [],
   "source": [
    "def dfs(cu_val,cnt,pick_list): # \n",
    "    global result\n",
    "    if cnt == 0: # 곱하기 연산자 0개이면\n",
    "        result = max(result,cu_val*sum(pick_list))\n",
    "        return cu_val * sum(pick_list)\n",
    "    else: # 곱하기 연산자 0개 아니면\n",
    "        idx_list = range(len(pick_list))\n",
    "        for pick_cnt in range(1,len(pick_list)-cnt+1): # pick_cnt : 곱하기 \n",
    "            print(f\"\")\n",
    "            for comb in combinations(idx_list,pick_cnt):\n",
    "                copy_pick_list = pick_list[:] # 복사\n",
    "                comb = list(reversed(comb))\n",
    "                print(f\"곱하기 {cnt}개 - 조합: {comb}\")\n",
    "                temp_sum = 0\n",
    "                for idx in comb:\n",
    "                    temp_sum += copy_pick_list.pop(idx)                \n",
    "                dfs(cu_val*temp_sum,cnt-1,copy_pick_list)"
   ]
  },
  {
   "cell_type": "code",
   "execution_count": 51,
   "id": "45146966",
   "metadata": {
    "ExecuteTime": {
     "end_time": "2022-04-13T16:14:48.678345Z",
     "start_time": "2022-04-13T16:14:48.673008Z"
    }
   },
   "outputs": [
    {
     "name": "stdout",
     "output_type": "stream",
     "text": [
      "곱하기 1개 - 조합: [0]\n",
      "곱하기 1개 - 조합: [1]\n",
      "곱하기 1개 - 조합: [2]\n",
      "곱하기 1개 - 조합: [3]\n",
      "곱하기 1개 - 조합: [4]\n",
      "곱하기 1개 - 조합: [5]\n",
      "곱하기 1개 - 조합: [1, 0]\n",
      "곱하기 1개 - 조합: [2, 0]\n",
      "곱하기 1개 - 조합: [3, 0]\n",
      "곱하기 1개 - 조합: [4, 0]\n",
      "곱하기 1개 - 조합: [5, 0]\n",
      "곱하기 1개 - 조합: [2, 1]\n",
      "곱하기 1개 - 조합: [3, 1]\n",
      "곱하기 1개 - 조합: [4, 1]\n",
      "곱하기 1개 - 조합: [5, 1]\n",
      "곱하기 1개 - 조합: [3, 2]\n",
      "곱하기 1개 - 조합: [4, 2]\n",
      "곱하기 1개 - 조합: [5, 2]\n",
      "곱하기 1개 - 조합: [4, 3]\n",
      "곱하기 1개 - 조합: [5, 3]\n",
      "곱하기 1개 - 조합: [5, 4]\n",
      "곱하기 1개 - 조합: [2, 1, 0]\n",
      "곱하기 1개 - 조합: [3, 1, 0]\n",
      "곱하기 1개 - 조합: [4, 1, 0]\n",
      "곱하기 1개 - 조합: [5, 1, 0]\n",
      "곱하기 1개 - 조합: [3, 2, 0]\n",
      "곱하기 1개 - 조합: [4, 2, 0]\n",
      "곱하기 1개 - 조합: [5, 2, 0]\n",
      "곱하기 1개 - 조합: [4, 3, 0]\n",
      "곱하기 1개 - 조합: [5, 3, 0]\n",
      "곱하기 1개 - 조합: [5, 4, 0]\n",
      "곱하기 1개 - 조합: [3, 2, 1]\n",
      "곱하기 1개 - 조합: [4, 2, 1]\n",
      "곱하기 1개 - 조합: [5, 2, 1]\n",
      "곱하기 1개 - 조합: [4, 3, 1]\n",
      "곱하기 1개 - 조합: [5, 3, 1]\n",
      "곱하기 1개 - 조합: [5, 4, 1]\n",
      "곱하기 1개 - 조합: [4, 3, 2]\n",
      "곱하기 1개 - 조합: [5, 3, 2]\n",
      "곱하기 1개 - 조합: [5, 4, 2]\n",
      "곱하기 1개 - 조합: [5, 4, 3]\n",
      "곱하기 1개 - 조합: [3, 2, 1, 0]\n",
      "곱하기 1개 - 조합: [4, 2, 1, 0]\n",
      "곱하기 1개 - 조합: [5, 2, 1, 0]\n",
      "곱하기 1개 - 조합: [4, 3, 1, 0]\n",
      "곱하기 1개 - 조합: [5, 3, 1, 0]\n",
      "곱하기 1개 - 조합: [5, 4, 1, 0]\n",
      "곱하기 1개 - 조합: [4, 3, 2, 0]\n",
      "곱하기 1개 - 조합: [5, 3, 2, 0]\n",
      "곱하기 1개 - 조합: [5, 4, 2, 0]\n",
      "곱하기 1개 - 조합: [5, 4, 3, 0]\n",
      "곱하기 1개 - 조합: [4, 3, 2, 1]\n",
      "곱하기 1개 - 조합: [5, 3, 2, 1]\n",
      "곱하기 1개 - 조합: [5, 4, 2, 1]\n",
      "곱하기 1개 - 조합: [5, 4, 3, 1]\n",
      "곱하기 1개 - 조합: [5, 4, 3, 2]\n",
      "곱하기 1개 - 조합: [4, 3, 2, 1, 0]\n",
      "곱하기 1개 - 조합: [5, 3, 2, 1, 0]\n",
      "곱하기 1개 - 조합: [5, 4, 2, 1, 0]\n",
      "곱하기 1개 - 조합: [5, 4, 3, 1, 0]\n",
      "곱하기 1개 - 조합: [5, 4, 3, 2, 0]\n",
      "곱하기 1개 - 조합: [5, 4, 3, 2, 1]\n"
     ]
    }
   ],
   "source": [
    "dfs(1,a_cnt,arr) # 1, 곱하기 연산자 개수, arr 입력"
   ]
  },
  {
   "cell_type": "code",
   "execution_count": null,
   "id": "31572ec2",
   "metadata": {},
   "outputs": [],
   "source": []
  },
  {
   "cell_type": "markdown",
   "id": "a0931c72",
   "metadata": {},
   "source": [
    "## 다른사람풀이"
   ]
  },
  {
   "cell_type": "code",
   "execution_count": null,
   "id": "954c0d52",
   "metadata": {},
   "outputs": [],
   "source": [
    "from itertools import combinations\n",
    "\n",
    "def dfs(cu_val,cnt,pick_list):\n",
    "    global result\n",
    "    if cnt == 0:\n",
    "        result = max(result,cu_val*sum(pick_list))\n",
    "        return cu_val * sum(pick_list)\n",
    "    else:\n",
    "        idx_list = range(len(pick_list))\n",
    "        for pick_cnt in range(1,len(pick_list)-cnt+1):\n",
    "            for comb in combinations(idx_list,pick_cnt):\n",
    "                copy_pick_list = pick_list[:]\n",
    "                comb = list(reversed(comb))\n",
    "                temp_sum = 0\n",
    "                for idx in comb:\n",
    "                    temp_sum += copy_pick_list.pop(idx)                \n",
    "                dfs(cu_val*temp_sum,cnt-1,copy_pick_list)\n",
    "\n",
    "N = int(input())\n",
    "arr = list(map(int,input().split()))\n",
    "p_cnt,a_cnt = map(int,input().split())\n",
    "result = 0\n",
    "dfs(1,a_cnt,arr)"
   ]
  }
 ],
 "metadata": {
  "kernelspec": {
   "display_name": "Python 3",
   "language": "python",
   "name": "python3"
  },
  "language_info": {
   "codemirror_mode": {
    "name": "ipython",
    "version": 3
   },
   "file_extension": ".py",
   "mimetype": "text/x-python",
   "name": "python",
   "nbconvert_exporter": "python",
   "pygments_lexer": "ipython3",
   "version": "3.8.12"
  },
  "toc": {
   "base_numbering": 1,
   "nav_menu": {},
   "number_sections": true,
   "sideBar": true,
   "skip_h1_title": false,
   "title_cell": "Table of Contents",
   "title_sidebar": "Contents",
   "toc_cell": false,
   "toc_position": {},
   "toc_section_display": true,
   "toc_window_display": false
  }
 },
 "nbformat": 4,
 "nbformat_minor": 5
}
