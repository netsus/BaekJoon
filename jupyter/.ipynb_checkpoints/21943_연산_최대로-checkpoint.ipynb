{
 "cells": [
  {
   "cell_type": "markdown",
   "id": "7b88c350",
   "metadata": {},
   "source": [
    "## 제출용"
   ]
  },
  {
   "cell_type": "markdown",
   "id": "e46df49f",
   "metadata": {},
   "source": [
    "## 스스로 풀어본 것 -> 틀림\n",
    "    - 원인 : 숫자의 배열도 수정되어야 한다."
   ]
  },
  {
   "cell_type": "code",
   "execution_count": 45,
   "id": "b3c04795",
   "metadata": {
    "ExecuteTime": {
     "end_time": "2022-04-13T16:05:13.567969Z",
     "start_time": "2022-04-13T16:05:07.254783Z"
    }
   },
   "outputs": [
    {
     "name": "stdout",
     "output_type": "stream",
     "text": [
      "6\n",
      "1 2 4 5 7 8\n",
      "4 1\n",
      "180\n"
     ]
    }
   ],
   "source": [
    "from itertools import combinations\n",
    "import math, sys\n",
    "N=int(input())\n",
    "nums=list(map(int,input().split()))\n",
    "P,Q = map(int,input().split())\n",
    "result=0;csum=0\n",
    "for c in combinations(range(1,N),Q):\n",
    "    s=[];start=0\n",
    "    for i in c:\n",
    "        s+=[sum(nums[start:i])]\n",
    "        start=i\n",
    "    s+=[sum(nums[i:])]\n",
    "    csum = math.prod(s)\n",
    "    if result < csum:\n",
    "        result = csum\n",
    "print(result if Q!=0 else sum(nums))"
   ]
  },
  {
   "cell_type": "code",
   "execution_count": 46,
   "id": "44c81360",
   "metadata": {
    "ExecuteTime": {
     "end_time": "2022-04-13T16:05:31.062387Z",
     "start_time": "2022-04-13T16:05:25.624529Z"
    }
   },
   "outputs": [
    {
     "name": "stdout",
     "output_type": "stream",
     "text": [
      "6\n",
      "1 2 4 5 7 8\n",
      "4 1\n",
      "(1,)  [1, 26] 26\n",
      "(2,)  [3, 24] 72\n",
      "(3,)  [7, 20] 140\n",
      "(4,)  [12, 15] 180\n",
      "(5,)  [19, 8] 152\n",
      "180\n"
     ]
    }
   ],
   "source": [
    "from itertools import combinations\n",
    "import math\n",
    "N=int(input())\n",
    "nums=list(map(int,input().split()))\n",
    "P,Q = map(int,input().split())\n",
    "result=0;csum=0\n",
    "for c in combinations(range(1,N),Q):\n",
    "    print(c,end='  ')\n",
    "    s=[];start=0\n",
    "    for i in c:\n",
    "        s+=[sum(nums[start:i])]\n",
    "        start=i\n",
    "    s+=[sum(nums[i:])]\n",
    "    csum = math.prod(s)\n",
    "    print(s, csum)\n",
    "    if result < csum:\n",
    "        result = csum\n",
    "print(result if Q!=0 else sum(nums))"
   ]
  },
  {
   "cell_type": "markdown",
   "id": "52ae493b",
   "metadata": {},
   "source": [
    "## 다른 사람 풀이 쪼개기"
   ]
  },
  {
   "cell_type": "code",
   "execution_count": 47,
   "id": "4ede49f3",
   "metadata": {
    "ExecuteTime": {
     "end_time": "2022-04-13T16:09:22.193420Z",
     "start_time": "2022-04-13T16:09:22.185783Z"
    }
   },
   "outputs": [],
   "source": [
    "from itertools import combinations"
   ]
  },
  {
   "cell_type": "code",
   "execution_count": null,
   "id": "c3ebe6b9",
   "metadata": {},
   "outputs": [],
   "source": [
    "def dfs(cu_val,cnt,pick_list):\n",
    "    global result\n",
    "    if cnt == 0:\n",
    "        result = max(result,cu_val*sum(pick_list))\n",
    "        return cu_val * sum(pick_list)\n",
    "    else:\n",
    "        idx_list = range(len(pick_list))\n",
    "        for pick_cnt in range(1,len(pick_list)-cnt+1):\n",
    "            for comb in combinations(idx_list,pick_cnt):\n",
    "                copy_pick_list = pick_list[:]\n",
    "                comb = list(reversed(comb))\n",
    "                temp_sum = 0\n",
    "                for idx in comb:\n",
    "                    temp_sum += copy_pick_list.pop(idx)                \n",
    "                dfs(cu_val*temp_sum,cnt-1,copy_pick_list)"
   ]
  },
  {
   "cell_type": "code",
   "execution_count": 48,
   "id": "47e0fa3c",
   "metadata": {
    "ExecuteTime": {
     "end_time": "2022-04-13T16:09:39.568736Z",
     "start_time": "2022-04-13T16:09:32.615781Z"
    }
   },
   "outputs": [
    {
     "name": "stdout",
     "output_type": "stream",
     "text": [
      "6\n",
      "1 2 4 5 7 8\n",
      "4 1\n"
     ]
    }
   ],
   "source": [
    "N = int(input())\n",
    "arr = list(map(int,input().split()))\n",
    "p_cnt,a_cnt = map(int,input().split())\n",
    "result = 0"
   ]
  },
  {
   "cell_type": "markdown",
   "id": "eea99086",
   "metadata": {},
   "source": [
    "### 예제 1번 "
   ]
  },
  {
   "cell_type": "code",
   "execution_count": 48,
   "id": "88c1b2a5",
   "metadata": {
    "ExecuteTime": {
     "end_time": "2022-04-13T16:09:39.568736Z",
     "start_time": "2022-04-13T16:09:32.615781Z"
    }
   },
   "outputs": [
    {
     "name": "stdout",
     "output_type": "stream",
     "text": [
      "6\n",
      "1 2 4 5 7 8\n",
      "4 1\n"
     ]
    }
   ],
   "source": [
    "N = 6\n",
    "arr = [1, 2, 4, 5, 7, 8]\n",
    "p_cnt,a_cnt = 4, 1\n",
    "result = 0"
   ]
  },
  {
   "cell_type": "code",
   "execution_count": 50,
   "id": "0f129992",
   "metadata": {
    "ExecuteTime": {
     "end_time": "2022-04-13T16:14:48.339732Z",
     "start_time": "2022-04-13T16:14:48.328790Z"
    }
   },
   "outputs": [],
   "source": [
    "def dfs(cu_val,cnt,pick_list): # \n",
    "    global result\n",
    "    if cnt == 0: # 곱하기 연산자 0개이면\n",
    "        result = max(result,cu_val*sum(pick_list))\n",
    "        return cu_val * sum(pick_list)\n",
    "    else: # 곱하기 연산자 0개 아니면\n",
    "        idx_list = range(len(pick_list))\n",
    "        for pick_cnt in range(1,len(pick_list)-cnt+1): # pick_cnt : 곱하기 \n",
    "            print(f\"\")\n",
    "            for comb in combinations(idx_list,pick_cnt):\n",
    "                copy_pick_list = pick_list[:] # 복사\n",
    "                comb = list(reversed(comb))\n",
    "                print(f\"곱하기 {cnt}개 - 조합: {comb}\")\n",
    "                temp_sum = 0\n",
    "                for idx in comb:\n",
    "                    temp_sum += copy_pick_list.pop(idx)                \n",
    "                dfs(cu_val*temp_sum,cnt-1,copy_pick_list)"
   ]
  },
  {
   "cell_type": "code",
   "execution_count": 51,
   "id": "7a5e1e42",
   "metadata": {
    "ExecuteTime": {
     "end_time": "2022-04-13T16:14:48.678345Z",
     "start_time": "2022-04-13T16:14:48.673008Z"
    }
   },
   "outputs": [
    {
     "name": "stdout",
     "output_type": "stream",
     "text": [
      "곱하기 1개 - 조합: [0]\n",
      "곱하기 1개 - 조합: [1]\n",
      "곱하기 1개 - 조합: [2]\n",
      "곱하기 1개 - 조합: [3]\n",
      "곱하기 1개 - 조합: [4]\n",
      "곱하기 1개 - 조합: [5]\n",
      "곱하기 1개 - 조합: [1, 0]\n",
      "곱하기 1개 - 조합: [2, 0]\n",
      "곱하기 1개 - 조합: [3, 0]\n",
      "곱하기 1개 - 조합: [4, 0]\n",
      "곱하기 1개 - 조합: [5, 0]\n",
      "곱하기 1개 - 조합: [2, 1]\n",
      "곱하기 1개 - 조합: [3, 1]\n",
      "곱하기 1개 - 조합: [4, 1]\n",
      "곱하기 1개 - 조합: [5, 1]\n",
      "곱하기 1개 - 조합: [3, 2]\n",
      "곱하기 1개 - 조합: [4, 2]\n",
      "곱하기 1개 - 조합: [5, 2]\n",
      "곱하기 1개 - 조합: [4, 3]\n",
      "곱하기 1개 - 조합: [5, 3]\n",
      "곱하기 1개 - 조합: [5, 4]\n",
      "곱하기 1개 - 조합: [2, 1, 0]\n",
      "곱하기 1개 - 조합: [3, 1, 0]\n",
      "곱하기 1개 - 조합: [4, 1, 0]\n",
      "곱하기 1개 - 조합: [5, 1, 0]\n",
      "곱하기 1개 - 조합: [3, 2, 0]\n",
      "곱하기 1개 - 조합: [4, 2, 0]\n",
      "곱하기 1개 - 조합: [5, 2, 0]\n",
      "곱하기 1개 - 조합: [4, 3, 0]\n",
      "곱하기 1개 - 조합: [5, 3, 0]\n",
      "곱하기 1개 - 조합: [5, 4, 0]\n",
      "곱하기 1개 - 조합: [3, 2, 1]\n",
      "곱하기 1개 - 조합: [4, 2, 1]\n",
      "곱하기 1개 - 조합: [5, 2, 1]\n",
      "곱하기 1개 - 조합: [4, 3, 1]\n",
      "곱하기 1개 - 조합: [5, 3, 1]\n",
      "곱하기 1개 - 조합: [5, 4, 1]\n",
      "곱하기 1개 - 조합: [4, 3, 2]\n",
      "곱하기 1개 - 조합: [5, 3, 2]\n",
      "곱하기 1개 - 조합: [5, 4, 2]\n",
      "곱하기 1개 - 조합: [5, 4, 3]\n",
      "곱하기 1개 - 조합: [3, 2, 1, 0]\n",
      "곱하기 1개 - 조합: [4, 2, 1, 0]\n",
      "곱하기 1개 - 조합: [5, 2, 1, 0]\n",
      "곱하기 1개 - 조합: [4, 3, 1, 0]\n",
      "곱하기 1개 - 조합: [5, 3, 1, 0]\n",
      "곱하기 1개 - 조합: [5, 4, 1, 0]\n",
      "곱하기 1개 - 조합: [4, 3, 2, 0]\n",
      "곱하기 1개 - 조합: [5, 3, 2, 0]\n",
      "곱하기 1개 - 조합: [5, 4, 2, 0]\n",
      "곱하기 1개 - 조합: [5, 4, 3, 0]\n",
      "곱하기 1개 - 조합: [4, 3, 2, 1]\n",
      "곱하기 1개 - 조합: [5, 3, 2, 1]\n",
      "곱하기 1개 - 조합: [5, 4, 2, 1]\n",
      "곱하기 1개 - 조합: [5, 4, 3, 1]\n",
      "곱하기 1개 - 조합: [5, 4, 3, 2]\n",
      "곱하기 1개 - 조합: [4, 3, 2, 1, 0]\n",
      "곱하기 1개 - 조합: [5, 3, 2, 1, 0]\n",
      "곱하기 1개 - 조합: [5, 4, 2, 1, 0]\n",
      "곱하기 1개 - 조합: [5, 4, 3, 1, 0]\n",
      "곱하기 1개 - 조합: [5, 4, 3, 2, 0]\n",
      "곱하기 1개 - 조합: [5, 4, 3, 2, 1]\n"
     ]
    }
   ],
   "source": [
    "dfs(1,a_cnt,arr) # 1, 곱하기 연산자 개수, arr 입력"
   ]
  },
  {
   "cell_type": "code",
   "execution_count": null,
   "id": "5eee395c",
   "metadata": {},
   "outputs": [],
   "source": []
  },
  {
   "cell_type": "markdown",
   "id": "d28605cb",
   "metadata": {},
   "source": [
    "## 다른사람풀이"
   ]
  },
  {
   "cell_type": "code",
   "execution_count": null,
   "id": "24c9ea9a",
   "metadata": {},
   "outputs": [],
   "source": [
    "from itertools import combinations\n",
    "\n",
    "def dfs(cu_val,cnt,pick_list):\n",
    "    global result\n",
    "    if cnt == 0:\n",
    "        result = max(result,cu_val*sum(pick_list))\n",
    "        return cu_val * sum(pick_list)\n",
    "    else:\n",
    "        idx_list = range(len(pick_list))\n",
    "        for pick_cnt in range(1,len(pick_list)-cnt+1):\n",
    "            for comb in combinations(idx_list,pick_cnt):\n",
    "                copy_pick_list = pick_list[:]\n",
    "                comb = list(reversed(comb))\n",
    "                temp_sum = 0\n",
    "                for idx in comb:\n",
    "                    temp_sum += copy_pick_list.pop(idx)                \n",
    "                dfs(cu_val*temp_sum,cnt-1,copy_pick_list)\n",
    "\n",
    "N = int(input())\n",
    "arr = list(map(int,input().split()))\n",
    "p_cnt,a_cnt = map(int,input().split())\n",
    "result = 0\n",
    "dfs(1,a_cnt,arr)"
   ]
  }
 ],
 "metadata": {
  "kernelspec": {
   "display_name": "Python 3",
   "language": "python",
   "name": "python3"
  },
  "language_info": {
   "codemirror_mode": {
    "name": "ipython",
    "version": 3
   },
   "file_extension": ".py",
   "mimetype": "text/x-python",
   "name": "python",
   "nbconvert_exporter": "python",
   "pygments_lexer": "ipython3",
   "version": "3.8.12"
  },
  "toc": {
   "base_numbering": 1,
   "nav_menu": {},
   "number_sections": true,
   "sideBar": true,
   "skip_h1_title": false,
   "title_cell": "Table of Contents",
   "title_sidebar": "Contents",
   "toc_cell": false,
   "toc_position": {},
   "toc_section_display": true,
   "toc_window_display": false
  }
 },
 "nbformat": 4,
 "nbformat_minor": 5
}
