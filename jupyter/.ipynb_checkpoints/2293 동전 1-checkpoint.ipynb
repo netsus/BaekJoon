{
 "cells": [
  {
   "cell_type": "markdown",
   "id": "2c11fbf9",
   "metadata": {},
   "source": [
    "동전 1\n",
    "문제 이해 :  n, k가 주어진다. (1 ≤ n ≤ 100, 1 ≤ k ≤ 10,000) 다음 n개의 줄에는 각각의 동전의 가치가 주어진다. 동전의 가치는 100,000보다 작거나 같은 자연수\n",
    "- n가지 종류의 동전에 대해 가치의 합이 k원이 되는 경우의수 출력 (동전은 몇 개 라도 사용 가능)\n",
    "\n",
    "        3 10\n",
    "        1\n",
    "        2\n",
    "        5\n",
    "출력\n",
    "\n",
    "        10"
   ]
  },
  {
   "cell_type": "markdown",
   "id": "1a04faf3",
   "metadata": {},
   "source": [
    "상상 코딩 : DFS 순회를 하며, k값에서 동전 종류별로 1개씩 제외(처음에 0개 제외) -> 모든 동전에 대해 나누어 떨어지는지 조사 -> 나누어 떨어지면 경우의수 +=1\n",
    "\n",
    "    1 10\n",
    "    1 1, 2 2, 5 1\n",
    "    1 2, 2 4\n",
    "    1 3, 2 1, 5 1\n",
    "    1 4, 2 3\n",
    "    1 5, 5 1\n",
    "    1 6, 2 2\n",
    "    1 8, 2 1\n",
    "    2 5\n",
    "    5 2\n",
    "-> dp 문제이니 만큼 작은 문제로 쪼개고, 점화식을 세워야 한다."
   ]
  },
  {
   "cell_type": "markdown",
   "id": "4c1dd375",
   "metadata": {},
   "source": [
    "합이 k가 되는 문제를 합이 i(1 <= i <= k)가 되는 문제로 쪼개기\n",
    "어떤 해당하는 차수에 경우의수를 구할 때, 앞에 구했던 경우의수를 이용 -> DP\n"
   ]
  },
  {
   "cell_type": "code",
   "execution_count": 4,
   "id": "df79fd3f",
   "metadata": {
    "ExecuteTime": {
     "end_time": "2022-05-16T10:22:39.524084Z",
     "start_time": "2022-05-16T10:22:39.514890Z"
    }
   },
   "outputs": [],
   "source": [
    "n, k = 3, 10\n",
    "c = [1,2,5]\n",
    "dp = [0 for i in range(k+1)]\n",
    "dp[0]=1"
   ]
  },
  {
   "cell_type": "code",
   "execution_count": 5,
   "id": "4d937e9b",
   "metadata": {
    "ExecuteTime": {
     "end_time": "2022-05-16T10:22:39.855765Z",
     "start_time": "2022-05-16T10:22:39.839971Z"
    }
   },
   "outputs": [
    {
     "data": {
      "text/plain": [
       "(3, 10, [1, 2, 5], [1, 0, 0, 0, 0, 0, 0, 0, 0, 0, 0])"
      ]
     },
     "execution_count": 5,
     "metadata": {},
     "output_type": "execute_result"
    }
   ],
   "source": [
    "n,k,c,dp"
   ]
  },
  {
   "cell_type": "code",
   "execution_count": 11,
   "id": "320422dc",
   "metadata": {
    "ExecuteTime": {
     "end_time": "2022-05-16T09:22:40.575639Z",
     "start_time": "2022-05-16T09:22:40.566640Z"
    },
    "collapsed": true
   },
   "outputs": [
    {
     "name": "stdout",
     "output_type": "stream",
     "text": [
      "dp의 1에 0번째인 1를 더해서 덮어씌움\n",
      "[1, 1, 0, 0, 0, 0, 0, 0, 0, 0, 0]\n",
      "dp의 2에 1번째인 1를 더해서 덮어씌움\n",
      "[1, 1, 1, 0, 0, 0, 0, 0, 0, 0, 0]\n",
      "dp의 3에 2번째인 1를 더해서 덮어씌움\n",
      "[1, 1, 1, 1, 0, 0, 0, 0, 0, 0, 0]\n",
      "dp의 4에 3번째인 1를 더해서 덮어씌움\n",
      "[1, 1, 1, 1, 1, 0, 0, 0, 0, 0, 0]\n",
      "dp의 5에 4번째인 1를 더해서 덮어씌움\n",
      "[1, 1, 1, 1, 1, 1, 0, 0, 0, 0, 0]\n",
      "dp의 6에 5번째인 1를 더해서 덮어씌움\n",
      "[1, 1, 1, 1, 1, 1, 1, 0, 0, 0, 0]\n",
      "dp의 7에 6번째인 1를 더해서 덮어씌움\n",
      "[1, 1, 1, 1, 1, 1, 1, 1, 0, 0, 0]\n",
      "dp의 8에 7번째인 1를 더해서 덮어씌움\n",
      "[1, 1, 1, 1, 1, 1, 1, 1, 1, 0, 0]\n",
      "dp의 9에 8번째인 1를 더해서 덮어씌움\n",
      "[1, 1, 1, 1, 1, 1, 1, 1, 1, 1, 0]\n",
      "dp의 10에 9번째인 1를 더해서 덮어씌움\n",
      "[1, 1, 1, 1, 1, 1, 1, 1, 1, 1, 1]\n",
      "dp의 2에 0번째인 1를 더해서 덮어씌움\n",
      "[1, 1, 2, 1, 1, 1, 1, 1, 1, 1, 1]\n",
      "dp의 3에 1번째인 1를 더해서 덮어씌움\n",
      "[1, 1, 2, 2, 1, 1, 1, 1, 1, 1, 1]\n",
      "dp의 4에 2번째인 2를 더해서 덮어씌움\n",
      "[1, 1, 2, 2, 3, 1, 1, 1, 1, 1, 1]\n",
      "dp의 5에 3번째인 2를 더해서 덮어씌움\n",
      "[1, 1, 2, 2, 3, 3, 1, 1, 1, 1, 1]\n",
      "dp의 6에 4번째인 3를 더해서 덮어씌움\n",
      "[1, 1, 2, 2, 3, 3, 4, 1, 1, 1, 1]\n",
      "dp의 7에 5번째인 3를 더해서 덮어씌움\n",
      "[1, 1, 2, 2, 3, 3, 4, 4, 1, 1, 1]\n",
      "dp의 8에 6번째인 4를 더해서 덮어씌움\n",
      "[1, 1, 2, 2, 3, 3, 4, 4, 5, 1, 1]\n",
      "dp의 9에 7번째인 4를 더해서 덮어씌움\n",
      "[1, 1, 2, 2, 3, 3, 4, 4, 5, 5, 1]\n",
      "dp의 10에 8번째인 5를 더해서 덮어씌움\n",
      "[1, 1, 2, 2, 3, 3, 4, 4, 5, 5, 6]\n",
      "dp의 5에 0번째인 1를 더해서 덮어씌움\n",
      "[1, 1, 2, 2, 3, 4, 4, 4, 5, 5, 6]\n",
      "dp의 6에 1번째인 1를 더해서 덮어씌움\n",
      "[1, 1, 2, 2, 3, 4, 5, 4, 5, 5, 6]\n",
      "dp의 7에 2번째인 2를 더해서 덮어씌움\n",
      "[1, 1, 2, 2, 3, 4, 5, 6, 5, 5, 6]\n",
      "dp의 8에 3번째인 2를 더해서 덮어씌움\n",
      "[1, 1, 2, 2, 3, 4, 5, 6, 7, 5, 6]\n",
      "dp의 9에 4번째인 3를 더해서 덮어씌움\n",
      "[1, 1, 2, 2, 3, 4, 5, 6, 7, 8, 6]\n",
      "dp의 10에 5번째인 4를 더해서 덮어씌움\n",
      "[1, 1, 2, 2, 3, 4, 5, 6, 7, 8, 10]\n"
     ]
    }
   ],
   "source": [
    "for i in c:\n",
    "    for j in range(i,k+1):\n",
    "        if j-i >= 0:\n",
    "            print(f\"dp의 {j}에 {j-i}번째인 {dp[j-i]}를 더해서 덮어씌움\")\n",
    "            dp[j] += dp[j-i]\n",
    "            print(dp)"
   ]
  },
  {
   "cell_type": "code",
   "execution_count": 12,
   "id": "7dfef785",
   "metadata": {
    "ExecuteTime": {
     "end_time": "2022-05-16T09:26:05.222384Z",
     "start_time": "2022-05-16T09:26:05.206380Z"
    }
   },
   "outputs": [
    {
     "data": {
      "text/plain": [
       "(3, 10, [1, 2, 5], [1, 1, 2, 2, 3, 4, 5, 6, 7, 8, 10])"
      ]
     },
     "execution_count": 12,
     "metadata": {},
     "output_type": "execute_result"
    }
   ],
   "source": [
    "n,k,c,dp"
   ]
  },
  {
   "cell_type": "code",
   "execution_count": 11,
   "id": "1a4e60ea",
   "metadata": {
    "ExecuteTime": {
     "end_time": "2022-05-16T09:22:40.575639Z",
     "start_time": "2022-05-16T09:22:40.566640Z"
    },
    "collapsed": true
   },
   "outputs": [
    {
     "name": "stdout",
     "output_type": "stream",
     "text": [
      "dp의 1에 0번째인 1를 더해서 덮어씌움\n",
      "[1, 1, 0, 0, 0, 0, 0, 0, 0, 0, 0]\n",
      "dp의 2에 1번째인 1를 더해서 덮어씌움\n",
      "[1, 1, 1, 0, 0, 0, 0, 0, 0, 0, 0]\n",
      "dp의 3에 2번째인 1를 더해서 덮어씌움\n",
      "[1, 1, 1, 1, 0, 0, 0, 0, 0, 0, 0]\n",
      "dp의 4에 3번째인 1를 더해서 덮어씌움\n",
      "[1, 1, 1, 1, 1, 0, 0, 0, 0, 0, 0]\n",
      "dp의 5에 4번째인 1를 더해서 덮어씌움\n",
      "[1, 1, 1, 1, 1, 1, 0, 0, 0, 0, 0]\n",
      "dp의 6에 5번째인 1를 더해서 덮어씌움\n",
      "[1, 1, 1, 1, 1, 1, 1, 0, 0, 0, 0]\n",
      "dp의 7에 6번째인 1를 더해서 덮어씌움\n",
      "[1, 1, 1, 1, 1, 1, 1, 1, 0, 0, 0]\n",
      "dp의 8에 7번째인 1를 더해서 덮어씌움\n",
      "[1, 1, 1, 1, 1, 1, 1, 1, 1, 0, 0]\n",
      "dp의 9에 8번째인 1를 더해서 덮어씌움\n",
      "[1, 1, 1, 1, 1, 1, 1, 1, 1, 1, 0]\n",
      "dp의 10에 9번째인 1를 더해서 덮어씌움\n",
      "[1, 1, 1, 1, 1, 1, 1, 1, 1, 1, 1]\n",
      "dp의 2에 0번째인 1를 더해서 덮어씌움\n",
      "[1, 1, 2, 1, 1, 1, 1, 1, 1, 1, 1]\n",
      "dp의 3에 1번째인 1를 더해서 덮어씌움\n",
      "[1, 1, 2, 2, 1, 1, 1, 1, 1, 1, 1]\n",
      "dp의 4에 2번째인 2를 더해서 덮어씌움\n",
      "[1, 1, 2, 2, 3, 1, 1, 1, 1, 1, 1]\n",
      "dp의 5에 3번째인 2를 더해서 덮어씌움\n",
      "[1, 1, 2, 2, 3, 3, 1, 1, 1, 1, 1]\n",
      "dp의 6에 4번째인 3를 더해서 덮어씌움\n",
      "[1, 1, 2, 2, 3, 3, 4, 1, 1, 1, 1]\n",
      "dp의 7에 5번째인 3를 더해서 덮어씌움\n",
      "[1, 1, 2, 2, 3, 3, 4, 4, 1, 1, 1]\n",
      "dp의 8에 6번째인 4를 더해서 덮어씌움\n",
      "[1, 1, 2, 2, 3, 3, 4, 4, 5, 1, 1]\n",
      "dp의 9에 7번째인 4를 더해서 덮어씌움\n",
      "[1, 1, 2, 2, 3, 3, 4, 4, 5, 5, 1]\n",
      "dp의 10에 8번째인 5를 더해서 덮어씌움\n",
      "[1, 1, 2, 2, 3, 3, 4, 4, 5, 5, 6]\n",
      "dp의 5에 0번째인 1를 더해서 덮어씌움\n",
      "[1, 1, 2, 2, 3, 4, 4, 4, 5, 5, 6]\n",
      "dp의 6에 1번째인 1를 더해서 덮어씌움\n",
      "[1, 1, 2, 2, 3, 4, 5, 4, 5, 5, 6]\n",
      "dp의 7에 2번째인 2를 더해서 덮어씌움\n",
      "[1, 1, 2, 2, 3, 4, 5, 6, 5, 5, 6]\n",
      "dp의 8에 3번째인 2를 더해서 덮어씌움\n",
      "[1, 1, 2, 2, 3, 4, 5, 6, 7, 5, 6]\n",
      "dp의 9에 4번째인 3를 더해서 덮어씌움\n",
      "[1, 1, 2, 2, 3, 4, 5, 6, 7, 8, 6]\n",
      "dp의 10에 5번째인 4를 더해서 덮어씌움\n",
      "[1, 1, 2, 2, 3, 4, 5, 6, 7, 8, 10]\n"
     ]
    }
   ],
   "source": [
    "n, k = 3, 10\n",
    "c = [1,2,5]\n",
    "dp = [0 for i in range(k+1)]\n",
    "dp[0]=1\n",
    "# 최초의 코인이 i원에 대해, j원을 만들 때\n",
    "# 즉, 최초로 i==j일 때, dp[j] = dp[j]+dp[0] 으로 시작한다. 이때 1이 되게하기 위해 dp[0]=1\n",
    "\n",
    "for i in c:\n",
    "    for j in range(i,k+1): # (i,k+1)인 이유: 3원이라면 1,2원 건너뛰고, dp[3]부터 순회 ~ k+1까지(1-based)\n",
    "        # 코인 i원에 대해 j원을 만드는 경우의 수 구하기\n",
    "        if i <= j: # i원 코인으로 j원을 만드려면, j>= i\n",
    "            print(f\"dp의 {j}에 {j-i}번째인 {dp[j-i]}를 더해서 덮어씌움\")\n",
    "            dp[j] += dp[j-i] # j-i. 2원코인으로 4원을 만드는 경우 dp[4]+dp[2].\n",
    "            ## dp[4]: 2원코인을 제외하고, 4원을 만든 모든 경우의수\n",
    "            ## dp[2]: 2원을 만든 모든 경우의수 -> 여기에 2원을 얹으면, 2원 포함 4원을 만드는 경우의수가 된다.\n",
    "            print(dp)"
   ]
  },
  {
   "cell_type": "markdown",
   "id": "3914199e",
   "metadata": {},
   "source": [
    "1,2,5 예시에 대해 표 그려보기\n",
    "\n",
    "      j 0 1 2 3 4 5 6 7 8 9 10 \n",
    "    i \n",
    "    1   1 1 1 1 1 1 1 1 1 1  1\n",
    "    2   1 1 2 2 3 3 4 4 5 5  6\n",
    "    5   1 1 2 2 3 4 5 6 8 8 10"
   ]
  },
  {
   "cell_type": "code",
   "execution_count": 13,
   "id": "1ef02d69",
   "metadata": {
    "ExecuteTime": {
     "end_time": "2022-05-16T13:09:15.158915Z",
     "start_time": "2022-05-16T13:09:09.852210Z"
    }
   },
   "outputs": [
    {
     "name": "stdout",
     "output_type": "stream",
     "text": [
      "3 10\n",
      "1\n",
      "2\n",
      "5\n"
     ]
    }
   ],
   "source": [
    "n,k=map(int,input().split())\n",
    "c=[int(input()) for _ in range(n)]"
   ]
  },
  {
   "cell_type": "code",
   "execution_count": 14,
   "id": "b10e7a9f",
   "metadata": {
    "ExecuteTime": {
     "end_time": "2022-05-16T13:09:39.230749Z",
     "start_time": "2022-05-16T13:09:39.220207Z"
    }
   },
   "outputs": [
    {
     "data": {
      "text/plain": [
       "[0, 0, 0, 0, 0, 0, 0, 0, 0, 0, 0]"
      ]
     },
     "execution_count": 14,
     "metadata": {},
     "output_type": "execute_result"
    }
   ],
   "source": [
    "dp = [0 for _ in range(k+1)]\n",
    "dp"
   ]
  },
  {
   "cell_type": "code",
   "execution_count": 15,
   "id": "c0cfde14",
   "metadata": {
    "ExecuteTime": {
     "end_time": "2022-05-16T13:09:49.554348Z",
     "start_time": "2022-05-16T13:09:49.546288Z"
    }
   },
   "outputs": [],
   "source": [
    "dp[0]=1"
   ]
  },
  {
   "cell_type": "code",
   "execution_count": 16,
   "id": "4e62a7d2",
   "metadata": {
    "ExecuteTime": {
     "end_time": "2022-05-16T13:16:04.587721Z",
     "start_time": "2022-05-16T13:16:04.579514Z"
    }
   },
   "outputs": [],
   "source": [
    "for coin in c:\n",
    "    for m in range(coin,k+1):\n",
    "        if m >= coin:\n",
    "            dp[m]+=dp[m-coin]"
   ]
  },
  {
   "cell_type": "code",
   "execution_count": 18,
   "id": "1029ee35",
   "metadata": {
    "ExecuteTime": {
     "end_time": "2022-05-16T13:16:09.129880Z",
     "start_time": "2022-05-16T13:16:09.116671Z"
    }
   },
   "outputs": [
    {
     "data": {
      "text/plain": [
       "10"
      ]
     },
     "execution_count": 18,
     "metadata": {},
     "output_type": "execute_result"
    }
   ],
   "source": [
    "dp[k]"
   ]
  },
  {
   "cell_type": "markdown",
   "id": "165b344d",
   "metadata": {},
   "source": [
    "### 제출 풀이"
   ]
  },
  {
   "cell_type": "code",
   "execution_count": null,
   "id": "fca7d7bf",
   "metadata": {},
   "outputs": [],
   "source": [
    "n,k = map(int,input().split())\n",
    "c_li = [int(input()) for _ in range(n)]\n",
    "dp = [1] + [0 for _ in range(k)]\n",
    "for coin in c_li:\n",
    "    for m in range(coin,k+1):\n",
    "        dp[m]+=dp[m-coin]\n",
    "print(dp[k])"
   ]
  },
  {
   "cell_type": "markdown",
   "id": "035a0db4",
   "metadata": {},
   "source": [
    "#### 제출풀이 설명 주석"
   ]
  },
  {
   "cell_type": "code",
   "execution_count": null,
   "id": "4aca40bd",
   "metadata": {
    "ExecuteTime": {
     "end_time": "2022-05-16T09:22:40.575639Z",
     "start_time": "2022-05-16T09:22:40.566640Z"
    }
   },
   "outputs": [],
   "source": [
    "n,k = map(int,input().split())\n",
    "c_li = [int(input()) for _ in range(n)]\n",
    "dp = [1] + [0 for _ in range(k)]\n",
    "# 최초의 코인이 coin원에 대해, m원을 만들 때\n",
    "# 즉, 최초로 coin==m일 때, dp[m] = dp[m]+dp[0] 으로 시작한다. 이때 1이 되게하기 위해 dp[0]=1\n",
    "\n",
    "for coin in c_li:# (coin,k+1)인 이유: 3원이라면 1,2원 건너뛰고, dp[3]부터 순회 ~ k+1까지(1-based)\n",
    "        # 코인 coin원에 대해 m원을 만드는 경우의 수 구하기\n",
    "    for m in range(coin,k+1):\n",
    "        dp[m]+=dp[m-coin]# m-coin. 2원코인으로 4원을 만드는 경우 dp[4]+dp[2].\n",
    "            ## dp[4]: 2원코인을 제외하고, 4원을 만든 모든 경우의수\n",
    "            ## dp[2]: 2원을 만든 모든 경우의수 -> 여기에 2원을 얹으면, 2원 포함 4원을 만드는 경우의수가 된다.\n",
    "print(dp[k])"
   ]
  },
  {
   "cell_type": "markdown",
   "id": "cfba62f4",
   "metadata": {},
   "source": [
    "    DP를 이용할 때는 제일 쉬운문제부터 접근하여, 큰문제를 작은 부분문제의 결합으로 쪼개는 점화식을 세우는 것이다.\n",
    "\n",
    "    coin원짜리 동전에 대해, k원을 만드는 방법은 그 전까지 k원을 만든 모든 방식 + (k-coin)원을 만드는 모든 방식을 더하는 것이다.\n",
    "\n",
    "    dp[k] = dp[k]+dp[k-coin] \n",
    "\n",
    "    (단, dp[0]은 0원의 의미가 아니라 최초로 coin원과 m원이 동일하여 동전1개로 m원을 만족할 때를 의미한다.)\n",
    "\n",
    "    예를 들어,\n",
    "\n",
    "    1원 2원짜리 동전2개가 있고, 2원을 만드는 경우의 수를 구한다고 생각해보자.\n",
    "\n",
    "    1원으로만 2원을 만드는 경우 dp[2] = dp[2]+dp[0] 이다. 기존 dp[0]은 1로 초기화 되었고, dp[2]는 0이니 dp[2]는 1이다.\n",
    "\n",
    "    2원을 포함했을 때를 생각해보자 dp[2] = dp[2] + dp[2-2]에서 우항을 보자.\n",
    "\n",
    "    dp[2]는 기존에 1원동전으로 2원을 만드는 모든 경우의수 1이 들어있고, dp[0]의 모든 경우의수에 2원을 추가하면 2원인 모든 경우의 수가 나온다. 그렇기 때문에 기존 1원으로 2원을 만든 모든 경우의 수와 2원동전을 얹어 2원이 되는 모든 경우의수가 구해진다. 그래서 dp[2]에는 2가 들어간다.\n",
    "\n",
    "    위 경우보다 4원일때가 이 알고리즘의 핵심을 좀더 잘 담는다.\n",
    "\n",
    "    4원일때는 dp[4] = dp[4] + dp[4-2] 이다. 우항을 살펴보자.\n",
    "\n",
    "    dp[4]는 기존에 1원으로 4원을 만드는 경우의 수인 1이다. dp[4-2]는 dp[2]로 2원을 만드는 모든 경우의수 + 2원동전으로 해석된다. dp[2]는 기존에 1원과 2원으로 2원을 만드는 모든 경우의수인 2가 들어가있다. \n",
    "    즉, dp[4] = dp[4] + dp[2] = 1 + 2로 3이된다. 즉, 1로만 4를 만드는 경우, 1과2를 활용해서 2를 만드는 2가지 경우를 더해 총 3가지 경우. (1 1 1 1), (1 1 2), (2 2) 가 된다.\n",
    "\n",
    "    이런 식으로 dp[k]를 각 코인별로 순차적으로 계속 채워 나가게되면 coin원 일때,\n",
    "\n",
    "    dp[k] = dp[k] + dp[k-coin]이 성립된다."
   ]
  }
 ],
 "metadata": {
  "kernelspec": {
   "display_name": "Python 3",
   "language": "python",
   "name": "python3"
  },
  "language_info": {
   "codemirror_mode": {
    "name": "ipython",
    "version": 3
   },
   "file_extension": ".py",
   "mimetype": "text/x-python",
   "name": "python",
   "nbconvert_exporter": "python",
   "pygments_lexer": "ipython3",
   "version": "3.8.12"
  },
  "toc": {
   "base_numbering": 1,
   "nav_menu": {},
   "number_sections": true,
   "sideBar": true,
   "skip_h1_title": false,
   "title_cell": "Table of Contents",
   "title_sidebar": "Contents",
   "toc_cell": false,
   "toc_position": {},
   "toc_section_display": true,
   "toc_window_display": false
  }
 },
 "nbformat": 4,
 "nbformat_minor": 5
}
