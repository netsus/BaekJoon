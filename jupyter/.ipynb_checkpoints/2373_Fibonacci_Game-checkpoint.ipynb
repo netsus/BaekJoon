{
 "cells": [
  {
   "cell_type": "code",
   "execution_count": 8,
   "metadata": {
    "ExecuteTime": {
     "end_time": "2021-11-21T15:30:40.563155Z",
     "start_time": "2021-11-21T15:30:40.544154Z"
    }
   },
   "outputs": [],
   "source": [
    "def fib(n):\n",
    "    fibs = [1,1]\n",
    "    for i in range(2,n+1):\n",
    "        fibs.append(fibs[-1] + fibs[-2])\n",
    "    return fibs\n",
    "\n",
    "N = int(input())\n",
    "\n",
    "fibo_list = fib(30)\n",
    "first_N = N\n",
    "while 1:\n",
    "    for i in range(len(fibo_list)):\n",
    "        temp=N\n",
    "        if temp < fibo_list[i]:\n",
    "            temp = fibo_list[i-1] # N은 최소 2 이상\n",
    "            break\n",
    "    if N==temp: # N이 N보다 작은 피보나치 수를 빼서 피보나치 수가 되면 -> 최종적으로 그 N 만큼 1번 사람이 가져가는게 승리\n",
    "        break\n",
    "    N -= temp\n",
    "\n",
    "print(-1 if N==first_N else N)"
   ]
  }
 ],
 "metadata": {
  "kernelspec": {
   "display_name": "Python 3",
   "language": "python",
   "name": "python3"
  },
  "language_info": {
   "codemirror_mode": {
    "name": "ipython",
    "version": 3
   },
   "file_extension": ".py",
   "mimetype": "text/x-python",
   "name": "python",
   "nbconvert_exporter": "python",
   "pygments_lexer": "ipython3",
   "version": "3.8.5"
  },
  "toc": {
   "base_numbering": 1,
   "nav_menu": {},
   "number_sections": true,
   "sideBar": true,
   "skip_h1_title": false,
   "title_cell": "Table of Contents",
   "title_sidebar": "Contents",
   "toc_cell": false,
   "toc_position": {},
   "toc_section_display": true,
   "toc_window_display": false
  }
 },
 "nbformat": 4,
 "nbformat_minor": 4
}
