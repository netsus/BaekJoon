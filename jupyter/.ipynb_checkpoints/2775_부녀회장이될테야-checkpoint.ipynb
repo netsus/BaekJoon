{
 "cells": [
  {
   "cell_type": "markdown",
   "id": "a349a162",
   "metadata": {},
   "source": [
    "이 아파트에 거주를 하려면 조건이 있는데, “a층의 b호에 살려면 자신의 아래(a-1)층의 1호부터 b호까지 사람들의 수의 합만큼 사람들을 데려와 살아야 한다” 는 계약 조항을 꼭 지키고 들어와야 한다.\n",
    "\n",
    "아파트에 비어있는 집은 없고 모든 거주민들이 이 계약 조건을 지키고 왔다고 가정했을 때, 주어지는 양의 정수 k와 n에 대해 k층에 n호에는 몇 명이 살고 있는지 출력하라. 단, 아파트에는 0층부터 있고 각층에는 1호부터 있으며, 0층의 i호에는 i명이 산다."
   ]
  },
  {
   "cell_type": "markdown",
   "id": "90557352",
   "metadata": {},
   "source": [
    "- 입력\n",
    "\n",
    "첫 번째 줄에 Test case의 수 T가 주어진다. 그리고 각각의 케이스마다 입력으로 첫 번째 줄에 정수 k, 두 번째 줄에 정수 n이 주어진다\n",
    "\n",
    "- 출력\n",
    "\n",
    "각각의 Test case에 대해서 해당 집에 거주민 수를 출력하라."
   ]
  },
  {
   "attachments": {},
   "cell_type": "markdown",
   "id": "ae3a0641",
   "metadata": {},
   "source": [
    "<img src=\"https://blog.kakaocdn.net/dn/rfirb/btrBpU3JpEd/Nne5khuk2FkrhdkIKsKC1k/img.png\" width=\"900\">"
   ]
  },
  {
   "cell_type": "markdown",
   "id": "9d49ed55",
   "metadata": {},
   "source": [
    "    0층 1호부터있으며, 0층 i호에는 i명이 산다.\n",
    "    a층의 b호 : (a-1)층의 1호부터 b호까지 사람들의 수의 합\n",
    "    1층 3호인 경우, 0층 1호~3호 사람 수의 합: 1 + 2 + 3 = 6\n",
    "    2층 3호인 경우, 1층 1호~3호 사람 수의 합: 1 + (1+2) + (1+2+3) = 10\n",
    "    a층 b호인 경우, 1 + (1+2) + ... "
   ]
  },
  {
   "cell_type": "code",
   "execution_count": 6,
   "id": "732630ca",
   "metadata": {
    "ExecuteTime": {
     "end_time": "2022-05-06T06:46:16.190564Z",
     "start_time": "2022-05-06T06:46:15.380419Z"
    }
   },
   "outputs": [
    {
     "name": "stdout",
     "output_type": "stream",
     "text": [
      "3\n",
      "[0, 1, 3, 6, 10, 15, 21, 28, 36, 45, 55, 66, 78, 91, 105]\n",
      "[0, 1, 4, 10, 20, 35, 56, 84, 120, 165, 220, 286, 364, 455, 560]\n",
      "[0, 1, 5, 15, 35, 70, 126, 210, 330, 495, 715, 1001, 1365, 1820, 2380]\n",
      "2\n",
      "5\n"
     ]
    }
   ],
   "source": [
    "from itertools import accumulate as a\n",
    "l=list(range(15))\n",
    "for k in range(int(input())):\n",
    "    l=list(a(l))\n",
    "    print(l)\n",
    "print(l[int(input())])"
   ]
  },
  {
   "cell_type": "code",
   "execution_count": null,
   "id": "1d4fc03f",
   "metadata": {},
   "outputs": [],
   "source": [
    "from itertools import accumulate as a\n",
    "for i in range(int(input())):\n",
    "    l=list(range(15))\n",
    "    for k in range(int(input())):\n",
    "        l=list(a(l))\n",
    "    print(l[int(input())])"
   ]
  }
 ],
 "metadata": {
  "kernelspec": {
   "display_name": "Python 3 (ipykernel)",
   "language": "python",
   "name": "python3"
  },
  "language_info": {
   "codemirror_mode": {
    "name": "ipython",
    "version": 3
   },
   "file_extension": ".py",
   "mimetype": "text/x-python",
   "name": "python",
   "nbconvert_exporter": "python",
   "pygments_lexer": "ipython3",
   "version": "3.10.4"
  },
  "toc": {
   "base_numbering": 1,
   "nav_menu": {},
   "number_sections": true,
   "sideBar": true,
   "skip_h1_title": false,
   "title_cell": "Table of Contents",
   "title_sidebar": "Contents",
   "toc_cell": false,
   "toc_position": {},
   "toc_section_display": true,
   "toc_window_display": false
  }
 },
 "nbformat": 4,
 "nbformat_minor": 5
}
