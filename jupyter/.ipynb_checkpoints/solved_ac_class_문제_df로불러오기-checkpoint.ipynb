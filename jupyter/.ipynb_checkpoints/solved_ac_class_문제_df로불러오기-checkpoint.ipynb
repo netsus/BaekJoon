{
 "cells": [
  {
   "cell_type": "code",
   "execution_count": null,
   "metadata": {},
   "outputs": [],
   "source": [
    "import pandas as pd\n",
    "from urllib.request import Request, urlopen\n",
    "\n",
    "def page2df(url):\n",
    "    req = Request(url, headers={'User-Agent': 'Mozilla/5.0'})\n",
    "    webpage = urlopen(req).read()\n",
    "    tables = pd.read_html(webpage.decode(\"utf-8\")) #here was the err\n",
    "    return tables[0]\n",
    "\n",
    "class2='https://www.acmicpc.net/workbook/view/4098'\n",
    "class3_p='https://www.acmicpc.net/workbook/view/8189'\n",
    "class3='https://www.acmicpc.net/workbook/view/4099'\n",
    "class5='https://www.acmicpc.net/workbook/view/6079'\n",
    "\n",
    "df_c2 = page2df(class2)\n",
    "df_c3 = page2df(class3_p)\n",
    "df_c5 = page2df(class5)"
   ]
  }
 ],
 "metadata": {
  "kernelspec": {
   "display_name": "Python 3",
   "language": "python",
   "name": "python3"
  },
  "language_info": {
   "codemirror_mode": {
    "name": "ipython",
    "version": 3
   },
   "file_extension": ".py",
   "mimetype": "text/x-python",
   "name": "python",
   "nbconvert_exporter": "python",
   "pygments_lexer": "ipython3",
   "version": "3.7.4"
  },
  "toc": {
   "base_numbering": 1,
   "nav_menu": {},
   "number_sections": true,
   "sideBar": true,
   "skip_h1_title": false,
   "title_cell": "Table of Contents",
   "title_sidebar": "Contents",
   "toc_cell": false,
   "toc_position": {},
   "toc_section_display": true,
   "toc_window_display": false
  }
 },
 "nbformat": 4,
 "nbformat_minor": 2
}
