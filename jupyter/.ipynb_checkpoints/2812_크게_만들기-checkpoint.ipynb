{
 "cells": [
  {
   "cell_type": "markdown",
   "metadata": {},
   "source": [
    "## 다른사람 풀이 쪼개기"
   ]
  },
  {
   "cell_type": "code",
   "execution_count": 2,
   "metadata": {
    "ExecuteTime": {
     "end_time": "2022-04-07T04:02:53.434089Z",
     "start_time": "2022-04-07T04:02:49.478966Z"
    }
   },
   "outputs": [
    {
     "name": "stdout",
     "output_type": "stream",
     "text": [
      "10 4\n",
      "4177252841\n"
     ]
    }
   ],
   "source": [
    "N, K = map(int, input().split())\n",
    "num = list(input())\n",
    "stack = []"
   ]
  },
  {
   "cell_type": "markdown",
   "metadata": {},
   "source": [
    "    10 4\n",
    "    4177252841"
   ]
  },
  {
   "cell_type": "code",
   "execution_count": 15,
   "metadata": {
    "ExecuteTime": {
     "end_time": "2022-04-07T04:16:40.486245Z",
     "start_time": "2022-04-07T04:16:40.469226Z"
    }
   },
   "outputs": [
    {
     "data": {
      "text/plain": [
       "(11, 4, ['4', '1', '7', '7', '2', '5', '2', '8', '4', '1', '9'])"
      ]
     },
     "execution_count": 15,
     "metadata": {},
     "output_type": "execute_result"
    }
   ],
   "source": [
    "N, K = 11 , 4\n",
    "num = ['4', '1', '7', '7', '2', '5', '2', '8', '4', '1','9']\n",
    "stack = []\n",
    "N,K,num"
   ]
  },
  {
   "cell_type": "code",
   "execution_count": 17,
   "metadata": {
    "ExecuteTime": {
     "end_time": "2022-04-07T04:20:08.260446Z",
     "start_time": "2022-04-07T04:20:08.244415Z"
    }
   },
   "outputs": [
    {
     "data": {
      "text/plain": [
       "(4, 2, ['1', '1', '9', '9'])"
      ]
     },
     "execution_count": 17,
     "metadata": {},
     "output_type": "execute_result"
    }
   ],
   "source": [
    "N, K = 4 , 2\n",
    "num = ['1', '1', '9', '9']\n",
    "stack = []\n",
    "N,K,num"
   ]
  },
  {
   "cell_type": "code",
   "execution_count": 18,
   "metadata": {
    "ExecuteTime": {
     "end_time": "2022-04-07T04:20:09.643239Z",
     "start_time": "2022-04-07T04:20:09.637238Z"
    }
   },
   "outputs": [
    {
     "name": "stdout",
     "output_type": "stream",
     "text": [
      "stack에 1추가 -> ['1']\n",
      "stack에 1추가 -> ['1', '1']\n",
      "2자리에 대해 1은 9보다 작아 제외\n",
      "1자리에 대해 1은 9보다 작아 제외\n",
      "stack에 9추가 -> ['9']\n",
      "stack에 9추가 -> ['9', '9']\n"
     ]
    }
   ],
   "source": [
    "for i in range(N):\n",
    "    while K > 0 and stack and stack[-1] < num[i]:\n",
    "        print(f\"{K}자리에 대해 {stack[-1]}은 {num[i]}보다 작아 제외\")\n",
    "        stack.pop()\n",
    "        K -= 1\n",
    "    stack.append(num[i])\n",
    "    print(f\"stack에 {num[i]}추가 -> {stack}\")"
   ]
  },
  {
   "cell_type": "code",
   "execution_count": 13,
   "metadata": {
    "ExecuteTime": {
     "end_time": "2022-04-07T04:15:38.714875Z",
     "start_time": "2022-04-07T04:15:38.708874Z"
    }
   },
   "outputs": [
    {
     "name": "stdout",
     "output_type": "stream",
     "text": [
      "stack에 4추가 -> ['4']\n",
      "stack에 1추가 -> ['4', '1']\n",
      "4자리에 대해 1은 7보다 작아 제외\n",
      "3자리에 대해 4은 7보다 작아 제외\n",
      "stack에 7추가 -> ['7']\n",
      "stack에 7추가 -> ['7', '7']\n",
      "stack에 2추가 -> ['7', '7', '2']\n",
      "2자리에 대해 2은 5보다 작아 제외\n",
      "stack에 5추가 -> ['7', '7', '5']\n",
      "stack에 2추가 -> ['7', '7', '5', '2']\n",
      "1자리에 대해 2은 8보다 작아 제외\n",
      "stack에 8추가 -> ['7', '7', '5', '8']\n",
      "stack에 4추가 -> ['7', '7', '5', '8', '4']\n",
      "stack에 1추가 -> ['7', '7', '5', '8', '4', '1']\n"
     ]
    }
   ],
   "source": [
    "for i in range(N):\n",
    "    while K > 0 and stack and stack[-1] < num[i]:\n",
    "        print(f\"{K}자리에 대해 {stack[-1]}은 {num[i]}보다 작아 제외\")\n",
    "        stack.pop()\n",
    "        K -= 1\n",
    "    stack.append(num[i])\n",
    "    print(f\"stack에 {num[i]}추가 -> {stack}\")"
   ]
  },
  {
   "cell_type": "code",
   "execution_count": 9,
   "metadata": {
    "ExecuteTime": {
     "end_time": "2022-04-07T04:13:19.798049Z",
     "start_time": "2022-04-07T04:13:19.781083Z"
    }
   },
   "outputs": [
    {
     "name": "stdout",
     "output_type": "stream",
     "text": [
      "775841\n"
     ]
    }
   ],
   "source": [
    "print(''.join(stack[:N-K]))"
   ]
  },
  {
   "cell_type": "markdown",
   "metadata": {},
   "source": [
    "## 다른사람 풀이"
   ]
  },
  {
   "cell_type": "code",
   "execution_count": null,
   "metadata": {},
   "outputs": [],
   "source": [
    "N, K = map(int, input().split())\n",
    "num = list(input())\n",
    "k, stack = K, []\n",
    "\n",
    "for i in range(N):\n",
    "    while k > 0 and stack and stack[-1] < num[i]:\n",
    "        stack.pop()\n",
    "        k -= 1\n",
    "    stack.append(num[i])\n",
    "\n",
    "print(''.join(stack[:N-K]))"
   ]
  }
 ],
 "metadata": {
  "kernelspec": {
   "display_name": "Python 3 (ipykernel)",
   "language": "python",
   "name": "python3"
  },
  "language_info": {
   "codemirror_mode": {
    "name": "ipython",
    "version": 3
   },
   "file_extension": ".py",
   "mimetype": "text/x-python",
   "name": "python",
   "nbconvert_exporter": "python",
   "pygments_lexer": "ipython3",
   "version": "3.10.4"
  },
  "toc": {
   "base_numbering": 1,
   "nav_menu": {},
   "number_sections": true,
   "sideBar": true,
   "skip_h1_title": false,
   "title_cell": "Table of Contents",
   "title_sidebar": "Contents",
   "toc_cell": false,
   "toc_position": {},
   "toc_section_display": true,
   "toc_window_display": false
  }
 },
 "nbformat": 4,
 "nbformat_minor": 2
}
