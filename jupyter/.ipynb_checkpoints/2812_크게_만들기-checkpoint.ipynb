{
 "cells": [
  {
   "cell_type": "markdown",
   "metadata": {},
   "source": [
    "## 설명있는 내 풀이"
   ]
  },
  {
   "cell_type": "code",
   "execution_count": 68,
   "metadata": {
    "ExecuteTime": {
     "end_time": "2022-04-07T12:26:23.304340Z",
     "start_time": "2022-04-07T12:26:19.625700Z"
    }
   },
   "outputs": [
    {
     "name": "stdout",
     "output_type": "stream",
     "text": [
      "4 2\n",
      "1119\n",
      "19\n"
     ]
    }
   ],
   "source": [
    "N,K=map(int,input().split())\n",
    "nums=list(input())\n",
    "k,stack=K,[]\n",
    "for i in range(N): # k는 빼야할 개수\n",
    "    # k가 0보다 크다 : 빼야할 개수가 남아있다.\n",
    "    # stack : stack에 요소가 있다\n",
    "    # stack[-1] < nums[i] 전값보다 현재값(i)가 더 크다. (왼쪽에 더 작은 수가 있다 -> 빼야한다.)\n",
    "    # 왼쪽에 더 작은수를 뺴야하는 이유 : 가장 큰 자릿수의 값이 더 커야 하기 때문.\n",
    "    while k>0 and stack and stack[-1]<nums[i]:\n",
    "        stack.pop() # 1개 뺐으니까, k에서도 1 빼줌\n",
    "        k-=1\n",
    "    stack.append(nums[i])\n",
    "print(''.join(stack)[:N-K])"
   ]
  },
  {
   "cell_type": "markdown",
   "metadata": {},
   "source": [
    "## 안보고 풀어보기"
   ]
  },
  {
   "cell_type": "code",
   "execution_count": 11,
   "metadata": {
    "ExecuteTime": {
     "end_time": "2022-04-07T11:20:10.368951Z",
     "start_time": "2022-04-07T11:20:10.359422Z"
    }
   },
   "outputs": [
    {
     "data": {
      "text/plain": [
       "(4, 2, ['1', '1', '9', '9'])"
      ]
     },
     "execution_count": 11,
     "metadata": {},
     "output_type": "execute_result"
    }
   ],
   "source": [
    "N, K = 4 , 2\n",
    "num = ['1', '1', '9', '9']\n",
    "stack = []\n",
    "N,K,num"
   ]
  },
  {
   "cell_type": "code",
   "execution_count": 12,
   "metadata": {
    "ExecuteTime": {
     "end_time": "2022-04-07T11:21:39.080063Z",
     "start_time": "2022-04-07T11:21:39.063483Z"
    }
   },
   "outputs": [],
   "source": [
    "for i in range(N):\n",
    "    while K>0 and stack and stack[-1]<num[i]:\n",
    "        stack.pop()\n",
    "        K-=1\n",
    "    stack.append(num[i])"
   ]
  },
  {
   "cell_type": "code",
   "execution_count": 14,
   "metadata": {
    "ExecuteTime": {
     "end_time": "2022-04-07T11:21:48.180870Z",
     "start_time": "2022-04-07T11:21:48.172980Z"
    }
   },
   "outputs": [
    {
     "name": "stdout",
     "output_type": "stream",
     "text": [
      "99\n"
     ]
    }
   ],
   "source": [
    "print(''.join(stack))"
   ]
  },
  {
   "cell_type": "markdown",
   "metadata": {},
   "source": [
    "## 다른사람 풀이 쪼개기"
   ]
  },
  {
   "cell_type": "code",
   "execution_count": 2,
   "metadata": {
    "ExecuteTime": {
     "end_time": "2022-04-07T04:02:53.434089Z",
     "start_time": "2022-04-07T04:02:49.478966Z"
    }
   },
   "outputs": [
    {
     "name": "stdout",
     "output_type": "stream",
     "text": [
      "10 4\n",
      "4177252841\n"
     ]
    }
   ],
   "source": [
    "N, K = map(int, input().split())\n",
    "num = list(input())\n",
    "stack = []"
   ]
  },
  {
   "cell_type": "markdown",
   "metadata": {},
   "source": [
    "    10 4\n",
    "    4177252841"
   ]
  },
  {
   "cell_type": "markdown",
   "metadata": {},
   "source": [
    "### 과정 있는 풀이 1"
   ]
  },
  {
   "cell_type": "code",
   "execution_count": 62,
   "metadata": {
    "ExecuteTime": {
     "end_time": "2022-04-07T12:24:47.989969Z",
     "start_time": "2022-04-07T12:24:47.974246Z"
    }
   },
   "outputs": [
    {
     "data": {
      "text/plain": [
       "(4, 2, ['1', '1', '1', '1'])"
      ]
     },
     "execution_count": 62,
     "metadata": {},
     "output_type": "execute_result"
    }
   ],
   "source": [
    "N, K = 4 , 2\n",
    "num = ['1', '1', '1', '1']\n",
    "stack = []\n",
    "N,K,num"
   ]
  },
  {
   "cell_type": "code",
   "execution_count": 63,
   "metadata": {
    "ExecuteTime": {
     "end_time": "2022-04-07T12:24:49.461471Z",
     "start_time": "2022-04-07T12:24:49.455185Z"
    }
   },
   "outputs": [
    {
     "name": "stdout",
     "output_type": "stream",
     "text": [
      "초기에 제외해야할 개수: 2\n",
      "stack에 1추가 -> ['1']\n",
      "stack에 1추가 -> ['1', '1']\n",
      "stack에 1추가 -> ['1', '1', '1']\n",
      "stack에 1추가 -> ['1', '1', '1', '1']\n"
     ]
    }
   ],
   "source": [
    "print(f\"초기에 제외해야할 개수: {K}\")\n",
    "for i in range(N):\n",
    "    while K > 0 and stack and stack[-1] < num[i]: # K는 뺄 숫자 개수, stack에는 가장 큰 수를 리스트로 쌓기\n",
    "        print(f\"{stack[-1]}은 {num[i]}보다 작아 제외 -> 앞으로 제외해야할 개수 :{K-1}\")\n",
    "        stack.pop()\n",
    "        K -= 1\n",
    "    stack.append(num[i])\n",
    "    print(f\"stack에 {num[i]}추가 -> {stack}\")"
   ]
  },
  {
   "cell_type": "code",
   "execution_count": 65,
   "metadata": {
    "ExecuteTime": {
     "end_time": "2022-04-07T12:25:24.495941Z",
     "start_time": "2022-04-07T12:25:24.477721Z"
    }
   },
   "outputs": [
    {
     "data": {
      "text/plain": [
       "2"
      ]
     },
     "execution_count": 65,
     "metadata": {},
     "output_type": "execute_result"
    }
   ],
   "source": [
    "4-2"
   ]
  },
  {
   "cell_type": "code",
   "execution_count": 67,
   "metadata": {
    "ExecuteTime": {
     "end_time": "2022-04-07T12:25:35.254952Z",
     "start_time": "2022-04-07T12:25:35.244799Z"
    }
   },
   "outputs": [
    {
     "data": {
      "text/plain": [
       "'11'"
      ]
     },
     "execution_count": 67,
     "metadata": {},
     "output_type": "execute_result"
    }
   ],
   "source": [
    "''.join(stack[:2])"
   ]
  },
  {
   "cell_type": "markdown",
   "metadata": {},
   "source": [
    "### 과정 있는 풀이 2"
   ]
  },
  {
   "cell_type": "code",
   "execution_count": 60,
   "metadata": {
    "ExecuteTime": {
     "end_time": "2022-04-07T12:02:40.154162Z",
     "start_time": "2022-04-07T12:02:40.140543Z"
    }
   },
   "outputs": [
    {
     "data": {
      "text/plain": [
       "(11, 4, ['4', '1', '7', '7', '2', '5', '2', '8', '4', '1', '9'])"
      ]
     },
     "execution_count": 60,
     "metadata": {},
     "output_type": "execute_result"
    }
   ],
   "source": [
    "N, K = 11 , 4\n",
    "num = ['4', '1', '7', '7', '2', '5', '2', '8', '4', '1','9']\n",
    "stack = []\n",
    "N,K,num"
   ]
  },
  {
   "cell_type": "code",
   "execution_count": 61,
   "metadata": {
    "ExecuteTime": {
     "end_time": "2022-04-07T12:02:40.502655Z",
     "start_time": "2022-04-07T12:02:40.491604Z"
    }
   },
   "outputs": [
    {
     "name": "stdout",
     "output_type": "stream",
     "text": [
      "초기에 제외해야할 개수: 4\n",
      "stack에 4추가 -> ['4']\n",
      "stack에 1추가 -> ['4', '1']\n",
      "1은 7보다 작아 제외 -> 앞으로 제외해야할 개수 :3\n",
      "4은 7보다 작아 제외 -> 앞으로 제외해야할 개수 :2\n",
      "stack에 7추가 -> ['7']\n",
      "stack에 7추가 -> ['7', '7']\n",
      "stack에 2추가 -> ['7', '7', '2']\n",
      "2은 5보다 작아 제외 -> 앞으로 제외해야할 개수 :1\n",
      "stack에 5추가 -> ['7', '7', '5']\n",
      "stack에 2추가 -> ['7', '7', '5', '2']\n",
      "2은 8보다 작아 제외 -> 앞으로 제외해야할 개수 :0\n",
      "stack에 8추가 -> ['7', '7', '5', '8']\n",
      "stack에 4추가 -> ['7', '7', '5', '8', '4']\n",
      "stack에 1추가 -> ['7', '7', '5', '8', '4', '1']\n",
      "stack에 9추가 -> ['7', '7', '5', '8', '4', '1', '9']\n"
     ]
    }
   ],
   "source": [
    "print(f\"초기에 제외해야할 개수: {K}\")\n",
    "for i in range(N):\n",
    "    while K > 0 and stack and stack[-1] < num[i]:\n",
    "        print(f\"{stack[-1]}은 {num[i]}보다 작아 제외 -> 앞으로 제외해야할 개수 :{K-1}\")\n",
    "        stack.pop()\n",
    "        K -= 1\n",
    "    stack.append(num[i])\n",
    "    print(f\"stack에 {num[i]}추가 -> {stack}\")"
   ]
  },
  {
   "cell_type": "code",
   "execution_count": 8,
   "metadata": {
    "ExecuteTime": {
     "end_time": "2022-04-07T11:19:08.129156Z",
     "start_time": "2022-04-07T11:19:08.121960Z"
    }
   },
   "outputs": [
    {
     "name": "stdout",
     "output_type": "stream",
     "text": [
      "7758419\n"
     ]
    }
   ],
   "source": [
    "print(''.join(stack))"
   ]
  },
  {
   "cell_type": "markdown",
   "metadata": {},
   "source": [
    "## 다른사람 풀이"
   ]
  },
  {
   "cell_type": "code",
   "execution_count": null,
   "metadata": {},
   "outputs": [],
   "source": [
    "N, K = map(int, input().split())\n",
    "num = list(input())\n",
    "k, stack = K, []\n",
    "\n",
    "for i in range(N):\n",
    "    while k > 0 and stack and stack[-1] < num[i]:\n",
    "        stack.pop()\n",
    "        k -= 1\n",
    "    stack.append(num[i])\n",
    "\n",
    "print(''.join(stack[:N-K]))"
   ]
  }
 ],
 "metadata": {
  "kernelspec": {
   "display_name": "Python 3",
   "language": "python",
   "name": "python3"
  },
  "language_info": {
   "codemirror_mode": {
    "name": "ipython",
    "version": 3
   },
   "file_extension": ".py",
   "mimetype": "text/x-python",
   "name": "python",
   "nbconvert_exporter": "python",
   "pygments_lexer": "ipython3",
   "version": "3.8.12"
  },
  "toc": {
   "base_numbering": 1,
   "nav_menu": {},
   "number_sections": true,
   "sideBar": true,
   "skip_h1_title": false,
   "title_cell": "Table of Contents",
   "title_sidebar": "Contents",
   "toc_cell": false,
   "toc_position": {},
   "toc_section_display": true,
   "toc_window_display": false
  }
 },
 "nbformat": 4,
 "nbformat_minor": 2
}
