{
 "cells": [
  {
   "cell_type": "markdown",
   "metadata": {},
   "source": [
    "예제 추적\n",
    "```dmih\n",
    "11\n",
    "B\n",
    "B\n",
    "P x\n",
    "L\n",
    "B\n",
    "B\n",
    "B\n",
    "P y\n",
    "D\n",
    "D\n",
    "P z```"
   ]
  },
  {
   "cell_type": "code",
   "execution_count": 80,
   "metadata": {
    "ExecuteTime": {
     "end_time": "2021-10-06T14:39:41.006918Z",
     "start_time": "2021-10-06T14:39:04.437550Z"
    }
   },
   "outputs": [
     "name": "stdout",
     "output_type": "stream",
     "text": [
      "dmih\n",
      "11\n",
      "['d', 'm', 'i', 'h'] 4\n",
      "B\n",
      "cursor 변화 : 3 : ['d', 'm', 'i']\n",
      "B\n",
      "cursor 변화 : 2 : ['d', 'm']\n",
      "P x\n",
      "2에 x추가 : ['d', 'm', 'x']\n",
      "L\n",
      "cursor 변화 : 2\n",
      "B\n",
      "cursor 변화 : 1 : ['d', 'x']\n",
      "B\n",
      "cursor 변화 : 0 : ['x']\n",
      "B\n",
      "P y\n",
      "0에 y추가 : ['y', 'x']\n",
      "D\n",
      "cursor 변화 : 2\n",
      "D\n",
      "P z\n",
      "2에 z추가 : ['y', 'x', 'z']\n",
      "결과 ['y', 'x', 'z']\n"
     ]
    }
   ],
   "source": [
    "seq = list(input())\n",
    "# seq = list(\"abcd\")\n",
    "cursor = len(seq)\n",
    "\n",
    "n=int(input())\n",
    "# n = 3\n",
    "\n",
    "print(seq, cursor)\n",
    "\n",
    "for i in range(n):\n",
    "    cmd=input()\n",
    "    seq, cursor = edit(cmd, seq, cursor)\n",
    "\n",
    "print(\"결과\",seq)"
   ]
  },
  {
   "cell_type": "code",
   "execution_count": 3,
   "metadata": {
    "ExecuteTime": {
     "end_time": "2021-10-06T14:22:08.977341Z",
     "start_time": "2021-10-06T14:22:08.964341Z"
    }
   },
   "outputs": [],
   "source": [
    "cmd1=\"P x\"\n",
    "cmd2=\"L\"\n",
    "cmd3=\"P y\""
   ]
  },
  {
   "cell_type": "code",
   "execution_count": 72,
   "metadata": {
    "ExecuteTime": {
     "end_time": "2021-10-06T14:37:32.097747Z",
     "start_time": "2021-10-06T14:37:32.079746Z"
    }
   },
   "outputs": [],
   "source": [
    "import sys\n",
    "def edit(cmd, seq, cursor):\n",
    "    if cmd.startswith('P'):\n",
    "        add = cmd.split()[-1]\n",
    "        seq.insert(cursor,add)\n",
    "        print(f\"{cursor}에 {add}추가 : {seq}\")\n",
    "        cursor+=1\n",
    "    elif cmd == \"L\":\n",
    "        if cursor != 0:\n",
    "            cursor-=1\n",
    "            print(f\"cursor 변화 : {cursor}\")\n",
    "    elif cmd == \"B\":\n",
    "        if cursor != 0:\n",
    "            seq = seq[:cursor-1] + seq[cursor:]\n",
    "            cursor-=1\n",
    "            print(f\"cursor 변화 : {cursor} : {seq}\")\n",
    "    elif cmd == \"D\":\n",
    "        if cursor != len(seq):\n",
    "            cursor+=1\n",
    "            print(f\"cursor 변화 : {cursor}\")\n",
    "    else:\n",
    "        sys.exit()\n",
    "    return seq, cursor"
   ]
  },
  {
   "cell_type": "code",
   "execution_count": 96,
   "metadata": {
    "ExecuteTime": {
     "end_time": "2021-10-06T14:59:07.649769Z",
     "start_time": "2021-10-06T14:58:59.891486Z"
    }
   },
   "outputs": [
    {
     "name": "stdout",
     "output_type": "stream",
     "text": [
      "abc\n",
      "9\n",
      "L\n",
      "L\n",
      "L\n",
      "L\n",
      "L\n",
      "P x\n",
      "L\n",
      "B\n",
      "P y\n",
      "yxabc\n"
     ]
    }
   ],
   "source": [
    "import sys\n",
    "def edit(cmd, seq, cursor):\n",
    "    if cmd.startswith('P'):\n",
    "        seq.insert(cursor,cmd.split()[-1])\n",
    "        cursor+=1\n",
    "        return seq, cursor\n",
    "    elif cmd == \"L\" and cursor != 0:\n",
    "        cursor-=1\n",
    "        return seq, cursor\n",
    "    elif cmd == \"B\" and cursor != 0:\n",
    "        cursor-=1\n",
    "        return seq[:cursor-1] + seq[cursor:], cursor\n",
    "    elif cmd == \"D\" and cursor != len(seq):\n",
    "        cursor+=1\n",
    "        return seq, cursor\n",
    "    else:\n",
    "        return seq, cursor\n",
    "seq = list(input())\n",
    "cursor = len(seq)\n",
    "n=int(input())\n",
    "for i in range(n):\n",
    "    cmd=input()\n",
    "    seq, cursor = edit(cmd, seq, cursor)\n",
    "print(*seq,sep='')"
   ]
  },
  {
   "cell_type": "code",
   "execution_count": 93,
   "metadata": {
    "ExecuteTime": {
     "end_time": "2021-10-06T14:56:20.721330Z",
     "start_time": "2021-10-06T14:56:20.701331Z"
    }
   },
   "outputs": [
    {
     "ename": "ValueError",
     "evalue": "invalid literal for int() with base 10: ''",
     "output_type": "error",
     "traceback": [
      "\u001b[1;31m---------------------------------------------------------------------------\u001b[0m",
      "\u001b[1;31mValueError\u001b[0m                                Traceback (most recent call last)",
      "\u001b[1;32m<ipython-input-93-6238039f9d84>\u001b[0m in \u001b[0;36m<module>\u001b[1;34m\u001b[0m\n\u001b[0;32m     17\u001b[0m \u001b[0mseq\u001b[0m \u001b[1;33m=\u001b[0m \u001b[0mlist\u001b[0m\u001b[1;33m(\u001b[0m\u001b[0msys\u001b[0m\u001b[1;33m.\u001b[0m\u001b[0mstdin\u001b[0m\u001b[1;33m.\u001b[0m\u001b[0mreadline\u001b[0m\u001b[1;33m(\u001b[0m\u001b[1;33m)\u001b[0m\u001b[1;33m.\u001b[0m\u001b[0mrstrip\u001b[0m\u001b[1;33m(\u001b[0m\u001b[1;33m)\u001b[0m\u001b[1;33m)\u001b[0m\u001b[1;33m\u001b[0m\u001b[1;33m\u001b[0m\u001b[0m\n\u001b[0;32m     18\u001b[0m \u001b[0mcursor\u001b[0m \u001b[1;33m=\u001b[0m \u001b[0mlen\u001b[0m\u001b[1;33m(\u001b[0m\u001b[0mseq\u001b[0m\u001b[1;33m)\u001b[0m\u001b[1;33m\u001b[0m\u001b[1;33m\u001b[0m\u001b[0m\n\u001b[1;32m---> 19\u001b[1;33m \u001b[0mn\u001b[0m\u001b[1;33m=\u001b[0m\u001b[0mint\u001b[0m\u001b[1;33m(\u001b[0m\u001b[0msys\u001b[0m\u001b[1;33m.\u001b[0m\u001b[0mstdin\u001b[0m\u001b[1;33m.\u001b[0m\u001b[0mreadline\u001b[0m\u001b[1;33m(\u001b[0m\u001b[1;33m)\u001b[0m\u001b[1;33m.\u001b[0m\u001b[0mrstrip\u001b[0m\u001b[1;33m(\u001b[0m\u001b[1;33m)\u001b[0m\u001b[1;33m)\u001b[0m\u001b[1;33m\u001b[0m\u001b[1;33m\u001b[0m\u001b[0m\n\u001b[0m\u001b[0;32m     20\u001b[0m \u001b[1;32mfor\u001b[0m \u001b[0mi\u001b[0m \u001b[1;32min\u001b[0m \u001b[0mrange\u001b[0m\u001b[1;33m(\u001b[0m\u001b[0mn\u001b[0m\u001b[1;33m)\u001b[0m\u001b[1;33m:\u001b[0m\u001b[1;33m\u001b[0m\u001b[1;33m\u001b[0m\u001b[0m\n\u001b[0;32m     21\u001b[0m     \u001b[0mcmd\u001b[0m\u001b[1;33m=\u001b[0m\u001b[0msys\u001b[0m\u001b[1;33m.\u001b[0m\u001b[0mstdin\u001b[0m\u001b[1;33m.\u001b[0m\u001b[0mreadline\u001b[0m\u001b[1;33m(\u001b[0m\u001b[1;33m)\u001b[0m\u001b[1;33m.\u001b[0m\u001b[0mrstrip\u001b[0m\u001b[1;33m(\u001b[0m\u001b[1;33m)\u001b[0m\u001b[1;33m\u001b[0m\u001b[1;33m\u001b[0m\u001b[0m\n",
      "\u001b[1;31mValueError\u001b[0m: invalid literal for int() with base 10: ''"
     ]
    }
   ],
   "source": [
    "import sys\n",
    "def edit(cmd, seq, cursor):\n",
    "    if cmd.startswith('P'):\n",
    "        seq.insert(cursor,cmd.split()[-1])\n",
    "        return seq, cursor+1\n",
    "    elif cmd == \"L\" and cursor != 0:\n",
    "        return seq, cursor-1\n",
    "    elif cmd == \"B\" and cursor != 0:\n",
    "        return seq[:cursor-1] + seq[cursor:], cursor-1\n",
    "    elif cmd == \"D\" and cursor != len(seq):\n",
    "        return seq, cursor+1\n",
    "    else:\n",
    "        return seq, cursor\n",
    "seq = list(sys.stdin.readline().rstrip())\n",
    "cursor = len(seq)\n",
    "n=int(sys.stdin.readline().rstrip())\n",
    "for i in range(n):\n",
    "    cmd=sys.stdin.readline().rstrip()\n",
    "    seq, cursor = edit(cmd, seq, cursor)\n",
    "print(*seq,sep='')"
   ]
  },
  {
   "cell_type": "markdown",
   "metadata": {},
   "source": [
    "## 시간초과로 인한 2차 풀이 "
   ]
  },
  {
   "cell_type": "code",
   "execution_count": 14,
   "metadata": {
    "ExecuteTime": {
     "end_time": "2021-10-07T14:29:29.727694Z",
     "start_time": "2021-10-07T14:29:25.965844Z"
    }
   },
   "outputs": [
    {
     "name": "stdout",
     "output_type": "stream",
     "text": [
      "P x\n",
      "L\n",
      "P y\n",
      "abcdyx\n"
     ]
    }
   ],
   "source": [
    "# stk_l = list(input())\n",
    "stk_l = list(\"abcd\")\n",
    "stk_r = []\n",
    "# n=int(input())\n",
    "n = 3\n",
    "for i in range(n):\n",
    "    cmd=input()\n",
    "    stk_l, stk_r = edit(cmd, stk_l, stk_r)\n",
    "\n",
    "print(''.join(stk_l + sorted(stk_r,reverse=True)))"
   ]
  },
  {
   "cell_type": "code",
   "execution_count": 18,
   "metadata": {
    "ExecuteTime": {
     "end_time": "2021-10-07T14:34:54.774650Z",
     "start_time": "2021-10-07T14:34:44.891425Z"
    }
   },
   "outputs": [
    {
     "name": "stdout",
     "output_type": "stream",
     "text": [
      "abc\n",
      "9\n",
      "L\n",
      "L\n",
      "L\n",
      "L\n",
      "L\n",
      "P x\n",
      "L\n",
      "B\n",
      "P y\n",
      "yxabc\n"
     ]
    }
   ],
   "source": [
    "def edit(cmd, stk_l, stk_r):\n",
    "    if cmd.startswith('P'):\n",
    "        stk_l.append(cmd.split()[-1])\n",
    "    elif cmd == \"L\" and len(stk_l) != 0:\n",
    "        stk_r.append(stk_l.pop())\n",
    "    elif cmd == \"B\" and len(stk_l) != 0:\n",
    "        stk_l.pop()\n",
    "    elif cmd == \"D\" and len(stk_r) != 0:\n",
    "        stk_l.append(stk_r.pop())\n",
    "    return stk_l, stk_r    \n",
    "stk_l = list(input())\n",
    "stk_r = []\n",
    "n=int(input())\n",
    "for i in range(n):\n",
    "    cmd=input()\n",
    "    stk_l, stk_r = edit(cmd, stk_l, stk_r)\n",
    "print(''.join(stk_l + stk_r[::-1]))"
   ]
  },
  {
   "cell_type": "code",
   "execution_count": 20,
   "metadata": {
    "ExecuteTime": {
     "end_time": "2021-10-07T14:38:52.929549Z",
     "start_time": "2021-10-07T14:38:41.068214Z"
    }
   },
   "outputs": [
    {
     "name": "stdout",
     "output_type": "stream",
     "text": [
      "dmih\n",
      "11\n",
      "B\n",
      "B\n",
      "P x\n",
      "L\n",
      "B\n",
      "B\n",
      "B\n",
      "P y\n",
      "D\n",
      "D\n",
      "P z\n",
      "yxz\n"
     ]
    }
   ],
   "source": [
    "stk_l = list(input())\n",
    "stk_r = []\n",
    "n=int(input())\n",
    "for i in range(n):\n",
    "    cmd=input()\n",
    "    if cmd.startswith('P'):\n",
    "        stk_l.append(cmd.split()[-1])\n",
    "    elif cmd == \"L\" and len(stk_l) != 0:\n",
    "        stk_r.append(stk_l.pop())\n",
    "    elif cmd == \"B\" and len(stk_l) != 0:\n",
    "        stk_l.pop()\n",
    "    elif cmd == \"D\" and len(stk_r) != 0:\n",
    "        stk_l.append(stk_r.pop())\n",
    "print(''.join(stk_l + stk_r[::-1]))"
   ]
  },
  {
   "cell_type": "code",
   "execution_count": 18,
   "metadata": {
    "ExecuteTime": {
     "end_time": "2021-10-07T14:34:54.774650Z",
     "start_time": "2021-10-07T14:34:44.891425Z"
    }
   },
   "outputs": [
    {
     "name": "stdout",
     "output_type": "stream",
     "text": [
      "abc\n",
      "9\n",
      "L\n",
      "L\n",
      "L\n",
      "L\n",
      "L\n",
      "P x\n",
      "L\n",
      "B\n",
      "P y\n",
      "yxabc\n"
     ]
    }
   ],
   "source": [
    "from sys import stdin\n",
    "stk_l = list(stdin.readline().strip())\n",
    "stk_r = []\n",
    "n=int(stdin.readline())\n",
    "for i in range(n):\n",
    "    cmd=stdin.readline().strip()\n",
    "    if cmd.startswith('P'):\n",
    "        stk_l.append(cmd.split()[-1])\n",
    "    elif cmd == \"L\" and len(stk_l) != 0:\n",
    "        stk_r.append(stk_l.pop())\n",
    "    elif cmd == \"B\" and len(stk_l) != 0:\n",
    "        stk_l.pop()\n",
    "    elif cmd == \"D\" and len(stk_r) != 0:\n",
    "        stk_l.append(stk_r.pop())\n",
    "print(''.join(stk_l + stk_r[::-1]))"
   ]
  },
  {
   "cell_type": "code",
   "execution_count": 17,
   "metadata": {
    "ExecuteTime": {
     "end_time": "2021-10-07T14:32:00.353589Z",
     "start_time": "2021-10-07T14:32:00.325595Z"
    }
   },
   "outputs": [
    {
     "ename": "ValueError",
     "evalue": "invalid literal for int() with base 10: ''",
     "output_type": "error",
     "traceback": [
      "\u001b[1;31m---------------------------------------------------------------------------\u001b[0m",
      "\u001b[1;31mValueError\u001b[0m                                Traceback (most recent call last)",
      "\u001b[1;32m<ipython-input-17-0c362c703bae>\u001b[0m in \u001b[0;36m<module>\u001b[1;34m\u001b[0m\n\u001b[0;32m     12\u001b[0m \u001b[0mstk_l\u001b[0m \u001b[1;33m=\u001b[0m \u001b[0mlist\u001b[0m\u001b[1;33m(\u001b[0m\u001b[0mstdin\u001b[0m\u001b[1;33m.\u001b[0m\u001b[0mreadline\u001b[0m\u001b[1;33m(\u001b[0m\u001b[1;33m)\u001b[0m\u001b[1;33m.\u001b[0m\u001b[0mrstrip\u001b[0m\u001b[1;33m(\u001b[0m\u001b[1;33m)\u001b[0m\u001b[1;33m)\u001b[0m\u001b[1;33m\u001b[0m\u001b[1;33m\u001b[0m\u001b[0m\n\u001b[0;32m     13\u001b[0m \u001b[0mstk_r\u001b[0m \u001b[1;33m=\u001b[0m \u001b[1;33m[\u001b[0m\u001b[1;33m]\u001b[0m\u001b[1;33m\u001b[0m\u001b[1;33m\u001b[0m\u001b[0m\n\u001b[1;32m---> 14\u001b[1;33m \u001b[0mn\u001b[0m\u001b[1;33m=\u001b[0m\u001b[0mint\u001b[0m\u001b[1;33m(\u001b[0m\u001b[0mstdin\u001b[0m\u001b[1;33m.\u001b[0m\u001b[0mreadline\u001b[0m\u001b[1;33m(\u001b[0m\u001b[1;33m)\u001b[0m\u001b[1;33m.\u001b[0m\u001b[0mrstrip\u001b[0m\u001b[1;33m(\u001b[0m\u001b[1;33m)\u001b[0m\u001b[1;33m)\u001b[0m\u001b[1;33m\u001b[0m\u001b[1;33m\u001b[0m\u001b[0m\n\u001b[0m\u001b[0;32m     15\u001b[0m \u001b[1;32mfor\u001b[0m \u001b[0mi\u001b[0m \u001b[1;32min\u001b[0m \u001b[0mrange\u001b[0m\u001b[1;33m(\u001b[0m\u001b[0mn\u001b[0m\u001b[1;33m)\u001b[0m\u001b[1;33m:\u001b[0m\u001b[1;33m\u001b[0m\u001b[1;33m\u001b[0m\u001b[0m\n\u001b[0;32m     16\u001b[0m     \u001b[0mcmd\u001b[0m\u001b[1;33m=\u001b[0m\u001b[0mstdin\u001b[0m\u001b[1;33m.\u001b[0m\u001b[0mreadline\u001b[0m\u001b[1;33m(\u001b[0m\u001b[1;33m)\u001b[0m\u001b[1;33m.\u001b[0m\u001b[0mrstrip\u001b[0m\u001b[1;33m(\u001b[0m\u001b[1;33m)\u001b[0m\u001b[1;33m\u001b[0m\u001b[1;33m\u001b[0m\u001b[0m\n",
      "\u001b[1;31mValueError\u001b[0m: invalid literal for int() with base 10: ''"
     ]
    }
   ],
   "source": [
    "from sys import stdin\n",
    "def edit(cmd, stk_l, stk_r):\n",
    "    if cmd.startswith('P'):\n",
    "        stk_l.append(cmd.split()[-1])\n",
    "    elif cmd == \"L\" and len(stk_l) != 0:\n",
    "        stk_r.append(stk_l.pop())\n",
    "    elif cmd == \"B\" and len(stk_l) != 0:\n",
    "        stk_l.pop()\n",
    "    elif cmd == \"D\" and len(stk_r) != 0:\n",
    "        stk_l.append(stk_r.pop())\n",
    "    return stk_l, stk_r    \n",
    "stk_l = list(stdin.readline().strip())\n",
    "stk_r = []\n",
    "n=int(stdin.readline())\n",
    "for i in range(n):\n",
    "    cmd=stdin.readline()\n",
    "    stk_l, stk_r = edit(cmd, stk_l, stk_r)\n",
    "print(''.join(stk_l.extend(stk_r[::-1])))"
   ]
  }
 ],
 "metadata": {
  "kernelspec": {
   "display_name": "Python 3",
   "language": "python",
   "name": "python3"
  },
  "language_info": {
   "codemirror_mode": {
    "name": "ipython",
    "version": 3
   },
   "file_extension": ".py",
   "mimetype": "text/x-python",
   "name": "python",
   "nbconvert_exporter": "python",
   "pygments_lexer": "ipython3",
   "version": "3.8.5"
  },
  "toc": {
   "base_numbering": 1,
   "nav_menu": {},
   "number_sections": true,
   "sideBar": true,
   "skip_h1_title": false,
   "title_cell": "Table of Contents",
   "title_sidebar": "Contents",
   "toc_cell": false,
   "toc_position": {},
   "toc_section_display": true,
   "toc_window_display": false
  }
 },
 "nbformat": 4,
 "nbformat_minor": 4
}
