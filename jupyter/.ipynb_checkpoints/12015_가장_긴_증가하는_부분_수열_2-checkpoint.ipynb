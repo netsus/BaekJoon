{
 "cells": [
  {
   "cell_type": "markdown",
   "id": "05523abf",
   "metadata": {},
   "source": [
    "## 안보고 짠 코드 합치기"
   ]
  },
  {
   "cell_type": "code",
   "execution_count": 54,
   "id": "f425af7a",
   "metadata": {
    "ExecuteTime": {
     "end_time": "2022-03-26T11:37:22.168349Z",
     "start_time": "2022-03-26T11:37:16.530447Z"
    }
   },
   "outputs": [
    {
     "name": "stdout",
     "output_type": "stream",
     "text": [
      "6\n",
      "10 20 10 30 20 50\n",
      "4\n"
     ]
    }
   ],
   "source": [
    "from bisect import bisect_left\n",
    "N=int(input())\n",
    "A=list(map(int,input().split()))\n",
    "dp=[]\n",
    "\n",
    "for num in A:\n",
    "    k = bisect_left(dp,num)\n",
    "    if len(dp) == k:\n",
    "        dp+=[num]\n",
    "    else:\n",
    "        dp[k]=num\n",
    "print(len(dp))"
   ]
  },
  {
   "cell_type": "code",
   "execution_count": 58,
   "id": "596ea076",
   "metadata": {
    "ExecuteTime": {
     "end_time": "2022-03-26T11:38:10.921553Z",
     "start_time": "2022-03-26T11:38:10.914399Z"
    }
   },
   "outputs": [],
   "source": [
    "import sys\n",
    "input = sys.stdin.readline"
   ]
  },
  {
   "cell_type": "markdown",
   "id": "a4f45f2d",
   "metadata": {},
   "source": [
    "## 안보고 짜보기"
   ]
  },
  {
   "cell_type": "code",
   "execution_count": 41,
   "id": "2340273c",
   "metadata": {
    "ExecuteTime": {
     "end_time": "2022-03-26T11:33:14.608349Z",
     "start_time": "2022-03-26T11:33:14.601414Z"
    }
   },
   "outputs": [],
   "source": [
    "from bisect import bisect_left"
   ]
  },
  {
   "cell_type": "code",
   "execution_count": 42,
   "id": "b9e0df8a",
   "metadata": {
    "ExecuteTime": {
     "end_time": "2022-03-26T11:34:06.890939Z",
     "start_time": "2022-03-26T11:33:57.943891Z"
    }
   },
   "outputs": [
    {
     "name": "stdout",
     "output_type": "stream",
     "text": [
      "6\n",
      "10 20 10 30 20 50\n"
     ]
    }
   ],
   "source": [
    "N=int(input())\n",
    "A=list(map(int,input().split()))"
   ]
  },
  {
   "cell_type": "code",
   "execution_count": 43,
   "id": "e34f1188",
   "metadata": {
    "ExecuteTime": {
     "end_time": "2022-03-26T11:34:09.298552Z",
     "start_time": "2022-03-26T11:34:09.289659Z"
    }
   },
   "outputs": [
    {
     "data": {
      "text/plain": [
       "(6, [10, 20, 10, 30, 20, 50])"
      ]
     },
     "execution_count": 43,
     "metadata": {},
     "output_type": "execute_result"
    }
   ],
   "source": [
    "N,A"
   ]
  },
  {
   "cell_type": "code",
   "execution_count": 50,
   "id": "eef81dab",
   "metadata": {
    "ExecuteTime": {
     "end_time": "2022-03-26T11:36:28.316602Z",
     "start_time": "2022-03-26T11:36:28.308222Z"
    }
   },
   "outputs": [],
   "source": [
    "dp=[]"
   ]
  },
  {
   "cell_type": "code",
   "execution_count": 51,
   "id": "ebb65f1e",
   "metadata": {
    "ExecuteTime": {
     "end_time": "2022-03-26T11:36:28.674059Z",
     "start_time": "2022-03-26T11:36:28.667100Z"
    }
   },
   "outputs": [],
   "source": [
    "for num in A:\n",
    "    k = bisect_left(dp,num)\n",
    "    if len(dp) == k:\n",
    "        dp+=[num]\n",
    "    else:\n",
    "        dp[k]=num"
   ]
  },
  {
   "cell_type": "code",
   "execution_count": 53,
   "id": "f8ffb549",
   "metadata": {
    "ExecuteTime": {
     "end_time": "2022-03-26T11:36:34.762916Z",
     "start_time": "2022-03-26T11:36:34.755533Z"
    }
   },
   "outputs": [
    {
     "name": "stdout",
     "output_type": "stream",
     "text": [
      "4\n"
     ]
    }
   ],
   "source": [
    "print(len(dp))"
   ]
  },
  {
   "cell_type": "markdown",
   "id": "77661845",
   "metadata": {},
   "source": [
    "## 풀이코드 쪼개기"
   ]
  },
  {
   "cell_type": "code",
   "execution_count": 13,
   "id": "e77864fb",
   "metadata": {
    "ExecuteTime": {
     "end_time": "2022-03-26T10:20:54.523551Z",
     "start_time": "2022-03-26T10:20:35.025752Z"
    }
   },
   "outputs": [
    {
     "name": "stdout",
     "output_type": "stream",
     "text": [
      "6\n",
      "10 20 10 30 20 50\n"
     ]
    }
   ],
   "source": [
    "from bisect import bisect_left #이진탐색 코드, 같은 수일 경우 왼쪽 index를 돌려준다\n",
    "\n",
    "# input()\n",
    "# A = list(map(int, input().split()))\n",
    "# dp = []"
   ]
  },
  {
   "cell_type": "code",
   "execution_count": 27,
   "id": "facf5895",
   "metadata": {
    "ExecuteTime": {
     "end_time": "2022-03-26T10:35:22.057197Z",
     "start_time": "2022-03-26T10:35:22.050321Z"
    }
   },
   "outputs": [
    {
     "name": "stdout",
     "output_type": "stream",
     "text": [
      "3\n",
      "5\n"
     ]
    }
   ],
   "source": [
    "from bisect import *\n",
    "li=[0,1,2,3,3,4]\n",
    "data=3\n",
    "print(bisect_left(li,data)) # li의 순서를 유지하면서, data가 들어갈 가장 왼쪽\n",
    "print(bisect_right(li,data)) # li의 순서를 유지하면서, data가 들어갈 가장 왼쪽"
   ]
  },
  {
   "cell_type": "code",
   "execution_count": 38,
   "id": "da67153e",
   "metadata": {
    "ExecuteTime": {
     "end_time": "2022-03-26T11:28:31.574783Z",
     "start_time": "2022-03-26T11:28:31.566798Z"
    }
   },
   "outputs": [],
   "source": [
    "## 테스트 용\n",
    "A = [10, 20, 15, 17, 20, 50]\n",
    "dp = []"
   ]
  },
  {
   "cell_type": "code",
   "execution_count": 40,
   "id": "8f5903b6",
   "metadata": {
    "ExecuteTime": {
     "end_time": "2022-03-26T11:31:31.843793Z",
     "start_time": "2022-03-26T11:31:31.834323Z"
    }
   },
   "outputs": [
    {
     "name": "stdout",
     "output_type": "stream",
     "text": [
      "i 10 len(dp) 5 k 0\n",
      "대체 [10, 15, 17, 20, 50]\n",
      "i 20 len(dp) 5 k 3\n",
      "대체 [10, 15, 17, 20, 50]\n",
      "i 15 len(dp) 5 k 1\n",
      "대체 [10, 15, 17, 20, 50]\n",
      "i 17 len(dp) 5 k 2\n",
      "대체 [10, 15, 17, 20, 50]\n",
      "i 20 len(dp) 5 k 3\n",
      "대체 [10, 15, 17, 20, 50]\n",
      "i 50 len(dp) 5 k 4\n",
      "대체 [10, 15, 17, 20, 50]\n"
     ]
    }
   ],
   "source": [
    "## 주어진 수열 A를 i로 반복\n",
    "for i in A:\n",
    "    k = bisect_left(dp, i) # dp리스트 순서를 유지하며, i가 들어갈 가장 왼쪽 위치 -> k\n",
    "    print('i',i, 'len(dp)',len(dp),'k',k)\n",
    "    #i가 가장 큰 숫자인 경우 -> dp의 맨 오른쪽에 i가 추가되어야 하는 경우\n",
    "    if len(dp) == k: #k가 추가될 자리인데, 그게 len(dp)와 같다는건, 맨 오른쪽에 추가한다는 것.\n",
    "        dp.append(i)\n",
    "        print('dp append',dp)\n",
    "    else: # i가 dp에서 가장 큰 수가 아니다\n",
    "        dp[k] = i # i보다 크거나 같은 수 중 최솟값(k위치)과 대체\n",
    "        ## 대체 하지 않으면, i보다 크고, dp[k]보다 작은 수를 놓친다.\n",
    "        ## 예를 들어, 10, 20, 15, 17, 20 순서일 때, i가 15일때 20을 대치해야 17을 놓치지 않는다.\n",
    "        print('대체' , dp)"
   ]
  },
  {
   "cell_type": "code",
   "execution_count": 35,
   "id": "b9bf1368",
   "metadata": {
    "ExecuteTime": {
     "end_time": "2022-03-26T11:22:46.311773Z",
     "start_time": "2022-03-26T11:22:46.300669Z"
    }
   },
   "outputs": [
    {
     "data": {
      "text/plain": [
       "1"
      ]
     },
     "execution_count": 35,
     "metadata": {},
     "output_type": "execute_result"
    }
   ],
   "source": [
    "bisect_left([10], 20)"
   ]
  },
  {
   "cell_type": "code",
   "execution_count": 23,
   "id": "4dfae110",
   "metadata": {
    "ExecuteTime": {
     "end_time": "2022-03-26T10:32:48.058789Z",
     "start_time": "2022-03-26T10:32:48.042810Z"
    }
   },
   "outputs": [
    {
     "name": "stdout",
     "output_type": "stream",
     "text": [
      "4\n"
     ]
    }
   ],
   "source": [
    "print(len(dp))"
   ]
  },
  {
   "cell_type": "markdown",
   "id": "e63de6ab",
   "metadata": {},
   "source": [
    "## 풀이코드"
   ]
  },
  {
   "cell_type": "code",
   "execution_count": null,
   "id": "a43e02da",
   "metadata": {},
   "outputs": [],
   "source": [
    "from bisect import bisect_left #이진탐색 코드, 같은 수일 경우 왼쪽 index를 돌려준다\n",
    "\n",
    "input()\n",
    "A = list(map(int, input().split()))\n",
    "dp = []\n",
    "\n",
    "for i in A:\n",
    "    k = bisect_left(dp, i) #자신이 들어갈 위치 k\n",
    "    if len(dp) <= k: #i가 가장 큰 숫자라면\n",
    "        dp.append(i)\n",
    "    else:\n",
    "        dp[k] = i #자신보다 큰 수 중 최솟값과 대체\n",
    "print(len(dp))"
   ]
  }
 ],
 "metadata": {
  "kernelspec": {
   "display_name": "Python 3",
   "language": "python",
   "name": "python3"
  },
  "language_info": {
   "codemirror_mode": {
    "name": "ipython",
    "version": 3
   },
   "file_extension": ".py",
   "mimetype": "text/x-python",
   "name": "python",
   "nbconvert_exporter": "python",
   "pygments_lexer": "ipython3",
   "version": "3.8.12"
  },
  "toc": {
   "base_numbering": 1,
   "nav_menu": {},
   "number_sections": true,
   "sideBar": true,
   "skip_h1_title": false,
   "title_cell": "Table of Contents",
   "title_sidebar": "Contents",
   "toc_cell": false,
   "toc_position": {},
   "toc_section_display": true,
   "toc_window_display": false
  }
 },
 "nbformat": 4,
 "nbformat_minor": 5
}
