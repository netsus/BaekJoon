{
 "cells": [
  {
   "cell_type": "markdown",
   "id": "5e8118e0",
   "metadata": {},
   "source": [
    "## 2615 오목\n",
    "    - 검은 바둑알 1\n",
    "    - 흰 바둑알 2\n",
    "    - 19줄, 19칸"
   ]
  },
  {
   "cell_type": "markdown",
   "id": "cb3de3fd",
   "metadata": {},
   "source": [
    "### 제출풀이"
   ]
  },
  {
   "cell_type": "code",
   "execution_count": 23,
   "id": "7e42d3d6",
   "metadata": {
    "ExecuteTime": {
     "end_time": "2022-04-14T17:26:58.632711Z",
     "start_time": "2022-04-14T17:26:58.618922Z"
    }
   },
   "outputs": [
    {
     "name": "stdout",
     "output_type": "stream",
     "text": [
      "0\n"
     ]
    }
   ],
   "source": [
    "import sys\n",
    "# input = sys.stdin.readline\n",
    "\n",
    "# baduk = [list(map(int,input().split())) for _ in range(19)]\n",
    "dx = [1,0,1,-1]\n",
    "dy = [0,1,1,1] #아래, 오른쪽, 오른아래, 오른위\n",
    "for x in range(19): # x가 행, 세로\n",
    "    for y in range(19): # y가 열, 가로\n",
    "        if baduk[x][y] != 0:\n",
    "            kind = baduk[x][y] # 1은 흰돌, 2는 검은돌\n",
    "            for i in range(4):\n",
    "                cnt=1\n",
    "                nx = x + dx[i]\n",
    "                ny = y + dy[i]\n",
    "                while (0<=nx<19) and (0<=ny<19) and (baduk[nx][ny]==kind):\n",
    "                    cnt+=1\n",
    "                    if cnt == 5:\n",
    "                        #첫 돌 전에 육목있는지\n",
    "                        if 0<=(bx := x-dx[i])<19 and 0<=(by := y-dy[i])<19 and (baduk[bx][by]==kind):\n",
    "                            break\n",
    "                        #막 돌 뒤에 육목있는지\n",
    "                        if 0<=(ax := nx+dx[i])<19 and 0<=(ay := ny+dy[i])<19 and (baduk[ax][ay]==kind):\n",
    "                            break\n",
    "                        print(kind)\n",
    "                        print(x+1, y+1)\n",
    "                        exit()\n",
    "                    nx+=dx[i]\n",
    "                    ny+=dy[i]\n",
    "print(0)"
   ]
  },
  {
   "cell_type": "code",
   "execution_count": 6,
   "id": "dc8ee64f",
   "metadata": {
    "ExecuteTime": {
     "end_time": "2022-04-18T12:51:22.491089Z",
     "start_time": "2022-04-18T12:51:22.464783Z"
    }
   },
   "outputs": [
    {
     "data": {
      "text/plain": [
       "[[0, 0, 0, 0, 0, 0, 0, 0, 0, 0, 0, 0, 0, 0, 0, 0, 0, 0, 0],\n",
       " [0, 0, 0, 0, 0, 0, 0, 0, 0, 0, 0, 0, 0, 0, 0, 0, 0, 0, 0],\n",
       " [0, 1, 2, 0, 0, 2, 2, 2, 1, 0, 0, 0, 0, 0, 0, 0, 0, 0, 0],\n",
       " [0, 0, 1, 2, 0, 0, 0, 0, 1, 0, 0, 0, 0, 0, 0, 0, 0, 0, 0],\n",
       " [0, 0, 0, 1, 2, 0, 0, 0, 0, 0, 0, 0, 0, 0, 0, 0, 0, 0, 0],\n",
       " [0, 0, 0, 0, 1, 2, 2, 0, 0, 0, 0, 0, 0, 0, 0, 0, 0, 0, 0],\n",
       " [0, 0, 1, 1, 0, 1, 0, 0, 0, 0, 0, 0, 0, 0, 0, 0, 0, 0, 0],\n",
       " [0, 0, 0, 0, 0, 0, 2, 1, 0, 0, 0, 0, 0, 0, 0, 0, 0, 0, 0],\n",
       " [0, 0, 0, 0, 0, 0, 0, 0, 0, 0, 0, 0, 0, 0, 0, 0, 0, 0, 0],\n",
       " [0, 0, 0, 0, 0, 0, 0, 0, 0, 0, 0, 0, 0, 0, 0, 0, 0, 0, 0],\n",
       " [0, 0, 0, 0, 0, 0, 0, 0, 0, 0, 0, 0, 0, 0, 0, 0, 0, 0, 0],\n",
       " [0, 0, 0, 0, 0, 0, 0, 0, 0, 0, 0, 0, 0, 0, 0, 0, 0, 0, 0],\n",
       " [0, 0, 0, 0, 0, 0, 0, 0, 0, 0, 0, 0, 0, 0, 0, 0, 0, 0, 0],\n",
       " [0, 0, 0, 0, 0, 0, 0, 0, 0, 0, 0, 0, 0, 0, 0, 0, 0, 0, 0],\n",
       " [0, 0, 0, 0, 0, 0, 0, 0, 0, 0, 0, 0, 0, 0, 0, 0, 0, 0, 0],\n",
       " [0, 0, 0, 0, 0, 0, 0, 0, 0, 0, 0, 0, 0, 0, 0, 0, 0, 0, 0],\n",
       " [0, 0, 0, 0, 0, 0, 0, 0, 0, 0, 0, 0, 0, 0, 0, 0, 0, 0, 0],\n",
       " [0, 0, 0, 0, 0, 0, 0, 0, 0, 0, 0, 0, 0, 0, 0, 0, 0, 0, 0],\n",
       " [0, 0, 0, 0, 0, 0, 0, 0, 0, 0, 0, 0, 0, 0, 0, 0, 0, 0, 0]]"
      ]
     },
     "execution_count": 6,
     "metadata": {},
     "output_type": "execute_result"
    }
   ],
   "source": [
    "li = \"\"\"0 0 0 0 0 0 0 0 0 0 0 0 0 0 0 0 0 0 0\n",
    "0 0 0 0 0 0 0 0 0 0 0 0 0 0 0 0 0 0 0\n",
    "0 1 2 0 0 2 2 2 1 0 0 0 0 0 0 0 0 0 0\n",
    "0 0 1 2 0 0 0 0 1 0 0 0 0 0 0 0 0 0 0\n",
    "0 0 0 1 2 0 0 0 0 0 0 0 0 0 0 0 0 0 0\n",
    "0 0 0 0 1 2 2 0 0 0 0 0 0 0 0 0 0 0 0\n",
    "0 0 1 1 0 1 0 0 0 0 0 0 0 0 0 0 0 0 0\n",
    "0 0 0 0 0 0 2 1 0 0 0 0 0 0 0 0 0 0 0\n",
    "0 0 0 0 0 0 0 0 0 0 0 0 0 0 0 0 0 0 0\n",
    "0 0 0 0 0 0 0 0 0 0 0 0 0 0 0 0 0 0 0\n",
    "0 0 0 0 0 0 0 0 0 0 0 0 0 0 0 0 0 0 0\n",
    "0 0 0 0 0 0 0 0 0 0 0 0 0 0 0 0 0 0 0\n",
    "0 0 0 0 0 0 0 0 0 0 0 0 0 0 0 0 0 0 0\n",
    "0 0 0 0 0 0 0 0 0 0 0 0 0 0 0 0 0 0 0\n",
    "0 0 0 0 0 0 0 0 0 0 0 0 0 0 0 0 0 0 0\n",
    "0 0 0 0 0 0 0 0 0 0 0 0 0 0 0 0 0 0 0\n",
    "0 0 0 0 0 0 0 0 0 0 0 0 0 0 0 0 0 0 0\n",
    "0 0 0 0 0 0 0 0 0 0 0 0 0 0 0 0 0 0 0\n",
    "0 0 0 0 0 0 0 0 0 0 0 0 0 0 0 0 0 0 0\"\"\".split('\\n')\n",
    "\n",
    "# baduk = [list(map(int,input().split())) for _ in range(19)]\n",
    "baduk = [list(map(int,i.split())) for i in li]\n",
    "baduk"
   ]
  },
  {
   "cell_type": "code",
   "execution_count": null,
   "id": "96fcb619",
   "metadata": {},
   "outputs": [],
   "source": [
    "baduk = [list(map(int,input().split())) for _ in range(19)]"
   ]
  },
  {
   "cell_type": "code",
   "execution_count": 7,
   "id": "ba92d17c",
   "metadata": {
    "ExecuteTime": {
     "end_time": "2022-04-14T16:59:02.888305Z",
     "start_time": "2022-04-14T16:59:02.881530Z"
    }
   },
   "outputs": [],
   "source": [
    "ds=[(1,0),(0,1),(1,1),(-1,1)] # 아래, 오른쪽, 오른쪽아래 대각선, 오른쪽위 대각선"
   ]
  },
  {
   "cell_type": "code",
   "execution_count": 13,
   "id": "603c8a77",
   "metadata": {
    "ExecuteTime": {
     "end_time": "2022-04-14T17:09:47.809151Z",
     "start_time": "2022-04-14T17:09:47.792011Z"
    }
   },
   "outputs": [
    {
     "name": "stdout",
     "output_type": "stream",
     "text": [
      "1\n",
      "3 2\n"
     ]
    },
    {
     "ename": "SystemExit",
     "evalue": "0",
     "output_type": "error",
     "traceback": [
      "An exception has occurred, use %tb to see the full traceback.\n",
      "\u001b[0;31mSystemExit\u001b[0m\u001b[0;31m:\u001b[0m 0\n"
     ]
    }
   ],
   "source": [
    "draw=0\n",
    "for y in range(19): # i는 행 y축\n",
    "    for x in range(19): # j는 열 x축\n",
    "        if baduk[y][x] != 0:\n",
    "            kind = baduk[y][x] # 현재돌이 검은돌인지 흰돌인지\n",
    "            for i in range(4):\n",
    "                count=1\n",
    "                nx = x + ds[i][1]\n",
    "                ny = y + ds[i][0]\n",
    "                while (0 <= nx < 19) and (0 <= ny < 19) and baduk[ny][nx] == kind:\n",
    "                    count+=1\n",
    "                    if count == 5:\n",
    "                        ## 첫 돌 전\n",
    "                        if (0 <= x-ds[i][1] < 19) and (0 <= y-ds[i][0] < 19) and (baduk[y-ds[i][0]][x-ds[i][1]]==kind):\n",
    "                            break\n",
    "                            \n",
    "                        ## 마지막 돌 후\n",
    "                        if (0 <= nx+ds[i][1] < 19) and (0 <= ny+ds[i][0] < 19) and (baduk[ny+ds[i][0]][nx+ds[i][1]]==kind):\n",
    "                            break\n",
    "                            \n",
    "                        print(kind)\n",
    "                        print(y+1,x+1)\n",
    "                        draw=1\n",
    "                        sys.exit(0)\n",
    "                    nx+=ds[i][1]\n",
    "                    ny+=ds[i][0]\n",
    "if draw:\n",
    "    print(0)        "
   ]
  },
  {
   "cell_type": "markdown",
   "id": "17f3ae94",
   "metadata": {},
   "source": [
    "### 오목 숏코딩 풀이"
   ]
  },
  {
   "cell_type": "code",
   "execution_count": null,
   "id": "2ec77646",
   "metadata": {},
   "outputs": [],
   "source": [
    "def check(i, j, di, dj):\n",
    "    def same(ni, nj):\n",
    "        return 0<=ni<19 and 0<=nj<19 and board[i][j] == board[ni][nj]\n",
    "    if board[i][j] == 0: return False\n",
    "    for d in range(1, 5):\n",
    "        if not same(i+di*d, j+dj*d): return False\n",
    "    if same(i-di, j-dj) or same(i+di*5, j+dj*5): return False\n",
    "    return True\n",
    "\n",
    "board = [list(map(int,input().split())) for i in range(19)]\n",
    "for i in range(19):\n",
    "    for j in range(19):\n",
    "        if check(i, j, 0, 1) or check(i, j, 1, 0) or check(i, j, 1, 1) or check(i, j, -1, 1):\n",
    "            print(board[i][j]); print(i+1, j+1); break\n",
    "    else: continue\n",
    "    break\n",
    "else: print(0)"
   ]
  },
  {
   "cell_type": "markdown",
   "id": "22946141",
   "metadata": {},
   "source": [
    "#### 1번 필사"
   ]
  },
  {
   "cell_type": "code",
   "execution_count": 1,
   "id": "d1b38fa1",
   "metadata": {
    "ExecuteTime": {
     "end_time": "2022-04-18T12:47:40.644609Z",
     "start_time": "2022-04-18T12:47:40.627141Z"
    }
   },
   "outputs": [],
   "source": [
    "def check(i, j, di, dj): # di, dj는 방향\n",
    "        def same(ni, nj):\n",
    "            return 0<=ni<19 and 0<=nj<19 and board[i][j] == board[ni][nj] # 다음 갈 곳이 바둑판 안에 있고, 현재와 돌 색이 같은지\n",
    "        if board[i][j] == 0: # 현재칸에 돌 없으면 False\n",
    "            return False\n",
    "        for d in range(1,5):\n",
    "            if not same(i+di*d, j+dj*d): #다음 4칸중 하나라도 현재칸의 돌과 다르다면, False\n",
    "                return False\n",
    "        if same(i-di,j-dj) or same(i+di*5, j+dj*5): # 현재칸 전 칸과 5번 다음칸(6번째 칸)중 현재칸 돌과 다르다면 False\n",
    "            return False\n",
    "        return True # 위의 조건을 모두 통과했다면 True"
   ]
  },
  {
   "cell_type": "code",
   "execution_count": 7,
   "id": "308d2d00",
   "metadata": {
    "ExecuteTime": {
     "end_time": "2022-04-18T12:51:27.787471Z",
     "start_time": "2022-04-18T12:51:27.777230Z"
    }
   },
   "outputs": [],
   "source": [
    "board = baduk"
   ]
  },
  {
   "cell_type": "code",
   "execution_count": 8,
   "id": "613bf6d7",
   "metadata": {
    "ExecuteTime": {
     "end_time": "2022-04-18T12:51:28.108129Z",
     "start_time": "2022-04-18T12:51:28.098360Z"
    }
   },
   "outputs": [
    {
     "name": "stdout",
     "output_type": "stream",
     "text": [
      "1\n",
      "3 2\n"
     ]
    }
   ],
   "source": [
    "for i in range(19):\n",
    "    for j in range(19):\n",
    "        if check(i,j,0,1) or check(i,j,1,0) or check(i,j,1,1) or check(i,j,-1,1):\n",
    "            print(board[i][j])\n",
    "            print(i+1,j+1)\n",
    "            break\n",
    "    else: continue\n",
    "    break\n",
    "else:\n",
    "    print(0)"
   ]
  },
  {
   "cell_type": "code",
   "execution_count": null,
   "id": "f54d4cea",
   "metadata": {},
   "outputs": [],
   "source": [
    "#### "
   ]
  }
 ],
 "metadata": {
  "kernelspec": {
   "display_name": "Python 3 (ipykernel)",
   "language": "python",
   "name": "python3"
  },
  "language_info": {
   "codemirror_mode": {
    "name": "ipython",
    "version": 3
   },
   "file_extension": ".py",
   "mimetype": "text/x-python",
   "name": "python",
   "nbconvert_exporter": "python",
   "pygments_lexer": "ipython3",
   "version": "3.10.4"
  },
  "toc": {
   "base_numbering": 1,
   "nav_menu": {},
   "number_sections": true,
   "sideBar": true,
   "skip_h1_title": false,
   "title_cell": "Table of Contents",
   "title_sidebar": "Contents",
   "toc_cell": false,
   "toc_position": {},
   "toc_section_display": true,
   "toc_window_display": false
  }
 },
 "nbformat": 4,
 "nbformat_minor": 5
}
