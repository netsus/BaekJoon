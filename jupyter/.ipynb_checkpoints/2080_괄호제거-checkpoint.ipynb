{
 "cells": [
  {
   "cell_type": "markdown",
   "metadata": {},
   "source": [
    "## 내풀이"
   ]
  },
  {
   "cell_type": "code",
   "execution_count": null,
   "metadata": {},
   "outputs": [],
   "source": [
    "from itertools import combinations\n",
    "\n",
    "problem = list(input()) # 문제 입력받는 리스트\n",
    "p, brk_idx = [],[] # 괄호쌍 찾을 스택 -> p , 괄호쌍 인덱스 저장할 이중리스트 -> brk_idx\n",
    "result=set() # 결과 저장할 집합\n",
    "\n",
    "for i,v in enumerate(problem): ## 괄호쌍 인덱스 저장 및 problem에서 괄호 제거\n",
    "    if v == '(':\n",
    "        problem[i]=''\n",
    "        p.append(i)\n",
    "    if v == ')':\n",
    "        problem[i]=''\n",
    "        brk_idx.append([p.pop(),i])      \n",
    "\n",
    "for i in range(len(brk_idx)): ## 괄호쌍의 조합(combinations)을 이용해 괄호 추가\n",
    "    for j in combinations(brk_idx,i):\n",
    "        P=problem[:]\n",
    "        for s,e in j:\n",
    "            P[s]='('\n",
    "            P[e]=')'\n",
    "        result.add(''.join(P))\n",
    "print(*sorted(result),sep='\\n') ## 결과 출력"
   ]
  },
  {
   "cell_type": "markdown",
   "metadata": {},
   "source": [
    "## 내풀이 - 개별 풀이"
   ]
  },
  {
   "cell_type": "code",
   "execution_count": 1,
   "metadata": {
    "ExecuteTime": {
     "end_time": "2022-03-06T11:18:09.014045Z",
     "start_time": "2022-03-06T11:18:07.898504Z"
    }
   },
   "outputs": [
    {
     "name": "stdout",
     "output_type": "stream",
     "text": [
      "(0/(0))\n"
     ]
    }
   ],
   "source": [
    "from itertools import combinations\n",
    "\n",
    "problem = list(input()) # 문제 입력받는 리스트\n",
    "p, brk_idx = [],[] # 괄호쌍 찾을 스택 -> p , 괄호쌍 인덱스 저장할 이중리스트 -> brk_idx\n",
    "result=set() # 결과 저장할 집합"
   ]
  },
  {
   "cell_type": "code",
   "execution_count": 2,
   "metadata": {
    "ExecuteTime": {
     "end_time": "2022-03-06T11:18:11.969277Z",
     "start_time": "2022-03-06T11:18:11.961568Z"
    }
   },
   "outputs": [],
   "source": [
    "for i,v in enumerate(problem): ## 괄호쌍 인덱스 저장 및 problem에서 괄호 제거\n",
    "    if v == '(':\n",
    "        problem[i]=''\n",
    "        p.append(i)\n",
    "    if v == ')':\n",
    "        problem[i]=''\n",
    "        brk_idx.append([p.pop(),i])      "
   ]
  },
  {
   "cell_type": "code",
   "execution_count": 3,
   "metadata": {
    "ExecuteTime": {
     "end_time": "2022-03-06T11:18:19.244240Z",
     "start_time": "2022-03-06T11:18:19.226862Z"
    }
   },
   "outputs": [
    {
     "data": {
      "text/plain": [
       "(['', '0', '/', '', '0', '', ''], [[3, 5], [0, 6]])"
      ]
     },
     "execution_count": 3,
     "metadata": {},
     "output_type": "execute_result"
    }
   ],
   "source": [
    "problem, brk_idx"
   ]
  },
  {
   "cell_type": "code",
   "execution_count": 4,
   "metadata": {
    "ExecuteTime": {
     "end_time": "2022-03-06T11:19:06.305222Z",
     "start_time": "2022-03-06T11:19:06.297843Z"
    }
   },
   "outputs": [],
   "source": [
    "for i in range(len(brk_idx)): ## 괄호쌍의 조합(combinations)을 이용해 괄호 추가\n",
    "    for j in combinations(brk_idx,i):\n",
    "        P=problem[:]\n",
    "        for s,e in j:\n",
    "            P[s]='('\n",
    "            P[e]=')'\n",
    "        result.add(''.join(P))"
   ]
  },
  {
   "cell_type": "code",
   "execution_count": 5,
   "metadata": {
    "ExecuteTime": {
     "end_time": "2022-03-06T11:19:06.939485Z",
     "start_time": "2022-03-06T11:19:06.934632Z"
    }
   },
   "outputs": [
    {
     "name": "stdout",
     "output_type": "stream",
     "text": [
      "(0/0)\n",
      "0/(0)\n",
      "0/0\n"
     ]
    }
   ],
   "source": [
    "print(*sorted(result),sep='\\n') ## 결과 출력"
   ]
  },
  {
   "cell_type": "markdown",
   "metadata": {},
   "source": [
    "## 주어진 수식(problem)에서 괄호 제거하고, 괄호 인덱스 리스트(idx_brs) 만들기"
   ]
  },
  {
   "cell_type": "code",
   "execution_count": 40,
   "metadata": {
    "ExecuteTime": {
     "end_time": "2022-02-28T04:59:27.202600Z",
     "start_time": "2022-02-28T04:59:27.193634Z"
    }
   },
   "outputs": [
    {
     "name": "stdout",
     "output_type": "stream",
     "text": [
      "[[3, 5]]\n",
      "[[3, 5], [0, 6]]\n"
     ]
    }
   ],
   "source": [
    "for i,v in enumerate(problem):\n",
    "    if v == '(':\n",
    "        problem[i] ='';\n",
    "        p+=[i] \n",
    "    if v == ')':\n",
    "        problem[i] ='';\n",
    "        idx_brs +=[[p.pop(),i]] # \n",
    "        print(idx_brs)"
   ]
  },
  {
   "cell_type": "markdown",
   "metadata": {},
   "source": [
    "## 조합으로 결과 수식 set 추가하는 코드"
   ]
  },
  {
   "cell_type": "code",
   "execution_count": null,
   "metadata": {},
   "outputs": [],
   "source": []
  },
  {
   "cell_type": "markdown",
   "metadata": {},
   "source": [
    "### 1부터 하는거랑 안하는거 시간차이"
   ]
  },
  {
   "cell_type": "code",
   "execution_count": 47,
   "metadata": {
    "ExecuteTime": {
     "end_time": "2022-02-28T05:00:53.941821Z",
     "start_time": "2022-02-28T05:00:38.203571Z"
    }
   },
   "outputs": [
    {
     "name": "stdout",
     "output_type": "stream",
     "text": [
      "1.93 µs ± 17.6 ns per loop (mean ± std. dev. of 7 runs, 1000000 loops each)\n"
     ]
    }
   ],
   "source": [
    "%%timeit\n",
    "for i in range(len(idx_brs)): \n",
    "    for j in combinations(idx_brs,i):\n",
    "        P = problem[:] # print(P) \n",
    "        for v,w in j: \n",
    "            P[v] = '(' \n",
    "            P[w] = ')' \n",
    "        out.add(''.join(P))\n",
    "sorted(out)"
   ]
  },
  {
   "cell_type": "code",
   "execution_count": 48,
   "metadata": {
    "ExecuteTime": {
     "end_time": "2022-02-28T05:01:06.169108Z",
     "start_time": "2022-02-28T05:00:54.954852Z"
    }
   },
   "outputs": [
    {
     "name": "stdout",
     "output_type": "stream",
     "text": [
      "1.38 µs ± 12.7 ns per loop (mean ± std. dev. of 7 runs, 1000000 loops each)\n"
     ]
    }
   ],
   "source": [
    "%%timeit\n",
    "for i in range(1,len(idx_brs)): \n",
    "    for j in combinations(idx_brs,i):\n",
    "        P = problem[:] # print(P) \n",
    "        for v,w in j: \n",
    "            P[v] = '(' \n",
    "            P[w] = ')' \n",
    "        out.add(''.join(P))\n",
    "sorted(out)"
   ]
  },
  {
   "cell_type": "code",
   "execution_count": null,
   "metadata": {},
   "outputs": [],
   "source": []
  },
  {
   "cell_type": "code",
   "execution_count": 25,
   "metadata": {
    "ExecuteTime": {
     "end_time": "2022-02-28T03:40:09.594150Z",
     "start_time": "2022-02-28T03:40:09.585149Z"
    }
   },
   "outputs": [],
   "source": [
    "for v,w in (): \n",
    "    print(1)"
   ]
  },
  {
   "cell_type": "code",
   "execution_count": 13,
   "metadata": {
    "ExecuteTime": {
     "end_time": "2022-02-28T03:34:33.756544Z",
     "start_time": "2022-02-28T03:34:33.752540Z"
    }
   },
   "outputs": [],
   "source": [
    "a =list(range(5))"
   ]
  },
  {
   "cell_type": "code",
   "execution_count": 14,
   "metadata": {
    "ExecuteTime": {
     "end_time": "2022-02-28T03:34:33.968133Z",
     "start_time": "2022-02-28T03:34:33.960133Z"
    }
   },
   "outputs": [
    {
     "data": {
      "text/plain": [
       "[0, 1, 2, 3, 4]"
      ]
     },
     "execution_count": 14,
     "metadata": {},
     "output_type": "execute_result"
    }
   ],
   "source": [
    "a"
   ]
  },
  {
   "cell_type": "code",
   "execution_count": 18,
   "metadata": {
    "ExecuteTime": {
     "end_time": "2022-02-28T03:35:06.698020Z",
     "start_time": "2022-02-28T03:35:06.681017Z"
    }
   },
   "outputs": [],
   "source": [
    "b = a.copy()"
   ]
  },
  {
   "cell_type": "code",
   "execution_count": 19,
   "metadata": {
    "ExecuteTime": {
     "end_time": "2022-02-28T03:35:07.868028Z",
     "start_time": "2022-02-28T03:35:07.864027Z"
    }
   },
   "outputs": [],
   "source": [
    "b.append(1)"
   ]
  },
  {
   "cell_type": "code",
   "execution_count": 20,
   "metadata": {
    "ExecuteTime": {
     "end_time": "2022-02-28T03:35:08.153028Z",
     "start_time": "2022-02-28T03:35:08.136028Z"
    }
   },
   "outputs": [
    {
     "data": {
      "text/plain": [
       "([0, 1, 2, 3, 4], [0, 1, 2, 3, 4, 1])"
      ]
     },
     "execution_count": 20,
     "metadata": {},
     "output_type": "execute_result"
    }
   ],
   "source": [
    "a,b"
   ]
  },
  {
   "cell_type": "code",
   "execution_count": null,
   "metadata": {},
   "outputs": [],
   "source": [
    "(0/0)\n",
    "0/(0)\n",
    "0/0"
   ]
  },
  {
   "cell_type": "markdown",
   "metadata": {},
   "source": [
    "## 전체 풀이"
   ]
  },
  {
   "cell_type": "code",
   "execution_count": null,
   "metadata": {},
   "outputs": [],
   "source": [
    "from itertools import combinations \n",
    "problem = [*input().strip()] # 문자열 하나씩 리스트화 \n",
    "p, idx_brs = [],[] # 짝이 맞는 괄호의 위치 idx_brs에 저장해줌 \n",
    "for i,v in enumerate(problem): \n",
    "    if v == '(':problem[i] ='';p+=[i] \n",
    "    if v == ')':problem[i] ='';idx_brs +=[[p.pop(),i]] # print(idx_brs) \n",
    "out = set() # 짝이 맞는 괄호 위치를 조합을 통해 조정해줌\n",
    "for i in range(len(idx_brs)): \n",
    "    for j in combinations(idx_brs,i):\n",
    "        print(j)\n",
    "        P = problem[:] # print(P) \n",
    "        for v,w in j: \n",
    "            P[v] = '(' \n",
    "            P[w] = ')' \n",
    "        out.add(''.join(P))\n",
    "for i in sorted(out):\n",
    "    print(i)"
   ]
  }
 ],
 "metadata": {
  "kernelspec": {
   "display_name": "Python 3 (ipykernel)",
   "language": "python",
   "name": "python3"
  },
  "language_info": {
   "codemirror_mode": {
    "name": "ipython",
    "version": 3
   },
   "file_extension": ".py",
   "mimetype": "text/x-python",
   "name": "python",
   "nbconvert_exporter": "python",
   "pygments_lexer": "ipython3",
   "version": "3.8.11"
  },
  "toc": {
   "base_numbering": 1,
   "nav_menu": {},
   "number_sections": true,
   "sideBar": true,
   "skip_h1_title": false,
   "title_cell": "Table of Contents",
   "title_sidebar": "Contents",
   "toc_cell": false,
   "toc_position": {},
   "toc_section_display": true,
   "toc_window_display": false
  }
 },
 "nbformat": 4,
 "nbformat_minor": 4
}
