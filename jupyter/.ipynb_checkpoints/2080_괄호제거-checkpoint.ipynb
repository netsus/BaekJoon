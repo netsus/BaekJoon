{
 "cells": [
  {
   "cell_type": "code",
   "execution_count": null,
   "metadata": {
    "ExecuteTime": {
     "end_time": "2022-02-28T04:58:38.097802Z",
     "start_time": "2022-02-28T04:58:37.393126Z"
    }
   },
   "outputs": [],
   "source": [
    "from itertools import combinations \n",
    "problem = list(input()) # 문자열 하나씩 리스트화 "
   ]
  },
  {
   "cell_type": "code",
   "execution_count": 51,
   "metadata": {
    "ExecuteTime": {
     "end_time": "2022-02-28T05:05:17.850637Z",
     "start_time": "2022-02-28T05:05:17.835632Z"
    }
   },
   "outputs": [
    {
     "data": {
      "text/plain": [
       "['(', '0', '/', '(', '0', ')', ')']"
      ]
     },
     "execution_count": 51,
     "metadata": {},
     "output_type": "execute_result"
    }
   ],
   "source": [
    "problem = ['(', '0', '/', '(', '0', ')', ')']\n",
    "brk_idx = [] # 짝이 맞는 괄호의 위치 brk_idx 저장해줌\n",
    "out = set() # 짝이 맞는 괄호 위치를 조합을 통해 조정해줌\n",
    "stack=[] # 괄호쌍 찾기 위한 stack\n",
    "problem"
   ]
  },
  {
   "cell_type": "code",
   "execution_count": null,
   "metadata": {},
   "outputs": [],
   "source": [
    "for i,v in enumerate(problem):\n",
    "    if v == '(':\n",
    "        "
   ]
  },
  {
   "cell_type": "markdown",
   "metadata": {},
   "source": [
    "## 주어진 수식(problem)에서 괄호 제거하고, 괄호 인덱스 리스트(idx_brs) 만들기"
   ]
  },
  {
   "cell_type": "code",
   "execution_count": 40,
   "metadata": {
    "ExecuteTime": {
     "end_time": "2022-02-28T04:59:27.202600Z",
     "start_time": "2022-02-28T04:59:27.193634Z"
    }
   },
   "outputs": [
    {
     "name": "stdout",
     "output_type": "stream",
     "text": [
      "[[3, 5]]\n",
      "[[3, 5], [0, 6]]\n"
     ]
    }
   ],
   "source": [
    "for i,v in enumerate(problem):\n",
    "    if v == '(':\n",
    "        problem[i] ='';\n",
    "        p+=[i] \n",
    "    if v == ')':\n",
    "        problem[i] ='';\n",
    "        idx_brs +=[[p.pop(),i]] # \n",
    "        print(idx_brs)"
   ]
  },
  {
   "cell_type": "markdown",
   "metadata": {},
   "source": [
    "## 조합으로 결과 수식 set 추가하는 코드"
   ]
  },
  {
   "cell_type": "code",
   "execution_count": null,
   "metadata": {},
   "outputs": [],
   "source": []
  },
  {
   "cell_type": "markdown",
   "metadata": {},
   "source": [
    "### 1부터 하는거랑 안하는거 시간차이"
   ]
  },
  {
   "cell_type": "code",
   "execution_count": 47,
   "metadata": {
    "ExecuteTime": {
     "end_time": "2022-02-28T05:00:53.941821Z",
     "start_time": "2022-02-28T05:00:38.203571Z"
    }
   },
   "outputs": [
    {
     "name": "stdout",
     "output_type": "stream",
     "text": [
      "1.93 µs ± 17.6 ns per loop (mean ± std. dev. of 7 runs, 1000000 loops each)\n"
     ]
    }
   ],
   "source": [
    "%%timeit\n",
    "for i in range(len(idx_brs)): \n",
    "    for j in combinations(idx_brs,i):\n",
    "        P = problem[:] # print(P) \n",
    "        for v,w in j: \n",
    "            P[v] = '(' \n",
    "            P[w] = ')' \n",
    "        out.add(''.join(P))\n",
    "sorted(out)"
   ]
  },
  {
   "cell_type": "code",
   "execution_count": 48,
   "metadata": {
    "ExecuteTime": {
     "end_time": "2022-02-28T05:01:06.169108Z",
     "start_time": "2022-02-28T05:00:54.954852Z"
    }
   },
   "outputs": [
    {
     "name": "stdout",
     "output_type": "stream",
     "text": [
      "1.38 µs ± 12.7 ns per loop (mean ± std. dev. of 7 runs, 1000000 loops each)\n"
     ]
    }
   ],
   "source": [
    "%%timeit\n",
    "for i in range(1,len(idx_brs)): \n",
    "    for j in combinations(idx_brs,i):\n",
    "        P = problem[:] # print(P) \n",
    "        for v,w in j: \n",
    "            P[v] = '(' \n",
    "            P[w] = ')' \n",
    "        out.add(''.join(P))\n",
    "sorted(out)"
   ]
  },
  {
   "cell_type": "code",
   "execution_count": null,
   "metadata": {},
   "outputs": [],
   "source": []
  },
  {
   "cell_type": "code",
   "execution_count": 25,
   "metadata": {
    "ExecuteTime": {
     "end_time": "2022-02-28T03:40:09.594150Z",
     "start_time": "2022-02-28T03:40:09.585149Z"
    }
   },
   "outputs": [],
   "source": [
    "for v,w in (): \n",
    "    print(1)"
   ]
  },
  {
   "cell_type": "code",
   "execution_count": 13,
   "metadata": {
    "ExecuteTime": {
     "end_time": "2022-02-28T03:34:33.756544Z",
     "start_time": "2022-02-28T03:34:33.752540Z"
    }
   },
   "outputs": [],
   "source": [
    "a =list(range(5))"
   ]
  },
  {
   "cell_type": "code",
   "execution_count": 14,
   "metadata": {
    "ExecuteTime": {
     "end_time": "2022-02-28T03:34:33.968133Z",
     "start_time": "2022-02-28T03:34:33.960133Z"
    }
   },
   "outputs": [
    {
     "data": {
      "text/plain": [
       "[0, 1, 2, 3, 4]"
      ]
     },
     "execution_count": 14,
     "metadata": {},
     "output_type": "execute_result"
    }
   ],
   "source": [
    "a"
   ]
  },
  {
   "cell_type": "code",
   "execution_count": 18,
   "metadata": {
    "ExecuteTime": {
     "end_time": "2022-02-28T03:35:06.698020Z",
     "start_time": "2022-02-28T03:35:06.681017Z"
    }
   },
   "outputs": [],
   "source": [
    "b = a.copy()"
   ]
  },
  {
   "cell_type": "code",
   "execution_count": 19,
   "metadata": {
    "ExecuteTime": {
     "end_time": "2022-02-28T03:35:07.868028Z",
     "start_time": "2022-02-28T03:35:07.864027Z"
    }
   },
   "outputs": [],
   "source": [
    "b.append(1)"
   ]
  },
  {
   "cell_type": "code",
   "execution_count": 20,
   "metadata": {
    "ExecuteTime": {
     "end_time": "2022-02-28T03:35:08.153028Z",
     "start_time": "2022-02-28T03:35:08.136028Z"
    }
   },
   "outputs": [
    {
     "data": {
      "text/plain": [
       "([0, 1, 2, 3, 4], [0, 1, 2, 3, 4, 1])"
      ]
     },
     "execution_count": 20,
     "metadata": {},
     "output_type": "execute_result"
    }
   ],
   "source": [
    "a,b"
   ]
  },
  {
   "cell_type": "code",
   "execution_count": null,
   "metadata": {},
   "outputs": [],
   "source": [
    "(0/0)\n",
    "0/(0)\n",
    "0/0"
   ]
  },
  {
   "cell_type": "markdown",
   "metadata": {},
   "source": [
    "## 전체 풀이"
   ]
  },
  {
   "cell_type": "code",
   "execution_count": null,
   "metadata": {},
   "outputs": [],
   "source": [
    "from itertools import combinations \n",
    "problem = [*input().strip()] # 문자열 하나씩 리스트화 \n",
    "p, idx_brs = [],[] # 짝이 맞는 괄호의 위치 idx_brs에 저장해줌 \n",
    "for i,v in enumerate(problem): \n",
    "    if v == '(':problem[i] ='';p+=[i] \n",
    "    if v == ')':problem[i] ='';idx_brs +=[[p.pop(),i]] # print(idx_brs) \n",
    "out = set() # 짝이 맞는 괄호 위치를 조합을 통해 조정해줌\n",
    "for i in range(len(idx_brs)): \n",
    "    for j in combinations(idx_brs,i):\n",
    "        print(j)\n",
    "        P = problem[:] # print(P) \n",
    "        for v,w in j: \n",
    "            P[v] = '(' \n",
    "            P[w] = ')' \n",
    "        out.add(''.join(P))\n",
    "for i in sorted(out):\n",
    "    print(i)"
   ]
  }
 ],
 "metadata": {
  "kernelspec": {
   "display_name": "Python 3",
   "language": "python",
   "name": "python3"
  },
  "language_info": {
   "codemirror_mode": {
    "name": "ipython",
    "version": 3
   },
   "file_extension": ".py",
   "mimetype": "text/x-python",
   "name": "python",
   "nbconvert_exporter": "python",
   "pygments_lexer": "ipython3",
   "version": "3.7.4"
  },
  "toc": {
   "base_numbering": 1,
   "nav_menu": {},
   "number_sections": true,
   "sideBar": true,
   "skip_h1_title": false,
   "title_cell": "Table of Contents",
   "title_sidebar": "Contents",
   "toc_cell": false,
   "toc_position": {},
   "toc_section_display": true,
   "toc_window_display": false
  }
 },
 "nbformat": 4,
 "nbformat_minor": 4
}
