{
 "cells": [
  {
   "cell_type": "markdown",
   "id": "bc51b24a",
   "metadata": {},
   "source": [
    "## 2776 암기왕"
   ]
  },
  {
   "cell_type": "code",
   "execution_count": null,
   "id": "184f9e28",
   "metadata": {},
   "outputs": [],
   "source": []
  },
  {
   "cell_type": "markdown",
   "id": "f1c702c3",
   "metadata": {},
   "source": [
    "## 10815 숫자 카드"
   ]
  },
  {
   "cell_type": "code",
   "execution_count": null,
   "id": "0283961c",
   "metadata": {},
   "outputs": [],
   "source": []
  },
  {
   "cell_type": "markdown",
   "id": "ca56a74c",
   "metadata": {},
   "source": [
    "## 1072 게임"
   ]
  },
  {
   "cell_type": "code",
   "execution_count": null,
   "id": "4a4652e6",
   "metadata": {},
   "outputs": [],
   "source": []
  },
  {
   "cell_type": "markdown",
   "id": "1807c978",
   "metadata": {},
   "source": [
    "## 1654 랜선 자르기"
   ]
  },
  {
   "cell_type": "code",
   "execution_count": null,
   "id": "62ab7e06",
   "metadata": {},
   "outputs": [],
   "source": []
  },
  {
   "cell_type": "markdown",
   "id": "048ecbb1",
   "metadata": {},
   "source": [
    "## 2512 예산"
   ]
  },
  {
   "cell_type": "code",
   "execution_count": null,
   "id": "86a9ac68",
   "metadata": {},
   "outputs": [],
   "source": []
  },
  {
   "cell_type": "markdown",
   "id": "3f9d3428",
   "metadata": {},
   "source": [
    "## 2110 공유기 설치"
   ]
  },
  {
   "cell_type": "code",
   "execution_count": null,
   "id": "41d379ec",
   "metadata": {},
   "outputs": [],
   "source": []
  },
  {
   "cell_type": "markdown",
   "id": "ac4ee36e",
   "metadata": {},
   "source": [
    "## 19637 IF문 좀 대신 써줘"
   ]
  },
  {
   "cell_type": "code",
   "execution_count": null,
   "id": "9f75ef1d",
   "metadata": {},
   "outputs": [],
   "source": []
  },
  {
   "cell_type": "markdown",
   "id": "bb50bd2f",
   "metadata": {},
   "source": [
    "## 11663 선분 위의 점"
   ]
  },
  {
   "cell_type": "code",
   "execution_count": null,
   "id": "dab46c6c",
   "metadata": {},
   "outputs": [],
   "source": []
  }
 ],
 "metadata": {
  "kernelspec": {
   "display_name": "Python 3",
   "language": "python",
   "name": "python3"
  },
  "language_info": {
   "codemirror_mode": {
    "name": "ipython",
    "version": 3
   },
   "file_extension": ".py",
   "mimetype": "text/x-python",
   "name": "python",
   "nbconvert_exporter": "python",
   "pygments_lexer": "ipython3",
   "version": "3.8.12"
  },
  "toc": {
   "base_numbering": 1,
   "nav_menu": {},
   "number_sections": true,
   "sideBar": true,
   "skip_h1_title": false,
   "title_cell": "Table of Contents",
   "title_sidebar": "Contents",
   "toc_cell": false,
   "toc_position": {},
   "toc_section_display": true,
   "toc_window_display": false
  }
 },
 "nbformat": 4,
 "nbformat_minor": 5
}
