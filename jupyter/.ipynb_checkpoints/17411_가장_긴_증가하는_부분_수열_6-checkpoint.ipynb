{
 "cells": [
  {
   "cell_type": "markdown",
   "id": "a34f79b5",
   "metadata": {},
   "source": [
    "## 다른 사람 풀이 쪼개기"
   ]
  },
  {
   "cell_type": "code",
   "execution_count": 22,
   "id": "efec01fd",
   "metadata": {
    "ExecuteTime": {
     "end_time": "2022-04-11T05:44:13.608212Z",
     "start_time": "2022-04-11T05:44:08.891592Z"
    }
   },
   "outputs": [
    {
     "name": "stdout",
     "output_type": "stream",
     "text": [
      "6\n",
      "10 20 30 10 20 30\n"
     ]
    }
   ],
   "source": [
    "from collections import defaultdict\n",
    "import bisect\n",
    "# 파싱\n",
    "n = int(input())\n",
    "lines = list(map(int, input().split()))\n",
    "dic = defaultdict(list)\n",
    "\n",
    "# 이분탐색을 이용한 nlogn LIS\n",
    "lis = []\n",
    "index = [-1 for _ in range(n)]\n",
    "for i, x in enumerate(lines):\n",
    "    idx = bisect.bisect_left(lis, x)\n",
    "    if idx == len(lis):\n",
    "        lis.append(x)\n",
    "    else:\n",
    "        lis[idx] = x\n",
    "    index[i] = idx"
   ]
  },
  {
   "cell_type": "code",
   "execution_count": 23,
   "id": "9d6374ca",
   "metadata": {
    "ExecuteTime": {
     "end_time": "2022-04-11T05:44:20.422177Z",
     "start_time": "2022-04-11T05:44:20.414949Z"
    }
   },
   "outputs": [],
   "source": [
    "# 갯수 체크\n",
    "dp = [[0] for _ in range(len(lis))]"
   ]
  },
  {
   "cell_type": "code",
   "execution_count": 24,
   "id": "04e02529",
   "metadata": {
    "ExecuteTime": {
     "end_time": "2022-04-11T05:44:23.123437Z",
     "start_time": "2022-04-11T05:44:23.106861Z"
    }
   },
   "outputs": [
    {
     "data": {
      "text/plain": [
       "[[0], [0], [0]]"
      ]
     },
     "execution_count": 24,
     "metadata": {},
     "output_type": "execute_result"
    }
   ],
   "source": [
    "dp"
   ]
  },
  {
   "cell_type": "code",
   "execution_count": 27,
   "id": "1ec99435",
   "metadata": {
    "ExecuteTime": {
     "end_time": "2022-04-11T05:46:17.428356Z",
     "start_time": "2022-04-11T05:46:17.414599Z"
    }
   },
   "outputs": [
    {
     "name": "stdout",
     "output_type": "stream",
     "text": [
      "target 1, dic defaultdict(<class 'list'>, {2: [30]}), dp [[0], [0], [0, 1]]\n",
      "temp : 0, target: 1\n",
      "target 1, dic defaultdict(<class 'list'>, {2: [30], 1: [20]}), dp [[0], [0, 1], [0, 1]]\n",
      "temp : 0, target: 1\n",
      "target 1, dic defaultdict(<class 'list'>, {2: [30], 1: [20], 0: [10]}), dp [[0, 1], [0, 1], [0, 1]]\n",
      "target 1, dic defaultdict(<class 'list'>, {2: [30, 30], 1: [20], 0: [10]}), dp [[0, 1], [0, 1], [0, 1, 2]]\n",
      "temp : 0, target: 2\n",
      "target 2, dic defaultdict(<class 'list'>, {2: [30, 30], 1: [20, 20], 0: [10]}), dp [[0, 1], [0, 1, 3], [0, 1, 2]]\n",
      "temp : 0, target: 3\n",
      "target 3, dic defaultdict(<class 'list'>, {2: [30, 30], 1: [20, 20], 0: [10, 10]}), dp [[0, 1, 4], [0, 1, 3], [0, 1, 2]]\n"
     ]
    }
   ],
   "source": [
    "for i in range(n - 1, -1, -1):\n",
    "    target = 1\n",
    "    if index[i] + 1 < len(lis):\n",
    "        temp = bisect.bisect_right(dic[index[i] + 1], lines[i])\n",
    "        target = dp[index[i] + 1][-1] - dp[index[i] + 1][temp]\n",
    "        print(f\"temp : {temp}, target: {target}\")\n",
    "    dic[index[i]].append(lines[i])\n",
    "    dp[index[i]].append((target + dp[index[i]][-1]) % 1000000007)\n",
    "    print(f\"target {target}, dic {dic}, dp {dp}\")"
   ]
  },
  {
   "cell_type": "code",
   "execution_count": null,
   "id": "b5ee8acd",
   "metadata": {},
   "outputs": [],
   "source": [
    "# 결과 출력\n",
    "print(len(lis), end = \" \")\n",
    "print(dp[0][-1])"
   ]
  },
  {
   "cell_type": "code",
   "execution_count": null,
   "id": "6c461286",
   "metadata": {},
   "outputs": [],
   "source": []
  },
  {
   "cell_type": "markdown",
   "id": "22b57f25",
   "metadata": {},
   "source": [
    "## 다른사람 풀이"
   ]
  },
  {
   "cell_type": "code",
   "execution_count": null,
   "id": "30ae3a0a",
   "metadata": {},
   "outputs": [],
   "source": [
    "from collections import defaultdict\n",
    "import sys, bisect\n",
    "input = sys.stdin.readline\n",
    "\n",
    "# 파싱\n",
    "n = int(input())\n",
    "lines = list(map(int, input().split()))\n",
    "dic = defaultdict(list)\n",
    "\n",
    "# 이분탐색을 이용한 nlogn LIS\n",
    "lis = []\n",
    "index = [-1 for _ in range(n)]\n",
    "for i, x in enumerate(lines):\n",
    "    idx = bisect.bisect_left(lis, x)\n",
    "    if idx >= len(lis):\n",
    "        lis.append(x)\n",
    "    else:\n",
    "        lis[idx] = x\n",
    "    index[i] = idx\n",
    "\n",
    "# 갯수 체크\n",
    "dp = [[0] for _ in range(len(lis))]\n",
    "for i in range(n - 1, -1, -1):\n",
    "    target = 1\n",
    "    if index[i] + 1 < len(lis):\n",
    "        temp = bisect.bisect_right(dic[index[i] + 1], lines[i])\n",
    "        target = dp[index[i] + 1][-1] - dp[index[i] + 1][temp]\n",
    "    dic[index[i]].append(lines[i])\n",
    "    dp[index[i]].append((target + dp[index[i]][-1]) % 1000000007)\n",
    "\n",
    "# 결과 출력\n",
    "print(len(lis), end = \" \")\n",
    "print(dp[0][-1])"
   ]
  }
 ],
 "metadata": {
  "kernelspec": {
   "display_name": "Python 3",
   "language": "python",
   "name": "python3"
  },
  "language_info": {
   "codemirror_mode": {
    "name": "ipython",
    "version": 3
   },
   "file_extension": ".py",
   "mimetype": "text/x-python",
   "name": "python",
   "nbconvert_exporter": "python",
   "pygments_lexer": "ipython3",
   "version": "3.8.12"
  },
  "toc": {
   "base_numbering": 1,
   "nav_menu": {},
   "number_sections": true,
   "sideBar": true,
   "skip_h1_title": false,
   "title_cell": "Table of Contents",
   "title_sidebar": "Contents",
   "toc_cell": false,
   "toc_position": {},
   "toc_section_display": true,
   "toc_window_display": false
  }
 },
 "nbformat": 4,
 "nbformat_minor": 5
}
