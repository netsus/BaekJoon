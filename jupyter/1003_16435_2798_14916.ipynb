{
 "cells": [
  {
   "cell_type": "code",
   "execution_count": 7,
   "metadata": {
    "ExecuteTime": {
     "end_time": "2022-04-05T03:12:42.885516Z",
     "start_time": "2022-04-05T03:12:42.883515Z"
    }
   },
   "outputs": [],
   "source": [
    "for i in range(3,3):\n",
    "    print(i)"
   ]
  },
  {
   "cell_type": "markdown",
   "metadata": {},
   "source": [
    "## 1003 피보나치 함수"
   ]
  },
  {
   "cell_type": "code",
   "execution_count": null,
   "metadata": {},
   "outputs": [],
   "source": [
    "## 다른 풀이\n",
    "T = int(input())\n",
    "for _ in range(T):\n",
    "    N = int(input())\n",
    "    zero,one=1,0 # zero: 0개수, one: 1개수\n",
    "    for i in range(N):\n",
    "        zero,one = one,zero+one # zero와 one에 대해 피보나치적용\n",
    "    print(zero,one)"
   ]
  },
  {
   "cell_type": "code",
   "execution_count": 10,
   "metadata": {
    "ExecuteTime": {
     "end_time": "2022-04-05T03:13:35.531186Z",
     "start_time": "2022-04-05T03:13:35.524190Z"
    }
   },
   "outputs": [],
   "source": [
    "def fib(N):\n",
    "    zeros=[1,0,1]\n",
    "    ones=[0,1,1]\n",
    "    if N >= 3:\n",
    "        for i in range(2,N):\n",
    "            zeros+=[zeros[i-1] + zeros[i]]\n",
    "            ones+=[ones[i-1] + ones[i]]\n",
    "    print(f\"{zeros[N]} {ones[N]}\")\n",
    "\n",
    "T = int(input())\n",
    "for _ in range(T):\n",
    "    N = int(input())\n",
    "    fib(N)"
   ]
  },
  {
   "cell_type": "code",
   "execution_count": 19,
   "metadata": {
    "ExecuteTime": {
     "end_time": "2022-04-05T03:23:00.363200Z",
     "start_time": "2022-04-05T03:22:59.368224Z"
    }
   },
   "outputs": [
    {
     "name": "stdout",
     "output_type": "stream",
     "text": [
      "T: 1\n",
      "N: 4\n",
      "1번째 - a : 1, b : 0\n",
      "2번째 - a : 0, b : 1\n",
      "3번째 - a : 1, b : 1\n",
      "4번째 - a : 1, b : 2\n",
      "2 3\n"
     ]
    }
   ],
   "source": [
    "## 쉬운 풀이\n",
    "T = int(input(\"T: \"))\n",
    "for _ in range(T):\n",
    "    N = int(input(\"N: \"))\n",
    "    a,b=1,0 # a: 0개수, b: 1개수\n",
    "    for i in range(N):\n",
    "        print(f\"{i+1}번째 - a : {a}, b : {b}\")\n",
    "        a,b = b,a+b # a는 다음칸(b)로 가고, b는 a+b\n",
    "    print(a,b)"
   ]
  },
  {
   "cell_type": "markdown",
   "metadata": {},
   "source": [
    "## 16435 스네이크버드"
   ]
  },
  {
   "cell_type": "code",
   "execution_count": null,
   "metadata": {},
   "outputs": [],
   "source": [
    "import sys\n",
    "\n",
    "N, L = map(int,input().split())\n",
    "fruits = list(map(int, sys.stdin.readline().split()))\n",
    "fruits.sort()\n",
    "\n",
    "for i in fruits:\n",
    "    if i > L:\n",
    "        break\n",
    "    elif i <= L:\n",
    "        L += 1\n",
    "\n",
    "print(L)"
   ]
  },
  {
   "cell_type": "code",
   "execution_count": null,
   "metadata": {},
   "outputs": [],
   "source": [
    "# 플이\n",
    "N,L = map(int,input().split())\n",
    "frut = list(map(int,input().split()))\n",
    "for f in sorted(frut):\n",
    "    if f > L:\n",
    "        break\n",
    "    else:\n",
    "        L+=1\n",
    "print(L)"
   ]
  },
  {
   "cell_type": "markdown",
   "metadata": {},
   "source": [
    "## 1343 폴리오미노"
   ]
  },
  {
   "cell_type": "code",
   "execution_count": 21,
   "metadata": {
    "ExecuteTime": {
     "end_time": "2022-04-05T03:33:47.844967Z",
     "start_time": "2022-04-05T03:33:46.452111Z"
    }
   },
   "outputs": [
    {
     "name": "stdout",
     "output_type": "stream",
     "text": [
      "1\n",
      "1\n"
     ]
    }
   ],
   "source": [
    "result = input().replace('XXXX','AAAA').replace('XX','BB')\n",
    "print(-1 if 'X' in result else result)"
   ]
  },
  {
   "cell_type": "markdown",
   "metadata": {},
   "source": [
    "## 2798 블랙잭"
   ]
  },
  {
   "cell_type": "code",
   "execution_count": 33,
   "metadata": {
    "ExecuteTime": {
     "end_time": "2022-04-05T05:44:27.242133Z",
     "start_time": "2022-04-05T05:44:21.510389Z"
    }
   },
   "outputs": [
    {
     "name": "stdout",
     "output_type": "stream",
     "text": [
      "10 500\n",
      "93 181 245 214 315 36 185 138 216 295\n",
      "497\n"
     ]
    }
   ],
   "source": [
    "from itertools import combinations\n",
    "N, M = map(int,input().split())\n",
    "card_list = list(map(int,input().split()))\n",
    "print(max([i for i in map(sum,combinations(card_list,3)) if i <= M]))"
   ]
  },
  {
   "cell_type": "code",
   "execution_count": 24,
   "metadata": {
    "ExecuteTime": {
     "end_time": "2022-04-05T05:37:41.656752Z",
     "start_time": "2022-04-05T05:37:41.653718Z"
    }
   },
   "outputs": [],
   "source": [
    "from itertools import combinations"
   ]
  },
  {
   "cell_type": "code",
   "execution_count": 22,
   "metadata": {
    "ExecuteTime": {
     "end_time": "2022-04-05T05:37:08.292257Z",
     "start_time": "2022-04-05T05:37:03.115728Z"
    }
   },
   "outputs": [
    {
     "name": "stdout",
     "output_type": "stream",
     "text": [
      "10 500\n",
      "93 181 245 214 315 36 185 138 216 295\n"
     ]
    }
   ],
   "source": [
    "N, M = map(int,input().split())\n",
    "card_list = list(map(int,input().split()))"
   ]
  },
  {
   "cell_type": "code",
   "execution_count": 23,
   "metadata": {
    "ExecuteTime": {
     "end_time": "2022-04-05T05:37:14.498704Z",
     "start_time": "2022-04-05T05:37:14.484669Z"
    }
   },
   "outputs": [
    {
     "data": {
      "text/plain": [
       "(10, 500, [93, 181, 245, 214, 315, 36, 185, 138, 216, 295])"
      ]
     },
     "execution_count": 23,
     "metadata": {},
     "output_type": "execute_result"
    }
   ],
   "source": [
    "N, M, card_list"
   ]
  },
  {
   "cell_type": "code",
   "execution_count": 30,
   "metadata": {
    "ExecuteTime": {
     "end_time": "2022-04-05T05:40:31.713432Z",
     "start_time": "2022-04-05T05:40:31.701431Z"
    }
   },
   "outputs": [
    {
     "data": {
      "text/plain": [
       "497"
      ]
     },
     "execution_count": 30,
     "metadata": {},
     "output_type": "execute_result"
    }
   ],
   "source": [
    "print(max([i for i in map(sum,combinations(card_list,3)) if i <= M]))"
   ]
  }
 ],
 "metadata": {
  "kernelspec": {
   "display_name": "Python 3",
   "language": "python",
   "name": "python3"
  },
  "language_info": {
   "codemirror_mode": {
    "name": "ipython",
    "version": 3
   },
   "file_extension": ".py",
   "mimetype": "text/x-python",
   "name": "python",
   "nbconvert_exporter": "python",
   "pygments_lexer": "ipython3",
   "version": "3.7.4"
  },
  "toc": {
   "base_numbering": 1,
   "nav_menu": {},
   "number_sections": true,
   "sideBar": true,
   "skip_h1_title": false,
   "title_cell": "Table of Contents",
   "title_sidebar": "Contents",
   "toc_cell": false,
   "toc_position": {},
   "toc_section_display": true,
   "toc_window_display": false
  }
 },
 "nbformat": 4,
 "nbformat_minor": 2
}
