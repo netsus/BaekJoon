{
 "cells": [
  {
   "cell_type": "markdown",
   "id": "0e4c9d43",
   "metadata": {},
   "source": [
    "### 문제\n"
   ]
  },
  {
   "cell_type": "code",
   "execution_count": 1,
   "id": "fc6e3ac9",
   "metadata": {
    "ExecuteTime": {
     "end_time": "2022-12-18T09:58:11.069255Z",
     "start_time": "2022-12-18T09:58:10.933513Z"
    }
   },
   "outputs": [],
   "source": [
    "! # 시작시간 체크"
   ]
  },
  {
   "cell_type": "markdown",
   "id": "95f6acbd",
   "metadata": {},
   "source": [
    "자기 공보다 크기가 작고 색이 다른 공을 사로잡아 그 공의 크기만큼의 점수를 얻는 것이다."
   ]
  },
  {
   "cell_type": "markdown",
   "id": "1d8b0b6f",
   "metadata": {},
   "source": [
    "상상 코딩\n",
    "\n",
    "    색깔별 크기순 리스트 생성\n",
    "    주어진 N개의 공을 for문으로 반복하며, 해당 공에 대해 다른 색깔 크기 작은것을 bisect로 찾아 개수 더해서 출력"
   ]
  },
  {
   "cell_type": "code",
   "execution_count": 3,
   "id": "50c1b0eb",
   "metadata": {
    "ExecuteTime": {
     "end_time": "2022-12-18T10:28:33.941844Z",
     "start_time": "2022-12-18T10:28:33.801167Z"
    }
   },
   "outputs": [],
   "source": [
    "! # 끝 시간 체크"
   ]
  },
  {
   "cell_type": "markdown",
   "id": "88b63096",
   "metadata": {},
   "source": [
    "### 풀이"
   ]
  },
  {
   "cell_type": "code",
   "execution_count": null,
   "id": "77ded1f0",
   "metadata": {},
   "outputs": [],
   "source": [
    "import sys\n",
    "input=sys.stdin.readline\n",
    "N=int(input())\n",
    "balls=[]\n",
    "for i in range(N):\n",
    "    c,s=map(int,input().split())\n",
    "    balls.append((s,c,i))\n",
    "balls.sort()\n",
    "cumsum=j=0\n",
    "color_cumsum=[0]*(N+1)\n",
    "ans=[0]*N\n",
    "for s,c,i in balls:\n",
    "    while balls[j][0] < s:\n",
    "        cumsum+=balls[j][0]\n",
    "        color_cumsum[balls[j][1]]+=balls[j][0]\n",
    "        j+=1\n",
    "    ans[i] = cumsum - color_cumsum[c]\n",
    "print(*ans,sep='\\n')"
   ]
  },
  {
   "cell_type": "markdown",
   "id": "c73eee2a",
   "metadata": {},
   "source": [
    "### 주석 달린 풀이"
   ]
  },
  {
   "cell_type": "code",
   "execution_count": null,
   "id": "735a2cb9",
   "metadata": {},
   "outputs": [],
   "source": [
    "import sys\n",
    "input=sys.stdin.readline\n",
    "N=int(input())\n",
    "balls=[]\n",
    "for i in range(N):\n",
    "    c,s=map(int,input().split())\n",
    "    balls.append((s,c,i))\n",
    "balls.sort()\n",
    "cumsum=j=0\n",
    "color_cumsum=[0]*(N+1)\n",
    "ans=[0]*N\n",
    "for s,c,i in balls:\n",
    "    while balls[j][0] < s:\n",
    "        cumsum+=balls[j][0]\n",
    "        color_cumsum[balls[j][1]]+=balls[j][0]\n",
    "        j+=1\n",
    "    ans[i] = cumsum - color_cumsum[c]\n",
    "print(*ans,sep='\\n')"
   ]
  },
  {
   "cell_type": "markdown",
   "id": "8ed2b958",
   "metadata": {},
   "source": [
    "### 연습"
   ]
  },
  {
   "cell_type": "markdown",
   "id": "8462ef97",
   "metadata": {},
   "source": [
    "상상 코딩\n",
    "\n",
    "    (사이즈, 컬러, num)을 입력받아 사이즈 순으로 정렬\n",
    "    해당 공보다 작을 때의 누적사이즈합, 컬러별 누적 사이즈합을 구해가며\n",
    "    누적사이즈합 - 해당 컬러별 누적 사이즈합을 빼서 해당 num의 공 딕셔너리에 저장\n",
    "    공 딕셔너리에서 num별로 출력"
   ]
  },
  {
   "cell_type": "code",
   "execution_count": 41,
   "id": "741e937d",
   "metadata": {
    "ExecuteTime": {
     "end_time": "2022-12-18T17:34:56.694828Z",
     "start_time": "2022-12-18T17:34:56.691493Z"
    }
   },
   "outputs": [],
   "source": [
    "balls=[]"
   ]
  },
  {
   "cell_type": "code",
   "execution_count": 42,
   "id": "0de911ea",
   "metadata": {
    "ExecuteTime": {
     "end_time": "2022-12-18T17:35:03.522884Z",
     "start_time": "2022-12-18T17:34:57.019755Z"
    }
   },
   "outputs": [
    {
     "name": "stdout",
     "output_type": "stream",
     "text": [
      "4\n",
      "1 10\n",
      "3 15\n",
      "1 3\n",
      "4 8\n"
     ]
    }
   ],
   "source": [
    "N=int(input())\n",
    "for i in range(N):\n",
    "    c,s=map(int,input().split())\n",
    "    balls.append((s,c,i))"
   ]
  },
  {
   "cell_type": "code",
   "execution_count": 43,
   "id": "c11f2eac",
   "metadata": {
    "ExecuteTime": {
     "end_time": "2022-12-18T17:35:04.085417Z",
     "start_time": "2022-12-18T17:35:04.077989Z"
    }
   },
   "outputs": [
    {
     "data": {
      "text/plain": [
       "[(10, 1, 0), (15, 3, 1), (3, 1, 2), (8, 4, 3)]"
      ]
     },
     "execution_count": 43,
     "metadata": {},
     "output_type": "execute_result"
    }
   ],
   "source": [
    "balls"
   ]
  },
  {
   "cell_type": "code",
   "execution_count": 44,
   "id": "7a3c15b6",
   "metadata": {
    "ExecuteTime": {
     "end_time": "2022-12-18T17:35:04.578653Z",
     "start_time": "2022-12-18T17:35:04.575268Z"
    }
   },
   "outputs": [],
   "source": [
    "balls.sort()"
   ]
  },
  {
   "cell_type": "code",
   "execution_count": 61,
   "id": "2f24e048",
   "metadata": {
    "ExecuteTime": {
     "end_time": "2022-12-18T17:48:58.197366Z",
     "start_time": "2022-12-18T17:48:58.190257Z"
    }
   },
   "outputs": [
    {
     "data": {
      "text/plain": [
       "[(3, 1, 2), (8, 4, 3), (10, 1, 0), (15, 3, 1)]"
      ]
     },
     "execution_count": 61,
     "metadata": {},
     "output_type": "execute_result"
    }
   ],
   "source": [
    "balls"
   ]
  },
  {
   "cell_type": "code",
   "execution_count": 64,
   "id": "8e497e5e",
   "metadata": {
    "ExecuteTime": {
     "end_time": "2022-12-18T17:51:07.548812Z",
     "start_time": "2022-12-18T17:51:07.542473Z"
    }
   },
   "outputs": [],
   "source": [
    "cumsum=0\n",
    "color_cumsum=[0]*(N+1)\n",
    "ans=[0]*N\n",
    "j=0"
   ]
  },
  {
   "cell_type": "code",
   "execution_count": 65,
   "id": "9daa7a13",
   "metadata": {
    "ExecuteTime": {
     "end_time": "2022-12-18T17:51:07.972599Z",
     "start_time": "2022-12-18T17:51:07.964249Z"
    }
   },
   "outputs": [
    {
     "name": "stdout",
     "output_type": "stream",
     "text": [
      "3 1 2 [0, 0, 0, 0]\n",
      "8 4 3 [0, 0, 0, 3]\n",
      "10 1 0 [8, 0, 0, 3]\n",
      "15 3 1 [8, 21, 0, 3]\n"
     ]
    }
   ],
   "source": [
    "for s,c,i in balls:\n",
    "    while balls[j][0] < s:\n",
    "        cumsum+=balls[j][0]\n",
    "        color_cumsum[balls[j][1]]+=balls[j][0]\n",
    "        j+=1\n",
    "    ans[i] = cumsum - color_cumsum[c]"
   ]
  },
  {
   "cell_type": "code",
   "execution_count": 66,
   "id": "f21520bd",
   "metadata": {
    "ExecuteTime": {
     "end_time": "2022-12-18T17:51:30.953242Z",
     "start_time": "2022-12-18T17:51:30.946600Z"
    }
   },
   "outputs": [
    {
     "data": {
      "text/plain": [
       "[8, 21, 0, 3]"
      ]
     },
     "execution_count": 66,
     "metadata": {},
     "output_type": "execute_result"
    }
   ],
   "source": [
    "ans"
   ]
  },
  {
   "cell_type": "markdown",
   "id": "71ef9ab9",
   "metadata": {},
   "source": [
    "### 시간 초과"
   ]
  },
  {
   "cell_type": "code",
   "execution_count": null,
   "id": "6532df5c",
   "metadata": {},
   "outputs": [],
   "source": [
    "from collections import defaultdict\n",
    "import bisect\n",
    "ball_li=[list(map(int,input().split())) for _ in range(int(input()))]\n",
    "color_dict=defaultdict(list)\n",
    "\n",
    "for color, size in ball_li:\n",
    "    bisect.insort(color_dict[color],size)\n",
    "\n",
    "color_list = list(color_dict.keys())\n",
    "for color, size in ball_li:\n",
    "    catch_size=0\n",
    "    for c in [i for i in color_list if i != color]:\n",
    "        catch_idx = bisect.bisect_left(color_dict[c],size)\n",
    "        catch_size+=sum(color_dict[c][:catch_idx])\n",
    "    print(catch_size)"
   ]
  },
  {
   "cell_type": "code",
   "execution_count": 9,
   "id": "650aa8cb",
   "metadata": {
    "ExecuteTime": {
     "end_time": "2022-12-18T10:34:10.008025Z",
     "start_time": "2022-12-18T10:34:10.003635Z"
    }
   },
   "outputs": [],
   "source": [
    "from collections import defaultdict\n",
    "import bisect"
   ]
  },
  {
   "cell_type": "code",
   "execution_count": 12,
   "id": "ec705ae9",
   "metadata": {
    "ExecuteTime": {
     "end_time": "2022-12-18T10:34:53.743458Z",
     "start_time": "2022-12-18T10:34:53.733977Z"
    }
   },
   "outputs": [
    {
     "data": {
      "text/plain": [
       "(4, [[1, 10], [3, 15], [1, 3], [4, 8]])"
      ]
     },
     "execution_count": 12,
     "metadata": {},
     "output_type": "execute_result"
    }
   ],
   "source": [
    "N=4\n",
    "ball_li=[list(map(int,i.split())) for i in \"\"\"1 10\n",
    "3 15\n",
    "1 3\n",
    "4 8\"\"\".split('\\n')]\n",
    "N,li"
   ]
  },
  {
   "cell_type": "code",
   "execution_count": 13,
   "id": "30e63a71",
   "metadata": {
    "ExecuteTime": {
     "end_time": "2022-12-18T10:34:54.241354Z",
     "start_time": "2022-12-18T10:34:54.239850Z"
    }
   },
   "outputs": [],
   "source": [
    "color_dict=defaultdict(list)"
   ]
  },
  {
   "cell_type": "code",
   "execution_count": 14,
   "id": "dbfc82e7",
   "metadata": {
    "ExecuteTime": {
     "end_time": "2022-12-18T10:34:54.466208Z",
     "start_time": "2022-12-18T10:34:54.462792Z"
    }
   },
   "outputs": [],
   "source": [
    "for color, size in ball_li:\n",
    "    bisect.insort(color_dict[color],size)"
   ]
  },
  {
   "cell_type": "code",
   "execution_count": 15,
   "id": "67a853bf",
   "metadata": {
    "ExecuteTime": {
     "end_time": "2022-12-18T10:34:58.716258Z",
     "start_time": "2022-12-18T10:34:58.708168Z"
    }
   },
   "outputs": [
    {
     "data": {
      "text/plain": [
       "defaultdict(list, {1: [3, 10], 3: [15], 4: [8]})"
      ]
     },
     "execution_count": 15,
     "metadata": {},
     "output_type": "execute_result"
    }
   ],
   "source": [
    "color_dict"
   ]
  },
  {
   "cell_type": "code",
   "execution_count": 18,
   "id": "c0bff5dd",
   "metadata": {
    "ExecuteTime": {
     "end_time": "2022-12-18T10:37:52.542809Z",
     "start_time": "2022-12-18T10:37:52.539016Z"
    }
   },
   "outputs": [],
   "source": [
    "color_list = list(color_dict.keys())"
   ]
  },
  {
   "cell_type": "code",
   "execution_count": 24,
   "id": "4fe6bb51",
   "metadata": {
    "ExecuteTime": {
     "end_time": "2022-12-18T10:41:09.518949Z",
     "start_time": "2022-12-18T10:41:09.511087Z"
    }
   },
   "outputs": [
    {
     "data": {
      "text/plain": [
       "[[1, 10], [3, 15], [1, 3], [4, 8]]"
      ]
     },
     "execution_count": 24,
     "metadata": {},
     "output_type": "execute_result"
    }
   ],
   "source": [
    "ball_li"
   ]
  },
  {
   "cell_type": "code",
   "execution_count": 31,
   "id": "4d59a475",
   "metadata": {
    "ExecuteTime": {
     "end_time": "2022-12-18T10:45:33.668561Z",
     "start_time": "2022-12-18T10:45:33.662648Z"
    }
   },
   "outputs": [
    {
     "name": "stdout",
     "output_type": "stream",
     "text": [
      "8\n",
      "21\n",
      "0\n",
      "3\n"
     ]
    }
   ],
   "source": [
    "for color, size in ball_li:\n",
    "    catch_size=0\n",
    "    for c in [i for i in color_list if i != color]:\n",
    "        catch_idx = bisect.bisect_left(color_dict[c],size)\n",
    "        catch_size+=sum(color_dict[c][:catch_idx])\n",
    "    print(catch_size)"
   ]
  }
 ],
 "metadata": {
  "kernelspec": {
   "display_name": "Python 3",
   "language": "python",
   "name": "python3"
  },
  "language_info": {
   "codemirror_mode": {
    "name": "ipython",
    "version": 3
   },
   "file_extension": ".py",
   "mimetype": "text/x-python",
   "name": "python",
   "nbconvert_exporter": "python",
   "pygments_lexer": "ipython3",
   "version": "3.8.12"
  },
  "toc": {
   "base_numbering": 1,
   "nav_menu": {},
   "number_sections": true,
   "sideBar": true,
   "skip_h1_title": false,
   "title_cell": "Table of Contents",
   "title_sidebar": "Contents",
   "toc_cell": false,
   "toc_position": {},
   "toc_section_display": true,
   "toc_window_display": false
  }
 },
 "nbformat": 4,
 "nbformat_minor": 5
}
