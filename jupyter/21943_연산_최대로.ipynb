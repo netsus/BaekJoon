{
 "cells": [
  {
   "cell_type": "code",
   "execution_count": 1,
   "id": "c4427212",
   "metadata": {
    "ExecuteTime": {
     "end_time": "2022-04-13T15:06:06.627144Z",
     "start_time": "2022-04-13T15:06:06.604962Z"
    }
   },
   "outputs": [
    {
     "data": {
      "text/plain": [
       "182"
      ]
     },
     "execution_count": 1,
     "metadata": {},
     "output_type": "execute_result"
    }
   ],
   "source": [
    "14*13"
   ]
  },
  {
   "cell_type": "code",
   "execution_count": 3,
   "id": "e6ab336a",
   "metadata": {
    "ExecuteTime": {
     "end_time": "2022-04-13T15:16:44.622526Z",
     "start_time": "2022-04-13T15:16:44.617556Z"
    }
   },
   "outputs": [],
   "source": [
    "N=6"
   ]
  },
  {
   "cell_type": "code",
   "execution_count": 4,
   "id": "f40a3b49",
   "metadata": {
    "ExecuteTime": {
     "end_time": "2022-04-13T15:17:07.472155Z",
     "start_time": "2022-04-13T15:17:03.663361Z"
    }
   },
   "outputs": [
    {
     "name": "stdout",
     "output_type": "stream",
     "text": [
      "1 2 4 5 7 8\n"
     ]
    }
   ],
   "source": [
    "nums=list(map(int,input().split()))"
   ]
  },
  {
   "cell_type": "code",
   "execution_count": 5,
   "id": "d6f03d77",
   "metadata": {
    "ExecuteTime": {
     "end_time": "2022-04-13T15:17:18.806794Z",
     "start_time": "2022-04-13T15:17:17.435767Z"
    }
   },
   "outputs": [
    {
     "name": "stdout",
     "output_type": "stream",
     "text": [
      "4 1\n"
     ]
    }
   ],
   "source": [
    "P,Q = map(int,input().split())"
   ]
  },
  {
   "cell_type": "code",
   "execution_count": 6,
   "id": "4c07c3e5",
   "metadata": {
    "ExecuteTime": {
     "end_time": "2022-04-13T15:17:24.194555Z",
     "start_time": "2022-04-13T15:17:24.183274Z"
    }
   },
   "outputs": [
    {
     "data": {
      "text/plain": [
       "([1, 2, 4, 5, 7, 8], 4, 1)"
      ]
     },
     "execution_count": 6,
     "metadata": {},
     "output_type": "execute_result"
    }
   ],
   "source": [
    "nums, P, Q"
   ]
  },
  {
   "cell_type": "code",
   "execution_count": 7,
   "id": "a35dc123",
   "metadata": {
    "ExecuteTime": {
     "end_time": "2022-04-13T15:17:32.348301Z",
     "start_time": "2022-04-13T15:17:32.343979Z"
    }
   },
   "outputs": [],
   "source": [
    "from itertools import combinations"
   ]
  },
  {
   "cell_type": "code",
   "execution_count": 10,
   "id": "a8455ce3",
   "metadata": {
    "ExecuteTime": {
     "end_time": "2022-04-13T15:18:27.471272Z",
     "start_time": "2022-04-13T15:18:27.456485Z"
    }
   },
   "outputs": [
    {
     "name": "stdout",
     "output_type": "stream",
     "text": [
      "(0,)\n",
      "(1,)\n",
      "(2,)\n",
      "(3,)\n",
      "(4,)\n",
      "(5,)\n"
     ]
    }
   ],
   "source": [
    "result=0\n",
    "for i in combinations(range(N),Q):\n",
    "    start\n",
    "    print(i)"
   ]
  },
  {
   "cell_type": "code",
   "execution_count": 15,
   "id": "b16bdcb3",
   "metadata": {
    "ExecuteTime": {
     "end_time": "2022-04-13T15:22:18.484027Z",
     "start_time": "2022-04-13T15:22:18.474195Z"
    }
   },
   "outputs": [
    {
     "ename": "IndexError",
     "evalue": "tuple index out of range",
     "output_type": "error",
     "traceback": [
      "\u001b[0;31m---------------------------------------------------------------------------\u001b[0m",
      "\u001b[0;31mIndexError\u001b[0m                                Traceback (most recent call last)",
      "\u001b[0;32m<ipython-input-15-6e3b76e446eb>\u001b[0m in \u001b[0;36m<module>\u001b[0;34m\u001b[0m\n\u001b[0;32m----> 1\u001b[0;31m \u001b[0mi\u001b[0m\u001b[0;34m[\u001b[0m\u001b[0;36m1\u001b[0m\u001b[0;34m]\u001b[0m\u001b[0;34m\u001b[0m\u001b[0;34m\u001b[0m\u001b[0m\n\u001b[0m",
      "\u001b[0;31mIndexError\u001b[0m: tuple index out of range"
     ]
    }
   ],
   "source": []
  },
  {
   "cell_type": "code",
   "execution_count": null,
   "id": "7858b4f9",
   "metadata": {},
   "outputs": [],
   "source": []
  }
 ],
 "metadata": {
  "kernelspec": {
   "display_name": "Python 3",
   "language": "python",
   "name": "python3"
  },
  "language_info": {
   "codemirror_mode": {
    "name": "ipython",
    "version": 3
   },
   "file_extension": ".py",
   "mimetype": "text/x-python",
   "name": "python",
   "nbconvert_exporter": "python",
   "pygments_lexer": "ipython3",
   "version": "3.8.12"
  },
  "toc": {
   "base_numbering": 1,
   "nav_menu": {},
   "number_sections": true,
   "sideBar": true,
   "skip_h1_title": false,
   "title_cell": "Table of Contents",
   "title_sidebar": "Contents",
   "toc_cell": false,
   "toc_position": {},
   "toc_section_display": true,
   "toc_window_display": false
  }
 },
 "nbformat": 4,
 "nbformat_minor": 5
}
