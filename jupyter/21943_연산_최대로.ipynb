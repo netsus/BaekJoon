{
 "cells": [
  {
   "cell_type": "markdown",
   "id": "ad418019",
   "metadata": {},
   "source": [
    "## 제출용"
   ]
  },
  {
   "cell_type": "code",
   "execution_count": 156,
   "id": "f2b768d1",
   "metadata": {
    "ExecuteTime": {
     "end_time": "2022-04-14T11:51:07.163491Z",
     "start_time": "2022-04-14T11:51:07.152465Z"
    }
   },
   "outputs": [],
   "source": [
    "from itertools import combinations\n",
    "def dfs(cur_val, m_cnt, pick_list):\n",
    "    global result\n",
    "    if m_cnt == 0:\n",
    "        result = max(result, cur_val * sum(pick_list))\n",
    "    else:\n",
    "        idx_list = range(len(pick_list))\n",
    "        for pick_num in range(1,len(pick_list)-m_cnt+1):\n",
    "            for comb in combinations(idx_list,pick_num):\n",
    "                cp_pick_list=pick_list[:]\n",
    "                comb = sorted(comb,reverse=1)\n",
    "                tmp_sum=0\n",
    "                for i in comb:\n",
    "                    tmp_sum+=cp_pick_list.pop(i)\n",
    "                dfs(cur_val*tmp_sum, m_cnt-1, cp_pick_list)\n",
    "\n",
    "N=int(input())\n",
    "nums=list(map(int,input().split()))\n",
    "P,Q = map(int,input().split())\n",
    "result=0\n",
    "dfs(1,Q,nums)\n",
    "print(result)"
   ]
  },
  {
   "cell_type": "markdown",
   "id": "9f9eeedc",
   "metadata": {},
   "source": [
    "## 스스로 풀어본 것 -> 틀림\n",
    "    - 원인 : 숫자의 배열도 수정되어야 한다."
   ]
  },
  {
   "cell_type": "code",
   "execution_count": 45,
   "id": "ad6dc44d",
   "metadata": {
    "ExecuteTime": {
     "end_time": "2022-04-13T16:05:13.567969Z",
     "start_time": "2022-04-13T16:05:07.254783Z"
    }
   },
   "outputs": [
    {
     "name": "stdout",
     "output_type": "stream",
     "text": [
      "6\n",
      "1 2 4 5 7 8\n",
      "4 1\n",
      "180\n"
     ]
    }
   ],
   "source": [
    "from itertools import combinations\n",
    "import math, sys\n",
    "N=int(input())\n",
    "nums=list(map(int,input().split()))\n",
    "P,Q = map(int,input().split())\n",
    "result=0;csum=0\n",
    "for c in combinations(range(1,N),Q):\n",
    "    s=[];start=0\n",
    "    for i in c:\n",
    "        s+=[sum(nums[start:i])]\n",
    "        start=i\n",
    "    s+=[sum(nums[i:])]\n",
    "    csum = math.prod(s)\n",
    "    if result < csum:\n",
    "        result = csum\n",
    "print(result if Q!=0 else sum(nums))"
   ]
  },
  {
   "cell_type": "code",
   "execution_count": 46,
   "id": "b685feb3",
   "metadata": {
    "ExecuteTime": {
     "end_time": "2022-04-13T16:05:31.062387Z",
     "start_time": "2022-04-13T16:05:25.624529Z"
    }
   },
   "outputs": [
    {
     "name": "stdout",
     "output_type": "stream",
     "text": [
      "6\n",
      "1 2 4 5 7 8\n",
      "4 1\n",
      "(1,)  [1, 26] 26\n",
      "(2,)  [3, 24] 72\n",
      "(3,)  [7, 20] 140\n",
      "(4,)  [12, 15] 180\n",
      "(5,)  [19, 8] 152\n",
      "180\n"
     ]
    }
   ],
   "source": [
    "from itertools import combinations\n",
    "import math\n",
    "N=int(input())\n",
    "nums=list(map(int,input().split()))\n",
    "P,Q = map(int,input().split())\n",
    "result=0;csum=0\n",
    "for c in combinations(range(1,N),Q):\n",
    "    print(c,end='  ')\n",
    "    s=[];start=0\n",
    "    for i in c:\n",
    "        s+=[sum(nums[start:i])]\n",
    "        start=i\n",
    "    s+=[sum(nums[i:])]\n",
    "    csum = math.prod(s)\n",
    "    print(s, csum)\n",
    "    if result < csum:\n",
    "        result = csum\n",
    "print(result if Q!=0 else sum(nums))"
   ]
  },
  {
   "cell_type": "markdown",
   "id": "d8f256ef",
   "metadata": {},
   "source": [
    "## 다른 사람 풀이 쪼개기"
   ]
  },
  {
   "cell_type": "code",
   "execution_count": 1,
   "id": "817011ad",
   "metadata": {
    "ExecuteTime": {
     "end_time": "2022-05-26T11:58:07.434934Z",
     "start_time": "2022-05-26T11:58:07.413757Z"
    }
   },
   "outputs": [],
   "source": [
    "from itertools import combinations"
   ]
  },
  {
   "cell_type": "code",
   "execution_count": 2,
   "id": "9a01d3f6",
   "metadata": {
    "ExecuteTime": {
     "end_time": "2022-05-26T11:58:07.725225Z",
     "start_time": "2022-05-26T11:58:07.722088Z"
    }
   },
   "outputs": [],
   "source": [
    "def dfs(cu_val,cnt,pick_list):\n",
    "    global result\n",
    "    if cnt == 0:\n",
    "        result = max(result,cu_val*sum(pick_list))\n",
    "        return cu_val * sum(pick_list)\n",
    "    else:\n",
    "        idx_list = range(len(pick_list))\n",
    "        for pick_cnt in range(1,len(pick_list)-cnt+1):\n",
    "            for comb in combinations(idx_list,pick_cnt):\n",
    "                copy_pick_list = pick_list[:]\n",
    "                comb = list(reversed(comb))\n",
    "                temp_sum = 0\n",
    "                for idx in comb:\n",
    "                    temp_sum += copy_pick_list.pop(idx)                \n",
    "                dfs(cu_val*temp_sum,cnt-1,copy_pick_list)"
   ]
  },
  {
   "cell_type": "code",
   "execution_count": 3,
   "id": "1a0121bc",
   "metadata": {
    "ExecuteTime": {
     "end_time": "2022-05-26T11:58:08.259617Z",
     "start_time": "2022-05-26T11:58:08.248984Z"
    }
   },
   "outputs": [],
   "source": [
    "def dfs(cu_val, cnt, pick_list):\n",
    "    global result\n",
    "    if cnt == 0:\n",
    "        result = max(result, cu_val * sum(pick_list))\n",
    "    else:\n",
    "        idx_list = range(len(pick_list))\n",
    "        for pick_cnt in range(1,len(pick_list)-cnt+1):\n",
    "            for comb in combinations(idx_list, pick_cnt):\n",
    "                copy_pick_list = pick_list[:]\n",
    "                comb = list(reversed(comb))\n",
    "                temp_sum = 0\n",
    "                for idx in comb:\n",
    "                    temp_sum += copy_pick_list.pop(idx)\n",
    "                dfs(cu_val*temp_sum, cnt-1, copy_pick_list)"
   ]
  },
  {
   "cell_type": "code",
   "execution_count": 4,
   "id": "21a473f5",
   "metadata": {
    "ExecuteTime": {
     "end_time": "2022-05-26T11:58:09.722799Z",
     "start_time": "2022-05-26T11:58:09.707046Z"
    }
   },
   "outputs": [],
   "source": [
    "def dfs(cu_val, m_cnt, pick_list):\n",
    "    global result\n",
    "    if m_cnt == 0:\n",
    "        if max(result, max(result, cu_val * sum(pick_list))) == result:\n",
    "            print(f\"최대값 {max(result, cu_val * sum(pick_list))}에서 {result}로 바뀜\")\n",
    "        result = max(result, cu_val * sum(pick_list))\n",
    "    else:\n",
    "        idx_list = range(len(pick_list)) # 뽑을 인덱스 리스트\n",
    "        for pick_cnt in range(1, len(pick_list)-m_cnt+1): # 1이상, 숫자 개수 - 곱하기 개수 + 1 : 곱하기 개수 고려하여 뽑을 숫자 개수\n",
    "            print(f\"{pick_list}에 대해 {len(list(combinations(idx_list, pick_cnt)))}만큼의 조합을 더한다\")\n",
    "            for comb in combinations(idx_list, pick_cnt):\n",
    "                cp_pick_list = pick_list[:]\n",
    "                comb = list(reversed(comb)) # comb 역순\n",
    "                tmp_sum = 0\n",
    "                print(comb,end=' ')\n",
    "                for i in comb:\n",
    "                    tmp_sum += cp_pick_list.pop(i)\n",
    "                print()\n",
    "                dfs(cu_val*tmp_sum, m_cnt-1, cp_pick_list)"
   ]
  },
  {
   "cell_type": "code",
   "execution_count": 8,
   "id": "7a200e9b",
   "metadata": {
    "ExecuteTime": {
     "end_time": "2022-05-26T12:01:02.262238Z",
     "start_time": "2022-05-26T12:01:02.246652Z"
    },
    "code_folding": []
   },
   "outputs": [],
   "source": [
    "def dfs(cu_val, m_cnt, pick_list):\n",
    "    global result\n",
    "    if m_cnt==0: # 곱하기 개수가 0개이면\n",
    "        result = max(result, cu_val * sum(pick_list))\n",
    "    else:\n",
    "        idx_list = range(len(pick_list))\n",
    "        for pick_cnt in range(1, len(pick_list)-m_cnt+1):\n",
    "            print(idx_list,pick_cnt)\n",
    "            for comb in combinations(idx_list, pick_cnt):\n",
    "                cp_pick_list = pick_list[:]\n",
    "                comb = sorted(comb,reverse=1)\n",
    "                print(comb,end='  ')\n",
    "                tmp_sum = 0\n",
    "                for i in comb:\n",
    "                    tmp_sum += cp_pick_list.pop(i)\n",
    "\n",
    "                dfs(cu_val * tmp_sum, m_cnt-1, cp_pick_list)"
   ]
  },
  {
   "cell_type": "code",
   "execution_count": 27,
   "id": "f596f99e",
   "metadata": {
    "ExecuteTime": {
     "end_time": "2022-05-26T13:46:05.582789Z",
     "start_time": "2022-05-26T13:46:05.574356Z"
    }
   },
   "outputs": [],
   "source": [
    "li=[1,2,3]"
   ]
  },
  {
   "cell_type": "code",
   "execution_count": 28,
   "id": "218a031a",
   "metadata": {
    "ExecuteTime": {
     "end_time": "2022-05-26T13:46:07.775677Z",
     "start_time": "2022-05-26T13:46:07.771310Z"
    }
   },
   "outputs": [],
   "source": [
    "li2 = li[:]"
   ]
  },
  {
   "cell_type": "code",
   "execution_count": 32,
   "id": "dc52c78f",
   "metadata": {
    "ExecuteTime": {
     "end_time": "2022-05-26T13:46:15.032232Z",
     "start_time": "2022-05-26T13:46:15.022093Z"
    }
   },
   "outputs": [
    {
     "data": {
      "text/plain": [
       "2"
      ]
     },
     "execution_count": 32,
     "metadata": {},
     "output_type": "execute_result"
    }
   ],
   "source": [
    "li2.pop()"
   ]
  },
  {
   "cell_type": "code",
   "execution_count": 33,
   "id": "423e1521",
   "metadata": {
    "ExecuteTime": {
     "end_time": "2022-05-26T13:46:16.228240Z",
     "start_time": "2022-05-26T13:46:16.220991Z"
    }
   },
   "outputs": [
    {
     "data": {
      "text/plain": [
       "([1, 2, 3], [1])"
      ]
     },
     "execution_count": 33,
     "metadata": {},
     "output_type": "execute_result"
    }
   ],
   "source": [
    "li, li2"
   ]
  },
  {
   "cell_type": "code",
   "execution_count": 11,
   "id": "a45bf2f6",
   "metadata": {
    "ExecuteTime": {
     "end_time": "2022-05-26T13:44:34.614186Z",
     "start_time": "2022-05-26T13:44:34.595378Z"
    }
   },
   "outputs": [
    {
     "data": {
      "text/plain": [
       "[(0, 1, 2), (0, 1, 3), (0, 2, 3), (1, 2, 3)]"
      ]
     },
     "execution_count": 11,
     "metadata": {},
     "output_type": "execute_result"
    }
   ],
   "source": [
    "list(combinations([0,1,2,3],3))"
   ]
  },
  {
   "cell_type": "code",
   "execution_count": 9,
   "id": "5edafe7a",
   "metadata": {
    "ExecuteTime": {
     "end_time": "2022-05-26T12:01:05.100802Z",
     "start_time": "2022-05-26T12:01:05.086096Z"
    }
   },
   "outputs": [],
   "source": [
    "N = 6\n",
    "arr = [1, 2, 4, 5, 7, 8]\n",
    "p_cnt,m_cnt = 4, 1\n",
    "result = 0"
   ]
  },
  {
   "cell_type": "code",
   "execution_count": 6,
   "id": "492a3fc5",
   "metadata": {
    "ExecuteTime": {
     "end_time": "2022-05-26T11:58:20.551204Z",
     "start_time": "2022-05-26T11:58:20.536979Z"
    }
   },
   "outputs": [
    {
     "name": "stdout",
     "output_type": "stream",
     "text": [
      "[1, 2, 4, 5, 7, 8]에 대해 6만큼의 조합을 더한다\n",
      "[0] \n",
      "[1] \n",
      "[2] \n",
      "[3] \n",
      "[4] \n",
      "[5] \n",
      "[1, 2, 4, 5, 7, 8]에 대해 15만큼의 조합을 더한다\n",
      "[1, 0] \n",
      "최대값 152에서 152로 바뀜\n",
      "[2, 0] \n",
      "최대값 152에서 152로 바뀜\n",
      "[3, 0] \n",
      "최대값 152에서 152로 바뀜\n",
      "[4, 0] \n",
      "최대값 152에서 152로 바뀜\n",
      "[5, 0] \n",
      "[2, 1] \n",
      "최대값 162에서 162로 바뀜\n",
      "[3, 1] \n",
      "최대값 162에서 162로 바뀜\n",
      "[4, 1] \n",
      "최대값 162에서 162로 바뀜\n",
      "[5, 1] \n",
      "[3, 2] \n",
      "최대값 170에서 170로 바뀜\n",
      "[4, 2] \n",
      "[5, 2] \n",
      "[4, 3] \n",
      "최대값 180에서 180로 바뀜\n",
      "[5, 3] \n",
      "[5, 4] \n",
      "최대값 182에서 182로 바뀜\n",
      "[1, 2, 4, 5, 7, 8]에 대해 20만큼의 조합을 더한다\n",
      "[2, 1, 0] \n",
      "최대값 182에서 182로 바뀜\n",
      "[3, 1, 0] \n",
      "최대값 182에서 182로 바뀜\n",
      "[4, 1, 0] \n",
      "최대값 182에서 182로 바뀜\n",
      "[5, 1, 0] \n",
      "최대값 182에서 182로 바뀜\n",
      "[3, 2, 0] \n",
      "최대값 182에서 182로 바뀜\n",
      "[4, 2, 0] \n",
      "최대값 182에서 182로 바뀜\n",
      "[5, 2, 0] \n",
      "최대값 182에서 182로 바뀜\n",
      "[4, 3, 0] \n",
      "최대값 182에서 182로 바뀜\n",
      "[5, 3, 0] \n",
      "최대값 182에서 182로 바뀜\n",
      "[5, 4, 0] \n",
      "최대값 182에서 182로 바뀜\n",
      "[3, 2, 1] \n",
      "최대값 182에서 182로 바뀜\n",
      "[4, 2, 1] \n",
      "최대값 182에서 182로 바뀜\n",
      "[5, 2, 1] \n",
      "최대값 182에서 182로 바뀜\n",
      "[4, 3, 1] \n",
      "최대값 182에서 182로 바뀜\n",
      "[5, 3, 1] \n",
      "최대값 182에서 182로 바뀜\n",
      "[5, 4, 1] \n",
      "최대값 182에서 182로 바뀜\n",
      "[4, 3, 2] \n",
      "최대값 182에서 182로 바뀜\n",
      "[5, 3, 2] \n",
      "최대값 182에서 182로 바뀜\n",
      "[5, 4, 2] \n",
      "최대값 182에서 182로 바뀜\n",
      "[5, 4, 3] \n",
      "최대값 182에서 182로 바뀜\n",
      "[1, 2, 4, 5, 7, 8]에 대해 15만큼의 조합을 더한다\n",
      "[3, 2, 1, 0] \n",
      "최대값 182에서 182로 바뀜\n",
      "[4, 2, 1, 0] \n",
      "최대값 182에서 182로 바뀜\n",
      "[5, 2, 1, 0] \n",
      "최대값 182에서 182로 바뀜\n",
      "[4, 3, 1, 0] \n",
      "최대값 182에서 182로 바뀜\n",
      "[5, 3, 1, 0] \n",
      "최대값 182에서 182로 바뀜\n",
      "[5, 4, 1, 0] \n",
      "최대값 182에서 182로 바뀜\n",
      "[4, 3, 2, 0] \n",
      "최대값 182에서 182로 바뀜\n",
      "[5, 3, 2, 0] \n",
      "최대값 182에서 182로 바뀜\n",
      "[5, 4, 2, 0] \n",
      "최대값 182에서 182로 바뀜\n",
      "[5, 4, 3, 0] \n",
      "최대값 182에서 182로 바뀜\n",
      "[4, 3, 2, 1] \n",
      "최대값 182에서 182로 바뀜\n",
      "[5, 3, 2, 1] \n",
      "최대값 182에서 182로 바뀜\n",
      "[5, 4, 2, 1] \n",
      "최대값 182에서 182로 바뀜\n",
      "[5, 4, 3, 1] \n",
      "최대값 182에서 182로 바뀜\n",
      "[5, 4, 3, 2] \n",
      "최대값 182에서 182로 바뀜\n",
      "[1, 2, 4, 5, 7, 8]에 대해 6만큼의 조합을 더한다\n",
      "[4, 3, 2, 1, 0] \n",
      "최대값 182에서 182로 바뀜\n",
      "[5, 3, 2, 1, 0] \n",
      "최대값 182에서 182로 바뀜\n",
      "[5, 4, 2, 1, 0] \n",
      "최대값 182에서 182로 바뀜\n",
      "[5, 4, 3, 1, 0] \n",
      "최대값 182에서 182로 바뀜\n",
      "[5, 4, 3, 2, 0] \n",
      "최대값 182에서 182로 바뀜\n",
      "[5, 4, 3, 2, 1] \n",
      "최대값 182에서 182로 바뀜\n"
     ]
    }
   ],
   "source": [
    "dfs(1, m_cnt, arr)"
   ]
  },
  {
   "cell_type": "code",
   "execution_count": 9,
   "id": "afb66008",
   "metadata": {
    "ExecuteTime": {
     "end_time": "2022-05-26T12:01:05.100802Z",
     "start_time": "2022-05-26T12:01:05.086096Z"
    }
   },
   "outputs": [],
   "source": [
    "N = 6\n",
    "arr = [1, 2, 4, 5, 7, 8]\n",
    "p_cnt,m_cnt = 4, 1\n",
    "result = 0"
   ]
  },
  {
   "cell_type": "code",
   "execution_count": 10,
   "id": "424a965d",
   "metadata": {
    "ExecuteTime": {
     "end_time": "2022-05-26T12:01:05.514189Z",
     "start_time": "2022-05-26T12:01:05.502709Z"
    }
   },
   "outputs": [
    {
     "name": "stdout",
     "output_type": "stream",
     "text": [
      "range(0, 6) 1\n",
      "[0]  [1]  [2]  [3]  [4]  [5]  range(0, 6) 2\n",
      "[1, 0]  [2, 0]  [3, 0]  [4, 0]  [5, 0]  [2, 1]  [3, 1]  [4, 1]  [5, 1]  [3, 2]  [4, 2]  [5, 2]  [4, 3]  [5, 3]  [5, 4]  range(0, 6) 3\n",
      "[2, 1, 0]  [3, 1, 0]  [4, 1, 0]  [5, 1, 0]  [3, 2, 0]  [4, 2, 0]  [5, 2, 0]  [4, 3, 0]  [5, 3, 0]  [5, 4, 0]  [3, 2, 1]  [4, 2, 1]  [5, 2, 1]  [4, 3, 1]  [5, 3, 1]  [5, 4, 1]  [4, 3, 2]  [5, 3, 2]  [5, 4, 2]  [5, 4, 3]  range(0, 6) 4\n",
      "[3, 2, 1, 0]  [4, 2, 1, 0]  [5, 2, 1, 0]  [4, 3, 1, 0]  [5, 3, 1, 0]  [5, 4, 1, 0]  [4, 3, 2, 0]  [5, 3, 2, 0]  [5, 4, 2, 0]  [5, 4, 3, 0]  [4, 3, 2, 1]  [5, 3, 2, 1]  [5, 4, 2, 1]  [5, 4, 3, 1]  [5, 4, 3, 2]  range(0, 6) 5\n",
      "[4, 3, 2, 1, 0]  [5, 3, 2, 1, 0]  [5, 4, 2, 1, 0]  [5, 4, 3, 1, 0]  [5, 4, 3, 2, 0]  [5, 4, 3, 2, 1]  "
     ]
    }
   ],
   "source": [
    "dfs(1, m_cnt, arr)"
   ]
  },
  {
   "cell_type": "code",
   "execution_count": 155,
   "id": "d1ebfb5a",
   "metadata": {
    "ExecuteTime": {
     "end_time": "2022-04-14T11:46:19.993327Z",
     "start_time": "2022-04-14T11:46:19.984243Z"
    }
   },
   "outputs": [
    {
     "data": {
      "text/plain": [
       "182"
      ]
     },
     "execution_count": 155,
     "metadata": {},
     "output_type": "execute_result"
    }
   ],
   "source": [
    "result"
   ]
  },
  {
   "cell_type": "code",
   "execution_count": 48,
   "id": "0db94764",
   "metadata": {
    "ExecuteTime": {
     "end_time": "2022-04-13T16:09:39.568736Z",
     "start_time": "2022-04-13T16:09:32.615781Z"
    }
   },
   "outputs": [
    {
     "name": "stdout",
     "output_type": "stream",
     "text": [
      "6\n",
      "1 2 4 5 7 8\n",
      "4 1\n"
     ]
    }
   ],
   "source": [
    "N = int(input())\n",
    "arr = list(map(int,input().split()))\n",
    "p_cnt,a_cnt = map(int,input().split())\n",
    "result = 0"
   ]
  },
  {
   "cell_type": "markdown",
   "id": "8202a252",
   "metadata": {},
   "source": [
    "### 예제 1번 "
   ]
  },
  {
   "cell_type": "code",
   "execution_count": 48,
   "id": "b11ac1f0",
   "metadata": {
    "ExecuteTime": {
     "end_time": "2022-04-13T16:09:39.568736Z",
     "start_time": "2022-04-13T16:09:32.615781Z"
    }
   },
   "outputs": [
    {
     "name": "stdout",
     "output_type": "stream",
     "text": [
      "6\n",
      "1 2 4 5 7 8\n",
      "4 1\n"
     ]
    }
   ],
   "source": [
    "N = 6\n",
    "arr = [1, 2, 4, 5, 7, 8]\n",
    "p_cnt,a_cnt = 4, 1\n",
    "result = 0"
   ]
  },
  {
   "cell_type": "code",
   "execution_count": 50,
   "id": "c91420ab",
   "metadata": {
    "ExecuteTime": {
     "end_time": "2022-04-13T16:14:48.339732Z",
     "start_time": "2022-04-13T16:14:48.328790Z"
    }
   },
   "outputs": [],
   "source": [
    "def dfs(cu_val,cnt,pick_list): # \n",
    "    global result\n",
    "    if cnt == 0: # 곱하기 연산자 0개이면\n",
    "        result = max(result,cu_val*sum(pick_list))\n",
    "        return cu_val * sum(pick_list)\n",
    "    else: # 곱하기 연산자 0개 아니면\n",
    "        idx_list = range(len(pick_list))\n",
    "        for pick_cnt in range(1,len(pick_list)-cnt+1): # pick_cnt : 곱하기 \n",
    "            print(f\"\")\n",
    "            for comb in combinations(idx_list,pick_cnt):\n",
    "                copy_pick_list = pick_list[:] # 복사\n",
    "                comb = list(reversed(comb))\n",
    "                print(f\"곱하기 {cnt}개 - 조합: {comb}\")\n",
    "                temp_sum = 0\n",
    "                for idx in comb:\n",
    "                    temp_sum += copy_pick_list.pop(idx)                \n",
    "                dfs(cu_val*temp_sum,cnt-1,copy_pick_list)"
   ]
  },
  {
   "cell_type": "code",
   "execution_count": 51,
   "id": "45146966",
   "metadata": {
    "ExecuteTime": {
     "end_time": "2022-04-13T16:14:48.678345Z",
     "start_time": "2022-04-13T16:14:48.673008Z"
    }
   },
   "outputs": [
    {
     "name": "stdout",
     "output_type": "stream",
     "text": [
      "곱하기 1개 - 조합: [0]\n",
      "곱하기 1개 - 조합: [1]\n",
      "곱하기 1개 - 조합: [2]\n",
      "곱하기 1개 - 조합: [3]\n",
      "곱하기 1개 - 조합: [4]\n",
      "곱하기 1개 - 조합: [5]\n",
      "곱하기 1개 - 조합: [1, 0]\n",
      "곱하기 1개 - 조합: [2, 0]\n",
      "곱하기 1개 - 조합: [3, 0]\n",
      "곱하기 1개 - 조합: [4, 0]\n",
      "곱하기 1개 - 조합: [5, 0]\n",
      "곱하기 1개 - 조합: [2, 1]\n",
      "곱하기 1개 - 조합: [3, 1]\n",
      "곱하기 1개 - 조합: [4, 1]\n",
      "곱하기 1개 - 조합: [5, 1]\n",
      "곱하기 1개 - 조합: [3, 2]\n",
      "곱하기 1개 - 조합: [4, 2]\n",
      "곱하기 1개 - 조합: [5, 2]\n",
      "곱하기 1개 - 조합: [4, 3]\n",
      "곱하기 1개 - 조합: [5, 3]\n",
      "곱하기 1개 - 조합: [5, 4]\n",
      "곱하기 1개 - 조합: [2, 1, 0]\n",
      "곱하기 1개 - 조합: [3, 1, 0]\n",
      "곱하기 1개 - 조합: [4, 1, 0]\n",
      "곱하기 1개 - 조합: [5, 1, 0]\n",
      "곱하기 1개 - 조합: [3, 2, 0]\n",
      "곱하기 1개 - 조합: [4, 2, 0]\n",
      "곱하기 1개 - 조합: [5, 2, 0]\n",
      "곱하기 1개 - 조합: [4, 3, 0]\n",
      "곱하기 1개 - 조합: [5, 3, 0]\n",
      "곱하기 1개 - 조합: [5, 4, 0]\n",
      "곱하기 1개 - 조합: [3, 2, 1]\n",
      "곱하기 1개 - 조합: [4, 2, 1]\n",
      "곱하기 1개 - 조합: [5, 2, 1]\n",
      "곱하기 1개 - 조합: [4, 3, 1]\n",
      "곱하기 1개 - 조합: [5, 3, 1]\n",
      "곱하기 1개 - 조합: [5, 4, 1]\n",
      "곱하기 1개 - 조합: [4, 3, 2]\n",
      "곱하기 1개 - 조합: [5, 3, 2]\n",
      "곱하기 1개 - 조합: [5, 4, 2]\n",
      "곱하기 1개 - 조합: [5, 4, 3]\n",
      "곱하기 1개 - 조합: [3, 2, 1, 0]\n",
      "곱하기 1개 - 조합: [4, 2, 1, 0]\n",
      "곱하기 1개 - 조합: [5, 2, 1, 0]\n",
      "곱하기 1개 - 조합: [4, 3, 1, 0]\n",
      "곱하기 1개 - 조합: [5, 3, 1, 0]\n",
      "곱하기 1개 - 조합: [5, 4, 1, 0]\n",
      "곱하기 1개 - 조합: [4, 3, 2, 0]\n",
      "곱하기 1개 - 조합: [5, 3, 2, 0]\n",
      "곱하기 1개 - 조합: [5, 4, 2, 0]\n",
      "곱하기 1개 - 조합: [5, 4, 3, 0]\n",
      "곱하기 1개 - 조합: [4, 3, 2, 1]\n",
      "곱하기 1개 - 조합: [5, 3, 2, 1]\n",
      "곱하기 1개 - 조합: [5, 4, 2, 1]\n",
      "곱하기 1개 - 조합: [5, 4, 3, 1]\n",
      "곱하기 1개 - 조합: [5, 4, 3, 2]\n",
      "곱하기 1개 - 조합: [4, 3, 2, 1, 0]\n",
      "곱하기 1개 - 조합: [5, 3, 2, 1, 0]\n",
      "곱하기 1개 - 조합: [5, 4, 2, 1, 0]\n",
      "곱하기 1개 - 조합: [5, 4, 3, 1, 0]\n",
      "곱하기 1개 - 조합: [5, 4, 3, 2, 0]\n",
      "곱하기 1개 - 조합: [5, 4, 3, 2, 1]\n"
     ]
    }
   ],
   "source": [
    "dfs(1,a_cnt,arr) # 1, 곱하기 연산자 개수, arr 입력"
   ]
  },
  {
   "cell_type": "code",
   "execution_count": null,
   "id": "31572ec2",
   "metadata": {},
   "outputs": [],
   "source": []
  },
  {
   "cell_type": "markdown",
   "id": "a0931c72",
   "metadata": {},
   "source": [
    "## 다른사람풀이"
   ]
  },
  {
   "cell_type": "code",
   "execution_count": null,
   "id": "954c0d52",
   "metadata": {},
   "outputs": [],
   "source": [
    "from itertools import combinations\n",
    "\n",
    "def dfs(cu_val,cnt,pick_list):\n",
    "    global result\n",
    "    if cnt == 0:\n",
    "        result = max(result,cu_val*sum(pick_list))\n",
    "        return cu_val * sum(pick_list)\n",
    "    else:\n",
    "        idx_list = range(len(pick_list))\n",
    "        for pick_cnt in range(1,len(pick_list)-cnt+1):\n",
    "            for comb in combinations(idx_list,pick_cnt):\n",
    "                copy_pick_list = pick_list[:]\n",
    "                comb = list(reversed(comb))\n",
    "                temp_sum = 0\n",
    "                for idx in comb:\n",
    "                    temp_sum += copy_pick_list.pop(idx)                \n",
    "                dfs(cu_val*temp_sum,cnt-1,copy_pick_list)\n",
    "\n",
    "N = int(input())\n",
    "arr = list(map(int,input().split()))\n",
    "p_cnt,a_cnt = map(int,input().split())\n",
    "result = 0\n",
    "dfs(1,a_cnt,arr)"
   ]
  }
 ],
 "metadata": {
  "kernelspec": {
   "display_name": "Python 3",
   "language": "python",
   "name": "python3"
  },
  "language_info": {
   "codemirror_mode": {
    "name": "ipython",
    "version": 3
   },
   "file_extension": ".py",
   "mimetype": "text/x-python",
   "name": "python",
   "nbconvert_exporter": "python",
   "pygments_lexer": "ipython3",
   "version": "3.8.12"
  },
  "toc": {
   "base_numbering": 1,
   "nav_menu": {},
   "number_sections": true,
   "sideBar": true,
   "skip_h1_title": false,
   "title_cell": "Table of Contents",
   "title_sidebar": "Contents",
   "toc_cell": false,
   "toc_position": {},
   "toc_section_display": true,
   "toc_window_display": false
  }
 },
 "nbformat": 4,
 "nbformat_minor": 5
}
