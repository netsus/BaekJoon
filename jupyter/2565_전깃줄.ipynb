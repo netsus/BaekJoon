{
 "cells": [
  {
   "cell_type": "markdown",
   "id": "4d9ac08b",
   "metadata": {},
   "source": [
    "## 합친 풀이"
   ]
  },
  {
   "cell_type": "code",
   "execution_count": 1,
   "id": "2f2b3a53",
   "metadata": {
    "ExecuteTime": {
     "end_time": "2022-04-11T04:27:43.711182Z",
     "start_time": "2022-04-11T04:27:43.695157Z"
    }
   },
   "outputs": [],
   "source": [
    "from bisect import bisect_left\n",
    "\n",
    "n=int(input())\n",
    "cord=[]\n",
    "for i in range(n):\n",
    "    a,b = map(int,input().split())\n",
    "    cord.append((a,b))\n",
    "\n",
    "cord.sort() # A전봇대 기준 정렬\n",
    "lis=[]\n",
    "\n",
    "for _,b in cord:\n",
    "    idx = bisect_left(lis,b)\n",
    "    if idx == len(lis):\n",
    "        lis.append(b)\n",
    "    else:\n",
    "        lis[idx]=b\n",
    "\n",
    "print(len(cord)-len(lis))"
   ]
  },
  {
   "cell_type": "markdown",
   "id": "21c37bc7",
   "metadata": {},
   "source": [
    "## 풀이 쪼개기"
   ]
  },
  {
   "cell_type": "code",
   "execution_count": 1,
   "id": "c2ee189a",
   "metadata": {
    "ExecuteTime": {
     "end_time": "2022-04-11T04:27:43.711182Z",
     "start_time": "2022-04-11T04:27:43.695157Z"
    }
   },
   "outputs": [],
   "source": [
    "from bisect import bisect_left"
   ]
  },
  {
   "cell_type": "code",
   "execution_count": 2,
   "id": "e02d7633",
   "metadata": {
    "ExecuteTime": {
     "end_time": "2022-04-11T04:27:58.002518Z",
     "start_time": "2022-04-11T04:27:57.463165Z"
    }
   },
   "outputs": [
    {
     "name": "stdout",
     "output_type": "stream",
     "text": [
      "8\n"
     ]
    }
   ],
   "source": [
    "n=int(input())"
   ]
  },
  {
   "cell_type": "code",
   "execution_count": 3,
   "id": "5f866051",
   "metadata": {
    "ExecuteTime": {
     "end_time": "2022-04-11T04:28:38.843090Z",
     "start_time": "2022-04-11T04:28:23.963287Z"
    }
   },
   "outputs": [
    {
     "name": "stdout",
     "output_type": "stream",
     "text": [
      "1 8\n",
      "3 9\n",
      "2 2\n",
      "4 1\n",
      "6 4\n",
      "10 10\n",
      "9 7\n",
      "7 6\n"
     ]
    }
   ],
   "source": [
    "cord=[]\n",
    "for i in range(n):\n",
    "    a,b = map(int,input().split())\n",
    "    cord.append((a,b))"
   ]
  },
  {
   "cell_type": "code",
   "execution_count": 4,
   "id": "771202be",
   "metadata": {
    "ExecuteTime": {
     "end_time": "2022-04-11T04:28:41.422192Z",
     "start_time": "2022-04-11T04:28:41.402195Z"
    }
   },
   "outputs": [
    {
     "data": {
      "text/plain": [
       "[(1, 8), (3, 9), (2, 2), (4, 1), (6, 4), (10, 10), (9, 7), (7, 6)]"
      ]
     },
     "execution_count": 4,
     "metadata": {},
     "output_type": "execute_result"
    }
   ],
   "source": [
    "cord"
   ]
  },
  {
   "cell_type": "code",
   "execution_count": 5,
   "id": "7e7d881b",
   "metadata": {
    "ExecuteTime": {
     "end_time": "2022-04-11T04:28:52.191173Z",
     "start_time": "2022-04-11T04:28:52.178694Z"
    }
   },
   "outputs": [
    {
     "data": {
      "text/plain": [
       "[(1, 8), (2, 2), (3, 9), (4, 1), (6, 4), (7, 6), (9, 7), (10, 10)]"
      ]
     },
     "execution_count": 5,
     "metadata": {},
     "output_type": "execute_result"
    }
   ],
   "source": [
    "cord.sort() # A전봇대 기준 정렬\n",
    "cord"
   ]
  },
  {
   "cell_type": "code",
   "execution_count": 6,
   "id": "37c8fd07",
   "metadata": {
    "ExecuteTime": {
     "end_time": "2022-04-11T04:29:19.519097Z",
     "start_time": "2022-04-11T04:29:19.510148Z"
    }
   },
   "outputs": [],
   "source": [
    "lis=[]"
   ]
  },
  {
   "cell_type": "code",
   "execution_count": 7,
   "id": "cb35ff5e",
   "metadata": {
    "ExecuteTime": {
     "end_time": "2022-04-11T04:31:07.226522Z",
     "start_time": "2022-04-11T04:31:07.220059Z"
    }
   },
   "outputs": [],
   "source": [
    "for _,b in cord:\n",
    "    idx = bisect_left(lis,b)\n",
    "    if idx == len(lis):\n",
    "        lis.append(b)\n",
    "    else:\n",
    "        lis[idx]=b"
   ]
  },
  {
   "cell_type": "code",
   "execution_count": 9,
   "id": "90d32ba2",
   "metadata": {
    "ExecuteTime": {
     "end_time": "2022-04-11T04:31:56.180754Z",
     "start_time": "2022-04-11T04:31:56.172385Z"
    }
   },
   "outputs": [
    {
     "name": "stdout",
     "output_type": "stream",
     "text": [
      "3\n"
     ]
    }
   ],
   "source": [
    "print(len(cord)-len(lis))"
   ]
  },
  {
   "cell_type": "code",
   "execution_count": null,
   "id": "9c356a52",
   "metadata": {},
   "outputs": [],
   "source": []
  }
 ],
 "metadata": {
  "kernelspec": {
   "display_name": "Python 3",
   "language": "python",
   "name": "python3"
  },
  "language_info": {
   "codemirror_mode": {
    "name": "ipython",
    "version": 3
   },
   "file_extension": ".py",
   "mimetype": "text/x-python",
   "name": "python",
   "nbconvert_exporter": "python",
   "pygments_lexer": "ipython3",
   "version": "3.8.12"
  },
  "toc": {
   "base_numbering": 1,
   "nav_menu": {},
   "number_sections": true,
   "sideBar": true,
   "skip_h1_title": false,
   "title_cell": "Table of Contents",
   "title_sidebar": "Contents",
   "toc_cell": false,
   "toc_position": {},
   "toc_section_display": true,
   "toc_window_display": false
  }
 },
 "nbformat": 4,
 "nbformat_minor": 5
}
