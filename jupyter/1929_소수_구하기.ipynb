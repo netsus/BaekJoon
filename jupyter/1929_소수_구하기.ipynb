{
 "cells": [
  {
   "cell_type": "code",
   "execution_count": 8,
   "metadata": {
    "ExecuteTime": {
     "end_time": "2021-11-18T15:51:41.314533Z",
     "start_time": "2021-11-18T15:51:39.824762Z"
    }
   },
   "outputs": [],
   "source": [
    "import pandas as pd"
   ]
  },
  {
   "cell_type": "code",
   "execution_count": 13,
   "metadata": {
    "ExecuteTime": {
     "end_time": "2021-11-18T15:53:31.627320Z",
     "start_time": "2021-11-18T15:53:31.622321Z"
    }
   },
   "outputs": [],
   "source": [
    "n = 10"
   ]
  },
  {
   "cell_type": "code",
   "execution_count": 14,
   "metadata": {
    "ExecuteTime": {
     "end_time": "2021-11-18T15:53:32.719990Z",
     "start_time": "2021-11-18T15:53:32.653991Z"
    }
   },
   "outputs": [
    {
     "name": "stdout",
     "output_type": "stream",
     "text": [
      "2의 배수 지우기\n"
     ]
    },
    {
     "data": {
      "text/html": [
       "<div>\n",
       "<style scoped>\n",
       "    .dataframe tbody tr th:only-of-type {\n",
       "        vertical-align: middle;\n",
       "    }\n",
       "\n",
       "    .dataframe tbody tr th {\n",
       "        vertical-align: top;\n",
       "    }\n",
       "\n",
       "    .dataframe thead th {\n",
       "        text-align: right;\n",
       "    }\n",
       "</style>\n",
       "<table border=\"1\" class=\"dataframe\">\n",
       "  <thead>\n",
       "    <tr style=\"text-align: right;\">\n",
       "      <th></th>\n",
       "      <th>0</th>\n",
       "      <th>1</th>\n",
       "      <th>2</th>\n",
       "      <th>3</th>\n",
       "      <th>4</th>\n",
       "      <th>5</th>\n",
       "      <th>6</th>\n",
       "      <th>7</th>\n",
       "      <th>8</th>\n",
       "      <th>9</th>\n",
       "    </tr>\n",
       "  </thead>\n",
       "  <tbody>\n",
       "    <tr>\n",
       "      <th>0</th>\n",
       "      <td>True</td>\n",
       "      <td>True</td>\n",
       "      <td>True</td>\n",
       "      <td>True</td>\n",
       "      <td>False</td>\n",
       "      <td>True</td>\n",
       "      <td>False</td>\n",
       "      <td>True</td>\n",
       "      <td>False</td>\n",
       "      <td>True</td>\n",
       "    </tr>\n",
       "  </tbody>\n",
       "</table>\n",
       "</div>"
      ],
      "text/plain": [
       "      0     1     2     3      4     5      6     7      8     9\n",
       "0  True  True  True  True  False  True  False  True  False  True"
      ]
     },
     "metadata": {},
     "output_type": "display_data"
    },
    {
     "name": "stdout",
     "output_type": "stream",
     "text": [
      "3의 배수 지우기\n"
     ]
    },
    {
     "data": {
      "text/html": [
       "<div>\n",
       "<style scoped>\n",
       "    .dataframe tbody tr th:only-of-type {\n",
       "        vertical-align: middle;\n",
       "    }\n",
       "\n",
       "    .dataframe tbody tr th {\n",
       "        vertical-align: top;\n",
       "    }\n",
       "\n",
       "    .dataframe thead th {\n",
       "        text-align: right;\n",
       "    }\n",
       "</style>\n",
       "<table border=\"1\" class=\"dataframe\">\n",
       "  <thead>\n",
       "    <tr style=\"text-align: right;\">\n",
       "      <th></th>\n",
       "      <th>0</th>\n",
       "      <th>1</th>\n",
       "      <th>2</th>\n",
       "      <th>3</th>\n",
       "      <th>4</th>\n",
       "      <th>5</th>\n",
       "      <th>6</th>\n",
       "      <th>7</th>\n",
       "      <th>8</th>\n",
       "      <th>9</th>\n",
       "    </tr>\n",
       "  </thead>\n",
       "  <tbody>\n",
       "    <tr>\n",
       "      <th>0</th>\n",
       "      <td>True</td>\n",
       "      <td>True</td>\n",
       "      <td>True</td>\n",
       "      <td>True</td>\n",
       "      <td>False</td>\n",
       "      <td>True</td>\n",
       "      <td>False</td>\n",
       "      <td>True</td>\n",
       "      <td>False</td>\n",
       "      <td>True</td>\n",
       "    </tr>\n",
       "    <tr>\n",
       "      <th>1</th>\n",
       "      <td>True</td>\n",
       "      <td>True</td>\n",
       "      <td>True</td>\n",
       "      <td>True</td>\n",
       "      <td>False</td>\n",
       "      <td>True</td>\n",
       "      <td>False</td>\n",
       "      <td>True</td>\n",
       "      <td>False</td>\n",
       "      <td>False</td>\n",
       "    </tr>\n",
       "  </tbody>\n",
       "</table>\n",
       "</div>"
      ],
      "text/plain": [
       "      0     1     2     3      4     5      6     7      8      9\n",
       "0  True  True  True  True  False  True  False  True  False   True\n",
       "1  True  True  True  True  False  True  False  True  False  False"
      ]
     },
     "metadata": {},
     "output_type": "display_data"
    }
   ],
   "source": [
    "## 에라토스체 시각화\n",
    "df = pd.DataFrame(columns=range(n))\n",
    "\n",
    "sieve = [True] * n\n",
    "\n",
    "m = int(n ** 0.5) + 1\n",
    "for i in range(2, m):\n",
    "    if sieve[i] == True:\n",
    "        print(f\"{i}의 배수 지우기\")\n",
    "        for j in range(i+i, n, i):\n",
    "            sieve[j]=False\n",
    "    df.loc[len(df)] = sieve\n",
    "    display(df)\n",
    "    \n",
    "# 소수 목록 산출\n",
    "# return [i for i in range(2, n) if sieve[i] == True]"
   ]
  },
  {
   "cell_type": "code",
   "execution_count": 18,
   "metadata": {
    "ExecuteTime": {
     "end_time": "2021-11-18T16:11:18.951668Z",
     "start_time": "2021-11-18T16:11:18.934669Z"
    }
   },
   "outputs": [
    {
     "data": {
      "text/plain": [
       "[2, 3, 5, 7]"
      ]
     },
     "execution_count": 18,
     "metadata": {},
     "output_type": "execute_result"
    }
   ],
   "source": [
    "sieve=[True]*n # 체 초기화 (0부터 n-1 까지)\n",
    "\n",
    "m = int(n ** 0.5) + 1 # sqrt(n)+1 까지만 반복하면된다. \n",
    "for i in range(2,m): # 소수는 2부터\n",
    "    if sieve[i] == True: # 소수이면\n",
    "        for j in range(i+i, n, i): # i의 2배수부터, 모든 배수 제거\n",
    "            sieve[j] = False\n",
    "[i for i in range(2,n) if sieve[i] == True]         "
   ]
  },
  {
   "cell_type": "code",
   "execution_count": 19,
   "metadata": {
    "ExecuteTime": {
     "end_time": "2021-11-18T16:11:24.343521Z",
     "start_time": "2021-11-18T16:11:24.334526Z"
    }
   },
   "outputs": [],
   "source": [
    "def eratos(n):\n",
    "    sieve=[True]*n # 체 초기화 (0부터 n-1 까지)\n",
    "\n",
    "    m = int(n ** 0.5) + 1 # sqrt(n)+1 까지만 반복하면된다. \n",
    "    for i in range(2,m): # 소수는 2부터\n",
    "        if sieve[i] == True: # 소수이면\n",
    "            for j in range(i+i, n, i): # i의 2배수부터, 모든 배수 제거\n",
    "                sieve[j] = False\n",
    "    return [i for i in range(2,n) if sieve[i] == True]"
   ]
  },
  {
   "cell_type": "markdown",
   "metadata": {},
   "source": [
    "에라토스를 약간 응용하여 문제풀기"
   ]
  },
  {
   "cell_type": "code",
   "execution_count": 45,
   "metadata": {
    "ExecuteTime": {
     "end_time": "2021-11-18T16:18:34.427042Z",
     "start_time": "2021-11-18T16:18:34.419036Z"
    }
   },
   "outputs": [],
   "source": [
    "def eratos_mn(m,n):\n",
    "    N=n+1;M=m\n",
    "    sieve=[True]*N # 체 초기화 (0부터 n-1 까지)\n",
    "\n",
    "    m = int(N ** 0.5) + 1 # sqrt(n)+1 까지만 반복하면된다. \n",
    "    for i in range(2,m): # 소수는 2부터\n",
    "        if sieve[i] == True: # 소수이면\n",
    "            for j in range(i+i, N, i): # i의 2배수부터, 모든 배수 제거\n",
    "                sieve[j] = False\n",
    "    \n",
    "    return [i for i in range(2,N) if (sieve[i] == True) and (i >= M)]\n",
    "\n",
    "M,N=map(int,input().split())\n",
    "print(*eratos_mn(M,N),sep='\\n')"
   ]
  }
 ],
 "metadata": {
  "kernelspec": {
   "display_name": "Python 3",
   "language": "python",
   "name": "python3"
  },
  "language_info": {
   "codemirror_mode": {
    "name": "ipython",
    "version": 3
   },
   "file_extension": ".py",
   "mimetype": "text/x-python",
   "name": "python",
   "nbconvert_exporter": "python",
   "pygments_lexer": "ipython3",
   "version": "3.8.5"
  },
  "toc": {
   "base_numbering": 1,
   "nav_menu": {},
   "number_sections": true,
   "sideBar": true,
   "skip_h1_title": false,
   "title_cell": "Table of Contents",
   "title_sidebar": "Contents",
   "toc_cell": false,
   "toc_position": {},
   "toc_section_display": true,
   "toc_window_display": false
  }
 },
 "nbformat": 4,
 "nbformat_minor": 4
}
