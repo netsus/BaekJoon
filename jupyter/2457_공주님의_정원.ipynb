{
 "cells": [
  {
   "cell_type": "markdown",
   "id": "0e4c9d43",
   "metadata": {},
   "source": [
    "### 문제\n"
   ]
  },
  {
   "cell_type": "code",
   "execution_count": 1,
   "id": "fc6e3ac9",
   "metadata": {
    "ExecuteTime": {
     "end_time": "2022-12-19T14:37:47.322692Z",
     "start_time": "2022-12-19T14:37:47.187579Z"
    }
   },
   "outputs": [],
   "source": [
    "! # 시작시간 체크"
   ]
  },
  {
   "cell_type": "markdown",
   "id": "4cf97a5d",
   "metadata": {},
   "source": [
    "상상 코딩\n",
    "    \n",
    "    주어진 꽃들에 대해 월일을 4자리 정수로 만들고, 정렬한다.\n",
    "    3월 1일이 포함되는 시작날짜중 끝날짜가 가장 먼녀석을 초기값으로 고른다. -> 끝날짜 저장\n",
    "    그 이후에는 while 문으로 해당 끝날짜 전에 시작하는 날짜중, 끝날짜가 가장큰거 저장 -> 반복"
   ]
  },
  {
   "cell_type": "code",
   "execution_count": null,
   "id": "50c1b0eb",
   "metadata": {},
   "outputs": [],
   "source": [
    "! # 끝 시간 체크"
   ]
  },
  {
   "cell_type": "markdown",
   "id": "88b63096",
   "metadata": {},
   "source": [
    "### 풀이"
   ]
  },
  {
   "cell_type": "code",
   "execution_count": null,
   "id": "77ded1f0",
   "metadata": {},
   "outputs": [],
   "source": [
    "import sys\n",
    "input=sys.stdin.readline\n",
    "N=int(input())\n",
    "li = [input().rstrip() for i in range(N)]\n",
    "dates=[]\n",
    "for d in li:\n",
    "    s_m,s_d,e_m,e_d=map(lambda x: x.zfill(2), d.split())\n",
    "    dates.append((s_m+s_d,e_m+e_d))\n",
    "dates.sort()\n",
    "ans=i=0\n",
    "tmp=prev_end=\"0301\"\n",
    "while i<N:\n",
    "    if dates[i][0]>prev_end:\n",
    "        break\n",
    "    while i<N and dates[i][0] <= prev_end:\n",
    "        tmp=max(tmp,dates[i][1])\n",
    "        i+=1\n",
    "    ans+=1\n",
    "    prev_end=tmp\n",
    "    if prev_end>\"1130\":\n",
    "        break\n",
    "print(ans if \"1201\" <= prev_end else 0)"
   ]
  },
  {
   "cell_type": "markdown",
   "id": "c73eee2a",
   "metadata": {},
   "source": [
    "### 주석 달린 풀이"
   ]
  },
  {
   "cell_type": "code",
   "execution_count": null,
   "id": "2cc2ecef",
   "metadata": {
    "ExecuteTime": {
     "end_time": "2022-12-19T16:25:29.442371Z",
     "start_time": "2022-12-19T16:24:57.900409Z"
    }
   },
   "outputs": [],
   "source": [
    "import sys\n",
    "# input=sys.stdin.readline\n",
    "N=int(input())\n",
    "li = [input().rstrip() for i in range(N)]\n",
    "dates=[]\n",
    "for d in li:\n",
    "    s_m,s_d,e_m,e_d=map(lambda x: x.zfill(2), d.split())\n",
    "    dates.append((s_m+s_d,e_m+e_d))\n",
    "dates.sort()\n",
    "\n",
    "ans=i=0\n",
    "tmp=prev_end=\"0301\"\n",
    "\n",
    "while i<N:\n",
    "    if dates[i][0]>prev_end: # 이부분 없으면 시간 초과 발생\n",
    "        break\n",
    "    while i<N and dates[i][0] <= prev_end:\n",
    "        tmp=max(tmp,dates[i][1])\n",
    "        i+=1\n",
    "    ans+=1\n",
    "    prev_end=tmp\n",
    "    if prev_end>\"1130\":\n",
    "        break\n",
    "\n",
    "print(ans if \"1201\" <= prev_end else 0)"
   ]
  },
  {
   "cell_type": "markdown",
   "id": "8ed2b958",
   "metadata": {},
   "source": [
    "### 연습"
   ]
  },
  {
   "cell_type": "code",
   "execution_count": 64,
   "id": "ec705ae9",
   "metadata": {
    "ExecuteTime": {
     "end_time": "2022-12-19T15:35:40.735763Z",
     "start_time": "2022-12-19T15:35:40.730407Z"
    }
   },
   "outputs": [],
   "source": [
    "N=4\n",
    "\n",
    "li = [i for i in \"\"\"1 1 5 31\n",
    "1 1 6 30\n",
    "5 15 8 31\n",
    "6 10 12 10\"\"\".split('\\n')]"
   ]
  },
  {
   "cell_type": "code",
   "execution_count": 105,
   "id": "12679524",
   "metadata": {
    "ExecuteTime": {
     "end_time": "2022-12-19T16:21:48.051299Z",
     "start_time": "2022-12-19T16:21:48.045526Z"
    }
   },
   "outputs": [],
   "source": [
    "N=10\n",
    "\n",
    "li = [i for i in \"\"\"3 1 3 23\n",
    "4 12 6 5\n",
    "5 2 5 31\n",
    "9 14 12 24\n",
    "6 15 9 3\n",
    "6 3 6 15\n",
    "3 1 4 25\n",
    "6 15 9 27\n",
    "10 5 12 31\n",
    "7 14 9 1\"\"\".split('\\n')]"
   ]
  },
  {
   "cell_type": "code",
   "execution_count": 106,
   "id": "9ff5da13",
   "metadata": {
    "ExecuteTime": {
     "end_time": "2022-12-19T16:21:48.384275Z",
     "start_time": "2022-12-19T16:21:48.373562Z"
    }
   },
   "outputs": [
    {
     "data": {
      "text/plain": [
       "[('0301', '0323'),\n",
       " ('0301', '0425'),\n",
       " ('0412', '0605'),\n",
       " ('0502', '0531'),\n",
       " ('0603', '0615'),\n",
       " ('0615', '0903'),\n",
       " ('0615', '0927'),\n",
       " ('0714', '0901'),\n",
       " ('0914', '1224'),\n",
       " ('1005', '1231')]"
      ]
     },
     "execution_count": 106,
     "metadata": {},
     "output_type": "execute_result"
    }
   ],
   "source": [
    "dates=[]\n",
    "\n",
    "for d in li:\n",
    "    s_m,s_d,e_m,e_d=map(lambda x: x.zfill(2), d.split())\n",
    "    dates.append((s_m+s_d,e_m+e_d))\n",
    "\n",
    "dates.sort()\n",
    "\n",
    "dates"
   ]
  },
  {
   "cell_type": "code",
   "execution_count": 107,
   "id": "4fc659e8",
   "metadata": {
    "ExecuteTime": {
     "end_time": "2022-12-19T16:21:49.178293Z",
     "start_time": "2022-12-19T16:21:49.171219Z"
    }
   },
   "outputs": [
    {
     "name": "stdout",
     "output_type": "stream",
     "text": [
      "5\n"
     ]
    }
   ],
   "source": [
    "ans=i=0\n",
    "tmp=prev_end=\"0301\"\n",
    "\n",
    "while i<N:\n",
    "    if dates[i][0]>prev_end:\n",
    "        break\n",
    "    while c<N and dates[i][0] <= prev_end:\n",
    "        tmp=max(tmp,dates[i][1])\n",
    "        i+=1\n",
    "    ans+=1\n",
    "    prev_end=tmp\n",
    "    if prev_end>\"1130\":\n",
    "        break\n",
    "\n",
    "print(ans if \"1201\" <= prev_end else 0)"
   ]
  },
  {
   "cell_type": "code",
   "execution_count": 100,
   "id": "9f5aec5e",
   "metadata": {
    "ExecuteTime": {
     "end_time": "2022-12-19T16:10:26.682034Z",
     "start_time": "2022-12-19T16:10:26.662449Z"
    }
   },
   "outputs": [
    {
     "data": {
      "text/plain": [
       "5"
      ]
     },
     "execution_count": 100,
     "metadata": {},
     "output_type": "execute_result"
    }
   ],
   "source": [
    "ans"
   ]
  }
 ],
 "metadata": {
  "kernelspec": {
   "display_name": "Python 3",
   "language": "python",
   "name": "python3"
  },
  "language_info": {
   "codemirror_mode": {
    "name": "ipython",
    "version": 3
   },
   "file_extension": ".py",
   "mimetype": "text/x-python",
   "name": "python",
   "nbconvert_exporter": "python",
   "pygments_lexer": "ipython3",
   "version": "3.8.12"
  },
  "toc": {
   "base_numbering": 1,
   "nav_menu": {},
   "number_sections": true,
   "sideBar": true,
   "skip_h1_title": false,
   "title_cell": "Table of Contents",
   "title_sidebar": "Contents",
   "toc_cell": false,
   "toc_position": {},
   "toc_section_display": true,
   "toc_window_display": false
  }
 },
 "nbformat": 4,
 "nbformat_minor": 5
}
