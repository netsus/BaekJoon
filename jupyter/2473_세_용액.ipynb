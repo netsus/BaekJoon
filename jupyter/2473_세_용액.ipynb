{
 "cells": [
  {
   "cell_type": "markdown",
   "id": "8ba60706",
   "metadata": {},
   "source": [
    "문제: N(3<=N<=5000)이 주어지고, 다음줄에 N개의 용액 산성도(-10억~10억)가 주어진다.<br>\n",
    "N개중 3개의 용액을 더해서 0에 가장가까운 용액을 만드는 경우의 산성도를 오름차순으로 출력하라.(여러개인 경우 아무거나 출력)\n",
    "\n",
    "    입력\n",
    "    첫째 줄에는 전체 용액의 수 N이 입력된다. N은 3 이상 5,000 이하의 정수이다. 둘째 줄에는 용액의 특성값을 나타내는 N개의 정수가 빈칸을 사이에 두고 주어진다. 이 수들은 모두 -1,000,000,000 이상 1,000,000,000 이하이다. N개의 용액들의 특성값은 모두 다르고, 산성 용액만으로나 알칼리성 용액만으로 입력이 주어지는 경우도 있을 수 있다.\n",
    "\n",
    "    출력\n",
    "    첫째 줄에 특성값이 0에 가장 가까운 용액을 만들어내는 세 용액의 특성값을 출력한다. 출력해야하는 세 용액은 특성값의 오름차순으로 출력한다. 특성값이 0에 가장 가까운 용액을 만들어내는 경우가 두 개 이상일 경우에는 그 중 아무것이나 하나를 출력한다.\n",
    "\n",
    "\n",
    "<img src=https://blog.kakaocdn.net/dn/eigC2o/btrCTGRI1uS/BbgrvrQXNPNXZvgLJWH6K1/img.png width=1200>"
   ]
  },
  {
   "cell_type": "markdown",
   "id": "577bf6cb",
   "metadata": {},
   "source": [
    "어떤 자료형으로 어떻게?\n",
    "3개를 골라서 0에 가장 가깝게 만들어야 한다. 조합으로 풀면 시간초과가 날것같다. 이걸 이진탐색으로 어떻게 풀까? 파라메트릭 서치. 이진탐색을 예, 아니오로 바꾸는 방법으로 해야할까?\n",
    "첫번째 문제에선 -97 -2 98을 골라서 -1을 찾았다.\n",
    "\n",
    "    상상코딩: 주어진 리스트를 오름차순으로 정렬해서, 3개의 합에 대해 인덱스를 이용해 이진탐색을 해야할거같은데, 구체적인 방법은 잘 모르겠다."
   ]
  },
  {
   "cell_type": "markdown",
   "id": "3b68bd4e",
   "metadata": {},
   "source": [
    "## 정답풀이 읽은 후 내 풀이"
   ]
  },
  {
   "cell_type": "code",
   "execution_count": 6,
   "id": "e98d4897",
   "metadata": {
    "ExecuteTime": {
     "end_time": "2022-05-23T11:13:17.247052Z",
     "start_time": "2022-05-23T11:13:17.240594Z"
    }
   },
   "outputs": [],
   "source": [
    "import sys"
   ]
  },
  {
   "cell_type": "code",
   "execution_count": 3,
   "id": "0669d03c",
   "metadata": {
    "ExecuteTime": {
     "end_time": "2022-05-23T11:12:12.295107Z",
     "start_time": "2022-05-23T11:12:04.769734Z"
    }
   },
   "outputs": [
    {
     "name": "stdout",
     "output_type": "stream",
     "text": [
      "5\n",
      "-2 6 -97 -6 98\n"
     ]
    }
   ],
   "source": [
    "n=int(input())\n",
    "li=sorted(list(map(int,input().split()))) # 리스트 받고, 바로 정렬"
   ]
  },
  {
   "cell_type": "code",
   "execution_count": 16,
   "id": "fed2444e",
   "metadata": {
    "ExecuteTime": {
     "end_time": "2022-05-23T11:37:49.776966Z",
     "start_time": "2022-05-23T11:37:49.770364Z"
    }
   },
   "outputs": [],
   "source": [
    "n, li = (5, [-97, -6, -2, 6, 98])"
   ]
  },
  {
   "cell_type": "code",
   "execution_count": 7,
   "id": "bf30052f",
   "metadata": {
    "ExecuteTime": {
     "end_time": "2022-05-23T11:14:22.621710Z",
     "start_time": "2022-05-23T11:14:22.617676Z"
    }
   },
   "outputs": [],
   "source": [
    "val=sys.maxsize"
   ]
  },
  {
   "cell_type": "code",
   "execution_count": 9,
   "id": "9df029b4",
   "metadata": {
    "ExecuteTime": {
     "end_time": "2022-05-23T11:20:51.513366Z",
     "start_time": "2022-05-23T11:20:51.503315Z"
    }
   },
   "outputs": [],
   "source": [
    "for i in range(n-2):\n",
    "    fix=li.pop()\n",
    "    start=i+1\n",
    "    end=len(li)-1\n",
    "    while start < end:\n",
    "        cur_li = [li[fix], li[start], li[end]]\n",
    "        cur_val = sum(cur_li)\n",
    "        if abs(cur_val) < abs(val):\n",
    "            val = cur_val\n",
    "            result = cur_li\n",
    "        if cur_val < 0:\n",
    "            start+=1\n",
    "        elif cur_val > 0:\n",
    "            end-=1\n",
    "        else:\n",
    "            break"
   ]
  },
  {
   "cell_type": "code",
   "execution_count": 10,
   "id": "86ed01e0",
   "metadata": {
    "ExecuteTime": {
     "end_time": "2022-05-23T11:20:59.601411Z",
     "start_time": "2022-05-23T11:20:59.591024Z"
    }
   },
   "outputs": [
    {
     "data": {
      "text/plain": [
       "[-97, -2, 98]"
      ]
     },
     "execution_count": 10,
     "metadata": {},
     "output_type": "execute_result"
    }
   ],
   "source": [
    "result"
   ]
  },
  {
   "cell_type": "code",
   "execution_count": 12,
   "id": "90b704f8",
   "metadata": {
    "ExecuteTime": {
     "end_time": "2022-05-23T11:24:23.569054Z",
     "start_time": "2022-05-23T11:24:14.010210Z"
    }
   },
   "outputs": [
    {
     "name": "stdout",
     "output_type": "stream",
     "text": [
      "7\n",
      "-2 -3 -24 -6 98 100 61\n",
      "-6 -3 -2\n"
     ]
    }
   ],
   "source": [
    "import sys\n",
    "input=sys.stdin.readline\n",
    "n=int(input())\n",
    "li=sorted(list(map(int,input().split()))) # 리스트 받고, 바로 정렬\n",
    "\n",
    "val=sys.maxsize\n",
    "for i in range(n-2):\n",
    "    fix=li.pop()\n",
    "    start,end=0,len(li)-1\n",
    "    while start < end:\n",
    "        cur_val = li[start] + li[end] + fix\n",
    "        if abs(cur_val) < val:\n",
    "            val = abs(cur_val)\n",
    "            result = li[start], li[end], fix\n",
    "        if cur_val < 0:\n",
    "            start+=1\n",
    "        elif cur_val > 0:\n",
    "            end-=1\n",
    "        else:\n",
    "            print(*result)\n",
    "            sys.exit()\n",
    "print(*result)"
   ]
  },
  {
   "cell_type": "markdown",
   "id": "8df7cf59",
   "metadata": {},
   "source": [
    "### pop 풀이"
   ]
  },
  {
   "cell_type": "code",
   "execution_count": 38,
   "id": "b8b7c97e",
   "metadata": {
    "ExecuteTime": {
     "end_time": "2022-05-23T13:39:49.121982Z",
     "start_time": "2022-05-23T13:39:49.102334Z"
    }
   },
   "outputs": [
    {
     "data": {
      "text/plain": [
       "[-97, -6, -2, 6, 98]"
      ]
     },
     "execution_count": 38,
     "metadata": {},
     "output_type": "execute_result"
    }
   ],
   "source": [
    "li"
   ]
  },
  {
   "cell_type": "code",
   "execution_count": 12,
   "id": "947a8799",
   "metadata": {
    "ExecuteTime": {
     "end_time": "2022-05-23T11:24:23.569054Z",
     "start_time": "2022-05-23T11:24:14.010210Z"
    }
   },
   "outputs": [
    {
     "name": "stdout",
     "output_type": "stream",
     "text": [
      "7\n",
      "-2 -3 -24 -6 98 100 61\n",
      "-6 -3 -2\n"
     ]
    }
   ],
   "source": [
    "import sys\n",
    "input=sys.stdin.readline\n",
    "def main():\n",
    "    n=int(input())\n",
    "    li=sorted(list(map(int,input().split()))) # 리스트 받고, 바로 정렬\n",
    "\n",
    "    val=sys.maxsize\n",
    "    for i in range(n-2):\n",
    "        fix=li.pop()\n",
    "        start,end=0,len(li)-1\n",
    "        while start < end:\n",
    "            cur_val = li[start] + li[end] + fix\n",
    "            if abs(cur_val) < val:\n",
    "                val = abs(cur_val)\n",
    "                result = li[start], li[end], fix\n",
    "            if cur_val < 0:\n",
    "                start+=1\n",
    "            elif cur_val > 0:\n",
    "                end-=1\n",
    "            else:\n",
    "                print(*result)\n",
    "                sys.exit()\n",
    "    print(*result)\n",
    "if __name__ == '__main__':\n",
    "    main()"
   ]
  },
  {
   "cell_type": "markdown",
   "id": "53652168",
   "metadata": {},
   "source": [
    "### fix 풀이 - 더 쉬움 (제출통과확인)"
   ]
  },
  {
   "cell_type": "code",
   "execution_count": null,
   "id": "56bdc0ca",
   "metadata": {},
   "outputs": [],
   "source": [
    "import sys\n",
    "input=sys.stdin.readline\n",
    "def main():\n",
    "    n=int(input())\n",
    "    li=sorted(list(map(int,input().split()))) # 리스트 받고, 바로 정렬\n",
    "\n",
    "    val=sys.maxsize\n",
    "    for i in range(n-2):\n",
    "        fix=i\n",
    "        start,end = i+1,n-1\n",
    "        while start < end:\n",
    "            cur_val = li[fix] + li[start] + li[end]\n",
    "            if abs(cur_val) < val:\n",
    "                val = abs(cur_val)\n",
    "                result = li[fix], li[start], li[end]\n",
    "            if cur_val < 0:\n",
    "                start+=1\n",
    "            elif cur_val > 0:\n",
    "                end-=1\n",
    "            else:\n",
    "                print(*result)\n",
    "                sys.exit()\n",
    "    print(*result)\n",
    "if __name__ == '__main__':\n",
    "    main()"
   ]
  },
  {
   "cell_type": "markdown",
   "id": "30da0730",
   "metadata": {},
   "source": [
    "### 설명용 풀이"
   ]
  },
  {
   "cell_type": "code",
   "execution_count": null,
   "id": "56beb7e8",
   "metadata": {},
   "outputs": [],
   "source": [
    "import sys\n",
    "input=sys.stdin.readline\n",
    "n=int(input())\n",
    "li=sorted(list(map(int,input().split()))) # 리스트 받고, 바로 정렬\n",
    "\n",
    "val=sys.maxsize\n",
    "for i in range(n-2):\n",
    "    fix=i\n",
    "    start,end = i+1,n-1\n",
    "    while start < end:\n",
    "        cur_val = li[fix] + li[start] + li[end]\n",
    "        if abs(cur_val) < val:\n",
    "            val = abs(cur_val)\n",
    "            result = li[fix], li[start], li[end]\n",
    "        if cur_val < 0:\n",
    "            start+=1\n",
    "        elif cur_val > 0:\n",
    "            end-=1\n",
    "        else:\n",
    "            print(*result)\n",
    "            sys.exit()\n",
    "print(*result)"
   ]
  },
  {
   "cell_type": "markdown",
   "id": "8639743f",
   "metadata": {},
   "source": [
    "### 내 풀이 쪼개기"
   ]
  },
  {
   "cell_type": "code",
   "execution_count": 20,
   "id": "351cf03c",
   "metadata": {
    "ExecuteTime": {
     "end_time": "2022-05-23T11:59:43.258743Z",
     "start_time": "2022-05-23T11:59:28.858468Z"
    }
   },
   "outputs": [
    {
     "name": "stdout",
     "output_type": "stream",
     "text": [
      "5\n",
      "-2 6 -97 -6 98\n"
     ]
    }
   ],
   "source": [
    "import sys\n",
    "# input=sys.stdin.readline\n",
    "n=int(input())\n",
    "li=sorted(list(map(int,input().split()))) # 리스트 받고, 바로 정렬"
   ]
  },
  {
   "cell_type": "code",
   "execution_count": 21,
   "id": "75deb3ff",
   "metadata": {
    "ExecuteTime": {
     "end_time": "2022-05-23T11:59:45.601445Z",
     "start_time": "2022-05-23T11:59:45.591522Z"
    }
   },
   "outputs": [
    {
     "data": {
      "text/plain": [
       "(5, [-97, -6, -2, 6, 98])"
      ]
     },
     "execution_count": 21,
     "metadata": {},
     "output_type": "execute_result"
    }
   ],
   "source": [
    "n, li"
   ]
  },
  {
   "cell_type": "code",
   "execution_count": 26,
   "id": "b8341fe7",
   "metadata": {
    "ExecuteTime": {
     "end_time": "2022-05-23T13:30:42.039706Z",
     "start_time": "2022-05-23T13:30:42.025966Z"
    }
   },
   "outputs": [
    {
     "data": {
      "text/plain": [
       "[0, 1, 2]"
      ]
     },
     "execution_count": 26,
     "metadata": {},
     "output_type": "execute_result"
    }
   ],
   "source": [
    "list(range(n-2))"
   ]
  },
  {
   "cell_type": "code",
   "execution_count": 31,
   "id": "cc94fe59",
   "metadata": {
    "ExecuteTime": {
     "end_time": "2022-05-23T13:33:36.188850Z",
     "start_time": "2022-05-23T13:33:36.177996Z"
    }
   },
   "outputs": [
    {
     "name": "stdout",
     "output_type": "stream",
     "text": [
      "-97 -2 98\n"
     ]
    }
   ],
   "source": [
    "val=sys.maxsize\n",
    "for i in range(n-2):\n",
    "    fix=i\n",
    "    start=i+1\n",
    "    end=n-1\n",
    "    while start < end:\n",
    "        cur_val = li[fix] + li[start] + li[end]\n",
    "        if abs(cur_val) < val:\n",
    "            val = abs(cur_val)\n",
    "            result = li[fix], li[start], li[end]\n",
    "        if cur_val < 0:\n",
    "            start+=1\n",
    "        elif cur_val > 0:\n",
    "            end-=1\n",
    "        else:\n",
    "            print(*result)\n",
    "            sys.exit()\n",
    "print(*result)"
   ]
  },
  {
   "cell_type": "code",
   "execution_count": 32,
   "id": "30800db1",
   "metadata": {
    "ExecuteTime": {
     "end_time": "2022-05-23T13:33:39.604729Z",
     "start_time": "2022-05-23T13:33:39.588237Z"
    }
   },
   "outputs": [
    {
     "data": {
      "text/plain": [
       "(-97, -2, 98)"
      ]
     },
     "execution_count": 32,
     "metadata": {},
     "output_type": "execute_result"
    }
   ],
   "source": [
    "result"
   ]
  },
  {
   "cell_type": "markdown",
   "id": "bd82bb4c",
   "metadata": {},
   "source": [
    "## 숏코딩"
   ]
  },
  {
   "cell_type": "code",
   "execution_count": null,
   "id": "8acc1424",
   "metadata": {},
   "outputs": [],
   "source": [
    "import sys\n",
    "ip=sys.stdin.readline\n",
    "def m():\n",
    "    n=int(ip());l=sorted(list(map(int,ip().split())))\n",
    "    v=9**50\n",
    "    for i in range(n-2):\n",
    "        s,e=i+1,n-1\n",
    "        while s<e:\n",
    "            c=l[i]+l[s]+l[e]\n",
    "            if abs(c)<v:\n",
    "                v=abs(c)\n",
    "                r=l[i],l[s],l[e]\n",
    "            if c<0:s+=1\n",
    "            elif c>0:e-=1\n",
    "            else:print(*r);sys.exit()\n",
    "    print(*r)\n",
    "if __name__=='__main__':m()"
   ]
  },
  {
   "cell_type": "markdown",
   "id": "a42c67b3",
   "metadata": {},
   "source": [
    "## 정답풀이"
   ]
  },
  {
   "cell_type": "code",
   "execution_count": null,
   "id": "afe6bf80",
   "metadata": {},
   "outputs": [],
   "source": [
    "import sys\n",
    "input = sys.stdin.readline\n",
    "\n",
    "n = int(input())\n",
    "a = sorted(list(map(int,input().split())))\n",
    "mindiff,r = float(\"inf\"),[]\n",
    "\n",
    "# 한 용액을 미리 선택\n",
    "for k in range(n-2):\n",
    "    a3 = a.pop()\n",
    "\n",
    "    # 투 포인터 진행\n",
    "    i,j = 0,len(a)-1\n",
    "    while(i!=j):\n",
    "        summ = a3+a[i]+a[j]\n",
    "        if mindiff > abs(summ):\n",
    "            mindiff = abs(summ)\n",
    "            r = [a3,a[i],a[j]]\n",
    "\n",
    "        if summ < mindiff:\n",
    "            i+=1\n",
    "        else:\n",
    "            j-=1\n",
    "\n",
    "        if mindiff == 0:\n",
    "            print(*sorted(r))\n",
    "            sys.exit()\n",
    "print(*sorted(r))"
   ]
  }
 ],
 "metadata": {
  "kernelspec": {
   "display_name": "Python 3",
   "language": "python",
   "name": "python3"
  },
  "language_info": {
   "codemirror_mode": {
    "name": "ipython",
    "version": 3
   },
   "file_extension": ".py",
   "mimetype": "text/x-python",
   "name": "python",
   "nbconvert_exporter": "python",
   "pygments_lexer": "ipython3",
   "version": "3.8.12"
  },
  "toc": {
   "base_numbering": 1,
   "nav_menu": {},
   "number_sections": true,
   "sideBar": true,
   "skip_h1_title": false,
   "title_cell": "Table of Contents",
   "title_sidebar": "Contents",
   "toc_cell": false,
   "toc_position": {},
   "toc_section_display": true,
   "toc_window_display": false
  }
 },
 "nbformat": 4,
 "nbformat_minor": 5
}
