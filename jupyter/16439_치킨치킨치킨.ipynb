{
 "cells": [
  {
   "cell_type": "markdown",
   "id": "0e4c9d43",
   "metadata": {},
   "source": [
    "### 문제\n"
   ]
  },
  {
   "cell_type": "code",
   "execution_count": null,
   "id": "fc6e3ac9",
   "metadata": {},
   "outputs": [],
   "source": [
    "! # 시작시간 체크"
   ]
  },
  {
   "cell_type": "code",
   "execution_count": null,
   "id": "50c1b0eb",
   "metadata": {},
   "outputs": [],
   "source": [
    "! # 끝 시간 체크"
   ]
  },
  {
   "cell_type": "markdown",
   "id": "88b63096",
   "metadata": {},
   "source": [
    "### 풀이"
   ]
  },
  {
   "cell_type": "code",
   "execution_count": null,
   "id": "77ded1f0",
   "metadata": {},
   "outputs": [],
   "source": [
    "from itertools import combinations\n",
    "\n",
    "N,M=map(int,input().split())\n",
    "l=[list(map(int,input().split())) for _ in range(N)]\n",
    "r=0\n",
    "\n",
    "for comb in combinations(range(M),3):\n",
    "    c_sum=0\n",
    "    for i in range(N):\n",
    "        p=0\n",
    "        for idx in comb:\n",
    "            p=max(p,l[i][idx])\n",
    "        c_sum+=p\n",
    "    r=max(r,c_sum)\n",
    "print(r)"
   ]
  },
  {
   "cell_type": "code",
   "execution_count": null,
   "id": "e97a9eeb",
   "metadata": {},
   "outputs": [],
   "source": [
    "from itertools import combinations\n",
    "\n",
    "N,M=map(int,input().split())\n",
    "like=[list(map(int,input().split())) for _ in range(N)]\n",
    "r=0\n",
    "\n",
    "for a,b,c in combinations(range(M),3):\n",
    "    m=sum(max(p[a],p[b],p[c]) for p in like)\n",
    "    r=max(r,m)\n",
    "print(r)"
   ]
  },
  {
   "cell_type": "markdown",
   "id": "c73eee2a",
   "metadata": {},
   "source": [
    "### 주석 달린 풀이"
   ]
  },
  {
   "cell_type": "code",
   "execution_count": null,
   "id": "61626be8",
   "metadata": {},
   "outputs": [],
   "source": [
    "from itertools import combinations\n",
    "\n",
    "N,M=map(int,input().split()) # 회원수, 치킨 종류수 입력\n",
    "like=[list(map(int,input().split())) for _ in range(N)] # 회원별 치킨 선호도 리스트\n",
    "result=0\n",
    "\n",
    "for comb in combinations(range(M),3): # 각 조합별로\n",
    "    c_sum=0                           # 치킨 만족도의 합 저장할 변수\n",
    "    for r in range(N):                # 각 회원별로\n",
    "        p=0\n",
    "        for idx in comb:\n",
    "            p=max(p,like[r][idx])     # 치킨 만족도 최대값을 구해서\n",
    "        c_sum+=p                      # 모두 더해 c_sum에 넣습니다.\n",
    "    result=max(result,c_sum)          # 최대값 갱신\n",
    "print(result)"
   ]
  },
  {
   "cell_type": "code",
   "execution_count": null,
   "id": "6532df5c",
   "metadata": {},
   "outputs": [],
   "source": [
    "from itertools import combinations\n",
    "\n",
    "N,M=map(int,input().split()) # 회원수, 치킨 종류수 입력\n",
    "like=[list(map(int,input().split())) for _ in range(N)] # 회원별 치킨 선호도 리스트\n",
    "result=0 # 출력할 결과\n",
    "\n",
    "for a,b,c in combinations(range(M),3):\n",
    "    m=sum(max(p[a],p[b],p[c]) for p in like)\n",
    "    result=max(result,m)\n",
    "print(result)"
   ]
  },
  {
   "cell_type": "markdown",
   "id": "8ed2b958",
   "metadata": {},
   "source": [
    "### 연습"
   ]
  },
  {
   "cell_type": "code",
   "execution_count": null,
   "id": "ec705ae9",
   "metadata": {},
   "outputs": [],
   "source": []
  }
 ],
 "metadata": {
  "kernelspec": {
   "display_name": "Python 3",
   "language": "python",
   "name": "python3"
  },
  "language_info": {
   "codemirror_mode": {
    "name": "ipython",
    "version": 3
   },
   "file_extension": ".py",
   "mimetype": "text/x-python",
   "name": "python",
   "nbconvert_exporter": "python",
   "pygments_lexer": "ipython3",
   "version": "3.8.12"
  },
  "toc": {
   "base_numbering": 1,
   "nav_menu": {},
   "number_sections": true,
   "sideBar": true,
   "skip_h1_title": false,
   "title_cell": "Table of Contents",
   "title_sidebar": "Contents",
   "toc_cell": false,
   "toc_position": {},
   "toc_section_display": true,
   "toc_window_display": false
  }
 },
 "nbformat": 4,
 "nbformat_minor": 5
}
