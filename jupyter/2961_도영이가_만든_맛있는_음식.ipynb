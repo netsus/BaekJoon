{
 "cells": [
  {
   "cell_type": "markdown",
   "id": "0e4c9d43",
   "metadata": {},
   "source": [
    "### 문제\n"
   ]
  },
  {
   "cell_type": "code",
   "execution_count": null,
   "id": "fc6e3ac9",
   "metadata": {},
   "outputs": [],
   "source": [
    "! # 시작시간 체크"
   ]
  },
  {
   "cell_type": "code",
   "execution_count": null,
   "id": "50c1b0eb",
   "metadata": {},
   "outputs": [],
   "source": [
    "! # 끝 시간 체크"
   ]
  },
  {
   "cell_type": "markdown",
   "id": "88b63096",
   "metadata": {},
   "source": [
    "### 풀이"
   ]
  },
  {
   "cell_type": "code",
   "execution_count": null,
   "id": "77ded1f0",
   "metadata": {},
   "outputs": [],
   "source": [
    "from itertools import combinations\n",
    "from functools import reduce\n",
    "N=int(input())\n",
    "l=[[*map(int,input().split())] for _ in range(N)]\n",
    "m=lambda x,y:x*y\n",
    "r=99**9\n",
    "for i in range(1,N+1):\n",
    "    for c_li in combinations(l,i):\n",
    "        sin=reduce(m,(c[0] for c in c_li))\n",
    "        ssun=sum(c[1] for c in c_li)\n",
    "        r=min(r,abs(sin-ssun))\n",
    "print(r)"
   ]
  },
  {
   "cell_type": "code",
   "execution_count": null,
   "id": "9cf1f11e",
   "metadata": {},
   "outputs": [],
   "source": [
    "from itertools import combinations\n",
    "N=int(input())\n",
    "l=[list(map(int,input().split())) for _ in range(N)]\n",
    "r=99**9\n",
    "for cmbs in [combinations(l,i) for i in range(1,N+1)]:\n",
    "    for c in cmbs:\n",
    "        S,B=1,0\n",
    "        for s,b in c:\n",
    "            S*=s;B+=b\n",
    "        r=min(abs(S-B),r)\n",
    "print(r)"
   ]
  },
  {
   "cell_type": "markdown",
   "id": "c73eee2a",
   "metadata": {},
   "source": [
    "### 주석 달린 풀이"
   ]
  },
  {
   "cell_type": "code",
   "execution_count": null,
   "id": "6532df5c",
   "metadata": {},
   "outputs": [],
   "source": [
    "from itertools import combinations\n",
    "N=int(input()) # 재료의 개수 입력\n",
    "materials=[list(map(int,input().split())) for _ in range(N)] # 재료의 신맛, 쓴맛 이중 리스트\n",
    "result=1e9 # 10억으로 초기화\n",
    "for cmbs in [combinations(materials,i) for i in range(1,N+1)]:\n",
    "    for c in cmbs:\n",
    "        S,B=1,0       # 신맛, 쓴맛 초기화\n",
    "        for s,b in c: # 각 조합에 대해\n",
    "            S*=s;B+=b # 신맛은 곱하고, 쓴맛은 더한다\n",
    "        result=min(result, abs(S-B)) # 최소값 갱신\n",
    "print(result)"
   ]
  },
  {
   "cell_type": "markdown",
   "id": "8ed2b958",
   "metadata": {},
   "source": [
    "### 연습"
   ]
  },
  {
   "cell_type": "code",
   "execution_count": null,
   "id": "ec705ae9",
   "metadata": {},
   "outputs": [],
   "source": []
  }
 ],
 "metadata": {
  "kernelspec": {
   "display_name": "Python 3",
   "language": "python",
   "name": "python3"
  },
  "language_info": {
   "codemirror_mode": {
    "name": "ipython",
    "version": 3
   },
   "file_extension": ".py",
   "mimetype": "text/x-python",
   "name": "python",
   "nbconvert_exporter": "python",
   "pygments_lexer": "ipython3",
   "version": "3.8.12"
  },
  "toc": {
   "base_numbering": 1,
   "nav_menu": {},
   "number_sections": true,
   "sideBar": true,
   "skip_h1_title": false,
   "title_cell": "Table of Contents",
   "title_sidebar": "Contents",
   "toc_cell": false,
   "toc_position": {},
   "toc_section_display": true,
   "toc_window_display": false
  }
 },
 "nbformat": 4,
 "nbformat_minor": 5
}
