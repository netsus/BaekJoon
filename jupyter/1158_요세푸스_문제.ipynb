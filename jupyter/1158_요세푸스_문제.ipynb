{
 "cells": [
  {
   "cell_type": "code",
   "execution_count": null,
   "metadata": {},
   "outputs": [],
   "source": [
    "7 3\n",
    "<3, 6, 2, 7, 5, 1, 4>"
   ]
  },
  {
   "cell_type": "code",
   "execution_count": 104,
   "metadata": {
    "ExecuteTime": {
     "end_time": "2022-05-06T07:30:19.997569Z",
     "start_time": "2022-05-06T07:30:19.138125Z"
    }
   },
   "outputs": [
    {
     "name": "stdout",
     "output_type": "stream",
     "text": [
      "3 2\n",
      "<2, 1, 3>\n"
     ]
    }
   ],
   "source": [
    "n,k = map(int, input().split())\n",
    "li=list(range(1,n+1))\n",
    "ans = []\n",
    "idx =  k-1\n",
    "for i in range(n):\n",
    "    if idx >= len(li):\n",
    "        idx%=len(li)\n",
    "    ans+=[li.pop(idx)]\n",
    "    idx+=k-1\n",
    "print(f\"<{str(ans)[1:-1]}>\")"
   ]
  },
  {
   "cell_type": "code",
   "execution_count": 32,
   "metadata": {
    "ExecuteTime": {
     "end_time": "2022-04-20T14:07:25.160197Z",
     "start_time": "2022-04-20T14:07:24.344005Z"
    }
   },
   "outputs": [
    {
     "name": "stdout",
     "output_type": "stream",
     "text": [
      "6 6\n",
      "<6, 1, 3, 2, 5, 4>\n"
     ]
    }
   ],
   "source": [
    "n,k = map(int, input().split()) # 입력값 받아오기\n",
    "arr = [i+1 for i in range(n)] # 1부터 7까지의 리스트 생성\n",
    "ans = [] # 출력할 정답 리스트\n",
    "idx=(k-1) # index 값, 리스트 인덱스는 0부터 시작되기 때문에 -1\n",
    "for i in range(n):\n",
    "    if len(arr) <= idx: # 인덱스가 리스트의 범위를 초과하면 안되므로\n",
    "        idx %=len(arr) # 한 바퀴 다 돌면 리스트 길이를 주기로 나눈 나머지를 인덱스 값으로 설정\n",
    "        ans.append(arr.pop(idx)) # 해당 인덱스의 값을 제거 후 리턴하여 ans 리스트에 추가\n",
    "        idx += (k - 1) # 다음 인덱스 값 설정\n",
    "    else:\n",
    "        ans.append(arr.pop(idx))\n",
    "        idx += (k - 1)\n",
    "print(\"<\", ', '.join(str(i) for i in ans), \">\", sep = '')"
   ]
  },
  {
   "cell_type": "code",
   "execution_count": 30,
   "metadata": {
    "ExecuteTime": {
     "end_time": "2022-04-20T12:30:11.382655Z",
     "start_time": "2022-04-20T12:30:10.632455Z"
    }
   },
   "outputs": [
    {
     "name": "stdout",
     "output_type": "stream",
     "text": [
      "1 1\n",
      "[1]\n"
     ]
    }
   ],
   "source": [
    "n,k = map(int,input().split())\n",
    "idx = 0\n",
    "# 1, 2, 3, 4, 5, 6, 7\n",
    "lst = list(range(1, n+1))\n",
    "# print(len(lst))\n",
    "# print(lst)\n",
    "# print(type(lst))\n",
    "answer = []\n",
    "\n",
    "while len(lst) > 0:\n",
    "    if len(lst) == 1:\n",
    "        answer.append(lst[0])\n",
    "        break;\n",
    "    idx = (idx +k-1)%len(lst)\n",
    "#     print(lst)\n",
    "#     print(idx)\n",
    "    answer.append(lst[idx])\n",
    "    del lst[idx]\n",
    "print(f\"<{str(answer)[1:-1]}>\")"
   ]
  },
  {
   "cell_type": "markdown",
   "metadata": {},
   "source": [
    "## 풀이"
   ]
  },
  {
   "cell_type": "code",
   "execution_count": 29,
   "metadata": {
    "ExecuteTime": {
     "end_time": "2022-04-20T12:28:52.547300Z",
     "start_time": "2022-04-20T12:28:51.369788Z"
    }
   },
   "outputs": [
    {
     "name": "stdout",
     "output_type": "stream",
     "text": [
      "6 6\n",
      "<6, 1, 3, 2, 5, 4>\n"
     ]
    }
   ],
   "source": [
    "N,K = map(int,input().split())\n",
    "L = list(range(1,N+1))\n",
    "answer = []\n",
    "pop_idx = K-1\n",
    "for i in range(N):\n",
    "    if pop_idx >= len(L):\n",
    "        pop_idx = pop_idx % len(L)\n",
    "    answer.append(L.pop(pop_idx))\n",
    "    pop_idx += K-1\n",
    "print(f\"<{str(answer)[1:-1]}>\")"
   ]
  },
  {
   "cell_type": "code",
   "execution_count": 1,
   "metadata": {
    "ExecuteTime": {
     "end_time": "2022-04-05T14:53:13.847817Z",
     "start_time": "2022-04-05T14:53:13.822706Z"
    }
   },
   "outputs": [],
   "source": [
    "N, K= 7,3"
   ]
  },
  {
   "cell_type": "code",
   "execution_count": 21,
   "metadata": {
    "ExecuteTime": {
     "end_time": "2022-04-05T15:29:22.086438Z",
     "start_time": "2022-04-05T15:29:22.080975Z"
    }
   },
   "outputs": [
    {
     "data": {
      "text/plain": [
       "2"
      ]
     },
     "execution_count": 21,
     "metadata": {},
     "output_type": "execute_result"
    }
   ],
   "source": [
    "2 % 6"
   ]
  },
  {
   "cell_type": "code",
   "execution_count": null,
   "metadata": {},
   "outputs": [],
   "source": [
    "k-1 % N = 2\n",
    "k-1 % (N-1) = 2"
   ]
  },
  {
   "cell_type": "code",
   "execution_count": 20,
   "metadata": {
    "ExecuteTime": {
     "end_time": "2022-04-05T15:27:54.414275Z",
     "start_time": "2022-04-05T15:27:54.404556Z"
    }
   },
   "outputs": [
    {
     "name": "stdout",
     "output_type": "stream",
     "text": [
      "2\n",
      "2\n",
      "2\n",
      "2\n",
      "2\n",
      "0\n",
      "0\n"
     ]
    }
   ],
   "source": [
    "for i in range(N):\n",
    "    print((K-1)%(N-i))"
   ]
  },
  {
   "cell_type": "markdown",
   "metadata": {},
   "source": [
    "## deque 사용 실제로 배열을 돌려가며 추출"
   ]
  },
  {
   "cell_type": "code",
   "execution_count": 1,
   "metadata": {
    "ExecuteTime": {
     "end_time": "2022-02-24T11:46:58.833816Z",
     "start_time": "2022-02-24T11:46:56.059041Z"
    }
   },
   "outputs": [
    {
     "name": "stdout",
     "output_type": "stream",
     "text": [
      "7 3\n"
     ]
    }
   ],
   "source": [
    "from collections import deque\n",
    "N,K = map(int,input().split())\n",
    "\n",
    "L = deque(range(1,N+1))\n",
    "answer = []\n",
    "pop_idx = K-1\n",
    "\n",
    "while len(L):\n",
    "    L.rotate(-(pop_idx))\n",
    "    answer.append(L.popleft())\n",
    "print(f\"<{str(answer)[1:-1]}>\")"
   ]
  },
  {
   "cell_type": "markdown",
   "metadata": {},
   "source": [
    "## 연습 풀이"
   ]
  },
  {
   "cell_type": "code",
   "execution_count": 1,
   "metadata": {
    "ExecuteTime": {
     "end_time": "2021-10-13T15:39:25.018163Z",
     "start_time": "2021-10-13T15:39:22.611105Z"
    }
   },
   "outputs": [
    {
     "name": "stdout",
     "output_type": "stream",
     "text": [
      "7 3\n"
     ]
    }
   ],
   "source": [
    "N,K = map(int,input().split())"
   ]
  },
  {
   "cell_type": "code",
   "execution_count": 7,
   "metadata": {
    "ExecuteTime": {
     "end_time": "2021-10-13T15:40:59.922712Z",
     "start_time": "2021-10-13T15:40:59.915710Z"
    }
   },
   "outputs": [],
   "source": [
    "arr = [i for i in range(1,N+1)]"
   ]
  },
  {
   "cell_type": "code",
   "execution_count": 8,
   "metadata": {
    "ExecuteTime": {
     "end_time": "2021-10-13T15:41:00.272326Z",
     "start_time": "2021-10-13T15:41:00.251308Z"
    }
   },
   "outputs": [
    {
     "data": {
      "text/plain": [
       "[1, 2, 3, 4, 5, 6, 7]"
      ]
     },
     "execution_count": 8,
     "metadata": {},
     "output_type": "execute_result"
    }
   ],
   "source": [
    "arr"
   ]
  },
  {
   "cell_type": "code",
   "execution_count": 9,
   "metadata": {
    "ExecuteTime": {
     "end_time": "2021-10-13T15:41:07.684871Z",
     "start_time": "2021-10-13T15:41:07.667866Z"
    }
   },
   "outputs": [],
   "source": [
    "result=[]"
   ]
  },
  {
   "cell_type": "code",
   "execution_count": 10,
   "metadata": {
    "ExecuteTime": {
     "end_time": "2021-10-13T15:41:48.939770Z",
     "start_time": "2021-10-13T15:41:48.932764Z"
    }
   },
   "outputs": [],
   "source": [
    "pop_idx = K-1"
   ]
  },
  {
   "cell_type": "code",
   "execution_count": 11,
   "metadata": {
    "ExecuteTime": {
     "end_time": "2021-10-13T15:43:39.500567Z",
     "start_time": "2021-10-13T15:43:39.494569Z"
    }
   },
   "outputs": [],
   "source": [
    "for i in range(N):\n",
    "    if pop_idx >= len(arr):\n",
    "        pop_idx = pop_idx % len(arr) # K - len(arr)\n",
    "    result.append(arr.pop(pop_idx))\n",
    "    pop_idx += K-1"
   ]
  },
  {
   "cell_type": "code",
   "execution_count": 12,
   "metadata": {
    "ExecuteTime": {
     "end_time": "2021-10-13T15:43:41.147830Z",
     "start_time": "2021-10-13T15:43:41.130828Z"
    }
   },
   "outputs": [
    {
     "data": {
      "text/plain": [
       "[3, 6, 2, 7, 5, 1, 4]"
      ]
     },
     "execution_count": 12,
     "metadata": {},
     "output_type": "execute_result"
    }
   ],
   "source": [
    "result"
   ]
  }
 ],
 "metadata": {
  "kernelspec": {
   "display_name": "Python 3 (ipykernel)",
   "language": "python",
   "name": "python3"
  },
  "language_info": {
   "codemirror_mode": {
    "name": "ipython",
    "version": 3
   },
   "file_extension": ".py",
   "mimetype": "text/x-python",
   "name": "python",
   "nbconvert_exporter": "python",
   "pygments_lexer": "ipython3",
   "version": "3.10.4"
  },
  "toc": {
   "base_numbering": 1,
   "nav_menu": {},
   "number_sections": true,
   "sideBar": true,
   "skip_h1_title": false,
   "title_cell": "Table of Contents",
   "title_sidebar": "Contents",
   "toc_cell": false,
   "toc_position": {},
   "toc_section_display": true,
   "toc_window_display": false
  }
 },
 "nbformat": 4,
 "nbformat_minor": 4
}
