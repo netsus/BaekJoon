{
 "cells": [
  {
   "cell_type": "markdown",
   "metadata": {},
   "source": [
    "## 풀이"
   ]
  },
  {
   "cell_type": "code",
   "execution_count": 52,
   "metadata": {
    "ExecuteTime": {
     "end_time": "2021-10-13T16:16:40.180911Z",
     "start_time": "2021-10-13T16:16:39.381618Z"
    }
   },
   "outputs": [
    {
     "name": "stdout",
     "output_type": "stream",
     "text": [
      "7 3\n",
      "<3, 6, 2, 7, 5, 1, 4>\n"
     ]
    }
   ],
   "source": [
    "N,K = map(int,input().split())\n",
    "L = list(range(1,N+1))\n",
    "answer = []\n",
    "pop_idx = K-1\n",
    "for i in range(N):\n",
    "    if pop_idx >= len(L):\n",
    "        pop_idx = pop_idx % len(L)\n",
    "    answer.append(L.pop(pop_idx))\n",
    "    pop_idx += K-1\n",
    "print(f\"<{str(answer)[1:-1]}>\")"
   ]
  },
  {
   "cell_type": "code",
   "execution_count": 1,
   "metadata": {
    "ExecuteTime": {
     "end_time": "2022-04-05T14:53:13.847817Z",
     "start_time": "2022-04-05T14:53:13.822706Z"
    }
   },
   "outputs": [],
   "source": [
    "N, K= 7,3"
   ]
  },
  {
   "cell_type": "code",
   "execution_count": 21,
   "metadata": {
    "ExecuteTime": {
     "end_time": "2022-04-05T15:29:22.086438Z",
     "start_time": "2022-04-05T15:29:22.080975Z"
    }
   },
   "outputs": [
    {
     "data": {
      "text/plain": [
       "2"
      ]
     },
     "execution_count": 21,
     "metadata": {},
     "output_type": "execute_result"
    }
   ],
   "source": [
    "2 % 6"
   ]
  },
  {
   "cell_type": "code",
   "execution_count": null,
   "metadata": {},
   "outputs": [],
   "source": [
    "k-1 % N = 2\n",
    "k-1 % (N-1) = 2"
   ]
  },
  {
   "cell_type": "code",
   "execution_count": 20,
   "metadata": {
    "ExecuteTime": {
     "end_time": "2022-04-05T15:27:54.414275Z",
     "start_time": "2022-04-05T15:27:54.404556Z"
    }
   },
   "outputs": [
    {
     "name": "stdout",
     "output_type": "stream",
     "text": [
      "2\n",
      "2\n",
      "2\n",
      "2\n",
      "2\n",
      "0\n",
      "0\n"
     ]
    }
   ],
   "source": [
    "for i in range(N):\n",
    "    print((K-1)%(N-i))"
   ]
  },
  {
   "cell_type": "markdown",
   "metadata": {},
   "source": [
    "## deque 사용 실제로 배열을 돌려가며 추출"
   ]
  },
  {
   "cell_type": "code",
   "execution_count": 1,
   "metadata": {
    "ExecuteTime": {
     "end_time": "2022-02-24T11:46:58.833816Z",
     "start_time": "2022-02-24T11:46:56.059041Z"
    }
   },
   "outputs": [
    {
     "name": "stdout",
     "output_type": "stream",
     "text": [
      "7 3\n"
     ]
    }
   ],
   "source": [
    "from collections import deque\n",
    "N,K = map(int,input().split())\n",
    "\n",
    "L = deque(range(1,N+1))\n",
    "answer = []\n",
    "pop_idx = K-1\n",
    "\n",
    "while len(L):\n",
    "    L.rotate(-(pop_idx))\n",
    "    answer.append(L.popleft())\n",
    "print(f\"<{str(answer)[1:-1]}>\")"
   ]
  },
  {
   "cell_type": "markdown",
   "metadata": {},
   "source": [
    "## 연습 풀이"
   ]
  },
  {
   "cell_type": "code",
   "execution_count": 1,
   "metadata": {
    "ExecuteTime": {
     "end_time": "2021-10-13T15:39:25.018163Z",
     "start_time": "2021-10-13T15:39:22.611105Z"
    }
   },
   "outputs": [
    {
     "name": "stdout",
     "output_type": "stream",
     "text": [
      "7 3\n"
     ]
    }
   ],
   "source": [
    "N,K = map(int,input().split())"
   ]
  },
  {
   "cell_type": "code",
   "execution_count": 7,
   "metadata": {
    "ExecuteTime": {
     "end_time": "2021-10-13T15:40:59.922712Z",
     "start_time": "2021-10-13T15:40:59.915710Z"
    }
   },
   "outputs": [],
   "source": [
    "arr = [i for i in range(1,N+1)]"
   ]
  },
  {
   "cell_type": "code",
   "execution_count": 8,
   "metadata": {
    "ExecuteTime": {
     "end_time": "2021-10-13T15:41:00.272326Z",
     "start_time": "2021-10-13T15:41:00.251308Z"
    }
   },
   "outputs": [
    {
     "data": {
      "text/plain": [
       "[1, 2, 3, 4, 5, 6, 7]"
      ]
     },
     "execution_count": 8,
     "metadata": {},
     "output_type": "execute_result"
    }
   ],
   "source": [
    "arr"
   ]
  },
  {
   "cell_type": "code",
   "execution_count": 9,
   "metadata": {
    "ExecuteTime": {
     "end_time": "2021-10-13T15:41:07.684871Z",
     "start_time": "2021-10-13T15:41:07.667866Z"
    }
   },
   "outputs": [],
   "source": [
    "result=[]"
   ]
  },
  {
   "cell_type": "code",
   "execution_count": 10,
   "metadata": {
    "ExecuteTime": {
     "end_time": "2021-10-13T15:41:48.939770Z",
     "start_time": "2021-10-13T15:41:48.932764Z"
    }
   },
   "outputs": [],
   "source": [
    "pop_idx = K-1"
   ]
  },
  {
   "cell_type": "code",
   "execution_count": 11,
   "metadata": {
    "ExecuteTime": {
     "end_time": "2021-10-13T15:43:39.500567Z",
     "start_time": "2021-10-13T15:43:39.494569Z"
    }
   },
   "outputs": [],
   "source": [
    "for i in range(N):\n",
    "    if pop_idx >= len(arr):\n",
    "        pop_idx = pop_idx % len(arr) # K - len(arr)\n",
    "    result.append(arr.pop(pop_idx))\n",
    "    pop_idx += K-1"
   ]
  },
  {
   "cell_type": "code",
   "execution_count": 12,
   "metadata": {
    "ExecuteTime": {
     "end_time": "2021-10-13T15:43:41.147830Z",
     "start_time": "2021-10-13T15:43:41.130828Z"
    }
   },
   "outputs": [
    {
     "data": {
      "text/plain": [
       "[3, 6, 2, 7, 5, 1, 4]"
      ]
     },
     "execution_count": 12,
     "metadata": {},
     "output_type": "execute_result"
    }
   ],
   "source": [
    "result"
   ]
  }
 ],
 "metadata": {
  "kernelspec": {
   "display_name": "Python 3 (ipykernel)",
   "language": "python",
   "name": "python3"
  },
  "language_info": {
   "codemirror_mode": {
    "name": "ipython",
    "version": 3
   },
   "file_extension": ".py",
   "mimetype": "text/x-python",
   "name": "python",
   "nbconvert_exporter": "python",
   "pygments_lexer": "ipython3",
   "version": "3.10.4"
  },
  "toc": {
   "base_numbering": 1,
   "nav_menu": {},
   "number_sections": true,
   "sideBar": true,
   "skip_h1_title": false,
   "title_cell": "Table of Contents",
   "title_sidebar": "Contents",
   "toc_cell": false,
   "toc_position": {},
   "toc_section_display": true,
   "toc_window_display": false
  }
 },
 "nbformat": 4,
 "nbformat_minor": 4
}
