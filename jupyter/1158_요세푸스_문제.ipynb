{
 "cells": [
  {
   "cell_type": "markdown",
   "metadata": {},
   "source": [
    "## 풀이"
   ]
  },
  {
   "cell_type": "code",
   "execution_count": 51,
   "metadata": {
    "ExecuteTime": {
     "end_time": "2021-10-13T15:58:46.604600Z",
     "start_time": "2021-10-13T15:58:45.285791Z"
    }
   },
   "outputs": [
    {
     "name": "stdout",
     "output_type": "stream",
     "text": [
      "7 3\n",
      "arr: [1, 2, 3, 4, 5, 6, 7] POP : 3, idx : 2 After length : 6\n",
      "arr: [1, 2, 4, 5, 6, 7] POP : 6, idx : 4 After length : 5\n",
      "1\n",
      "arr: [1, 2, 4, 5, 7] POP : 2, idx : 1 After length : 4\n",
      "arr: [1, 4, 5, 7] POP : 7, idx : 3 After length : 3\n",
      "2\n",
      "arr: [1, 4, 5] POP : 5, idx : 2 After length : 2\n",
      "0\n",
      "arr: [1, 4] POP : 1, idx : 0 After length : 1\n",
      "0\n",
      "arr: [4] POP : 4, idx : 0 After length : 0\n",
      "<3, 6, 2, 7, 5, 1, 4>\n"
     ]
    }
   ],
   "source": [
    "N,K = map(int,input().split())\n",
    "arr = [i for i in range(1,N+1)]\n",
    "\n",
    "result=[]\n",
    "pop_idx = K-1\n",
    "\n",
    "for i in range(N):\n",
    "    if pop_idx >= len(arr):\n",
    "        pop_idx = pop_idx % len(arr)\n",
    "    result.append(str(arr.pop(pop_idx)))\n",
    "    pop_idx += K-1\n",
    "print('<'+', '.join(result)+'>')"
   ]
  },
  {
   "cell_type": "code",
   "execution_count": 42,
   "metadata": {
    "ExecuteTime": {
     "end_time": "2021-10-13T15:51:28.626123Z",
     "start_time": "2021-10-13T15:51:28.607128Z"
    }
   },
   "outputs": [
    {
     "data": {
      "text/plain": [
       "['3', '6', '2', '7', '5']"
      ]
     },
     "execution_count": 42,
     "metadata": {},
     "output_type": "execute_result"
    }
   ],
   "source": [
    "result"
   ]
  },
  {
   "cell_type": "code",
   "execution_count": 41,
   "metadata": {
    "ExecuteTime": {
     "end_time": "2021-10-13T15:51:07.647271Z",
     "start_time": "2021-10-13T15:51:07.631271Z"
    }
   },
   "outputs": [
    {
     "data": {
      "text/plain": [
       "[1, 4]"
      ]
     },
     "execution_count": 41,
     "metadata": {},
     "output_type": "execute_result"
    }
   ],
   "source": [
    "arr"
   ]
  },
  {
   "cell_type": "code",
   "execution_count": 40,
   "metadata": {
    "ExecuteTime": {
     "end_time": "2021-10-13T15:51:05.050918Z",
     "start_time": "2021-10-13T15:51:05.030917Z"
    }
   },
   "outputs": [
    {
     "data": {
      "text/plain": [
       "2"
      ]
     },
     "execution_count": 40,
     "metadata": {},
     "output_type": "execute_result"
    }
   ],
   "source": [
    "pop_idx"
   ]
  },
  {
   "cell_type": "markdown",
   "metadata": {},
   "source": [
    "## 연습 풀이"
   ]
  },
  {
   "cell_type": "code",
   "execution_count": 1,
   "metadata": {
    "ExecuteTime": {
     "end_time": "2021-10-13T15:39:25.018163Z",
     "start_time": "2021-10-13T15:39:22.611105Z"
    }
   },
   "outputs": [
    {
     "name": "stdout",
     "output_type": "stream",
     "text": [
      "7 3\n"
     ]
    }
   ],
   "source": [
    "N,K = map(int,input().split())"
   ]
  },
  {
   "cell_type": "code",
   "execution_count": 7,
   "metadata": {
    "ExecuteTime": {
     "end_time": "2021-10-13T15:40:59.922712Z",
     "start_time": "2021-10-13T15:40:59.915710Z"
    }
   },
   "outputs": [],
   "source": [
    "arr = [i for i in range(1,N+1)]"
   ]
  },
  {
   "cell_type": "code",
   "execution_count": 8,
   "metadata": {
    "ExecuteTime": {
     "end_time": "2021-10-13T15:41:00.272326Z",
     "start_time": "2021-10-13T15:41:00.251308Z"
    }
   },
   "outputs": [
    {
     "data": {
      "text/plain": [
       "[1, 2, 3, 4, 5, 6, 7]"
      ]
     },
     "execution_count": 8,
     "metadata": {},
     "output_type": "execute_result"
    }
   ],
   "source": [
    "arr"
   ]
  },
  {
   "cell_type": "code",
   "execution_count": 9,
   "metadata": {
    "ExecuteTime": {
     "end_time": "2021-10-13T15:41:07.684871Z",
     "start_time": "2021-10-13T15:41:07.667866Z"
    }
   },
   "outputs": [],
   "source": [
    "result=[]"
   ]
  },
  {
   "cell_type": "code",
   "execution_count": 10,
   "metadata": {
    "ExecuteTime": {
     "end_time": "2021-10-13T15:41:48.939770Z",
     "start_time": "2021-10-13T15:41:48.932764Z"
    }
   },
   "outputs": [],
   "source": [
    "pop_idx = K-1"
   ]
  },
  {
   "cell_type": "code",
   "execution_count": 11,
   "metadata": {
    "ExecuteTime": {
     "end_time": "2021-10-13T15:43:39.500567Z",
     "start_time": "2021-10-13T15:43:39.494569Z"
    }
   },
   "outputs": [],
   "source": [
    "for i in range(N):\n",
    "    if pop_idx >= len(arr):\n",
    "        pop_idx = pop_idx % len(arr) # K - len(arr)\n",
    "    result.append(arr.pop(pop_idx))\n",
    "    pop_idx += K-1"
   ]
  },
  {
   "cell_type": "code",
   "execution_count": 12,
   "metadata": {
    "ExecuteTime": {
     "end_time": "2021-10-13T15:43:41.147830Z",
     "start_time": "2021-10-13T15:43:41.130828Z"
    }
   },
   "outputs": [
    {
     "data": {
      "text/plain": [
       "[3, 6, 2, 7, 5, 1, 4]"
      ]
     },
     "execution_count": 12,
     "metadata": {},
     "output_type": "execute_result"
    }
   ],
   "source": [
    "result"
   ]
  }
 ],
 "metadata": {
  "kernelspec": {
   "display_name": "Python 3",
   "language": "python",
   "name": "python3"
  },
  "language_info": {
   "codemirror_mode": {
    "name": "ipython",
    "version": 3
   },
   "file_extension": ".py",
   "mimetype": "text/x-python",
   "name": "python",
   "nbconvert_exporter": "python",
   "pygments_lexer": "ipython3",
   "version": "3.8.5"
  },
  "toc": {
   "base_numbering": 1,
   "nav_menu": {},
   "number_sections": true,
   "sideBar": true,
   "skip_h1_title": false,
   "title_cell": "Table of Contents",
   "title_sidebar": "Contents",
   "toc_cell": false,
   "toc_position": {},
   "toc_section_display": true,
   "toc_window_display": false
  }
 },
 "nbformat": 4,
 "nbformat_minor": 4
}
