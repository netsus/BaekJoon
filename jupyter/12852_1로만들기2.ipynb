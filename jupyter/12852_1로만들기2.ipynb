{
 "cells": [
  {
   "cell_type": "markdown",
   "metadata": {},
   "source": [
    "## 안보고 내풀이 깔끔"
   ]
  },
  {
   "cell_type": "code",
   "execution_count": 73,
   "metadata": {
    "ExecuteTime": {
     "end_time": "2022-03-14T12:28:39.182288Z",
     "start_time": "2022-03-14T12:28:38.638347Z"
    }
   },
   "outputs": [
    {
     "name": "stdout",
     "output_type": "stream",
     "text": [
      "10\n",
      "3\n",
      "10 9 3 1\n"
     ]
    }
   ],
   "source": [
    "from collections import deque\n",
    "\n",
    "n=int(input())\n",
    "q = deque([(n,[n])])\n",
    "\n",
    "visited = [0]*(n+1)\n",
    "\n",
    "while q:\n",
    "    (num, ans) = q.popleft()\n",
    "    if num == 1:\n",
    "        print(len(ans)-1)\n",
    "        print(*ans)\n",
    "        break\n",
    "    if visited[num]==0:\n",
    "        visited[num]=1\n",
    "        if num%3 == 0:\n",
    "            q.append([num//3, ans+[num//3]])\n",
    "        if num%2 == 0:\n",
    "            q.append([num//2, ans+[num//2]])\n",
    "        q.append([num-1, ans+[num-1]])"
   ]
  },
  {
   "cell_type": "code",
   "execution_count": 73,
   "metadata": {
    "ExecuteTime": {
     "end_time": "2022-03-14T12:28:39.182288Z",
     "start_time": "2022-03-14T12:28:38.638347Z"
    }
   },
   "outputs": [
    {
     "name": "stdout",
     "output_type": "stream",
     "text": [
      "10\n",
      "3\n",
      "10 9 3 1\n"
     ]
    }
   ],
   "source": [
    "from collections import deque\n",
    "\n",
    "n=int(input())\n",
    "q = deque([(n,[n])])\n",
    "\n",
    "visited = [0]*(n+1)\n",
    "\n",
    "while q:\n",
    "    (num, ans) = q.popleft()\n",
    "    if num == 1:\n",
    "        print(len(ans)-1)\n",
    "        print(*ans)\n",
    "        break\n",
    "    if num%3 == 0:\n",
    "        q.append([num//3, ans+[num//3]])\n",
    "    if num%2 == 0:\n",
    "        q.append([num//2, ans+[num//2]])\n",
    "    q.append([num-1, ans+[num-1]])"
   ]
  },
  {
   "cell_type": "markdown",
   "metadata": {},
   "source": [
    "## 안보고 막 풀어보기"
   ]
  },
  {
   "cell_type": "code",
   "execution_count": 4,
   "metadata": {
    "ExecuteTime": {
     "end_time": "2022-03-28T15:08:33.437077Z",
     "start_time": "2022-03-28T15:08:33.429758Z"
    }
   },
   "outputs": [],
   "source": [
    "from collections import deque"
   ]
  },
  {
   "cell_type": "code",
   "execution_count": 1,
   "metadata": {
    "ExecuteTime": {
     "end_time": "2022-03-28T15:06:48.376424Z",
     "start_time": "2022-03-28T15:06:46.510704Z"
    }
   },
   "outputs": [
    {
     "name": "stdout",
     "output_type": "stream",
     "text": [
      "10\n"
     ]
    }
   ],
   "source": [
    "n = int(input())"
   ]
  },
  {
   "cell_type": "code",
   "execution_count": 2,
   "metadata": {
    "ExecuteTime": {
     "end_time": "2022-03-28T15:06:49.141484Z",
     "start_time": "2022-03-28T15:06:49.119835Z"
    }
   },
   "outputs": [
    {
     "data": {
      "text/plain": [
       "10"
      ]
     },
     "execution_count": 2,
     "metadata": {},
     "output_type": "execute_result"
    }
   ],
   "source": [
    "n"
   ]
  },
  {
   "cell_type": "code",
   "execution_count": 9,
   "metadata": {
    "ExecuteTime": {
     "end_time": "2022-03-28T15:14:11.407617Z",
     "start_time": "2022-03-28T15:14:11.402598Z"
    }
   },
   "outputs": [],
   "source": [
    "q = deque([(n,[n])])\n",
    "visited = [0]*(n+1)"
   ]
  },
  {
   "cell_type": "code",
   "execution_count": 10,
   "metadata": {
    "ExecuteTime": {
     "end_time": "2022-03-28T15:14:11.727312Z",
     "start_time": "2022-03-28T15:14:11.717646Z"
    }
   },
   "outputs": [
    {
     "data": {
      "text/plain": [
       "(deque([(10, [10])]), [0, 0, 0, 0, 0, 0, 0, 0, 0, 0, 0])"
      ]
     },
     "execution_count": 10,
     "metadata": {},
     "output_type": "execute_result"
    }
   ],
   "source": [
    "q, visited"
   ]
  },
  {
   "cell_type": "code",
   "execution_count": null,
   "metadata": {},
   "outputs": [],
   "source": [
    "while q:\n",
    "    (num, ans) = q.popleft()\n",
    "    if num == 1:\n",
    "        print(len(ans)-1)\n",
    "        print(*ans)\n",
    "        break\n",
    "    if num%3 == 0:\n",
    "        q.append([num//3, ans+[num//3]])\n",
    "    if num%2 == 0:\n",
    "        q.append([num//2, ans+[num//2]])\n",
    "    q.append([num-1, ans+[num-1]])"
   ]
  },
  {
   "cell_type": "code",
   "execution_count": 68,
   "metadata": {
    "ExecuteTime": {
     "end_time": "2022-03-14T12:27:34.737597Z",
     "start_time": "2022-03-14T12:27:34.726164Z"
    }
   },
   "outputs": [
    {
     "name": "stdout",
     "output_type": "stream",
     "text": [
      "3\n",
      "10 9 3 1\n"
     ]
    }
   ],
   "source": [
    "while q:\n",
    "    (num, ans) = q.popleft()\n",
    "    if num == 1:\n",
    "        print(len(ans)-1)\n",
    "        print(*ans)\n",
    "        break\n",
    "    if visited[num]==0:\n",
    "        visited[num]=1\n",
    "        if num%3 == 0:\n",
    "            q.append([num//3, ans+[num//3]])\n",
    "        if num%2 == 0:\n",
    "            q.append([num//2, ans+[num//2]])\n",
    "        q.append([num-1, ans+[num-1]])"
   ]
  },
  {
   "cell_type": "markdown",
   "metadata": {},
   "source": [
    "## 찾은 풀이 뜯어보기"
   ]
  },
  {
   "cell_type": "code",
   "execution_count": 14,
   "metadata": {
    "ExecuteTime": {
     "end_time": "2022-03-14T11:33:13.299176Z",
     "start_time": "2022-03-14T11:33:12.338448Z"
    },
    "scrolled": false
   },
   "outputs": [
    {
     "name": "stdout",
     "output_type": "stream",
     "text": [
      "10\n",
      "deque([(10, [10])])\n",
      "[0, 0, 0, 0, 0, 0, 0, 0, 0, 0, 1]\n",
      "\n",
      "deque([(5, [10, 5]), (9, [10, 9])])\n",
      "[0, 0, 0, 0, 0, 1, 0, 0, 0, 0, 1]\n",
      "\n",
      "deque([(9, [10, 9]), (4, [10, 5, 4])])\n",
      "[0, 0, 0, 0, 0, 1, 0, 0, 0, 1, 1]\n",
      "\n",
      "deque([(4, [10, 5, 4]), (3, [10, 9, 3]), (8, [10, 9, 8])])\n",
      "[0, 0, 0, 0, 1, 1, 0, 0, 0, 1, 1]\n",
      "\n",
      "deque([(3, [10, 9, 3]), (8, [10, 9, 8]), (2, [10, 5, 4, 2]), (3, [10, 5, 4, 3])])\n",
      "[0, 0, 0, 1, 1, 1, 0, 0, 0, 1, 1]\n",
      "\n",
      "deque([(8, [10, 9, 8]), (2, [10, 5, 4, 2]), (3, [10, 5, 4, 3]), (1, [10, 9, 3, 1]), (2, [10, 9, 3, 2])])\n",
      "[0, 0, 0, 1, 1, 1, 0, 0, 1, 1, 1]\n",
      "\n",
      "deque([(2, [10, 5, 4, 2]), (3, [10, 5, 4, 3]), (1, [10, 9, 3, 1]), (2, [10, 9, 3, 2]), (4, [10, 9, 8, 4]), (7, [10, 9, 8, 7])])\n",
      "[0, 0, 1, 1, 1, 1, 0, 0, 1, 1, 1]\n",
      "\n",
      "deque([(3, [10, 5, 4, 3]), (1, [10, 9, 3, 1]), (2, [10, 9, 3, 2]), (4, [10, 9, 8, 4]), (7, [10, 9, 8, 7]), (1, [10, 5, 4, 2, 1]), (1, [10, 5, 4, 2, 1])])\n",
      "\n",
      "deque([(1, [10, 9, 3, 1]), (2, [10, 9, 3, 2]), (4, [10, 9, 8, 4]), (7, [10, 9, 8, 7]), (1, [10, 5, 4, 2, 1]), (1, [10, 5, 4, 2, 1])])\n"
     ]
    }
   ],
   "source": [
    "from collections import deque\n",
    "\n",
    "n = int(input())\n",
    "q = deque()\n",
    "## BFS를 활용하여 큐에 삽입할 때, 거쳐온 경로까지 삽입\n",
    "q.append((n,[n]))\n",
    "visited = [0]*(n+1)\n",
    "cnt=0\n",
    "while(q):\n",
    "    print(q) ## 확인\n",
    "    num,ans = q.popleft()\n",
    "    if num == 1:\n",
    "#         print(len(ans)-1)\n",
    "#         print(*ans)\n",
    "        break\n",
    "    if not visited[num]:\n",
    "        cnt+=1\n",
    "        visited[num]=1\n",
    "        print(visited)\n",
    "        if num%3==0:\n",
    "            q.append((num//3,ans+[num//3]))\n",
    "        if num%2==0:\n",
    "            q.append((num//2,ans+[num//2]))\n",
    "        q.append((num-1,ans+[num-1]))\n",
    "    print()"
   ]
  },
  {
   "cell_type": "code",
   "execution_count": 10,
   "metadata": {
    "ExecuteTime": {
     "end_time": "2022-03-14T11:30:47.564279Z",
     "start_time": "2022-03-14T11:30:47.553865Z"
    }
   },
   "outputs": [
    {
     "data": {
      "text/plain": [
       "(2, [10, 9, 3, 2])"
      ]
     },
     "execution_count": 10,
     "metadata": {},
     "output_type": "execute_result"
    }
   ],
   "source": [
    "q.popleft()"
   ]
  },
  {
   "cell_type": "code",
   "execution_count": 11,
   "metadata": {
    "ExecuteTime": {
     "end_time": "2022-03-14T11:30:48.871836Z",
     "start_time": "2022-03-14T11:30:48.858669Z"
    }
   },
   "outputs": [
    {
     "data": {
      "text/plain": [
       "deque([(4, [10, 9, 8, 4]),\n",
       "       (7, [10, 9, 8, 7]),\n",
       "       (1, [10, 5, 4, 2, 1]),\n",
       "       (1, [10, 5, 4, 2, 1])])"
      ]
     },
     "execution_count": 11,
     "metadata": {},
     "output_type": "execute_result"
    }
   ],
   "source": [
    "q"
   ]
  },
  {
   "cell_type": "code",
   "execution_count": 3,
   "metadata": {
    "ExecuteTime": {
     "end_time": "2022-03-14T11:24:11.592573Z",
     "start_time": "2022-03-14T11:24:11.581416Z"
    }
   },
   "outputs": [
    {
     "data": {
      "text/plain": [
       "[0, 0, 1, 1, 1, 1, 0, 0, 1, 1, 1]"
      ]
     },
     "execution_count": 3,
     "metadata": {},
     "output_type": "execute_result"
    }
   ],
   "source": [
    "visited"
   ]
  },
  {
   "cell_type": "markdown",
   "metadata": {},
   "source": [
    "## BFS 예제"
   ]
  },
  {
   "attachments": {
    "image.png": {
     "image/png": "[encoded data removed]"
    }
   },
   "cell_type": "markdown",
   "metadata": {},
   "source": [
    "![image.png](attachment:image.png)"
   ]
  },
  {
   "cell_type": "code",
   "execution_count": 23,
   "metadata": {
    "ExecuteTime": {
     "end_time": "2022-03-14T12:06:29.624567Z",
     "start_time": "2022-03-14T12:06:29.599048Z"
    }
   },
   "outputs": [],
   "source": [
    "graph = {\n",
    "    'A': ['B'],\n",
    "    'B': ['A', 'C', 'H'],\n",
    "    'C': ['B', 'D'],\n",
    "    'D': ['C', 'E', 'G'],\n",
    "    'E': ['D', 'F'],\n",
    "    'F': ['E'],\n",
    "    'G': ['D'],\n",
    "    'H': ['B', 'I', 'J', 'M'],\n",
    "    'I': ['H'],\n",
    "    'J': ['H', 'K'],\n",
    "    'K': ['J', 'L'],\n",
    "    'L': ['K'],\n",
    "    'M': ['H']\n",
    "}\n"
   ]
  },
  {
   "cell_type": "code",
   "execution_count": 24,
   "metadata": {
    "ExecuteTime": {
     "end_time": "2022-03-14T12:06:31.962261Z",
     "start_time": "2022-03-14T12:06:31.953016Z"
    }
   },
   "outputs": [],
   "source": [
    "from collections import deque\n",
    "\n",
    "def bfs(graph, start_node):\n",
    "    visit = list()\n",
    "    queue = list()\n",
    "    queue.append(start_node)\n",
    "\n",
    "    while queue:\n",
    "        node = queue.pop(0)\n",
    "        if node not in visit:\n",
    "            visit.append(node)\n",
    "            queue.extend(graph[node])\n",
    "    return visit"
   ]
  },
  {
   "cell_type": "code",
   "execution_count": 25,
   "metadata": {
    "ExecuteTime": {
     "end_time": "2022-03-14T12:06:39.887093Z",
     "start_time": "2022-03-14T12:06:39.874365Z"
    }
   },
   "outputs": [
    {
     "data": {
      "text/plain": [
       "['A', 'B', 'C', 'H', 'D', 'I', 'J', 'M', 'E', 'G', 'K', 'F', 'L']"
      ]
     },
     "execution_count": 25,
     "metadata": {},
     "output_type": "execute_result"
    }
   ],
   "source": [
    "bfs(graph,'A')"
   ]
  },
  {
   "cell_type": "code",
   "execution_count": 18,
   "metadata": {
    "ExecuteTime": {
     "end_time": "2022-03-14T11:51:09.925778Z",
     "start_time": "2022-03-14T11:51:09.915700Z"
    }
   },
   "outputs": [
    {
     "data": {
      "text/plain": [
       "[1, 3, 4, 5, 2, 6]"
      ]
     },
     "execution_count": 18,
     "metadata": {},
     "output_type": "execute_result"
    }
   ],
   "source": [
    "BFS_with_adj_list(graph_list,root_node)"
   ]
  }
 ],
 "metadata": {
  "kernelspec": {
   "display_name": "Python 3",
   "language": "python",
   "name": "python3"
  },
  "language_info": {
   "codemirror_mode": {
    "name": "ipython",
    "version": 3
   },
   "file_extension": ".py",
   "mimetype": "text/x-python",
   "name": "python",
   "nbconvert_exporter": "python",
   "pygments_lexer": "ipython3",
   "version": "3.8.12"
  },
  "toc": {
   "base_numbering": 1,
   "nav_menu": {},
   "number_sections": true,
   "sideBar": true,
   "skip_h1_title": false,
   "title_cell": "Table of Contents",
   "title_sidebar": "Contents",
   "toc_cell": false,
   "toc_position": {},
   "toc_section_display": true,
   "toc_window_display": false
  }
 },
 "nbformat": 4,
 "nbformat_minor": 4
}
